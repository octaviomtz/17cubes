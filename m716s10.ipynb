{
 "cells": [
  {
   "cell_type": "code",
   "execution_count": 1,
   "metadata": {
    "collapsed": true
   },
   "outputs": [],
   "source": [
    "import scipy.io\n",
    "import numpy as np, h5py\n",
    "import matplotlib.pyplot as plt\n",
    "import copy\n",
    "import pandas as pd\n",
    "import pickle\n",
    "%matplotlib inline"
   ]
  },
  {
   "cell_type": "code",
   "execution_count": 2,
   "metadata": {
    "collapsed": true
   },
   "outputs": [],
   "source": [
    "from pylab import rcParams\n",
    "rcParams['figure.figsize'] = 10, 5\n",
    "rcParams['figure.dpi']=150\n",
    "rcParams['lines.linewidth']=1\n",
    "rcParams['axes.grid']=True\n",
    "rcParams['axes.facecolor']='#FFFFFF'\n",
    "rcParams['font.size']=14\n",
    "rcParams['patch.edgecolor']='none'"
   ]
  },
  {
   "cell_type": "code",
   "execution_count": 3,
   "metadata": {
    "collapsed": true
   },
   "outputs": [],
   "source": [
    "# fix random seed for reproducibility\n",
    "seed = 7\n",
    "np.random.seed(seed)"
   ]
  },
  {
   "cell_type": "code",
   "execution_count": 4,
   "metadata": {
    "collapsed": true
   },
   "outputs": [],
   "source": [
    "def readScan(scan):\n",
    "    # We read the file saved in Matlab. There is only one variable in the file called scansMini\n",
    "    data = h5py.File(scan, 'r')\n",
    "    Xscans=data.get('scansMini')\n",
    "    # We have to get the values into the right format (subjects, dim1, dim2, dim3, channels)\n",
    "    X=copy.copy(Xscans.value)\n",
    "    X=np.expand_dims(X,4)\n",
    "    X1=np.rollaxis(X,3)\n",
    "    return X1"
   ]
  },
  {
   "cell_type": "code",
   "execution_count": 5,
   "metadata": {
    "collapsed": true
   },
   "outputs": [],
   "source": [
    "def readLabels(labels):\n",
    "    data = h5py.File(labels, 'r')\n",
    "    Xscans=data.get('labels')\n",
    "    X=copy.copy(Xscans.value)\n",
    "    X2=np.squeeze(X).astype(int)\n",
    "    return X2"
   ]
  },
  {
   "cell_type": "code",
   "execution_count": 6,
   "metadata": {
    "collapsed": false
   },
   "outputs": [],
   "source": [
    "y=readLabels('fold1/train/labelsTrain.mat')\n",
    "X1=readScan('fold1/train/scansMiniTrain1.mat')\n",
    "X2=readScan('fold1/train/scansMiniTrain2.mat')\n",
    "X3=readScan('fold1/train/scansMiniTrain3.mat')\n",
    "X4=readScan('fold1/train/scansMiniTrain4.mat')\n",
    "X5=readScan('fold1/train/scansMiniTrain5.mat')\n",
    "X6=readScan('fold1/train/scansMiniTrain6.mat')\n",
    "X7=readScan('fold1/train/scansMiniTrain7.mat')\n",
    "X8=readScan('fold1/train/scansMiniTrain8.mat')\n",
    "X9=readScan('fold1/train/scansMiniTrain9.mat')\n",
    "X10=readScan('fold1/train/scansMiniTrain10.mat')\n",
    "X11=readScan('fold1/train/scansMiniTrain11.mat')\n",
    "X12=readScan('fold1/train/scansMiniTrain12.mat')\n",
    "X13=readScan('fold1/train/scansMiniTrain13.mat')\n",
    "X14=readScan('fold1/train/scansMiniTrain14.mat')\n",
    "X15=readScan('fold1/train/scansMiniTrain15.mat')\n",
    "X16=readScan('fold1/train/scansMiniTrain16.mat')\n",
    "X17=readScan('fold1/train/scansMiniTrain17.mat')"
   ]
  },
  {
   "cell_type": "code",
   "execution_count": 7,
   "metadata": {
    "collapsed": false
   },
   "outputs": [
    {
     "data": {
      "text/plain": [
       "<matplotlib.collections.PolyCollection at 0x7f04b1fb5750>"
      ]
     },
     "execution_count": 7,
     "metadata": {},
     "output_type": "execute_result"
    },
    {
     "data": {
      "image/png": "[encoded data removed]",
      "text/plain": [
       "<matplotlib.figure.Figure at 0x7f04b207c790>"
      ]
     },
     "metadata": {},
     "output_type": "display_data"
    }
   ],
   "source": [
    "f, (ax1, ax2) = plt.subplots(1, 2, sharey=True)\n",
    "ax1.pcolor((X1[10,:,:,0,0]))\n",
    "ax1.set_title('Sharing Y axis')\n",
    "ax2.pcolor((X2[10,:,:,0,0]))"
   ]
  },
  {
   "cell_type": "code",
   "execution_count": 8,
   "metadata": {
    "collapsed": false
   },
   "outputs": [
    {
     "data": {
      "text/plain": [
       "(248, 10, 10, 10, 1)"
      ]
     },
     "execution_count": 8,
     "metadata": {},
     "output_type": "execute_result"
    }
   ],
   "source": [
    "X1.shape"
   ]
  },
  {
   "cell_type": "markdown",
   "metadata": {},
   "source": [
    "---"
   ]
  },
  {
   "cell_type": "markdown",
   "metadata": {},
   "source": [
    "## Keras libraries"
   ]
  },
  {
   "cell_type": "code",
   "execution_count": 9,
   "metadata": {
    "collapsed": false
   },
   "outputs": [
    {
     "name": "stderr",
     "output_type": "stream",
     "text": [
      "Using TensorFlow backend.\n"
     ]
    }
   ],
   "source": [
    "from keras.models import Sequential\n",
    "from keras.layers import Dense\n",
    "from keras.layers import Merge\n",
    "from keras.layers.convolutional import Convolution3D\n",
    "from keras.layers.pooling import MaxPooling3D\n",
    "from keras.layers.core import Dense, Flatten\n",
    "from keras.layers import Dropout\n",
    "from keras.optimizers import Adam\n",
    "from keras.optimizers import SGD\n",
    "from keras.wrappers.scikit_learn import KerasClassifier\n",
    "from keras.callbacks import EarlyStopping\n",
    "import time"
   ]
  },
  {
   "cell_type": "code",
   "execution_count": 10,
   "metadata": {
    "collapsed": false
   },
   "outputs": [],
   "source": [
    "import keras.backend as K\n",
    "from keras.callbacks import ModelCheckpoint\n",
    "from keras.callbacks import LearningRateScheduler\n",
    "from keras.layers import Activation\n",
    "from keras.layers.normalization import BatchNormalization\n",
    "from keras.regularizers import l2\n",
    "import math"
   ]
  },
  {
   "cell_type": "markdown",
   "metadata": {
    "collapsed": true
   },
   "source": [
    "---"
   ]
  },
  {
   "cell_type": "markdown",
   "metadata": {},
   "source": [
    "## The model"
   ]
  },
  {
   "cell_type": "code",
   "execution_count": 11,
   "metadata": {
    "collapsed": true
   },
   "outputs": [],
   "source": [
    "adam=Adam(lr=0.0005, beta_1=0.9, beta_2=0.999, epsilon=1e-08, decay=1e-04)#"
   ]
  },
  {
   "cell_type": "code",
   "execution_count": null,
   "metadata": {
    "collapsed": true
   },
   "outputs": [],
   "source": [
    "final_model.reset_states()\n",
    "model1.reset_states()\n",
    "model2.reset_states()\n",
    "model3.reset_states()\n",
    "model4.reset_states()\n",
    "model5.reset_states()\n",
    "model6.reset_states()\n",
    "model7.reset_states()\n",
    "model8.reset_states()\n",
    "model9.reset_states()\n",
    "model10.reset_states()\n",
    "model11.reset_states()\n",
    "model12.reset_states()\n",
    "model13.reset_states()\n",
    "model14.reset_states()\n",
    "model15.reset_states()\n",
    "model16.reset_states()\n",
    "model17.reset_states()"
   ]
  },
  {
   "cell_type": "code",
   "execution_count": 12,
   "metadata": {
    "collapsed": false
   },
   "outputs": [],
   "source": [
    "model1=Sequential()\n",
    "model1.add(Convolution3D(10, 3, 3, 3, input_shape=(10, 10, 10,1), border_mode='valid', init='he_normal'))\n",
    "model1.add(BatchNormalization())\n",
    "model1.add(Activation('relu'))\n",
    "model1.add(Flatten())\n",
    "model1.add(Dropout(0.2))\n",
    "model1.add(Dense(20, init='glorot_normal', activation='tanh'))\n",
    "\n",
    "model2=Sequential()\n",
    "model2.add(Convolution3D(10, 3, 3, 3, input_shape=(10, 10, 10,1), border_mode='valid',  init='he_normal'))\n",
    "model2.add(BatchNormalization())\n",
    "model2.add(Activation('relu'))\n",
    "model2.add(Flatten())\n",
    "model2.add(Dropout(0.2))\n",
    "model2.add(Dense(20, init='glorot_normal', activation='tanh'))\n",
    "\n",
    "model3=Sequential()\n",
    "model3.add(Convolution3D(10, 3, 3, 3, input_shape=(10, 10, 10,1), border_mode='valid',  init='he_normal'))\n",
    "model3.add(BatchNormalization())\n",
    "model3.add(Activation('relu'))\n",
    "model3.add(Flatten())\n",
    "model3.add(Dropout(0.2))\n",
    "model3.add(Dense(20, init='glorot_normal', activation='tanh'))\n",
    "\n",
    "model4=Sequential()\n",
    "model4.add(Convolution3D(10, 3, 3, 3, input_shape=(10, 10, 10,1), border_mode='valid',  init='he_normal'))\n",
    "model4.add(BatchNormalization())\n",
    "model4.add(Activation('relu'))\n",
    "model4.add(Flatten())\n",
    "model4.add(Dropout(0.2))\n",
    "model4.add(Dense(20, init='glorot_normal', activation='tanh'))\n",
    "\n",
    "model5=Sequential()\n",
    "model5.add(Convolution3D(10, 3, 3, 3, input_shape=(10, 10, 10,1), border_mode='valid', init='he_normal'))\n",
    "model5.add(BatchNormalization())\n",
    "model5.add(Activation('relu'))\n",
    "model5.add(Flatten())\n",
    "model5.add(Dropout(0.2))\n",
    "model5.add(Dense(20, init='glorot_normal', activation='tanh'))\n",
    "\n",
    "model6=Sequential()\n",
    "model6.add(Convolution3D(10, 3, 3, 3, input_shape=(10, 10, 10,1), border_mode='valid', init='he_normal'))\n",
    "model6.add(BatchNormalization())\n",
    "model6.add(Activation('relu'))\n",
    "model6.add(Flatten())\n",
    "model6.add(Dropout(0.2))\n",
    "model6.add(Dense(20, init='glorot_normal', activation='tanh'))\n",
    "\n",
    "model7=Sequential()\n",
    "model7.add(Convolution3D(10, 3, 3, 3, input_shape=(10, 10, 10,1), border_mode='valid',  init='he_normal'))\n",
    "model7.add(BatchNormalization())\n",
    "model7.add(Activation('relu'))\n",
    "model7.add(Flatten())\n",
    "model7.add(Dropout(0.2))\n",
    "model7.add(Dense(20, init='glorot_normal', activation='tanh'))\n",
    "\n",
    "model8=Sequential()\n",
    "model8.add(Convolution3D(10, 3, 3, 3, input_shape=(10, 10, 10,1), border_mode='valid', init='he_normal'))\n",
    "model8.add(BatchNormalization())\n",
    "model8.add(Activation('relu'))\n",
    "model8.add(Flatten())\n",
    "model8.add(Dropout(0.2))\n",
    "model8.add(Dense(20, init='glorot_normal', activation='tanh'))\n",
    "\n",
    "model9=Sequential()\n",
    "model9.add(Convolution3D(10, 3, 3, 3, input_shape=(10, 10, 10,1), border_mode='valid', init='he_normal'))\n",
    "model9.add(BatchNormalization())\n",
    "model9.add(Activation('relu'))\n",
    "model9.add(Flatten())\n",
    "model9.add(Dropout(0.2))\n",
    "model9.add(Dense(20, init='glorot_normal', activation='tanh'))\n",
    "\n",
    "model10=Sequential()\n",
    "model10.add(Convolution3D(10, 3, 3, 3, input_shape=(10, 10, 10,1), border_mode='valid', init='he_normal'))\n",
    "model10.add(BatchNormalization())\n",
    "model10.add(Activation('relu'))\n",
    "model10.add(Flatten())\n",
    "model10.add(Dropout(0.2))\n",
    "model10.add(Dense(20, init='glorot_normal', activation='tanh'))\n",
    "\n",
    "model11=Sequential()\n",
    "model11.add(Convolution3D(10, 3, 3, 3, input_shape=(10, 10, 10,1), border_mode='valid', init='he_normal'))\n",
    "model11.add(BatchNormalization())\n",
    "model11.add(Activation('relu'))\n",
    "model11.add(Flatten())\n",
    "model11.add(Dropout(0.2))\n",
    "model11.add(Dense(20, init='glorot_normal', activation='tanh'))\n",
    "\n",
    "model12=Sequential()\n",
    "model12.add(Convolution3D(10, 3, 3, 3, input_shape=(10, 10, 10,1), border_mode='valid', init='he_normal'))\n",
    "model12.add(BatchNormalization())\n",
    "model12.add(Activation('relu'))\n",
    "model12.add(Flatten())\n",
    "model12.add(Dropout(0.2))\n",
    "model12.add(Dense(20, init='glorot_normal', activation='tanh'))\n",
    "\n",
    "model13=Sequential()\n",
    "model13.add(Convolution3D(10, 3, 3, 3, input_shape=(10, 10, 10,1), border_mode='valid', init='he_normal'))\n",
    "model13.add(BatchNormalization())\n",
    "model13.add(Activation('relu'))\n",
    "model13.add(Flatten())\n",
    "model13.add(Dropout(0.2))\n",
    "model13.add(Dense(20, init='glorot_normal', activation='tanh'))\n",
    "\n",
    "model14=Sequential()\n",
    "model14.add(Convolution3D(10, 3, 3, 3, input_shape=(10, 10, 10,1), border_mode='valid', init='he_normal'))\n",
    "model14.add(BatchNormalization())\n",
    "model14.add(Activation('relu'))\n",
    "model14.add(Flatten())\n",
    "model14.add(Dropout(0.2))\n",
    "model14.add(Dense(20, init='glorot_normal', activation='tanh'))\n",
    "\n",
    "model15=Sequential()\n",
    "model15.add(Convolution3D(10, 3, 3, 3, input_shape=(10, 10, 10,1), border_mode='valid', init='he_normal'))\n",
    "model15.add(BatchNormalization())\n",
    "model15.add(Activation('relu'))\n",
    "model15.add(Flatten())\n",
    "model15.add(Dropout(0.2))\n",
    "model15.add(Dense(20, init='glorot_normal', activation='tanh'))\n",
    "\n",
    "model16=Sequential()\n",
    "model16.add(Convolution3D(10, 3, 3, 3, input_shape=(10, 10, 10,1), border_mode='valid', init='he_normal'))\n",
    "model16.add(BatchNormalization())\n",
    "model16.add(Activation('relu'))\n",
    "model16.add(Flatten())\n",
    "model16.add(Dropout(0.2))\n",
    "model16.add(Dense(20, init='glorot_normal', activation='tanh'))\n",
    "\n",
    "model17=Sequential()\n",
    "model17.add(Convolution3D(10, 3, 3, 3, input_shape=(10, 10, 10,1), border_mode='valid', init='he_normal'))\n",
    "model17.add(BatchNormalization())\n",
    "model17.add(Activation('relu'))\n",
    "model17.add(Flatten())\n",
    "model17.add(Dropout(0.2))\n",
    "model17.add(Dense(20, init='glorot_normal', activation='tanh'))\n",
    "\n",
    "merged = Merge([model1, model2, model3, model4, model5, model6, model7, model8, model9, model10, model11, model12, model13, model14, model15, model16, model17], mode='concat')\n",
    "final_model = Sequential()\n",
    "final_model.add(merged)\n",
    "final_model.add(Dense(10, init='glorot_normal', activation='tanh',W_regularizer=l2(.01)))\n",
    "final_model.add(Dense(1, init='glorot_normal', activation='tanh'))\n",
    "final_model.compile(loss='binary_crossentropy', optimizer=adam, metrics=['accuracy'])"
   ]
  },
  {
   "cell_type": "code",
   "execution_count": 13,
   "metadata": {
    "collapsed": false
   },
   "outputs": [
    {
     "name": "stdout",
     "output_type": "stream",
     "text": [
      "0.0005\n"
     ]
    }
   ],
   "source": [
    "import keras.backend as K\n",
    "print K.get_value(final_model.optimizer.lr)"
   ]
  },
  {
   "cell_type": "code",
   "execution_count": 14,
   "metadata": {
    "collapsed": false
   },
   "outputs": [
    {
     "name": "stdout",
     "output_type": "stream",
     "text": [
      "Train on 198 samples, validate on 50 samples\n",
      "Epoch 1/1\n",
      "116s - loss: 1.9222 - acc: 0.6364 - val_loss: 0.3608 - val_acc: 0.8400\n",
      "Train on 198 samples, validate on 50 samples\n",
      "Epoch 1/1\n",
      "123s - loss: 0.7691 - acc: 0.7475 - val_loss: 0.2941 - val_acc: 0.8800\n",
      "Train on 198 samples, validate on 50 samples\n",
      "Epoch 1/1\n",
      "169s - loss: 0.8229 - acc: 0.7879 - val_loss: 0.2340 - val_acc: 0.9000\n",
      "Train on 198 samples, validate on 50 samples\n",
      "Epoch 1/1\n",
      "138s - loss: 0.6607 - acc: 0.8030 - val_loss: 0.2315 - val_acc: 0.9200\n",
      "Train on 198 samples, validate on 50 samples\n",
      "Epoch 1/1\n",
      "138s - loss: 0.5288 - acc: 0.8283 - val_loss: 0.2245 - val_acc: 0.9600\n",
      "Train on 198 samples, validate on 50 samples\n",
      "Epoch 1/1\n",
      "138s - loss: 0.5520 - acc: 0.8586 - val_loss: 0.2565 - val_acc: 0.9200\n",
      "Train on 198 samples, validate on 50 samples\n",
      "Epoch 1/1\n",
      "138s - loss: 0.5978 - acc: 0.8434 - val_loss: 0.2350 - val_acc: 0.9200\n",
      "Train on 198 samples, validate on 50 samples\n",
      "Epoch 1/1\n",
      "137s - loss: 0.4885 - acc: 0.8889 - val_loss: 0.3010 - val_acc: 0.9200\n",
      "Train on 198 samples, validate on 50 samples\n",
      "Epoch 1/1\n",
      "138s - loss: 0.4575 - acc: 0.8788 - val_loss: 0.4898 - val_acc: 0.9200\n",
      "Train on 198 samples, validate on 50 samples\n",
      "Epoch 1/1\n",
      "139s - loss: 0.4456 - acc: 0.8737 - val_loss: 0.4831 - val_acc: 0.9200\n",
      "Train on 198 samples, validate on 50 samples\n",
      "Epoch 1/1\n",
      "139s - loss: 0.4399 - acc: 0.9141 - val_loss: 0.4898 - val_acc: 0.9200\n",
      "Train on 198 samples, validate on 50 samples\n",
      "Epoch 1/1\n",
      "140s - loss: 0.4127 - acc: 0.8737 - val_loss: 0.4934 - val_acc: 0.9200\n",
      "Train on 198 samples, validate on 50 samples\n",
      "Epoch 1/1\n",
      "144s - loss: 0.4185 - acc: 0.9242 - val_loss: 0.4817 - val_acc: 0.9400\n",
      "Train on 198 samples, validate on 50 samples\n",
      "Epoch 1/1\n",
      "137s - loss: 0.4092 - acc: 0.9091 - val_loss: 0.4907 - val_acc: 0.9200\n",
      "Train on 198 samples, validate on 50 samples\n",
      "Epoch 1/1\n",
      "131s - loss: 0.3907 - acc: 0.8990 - val_loss: 0.4850 - val_acc: 0.9000\n",
      "Train on 198 samples, validate on 50 samples\n",
      "Epoch 1/1\n",
      "116s - loss: 0.3932 - acc: 0.9040 - val_loss: 0.4793 - val_acc: 0.9200\n",
      "Train on 198 samples, validate on 50 samples\n",
      "Epoch 1/1\n",
      "118s - loss: 0.3928 - acc: 0.8939 - val_loss: 0.4847 - val_acc: 0.9000\n",
      "Train on 198 samples, validate on 50 samples\n",
      "Epoch 1/1\n",
      "117s - loss: 0.3835 - acc: 0.9040 - val_loss: 0.4820 - val_acc: 0.9000\n",
      "Train on 198 samples, validate on 50 samples\n",
      "Epoch 1/1\n",
      "116s - loss: 0.3789 - acc: 0.9192 - val_loss: 0.4800 - val_acc: 0.9200\n",
      "Train on 198 samples, validate on 50 samples\n",
      "Epoch 1/1\n",
      "177s - loss: 0.3681 - acc: 0.9242 - val_loss: 0.4883 - val_acc: 0.9000\n",
      "Train on 198 samples, validate on 50 samples\n",
      "Epoch 1/1\n",
      "143s - loss: 0.3685 - acc: 0.9242 - val_loss: 0.4745 - val_acc: 0.9200\n",
      "Train on 198 samples, validate on 50 samples\n",
      "Epoch 1/1\n",
      "204s - loss: 0.3625 - acc: 0.9343 - val_loss: 0.5308 - val_acc: 0.9200\n",
      "Train on 198 samples, validate on 50 samples\n",
      "Epoch 1/1\n",
      "185s - loss: 0.3668 - acc: 0.9091 - val_loss: 0.5012 - val_acc: 0.9000\n",
      "Train on 198 samples, validate on 50 samples\n",
      "Epoch 1/1\n",
      "156s - loss: 0.3555 - acc: 0.9293 - val_loss: 0.4963 - val_acc: 0.9000\n",
      "Train on 198 samples, validate on 50 samples\n",
      "Epoch 1/1\n",
      "158s - loss: 0.3591 - acc: 0.9343 - val_loss: 0.7492 - val_acc: 0.9000\n",
      "Train on 198 samples, validate on 50 samples\n",
      "Epoch 1/1\n",
      "224s - loss: 0.3515 - acc: 0.9242 - val_loss: 0.7534 - val_acc: 0.9000\n",
      "Train on 198 samples, validate on 50 samples\n",
      "Epoch 1/1\n",
      "189s - loss: 0.3569 - acc: 0.9293 - val_loss: 0.7521 - val_acc: 0.9000\n",
      "Train on 198 samples, validate on 50 samples\n",
      "Epoch 1/1\n",
      "193s - loss: 0.3506 - acc: 0.9293 - val_loss: 0.5033 - val_acc: 0.9000\n",
      "Train on 198 samples, validate on 50 samples\n",
      "Epoch 1/1\n",
      "230s - loss: 0.3486 - acc: 0.9242 - val_loss: 0.7475 - val_acc: 0.9000\n",
      "Train on 198 samples, validate on 50 samples\n",
      "Epoch 1/1\n",
      "163s - loss: 0.3515 - acc: 0.9293 - val_loss: 0.5111 - val_acc: 0.9000\n",
      "Train on 198 samples, validate on 50 samples\n",
      "Epoch 1/1\n",
      "172s - loss: 0.3488 - acc: 0.9343 - val_loss: 0.4881 - val_acc: 0.9000\n",
      "Train on 198 samples, validate on 50 samples\n",
      "Epoch 1/1\n",
      "156s - loss: 0.3496 - acc: 0.9091 - val_loss: 0.7340 - val_acc: 0.9000\n",
      "Train on 198 samples, validate on 50 samples\n",
      "Epoch 1/1\n",
      "231s - loss: 0.3446 - acc: 0.9141 - val_loss: 0.7407 - val_acc: 0.9000\n",
      "Train on 198 samples, validate on 50 samples\n",
      "Epoch 1/1\n",
      "208s - loss: 0.3427 - acc: 0.9192 - val_loss: 0.7545 - val_acc: 0.9000\n",
      "Train on 198 samples, validate on 50 samples\n",
      "Epoch 1/1\n",
      "185s - loss: 0.3479 - acc: 0.9394 - val_loss: 0.7433 - val_acc: 0.9000\n",
      "Train on 198 samples, validate on 50 samples\n",
      "Epoch 1/1\n",
      "153s - loss: 0.3459 - acc: 0.9192 - val_loss: 0.7436 - val_acc: 0.9000\n",
      "Train on 198 samples, validate on 50 samples\n",
      "Epoch 1/1\n",
      "142s - loss: 0.3403 - acc: 0.9242 - val_loss: 0.7420 - val_acc: 0.9200\n",
      "Train on 198 samples, validate on 50 samples\n",
      "Epoch 1/1\n",
      "157s - loss: 0.3380 - acc: 0.9242 - val_loss: 0.7403 - val_acc: 0.9000\n",
      "Train on 198 samples, validate on 50 samples\n",
      "Epoch 1/1\n",
      "144s - loss: 0.3368 - acc: 0.9343 - val_loss: 0.7384 - val_acc: 0.9000\n",
      "Train on 198 samples, validate on 50 samples\n",
      "Epoch 1/1\n",
      "177s - loss: 0.3458 - acc: 0.9091 - val_loss: 0.7349 - val_acc: 0.9000\n",
      "Train on 198 samples, validate on 50 samples\n",
      "Epoch 1/1\n",
      "142s - loss: 0.3377 - acc: 0.8939 - val_loss: 0.7378 - val_acc: 0.9000\n",
      "Train on 198 samples, validate on 50 samples\n",
      "Epoch 1/1\n",
      "166s - loss: 0.3362 - acc: 0.9091 - val_loss: 0.4708 - val_acc: 0.8800\n",
      "Train on 198 samples, validate on 50 samples\n",
      "Epoch 1/1\n",
      "156s - loss: 0.3356 - acc: 0.9293 - val_loss: 0.4689 - val_acc: 0.9000\n",
      "Train on 198 samples, validate on 50 samples\n",
      "Epoch 1/1\n",
      "184s - loss: 0.3387 - acc: 0.9293 - val_loss: 0.4661 - val_acc: 0.9200\n",
      "Train on 198 samples, validate on 50 samples\n",
      "Epoch 1/1\n",
      "158s - loss: 0.3333 - acc: 0.9343 - val_loss: 0.4700 - val_acc: 0.9000\n",
      "Train on 198 samples, validate on 50 samples\n",
      "Epoch 1/1\n",
      "141s - loss: 0.3360 - acc: 0.9444 - val_loss: 0.4706 - val_acc: 0.9000\n",
      "Train on 198 samples, validate on 50 samples\n",
      "Epoch 1/1\n",
      "154s - loss: 0.3333 - acc: 0.9091 - val_loss: 0.4692 - val_acc: 0.9000\n",
      "Train on 198 samples, validate on 50 samples\n",
      "Epoch 1/1\n",
      "144s - loss: 0.3353 - acc: 0.9343 - val_loss: 0.4738 - val_acc: 0.9000\n",
      "Train on 198 samples, validate on 50 samples\n",
      "Epoch 1/1\n",
      "137s - loss: 0.3346 - acc: 0.9242 - val_loss: 0.4768 - val_acc: 0.9200\n",
      "Train on 198 samples, validate on 50 samples\n",
      "Epoch 1/1\n",
      "138s - loss: 0.3348 - acc: 0.9141 - val_loss: 0.4678 - val_acc: 0.9000\n",
      "Train on 198 samples, validate on 50 samples\n",
      "Epoch 1/1\n",
      "137s - loss: 0.3332 - acc: 0.9091 - val_loss: 0.4654 - val_acc: 0.9200\n",
      "Train on 198 samples, validate on 50 samples\n",
      "Epoch 1/1\n",
      "137s - loss: 0.3338 - acc: 0.9141 - val_loss: 0.4651 - val_acc: 0.9200\n",
      "Train on 198 samples, validate on 50 samples\n",
      "Epoch 1/1\n",
      "143s - loss: 0.3313 - acc: 0.9141 - val_loss: 0.4633 - val_acc: 0.9200\n",
      "Train on 198 samples, validate on 50 samples\n",
      "Epoch 1/1\n",
      "137s - loss: 0.3309 - acc: 0.9192 - val_loss: 0.4630 - val_acc: 0.9200\n",
      "Train on 198 samples, validate on 50 samples\n",
      "Epoch 1/1\n",
      "138s - loss: 0.3306 - acc: 0.9091 - val_loss: 0.4622 - val_acc: 0.9200\n",
      "Train on 198 samples, validate on 50 samples\n",
      "Epoch 1/1\n",
      "149s - loss: 0.3311 - acc: 0.9091 - val_loss: 0.4620 - val_acc: 0.9200\n",
      "Train on 198 samples, validate on 50 samples\n",
      "Epoch 1/1\n",
      "139s - loss: 0.2672 - acc: 0.9293 - val_loss: 0.4749 - val_acc: 0.9000\n",
      "Train on 198 samples, validate on 50 samples\n",
      "Epoch 1/1\n",
      "199s - loss: 0.2689 - acc: 0.9293 - val_loss: 0.4843 - val_acc: 0.9000\n",
      "Train on 198 samples, validate on 50 samples\n",
      "Epoch 1/1\n",
      "144s - loss: 0.3316 - acc: 0.9394 - val_loss: 0.4858 - val_acc: 0.8800\n",
      "Train on 198 samples, validate on 50 samples\n",
      "Epoch 1/1\n",
      "174s - loss: 0.2571 - acc: 0.9343 - val_loss: 0.4770 - val_acc: 0.9000\n",
      "Train on 198 samples, validate on 50 samples\n",
      "Epoch 1/1\n",
      "153s - loss: 0.2547 - acc: 0.9242 - val_loss: 0.4732 - val_acc: 0.9000\n",
      "Train on 198 samples, validate on 50 samples\n",
      "Epoch 1/1\n",
      "138s - loss: 0.3290 - acc: 0.9242 - val_loss: 0.4728 - val_acc: 0.9000\n",
      "Train on 198 samples, validate on 50 samples\n",
      "Epoch 1/1\n",
      "129s - loss: 0.2615 - acc: 0.9141 - val_loss: 0.4725 - val_acc: 0.9200\n",
      "Train on 198 samples, validate on 50 samples\n",
      "Epoch 1/1\n",
      "182s - loss: 0.3322 - acc: 0.9293 - val_loss: 0.4713 - val_acc: 0.9200\n",
      "Train on 198 samples, validate on 50 samples\n",
      "Epoch 1/1\n",
      "144s - loss: 0.2537 - acc: 0.9444 - val_loss: 0.4710 - val_acc: 0.9200\n",
      "Train on 198 samples, validate on 50 samples\n",
      "Epoch 1/1\n",
      "141s - loss: 0.2526 - acc: 0.9343 - val_loss: 0.4711 - val_acc: 0.9200\n",
      "Train on 198 samples, validate on 50 samples\n",
      "Epoch 1/1\n",
      "145s - loss: 0.3317 - acc: 0.9192 - val_loss: 0.4706 - val_acc: 0.9200\n",
      "Train on 198 samples, validate on 50 samples\n",
      "Epoch 1/1\n",
      "133s - loss: 0.2502 - acc: 0.9293 - val_loss: 0.4714 - val_acc: 0.9200\n",
      "Train on 198 samples, validate on 50 samples\n",
      "Epoch 1/1\n",
      "118s - loss: 0.3289 - acc: 0.9141 - val_loss: 0.4718 - val_acc: 0.9200\n",
      "Train on 198 samples, validate on 50 samples\n",
      "Epoch 1/1\n",
      "116s - loss: 0.2489 - acc: 0.9192 - val_loss: 0.4717 - val_acc: 0.9200\n",
      "2.99722402553\n"
     ]
    }
   ],
   "source": [
    "# WATCHOUT: Change the name of the model\n",
    "acc_train=[]\n",
    "loss_train=[]\n",
    "acc_val=[]\n",
    "loss_val=[]\n",
    "all_lr=[]\n",
    "t0 = time.time()\n",
    "\n",
    "# thresholds\n",
    "thres1=.80\n",
    "thres1passed=0\n",
    "thres2=.90\n",
    "thres2passed=0\n",
    "thres3=.93\n",
    "thres3passed=0\n",
    "thres4=.96\n",
    "thres4passed=0\n",
    "maxAcc=0\n",
    "maxAccVal=0\n",
    "countNoIncrease=0\n",
    "\n",
    "for iteration in np.linspace(1,70,70):\n",
    "    history=final_model.fit([X1, X2, X3, X4, X5, X6, X7, X8, X9, X10, X1, X12, X13, X14, X15, X16, X17], y, validation_split=0.2, nb_epoch=1, batch_size=8,verbose=2)\n",
    "    # Append values\n",
    "    acc_train.append(history.history['acc'])\n",
    "    acc_val.append(history.history['val_acc'])\n",
    "    loss_train.append(history.history['loss'])\n",
    "    loss_val.append(history.history['val_loss'])\n",
    "    all_lr.append(K.get_value(final_model.optimizer.lr))\n",
    "    \n",
    "    # Compare last iteration vs max value of Acc\n",
    "    if acc_train[-1][0]>maxAcc:\n",
    "        maxAcc=max(acc_train)[0]\n",
    "        maxIt=iteration\n",
    "    else:\n",
    "        countNoIncrease=countNoIncrease+1\n",
    "        \n",
    "    if acc_val[-1][0]>maxAccVal:\n",
    "        maxAccVal=max(acc_val)[0]\n",
    "        final_model.save('m716s10_iter_'+'{0}_valAcc_{1}'.format(int(iteration),acc_val[-1][0])+'.h5')\n",
    "    \n",
    "    if countNoIncrease>=10:\n",
    "        countNoIncrease=0\n",
    "        K.set_value(final_model.optimizer.lr, 0.5 * K.get_value(final_model.optimizer.lr))    \n",
    "        \n",
    "    if acc_train[-1][0] > thres1 and thres1passed == 0:\n",
    "        thres1passed=1\n",
    "        countNoIncrease=0\n",
    "        K.set_value(final_model.optimizer.lr, 0.5 * K.get_value(final_model.optimizer.lr))    \n",
    "        \n",
    "    if acc_train[-1][0] > thres2 and thres2passed == 0:\n",
    "        thres2passed=1\n",
    "        countNoIncrease=0\n",
    "        K.set_value(final_model.optimizer.lr, 0.5 * K.get_value(final_model.optimizer.lr))    \n",
    "        \n",
    "    if acc_train[-1][0] > thres3 and thres3passed == 0:\n",
    "        thres3passed=1\n",
    "        countNoIncrease=0\n",
    "        K.set_value(final_model.optimizer.lr, 0.5 * K.get_value(final_model.optimizer.lr))    \n",
    "        \n",
    "    if acc_train[-1][0] > thres4 and thres4passed == 0:\n",
    "        thres4passed=1\n",
    "        countNoIncrease=0\n",
    "        K.set_value(final_model.optimizer.lr, 0.5 * K.get_value(final_model.optimizer.lr))   \n",
    "    \n",
    "t1 = time.time()\n",
    "print (t1-t0)/60/60"
   ]
  },
  {
   "cell_type": "code",
   "execution_count": 15,
   "metadata": {
    "collapsed": false
   },
   "outputs": [
    {
     "data": {
      "image/png": "[encoded data removed]",
      "text/plain": [
       "<matplotlib.figure.Figure at 0x7f04a8c2c8d0>"
      ]
     },
     "metadata": {},
     "output_type": "display_data"
    },
    {
     "data": {
      "image/png": "[encoded data removed]",
      "text/plain": [
       "<matplotlib.figure.Figure at 0x7f04a8c52290>"
      ]
     },
     "metadata": {},
     "output_type": "display_data"
    }
   ],
   "source": [
    "#summarize history for accuracy\n",
    "fig=plt.figure()\n",
    "plt.plot(acc_train)\n",
    "plt.plot(acc_val)\n",
    "plt.title('model accuracy')\n",
    "plt.ylabel('accuracy')\n",
    "plt.xlabel('epoch')\n",
    "plt.legend(['train','val'], loc='lower right')\n",
    "plt.ylim([0, 1])\n",
    "plt.show()\n",
    "# summarize history for accuracy\n",
    "plt.plot(loss_train)\n",
    "plt.plot(loss_val)\n",
    "plt.title('model loss')\n",
    "plt.ylabel('loss')\n",
    "plt.xlabel('epoch')\n",
    "plt.legend(['train','val'], loc='upper right')\n",
    "#plt.ylim([0, 2])\n",
    "plt.show()"
   ]
  },
  {
   "cell_type": "code",
   "execution_count": 16,
   "metadata": {
    "collapsed": false
   },
   "outputs": [
    {
     "data": {
      "image/png": "[encoded data removed]",
      "text/plain": [
       "<matplotlib.figure.Figure at 0x7f049b255750>"
      ]
     },
     "metadata": {},
     "output_type": "display_data"
    }
   ],
   "source": [
    "fig=plt.figure()\n",
    "plt.plot(all_lr)\n",
    "plt.title('learning rate')\n",
    "plt.ylabel('learning rate')\n",
    "plt.xlabel('epoch')\n",
    "plt.legend(['learning rate'], loc='upper right')\n",
    "plt.show()"
   ]
  },
  {
   "cell_type": "markdown",
   "metadata": {},
   "source": [
    "---"
   ]
  },
  {
   "cell_type": "markdown",
   "metadata": {},
   "source": [
    "## To resume training"
   ]
  },
  {
   "cell_type": "code",
   "execution_count": null,
   "metadata": {
    "collapsed": true
   },
   "outputs": [],
   "source": [
    "t0 = time.time()\n",
    "\n",
    "for iteration in np.linspace(3,8,6):\n",
    "    history=final_model.fit([X1, X2, X3, X4, X5, X6, X7, X8, X9, X10, X1, X12, X13, X14, X15, X16, X17], y, validation_split=0.2, nb_epoch=1, batch_size=8,verbose=2)\n",
    "    # Append values\n",
    "    acc_train.append(history.history['acc'])\n",
    "    acc_val.append(history.history['val_acc'])\n",
    "    loss_train.append(history.history['loss'])\n",
    "    loss_val.append(history.history['val_loss'])\n",
    "    all_lr.append(K.get_value(final_model.optimizer.lr))\n",
    "    \n",
    "    # Compare last iteration vs max value of Acc\n",
    "    if acc_train[-1][0]>maxAcc:\n",
    "        maxAcc=max(acc_train)[0]\n",
    "        maxIt=iteration\n",
    "    else:\n",
    "        countNoIncrease=countNoIncrease+1\n",
    "        \n",
    "    if acc_val[-1][0]>maxAccVal:\n",
    "        maxAccVal=max(acc_val)[0]\n",
    "        final_model.save('m715s10_iter_'+'{0}_valAcc_{1}'.format(int(iteration),acc_val[-1][0])+'.h5')\n",
    "    \n",
    "    if countNoIncrease>=10:\n",
    "        countNoIncrease=0\n",
    "        K.set_value(final_model.optimizer.lr, 0.5 * K.get_value(final_model.optimizer.lr))    \n",
    "        \n",
    "    if acc_train[-1][0] > thres1 and thres1passed == 0:\n",
    "        thres1passed=1\n",
    "        countNoIncrease=0\n",
    "        K.set_value(final_model.optimizer.lr, 0.5 * K.get_value(final_model.optimizer.lr))    \n",
    "        \n",
    "    if acc_train[-1][0] > thres2 and thres2passed == 0:\n",
    "        thres2passed=1\n",
    "        countNoIncrease=0\n",
    "        K.set_value(final_model.optimizer.lr, 0.5 * K.get_value(final_model.optimizer.lr))    \n",
    "        \n",
    "    if acc_train[-1][0] > thres3 and thres3passed == 0:\n",
    "        thres3passed=1\n",
    "        countNoIncrease=0\n",
    "        K.set_value(final_model.optimizer.lr, 0.5 * K.get_value(final_model.optimizer.lr))    \n",
    "        \n",
    "    if acc_train[-1][0] > thres4 and thres4passed == 0:\n",
    "        thres4passed=1\n",
    "        countNoIncrease=0\n",
    "        K.set_value(final_model.optimizer.lr, 0.5 * K.get_value(final_model.optimizer.lr))   \n",
    "    \n",
    "t1 = time.time()\n",
    "print (t1-t0)/60/60"
   ]
  },
  {
   "cell_type": "markdown",
   "metadata": {},
   "source": [
    "---"
   ]
  },
  {
   "cell_type": "markdown",
   "metadata": {},
   "source": [
    "## To Save the model and the variables"
   ]
  },
  {
   "cell_type": "code",
   "execution_count": 17,
   "metadata": {
    "collapsed": true
   },
   "outputs": [],
   "source": [
    "final_model.save('m716s10_iter_70.h5')"
   ]
  },
  {
   "cell_type": "code",
   "execution_count": 18,
   "metadata": {
    "collapsed": true
   },
   "outputs": [],
   "source": [
    "K_LR=K.get_value(adam.lr)\n",
    "K_LR, acc_train, loss_train, acc_val, loss_val, all_lr, countNoIncrease, maxAcc, maxAccVal, thres1, thres1passed, thres2, thres2passed, thres3, thres3passed, thres4, thres4passed\n",
    "with open('m716s10_iter_70objs.pickle', 'wb') as f:\n",
    "    pickle.dump([K_LR, acc_train, loss_train, acc_val, loss_val, all_lr, countNoIncrease, maxAcc, maxAccVal, thres1, thres1passed, thres2, thres2passed, thres3, thres3passed, thres4, thres4passed], f)"
   ]
  },
  {
   "cell_type": "markdown",
   "metadata": {},
   "source": [
    "---"
   ]
  },
  {
   "cell_type": "markdown",
   "metadata": {},
   "source": [
    "## To retreive the model and the variables"
   ]
  },
  {
   "cell_type": "code",
   "execution_count": 9,
   "metadata": {
    "collapsed": false
   },
   "outputs": [],
   "source": [
    "# Getting back the objects:\n",
    "with open('m715objs.pickle') as f:\n",
    "    K_LR, acc_train, loss_train, acc_val, loss_val, all_lr, countNoIncrease, maxAcc, maxAccVal, thres1, thres1passed, thres2, thres2passed, thres3, thres3passed, thres4, thres4passed = pickle.load(f)"
   ]
  },
  {
   "cell_type": "code",
   "execution_count": 28,
   "metadata": {
    "collapsed": true
   },
   "outputs": [],
   "source": [
    "from keras.models import load_model\n",
    "best_model=load_model('m715s10_iter_4_valAcc_0.96.h5')"
   ]
  },
  {
   "cell_type": "code",
   "execution_count": 31,
   "metadata": {
    "collapsed": false
   },
   "outputs": [
    {
     "name": "stdout",
     "output_type": "stream",
     "text": [
      "62/62 [==============================] - 3s     \n",
      "0.870967741935\n"
     ]
    },
    {
     "data": {
      "text/plain": [
       "array([[23,  6],\n",
       "       [ 2, 31]])"
      ]
     },
     "execution_count": 31,
     "metadata": {},
     "output_type": "execute_result"
    }
   ],
   "source": [
    "y_pred=best_model.predict_classes([X1test, X2test, X3test, X4test, X5test, X6test, X7test, X8test, X9test, X10test, X11test, X12test, X13test, X14test, X15test, X16test, X17test])\n",
    "y_predC=np.squeeze(y_pred)\n",
    "print accuracy_score(y_true,y_predC)\n",
    "confusion_matrix(y_true,y_predC)"
   ]
  },
  {
   "cell_type": "markdown",
   "metadata": {
    "collapsed": false
   },
   "source": [
    "---"
   ]
  },
  {
   "cell_type": "markdown",
   "metadata": {
    "collapsed": false
   },
   "source": [
    "## To get the test result"
   ]
  },
  {
   "cell_type": "code",
   "execution_count": 19,
   "metadata": {
    "collapsed": false
   },
   "outputs": [],
   "source": [
    "y_true=readLabels('fold1/test/labelsTest.mat')\n",
    "X1test=readScan('fold1/test/scansMiniTest1.mat')\n",
    "X2test=readScan('fold1/test/scansMiniTest2.mat')\n",
    "X3test=readScan('fold1/test/scansMiniTest3.mat')\n",
    "X4test=readScan('fold1/test/scansMiniTest4.mat')\n",
    "X5test=readScan('fold1/test/scansMiniTest5.mat')\n",
    "X6test=readScan('fold1/test/scansMiniTest6.mat')\n",
    "X7test=readScan('fold1/test/scansMiniTest7.mat')\n",
    "X8test=readScan('fold1/test/scansMiniTest8.mat')\n",
    "X9test=readScan('fold1/test/scansMiniTest9.mat')\n",
    "X10test=readScan('fold1/test/scansMiniTest10.mat')\n",
    "X11test=readScan('fold1/test/scansMiniTest11.mat')\n",
    "X12test=readScan('fold1/test/scansMiniTest12.mat')\n",
    "X13test=readScan('fold1/test/scansMiniTest13.mat')\n",
    "X14test=readScan('fold1/test/scansMiniTest14.mat')\n",
    "X15test=readScan('fold1/test/scansMiniTest15.mat')\n",
    "X16test=readScan('fold1/test/scansMiniTest16.mat')\n",
    "X17test=readScan('fold1/test/scansMiniTest17.mat')"
   ]
  },
  {
   "cell_type": "code",
   "execution_count": 20,
   "metadata": {
    "collapsed": false
   },
   "outputs": [
    {
     "name": "stdout",
     "output_type": "stream",
     "text": [
      "62/62 [==============================] - 3s     \n"
     ]
    }
   ],
   "source": [
    "y_predProb=final_model.predict([X1test, X2test, X3test, X4test, X5test, X6test, X7test, X8test, X9test, X10test, X11test, X12test, X13test, X14test, X15test, X16test, X17test])\n",
    "y_pred=final_model.predict_classes([X1test, X2test, X3test, X4test, X5test, X6test, X7test, X8test, X9test, X10test, X11test, X12test, X13test, X14test, X15test, X16test, X17test])"
   ]
  },
  {
   "cell_type": "code",
   "execution_count": 21,
   "metadata": {
    "collapsed": false
   },
   "outputs": [
    {
     "data": {
      "text/plain": [
       "array([-0.30177501, -0.83915257, -0.24278244,  0.91678262, -0.40383047,\n",
       "       -0.33641127,  0.26100907,  0.49594063,  0.93614489,  0.95625389,\n",
       "        0.93523186,  0.90394938,  0.99801809,  0.99805516,  0.99801791,\n",
       "        0.99535888,  0.99730867,  0.99673527,  0.99265236,  0.99713445,\n",
       "        0.99792576,  0.99737704,  0.92826056, -0.63965315,  0.98321885,\n",
       "        0.99251294,  0.9500882 ,  0.88999689,  0.99623787,  0.99568373,\n",
       "        0.98250878,  0.97940248,  0.98277122,  0.97072774,  0.58071554,\n",
       "        0.95117444,  0.91626912,  0.99644065,  0.99408239,  0.99529749,\n",
       "       -0.28858078,  0.29575908,  0.92251486,  0.84526062, -0.46575394,\n",
       "        0.49993208,  0.83592838,  0.44810766,  0.95711988, -0.43602473,\n",
       "       -0.22510132, -0.0032928 , -0.43720761, -0.42974257, -0.45862505,\n",
       "       -0.33869287, -0.25683868, -0.40435806,  0.93435925,  0.96265781,\n",
       "        0.86427248,  0.9791441 ], dtype=float32)"
      ]
     },
     "execution_count": 21,
     "metadata": {},
     "output_type": "execute_result"
    }
   ],
   "source": [
    "np.squeeze(y_predProb)"
   ]
  },
  {
   "cell_type": "code",
   "execution_count": 22,
   "metadata": {
    "collapsed": false
   },
   "outputs": [
    {
     "data": {
      "text/plain": [
       "array([0, 0, 0, 1, 0, 0, 0, 0, 1, 1, 1, 1, 1, 1, 1, 1, 1, 1, 1, 1, 1, 1, 1,\n",
       "       0, 1, 1, 1, 1, 1, 1, 1, 1, 1, 1, 1, 1, 1, 1, 1, 1, 0, 0, 1, 1, 0, 0,\n",
       "       1, 0, 1, 0, 0, 0, 0, 0, 0, 0, 0, 0, 1, 1, 1, 1], dtype=int32)"
      ]
     },
     "execution_count": 22,
     "metadata": {},
     "output_type": "execute_result"
    }
   ],
   "source": [
    "y_predC=np.squeeze(y_pred)\n",
    "y_predC"
   ]
  },
  {
   "cell_type": "code",
   "execution_count": 23,
   "metadata": {
    "collapsed": true
   },
   "outputs": [],
   "source": [
    "from sklearn.metrics import confusion_matrix\n",
    "from sklearn.metrics import  accuracy_score"
   ]
  },
  {
   "cell_type": "code",
   "execution_count": 24,
   "metadata": {
    "collapsed": false
   },
   "outputs": [
    {
     "name": "stdout",
     "output_type": "stream",
     "text": [
      "0.887096774194\n",
      "[ 3 22 24 42 43 46 48]\n"
     ]
    },
    {
     "data": {
      "text/plain": [
       "array([[22,  7],\n",
       "       [ 0, 33]])"
      ]
     },
     "execution_count": 24,
     "metadata": {},
     "output_type": "execute_result"
    }
   ],
   "source": [
    "print accuracy_score(y_true,y_predC)\n",
    "print np.where(y_true.astype(bool)!=y_predC.astype(bool))[0]\n",
    "confusion_matrix(y_true,y_predC)"
   ]
  },
  {
   "cell_type": "markdown",
   "metadata": {},
   "source": [
    "---"
   ]
  },
  {
   "cell_type": "markdown",
   "metadata": {},
   "source": [
    "---"
   ]
  },
  {
   "cell_type": "markdown",
   "metadata": {},
   "source": [
    "---"
   ]
  },
  {
   "cell_type": "code",
   "execution_count": null,
   "metadata": {
    "collapsed": true
   },
   "outputs": [],
   "source": [
    "from keras.utils.np_utils import to_categorical\n",
    "y_binary = to_categorical(ysq)"
   ]
  },
  {
   "cell_type": "code",
   "execution_count": null,
   "metadata": {
    "collapsed": true
   },
   "outputs": [],
   "source": [
    "def baseline_model():\n",
    "    model=Sequential()\n",
    "    model.add(Convolution3D(10, 3, 3, 3, input_shape=(16, 16, 16,1), border_mode='valid', activation='relu'))\n",
    "    model.add(Flatten())\n",
    "    model.add(Dense(100, init='uniform', activation='tanh'))\n",
    "    model.add(Dense(1, init='uniform', activation='tanh'))\n",
    "    # Compile model\n",
    "    model.compile(loss='binary_crossentropy', optimizer='adam', metrics=['accuracy'])\n",
    "    return model"
   ]
  },
  {
   "cell_type": "code",
   "execution_count": null,
   "metadata": {
    "collapsed": true
   },
   "outputs": [],
   "source": [
    "estimator = KerasClassifier(build_fn=baseline_model, nb_epoch=200, batch_size=10, verbose=0)\n",
    "kfold = KFold(n=len(X), n_folds=8, shuffle=True, random_state=seed)\n",
    "results = cross_val_score(estimator, X, ysq, cv=kfold)\n",
    "print results\n",
    "print results.mean()"
   ]
  },
  {
   "cell_type": "markdown",
   "metadata": {},
   "source": [
    "---"
   ]
  },
  {
   "cell_type": "markdown",
   "metadata": {},
   "source": [
    "---"
   ]
  },
  {
   "cell_type": "markdown",
   "metadata": {},
   "source": [
    "---"
   ]
  },
  {
   "cell_type": "markdown",
   "metadata": {
    "collapsed": true
   },
   "source": [
    "### Model622      \n",
    "\n",
    "callbacks1=EarlyStopping(monitor='loss', mode='auto', patience=30,verbose=0)   \n",
    "callbacks3=ModelCheckpoint('m508_Weights.{epoch:02d}-{val_acc:.2f}.hdf5',monitor='val_acc', verbose=0, save_best_only=True, save_weights_only=False, mode='auto')   \n",
    "\n",
    "adam=Adam(**lr=0.000005**, beta_1=0.9, beta_2=0.999, epsilon=1e-08, decay=1e-04)   \n",
    "\n",
    "model5=Sequential()    \n",
    "model5.add(Convolution3D(10, 3, 3, 3, input_shape=(16, 16, 16,1), border_mode='valid', init='he_normal',**W_regularizer=l2(.05)**))    \n",
    "model5.add(BatchNormalization())    \n",
    "model5.add(Activation('relu'))    \n",
    "model5.add(Flatten())    \n",
    "model5.add(Dropout(0.2))    \n",
    "model5.add(Dense(20, init='glorot_normal', activation='tanh'**, W_regularizer=l2(.05)**))    \n",
    "\n",
    "merged = Merge([model1, model2, model3, model4, model5], mode='concat')    \n",
    "final_model = Sequential()    \n",
    "final_model.add(merged)    \n",
    "final_model.add(Dense(**10**, init='glorot_normal', activation='tanh',**W_regularizer=l2(.05)**))    \n",
    "final_model.add(Dense(1, init='glorot_normal', activation='tanh'))    \n",
    "final_model.compile(loss='binary_crossentropy', optimizer=adam, metrics=['accuracy'])    \n",
    "\n",
    "history=final_model.fit([X1, X2, X3, X4, X5], y, validation_split=0.2, nb_epoch=80, **batch_size=8**,verbose=0, callbacks=[callbacks1,callbacks3]) \n"
   ]
  },
  {
   "cell_type": "markdown",
   "metadata": {
    "collapsed": true
   },
   "source": [
    "### Model627      \n",
    "\n",
    "callbacks1=EarlyStopping(monitor='loss', mode='auto', patience=30,verbose=0)   \n",
    "callbacks3=ModelCheckpoint('m508_Weights.{epoch:02d}-{val_acc:.2f}.hdf5',monitor='val_acc', verbose=0, save_best_only=True, save_weights_only=False, mode='auto')   \n",
    "\n",
    "adam=Adam(**lr=0.000005**, beta_1=0.9, beta_2=0.999, epsilon=1e-08, decay=1e-04)   \n",
    "\n",
    "model5=Sequential()    \n",
    "model5.add(Convolution3D(10, 3, 3, 3, input_shape=(16, 16, 16,1), border_mode='valid', init='he_normal',**W_regularizer=l2(.05)**))    \n",
    "model5.add(BatchNormalization())    \n",
    "model5.add(Activation('relu'))    \n",
    "model5.add(Flatten())    \n",
    "model5.add(Dropout(0.2))    \n",
    "model5.add(Dense(20, init='glorot_normal', activation='tanh'**, W_regularizer=l2(.05)**))    \n",
    "\n",
    "merged = Merge([model1, model2, model3, model4, model5], mode='concat')    \n",
    "final_model = Sequential()    \n",
    "final_model.add(merged)    \n",
    "final_model.add(Dense(**40**, init='glorot_normal', activation='tanh',**W_regularizer=l2(.05)**))    \n",
    "final_model.add(Dense(1, init='glorot_normal', activation='tanh'))    \n",
    "final_model.compile(loss='binary_crossentropy', optimizer=adam, metrics=['accuracy'])    \n",
    "\n",
    "history=final_model.fit([X1, X2, X3, X4, X5], y, validation_split=0.2, nb_epoch=80, **batch_size=8**,verbose=0, callbacks=[callbacks1,callbacks3]) \n"
   ]
  },
  {
   "cell_type": "markdown",
   "metadata": {
    "collapsed": true
   },
   "source": [
    "### Model628      \n",
    "\n",
    "callbacks1=EarlyStopping(monitor='loss', mode='auto', patience=30,verbose=0)   \n",
    "callbacks3=ModelCheckpoint('m508_Weights.{epoch:02d}-{val_acc:.2f}.hdf5',monitor='val_acc', verbose=0, save_best_only=True, save_weights_only=False, mode='auto')   \n",
    "\n",
    "adam=Adam(**lr=0.0000001**, beta_1=0.9, beta_2=0.999, epsilon=1e-08, decay=1e-04)   \n",
    "\n",
    "model5=Sequential()    \n",
    "model5.add(Convolution3D(10, 3, 3, 3, input_shape=(16, 16, 16,1), border_mode='valid', init='he_normal',**W_regularizer=l2(.05)**))    \n",
    "model5.add(BatchNormalization())    \n",
    "model5.add(Activation('relu'))    \n",
    "model5.add(Flatten())    \n",
    "model5.add(Dropout(0.2))    \n",
    "model5.add(Dense(20, init='glorot_normal', activation='tanh'**, W_regularizer=l2(.05)**))    \n",
    "\n",
    "merged = Merge([model1, model2, model3, model4, model5], mode='concat')    \n",
    "final_model = Sequential()    \n",
    "final_model.add(merged)    \n",
    "final_model.add(Dense(**40**, init='glorot_normal', activation='tanh',**W_regularizer=l2(.05)**))    \n",
    "final_model.add(Dense(1, init='glorot_normal', activation='tanh'))    \n",
    "final_model.compile(loss='binary_crossentropy', optimizer=adam, metrics=['accuracy'])    \n",
    "\n",
    "history=final_model.fit([X1, X2, X3, X4, X5], y, validation_split=0.2, nb_epoch=80, **batch_size=8**,verbose=0, callbacks=[callbacks1,callbacks3]) \n"
   ]
  },
  {
   "cell_type": "markdown",
   "metadata": {
    "collapsed": true
   },
   "source": [
    "### Model629      \n",
    "\n",
    "callbacks1=EarlyStopping(monitor='loss', mode='auto', patience=30,verbose=0)   \n",
    "callbacks3=ModelCheckpoint('m508_Weights.{epoch:02d}-{val_acc:.2f}.hdf5',monitor='val_acc', verbose=0, save_best_only=True, save_weights_only=False, mode='auto')   \n",
    "\n",
    "adam=Adam(**lr=0.000001**, beta_1=0.9, beta_2=0.999, epsilon=1e-08, decay=1e-04)   \n",
    "\n",
    "model5=Sequential()    \n",
    "model5.add(Convolution3D(10, 3, 3, 3, input_shape=(16, 16, 16,1), border_mode='valid', init='he_normal',**W_regularizer=l2(.05)**))    \n",
    "model5.add(BatchNormalization())    \n",
    "model5.add(Activation('relu'))    \n",
    "model5.add(Flatten())    \n",
    "model5.add(Dropout(0.2))    \n",
    "model5.add(Dense(20, init='glorot_normal', activation='tanh'**, W_regularizer=l2(.05)**))    \n",
    "\n",
    "merged = Merge([model1, model2, model3, model4, model5], mode='concat')    \n",
    "final_model = Sequential()    \n",
    "final_model.add(merged)    \n",
    "final_model.add(Dense(**10**, init='glorot_normal', activation='tanh',**W_regularizer=l2(.05)**))    \n",
    "final_model.add(Dense(1, init='glorot_normal', activation='tanh'))    \n",
    "final_model.compile(loss='binary_crossentropy', optimizer=adam, metrics=['accuracy'])    \n",
    "\n",
    "history=final_model.fit([X1, X2, X3, X4, X5], y, validation_split=0.2, nb_epoch=80, **batch_size=8**,verbose=0, callbacks=[callbacks1,callbacks3]) \n"
   ]
  },
  {
   "cell_type": "markdown",
   "metadata": {
    "collapsed": true
   },
   "source": [
    "### Model630      \n",
    "\n",
    "callbacks1=EarlyStopping(monitor='loss', mode='auto', patience=30,verbose=0)   \n",
    "callbacks3=ModelCheckpoint('m508_Weights.{epoch:02d}-{val_acc:.2f}.hdf5',monitor='val_acc', verbose=0, save_best_only=True, save_weights_only=False, mode='auto')   \n",
    "\n",
    "adam=Adam(**lr=0.0000005**, beta_1=0.9, beta_2=0.999, epsilon=1e-08, decay=1e-04)   \n",
    "\n",
    "model5=Sequential()    \n",
    "model5.add(Convolution3D(10, 3, 3, 3, input_shape=(16, 16, 16,1), border_mode='valid', init='he_normal',**W_regularizer=l2(.05)**))    \n",
    "model5.add(BatchNormalization())    \n",
    "model5.add(Activation('relu'))    \n",
    "model5.add(Flatten())    \n",
    "model5.add(Dropout(0.2))    \n",
    "model5.add(Dense(20, init='glorot_normal', activation='tanh'**, W_regularizer=l2(.05)**))    \n",
    "\n",
    "merged = Merge([model1, model2, model3, model4, model5], mode='concat')    \n",
    "final_model = Sequential()    \n",
    "final_model.add(merged)    \n",
    "final_model.add(Dense(**10**, init='glorot_normal', activation='tanh',**W_regularizer=l2(.05)**))    \n",
    "final_model.add(Dense(1, init='glorot_normal', activation='tanh'))    \n",
    "final_model.compile(loss='binary_crossentropy', optimizer=adam, metrics=['accuracy'])    \n",
    "\n",
    "history=final_model.fit([X1, X2, X3, X4, X5], y, validation_split=0.2, nb_epoch=80, **batch_size=8**,verbose=0, callbacks=[callbacks1,callbacks3]) \n"
   ]
  },
  {
   "cell_type": "markdown",
   "metadata": {
    "collapsed": true
   },
   "source": [
    "### Model631      \n",
    "\n",
    "callbacks1=EarlyStopping(monitor='loss', mode='auto', patience=30,verbose=0)   \n",
    "callbacks3=ModelCheckpoint('m508_Weights.{epoch:02d}-{val_acc:.2f}.hdf5',monitor='val_acc', verbose=0, save_best_only=True, save_weights_only=False, mode='auto')   \n",
    "\n",
    "adam=Adam(**lr=0.000001**, beta_1=0.9, beta_2=0.999, epsilon=1e-08, decay=1e-04)   \n",
    "\n",
    "model5=Sequential()    \n",
    "model5.add(Convolution3D(10, 3, 3, 3, input_shape=(16, 16, 16,1), border_mode='valid', init='he_normal',**W_regularizer=l2(.05)**))    \n",
    "model5.add(BatchNormalization())    \n",
    "model5.add(Activation('relu'))    \n",
    "model5.add(Flatten())    \n",
    "model5.add(Dropout(0.2))    \n",
    "model5.add(Dense(20, init='glorot_normal', activation='tanh'**, W_regularizer=l2(.05)**))    \n",
    "\n",
    "merged = Merge([model1, model2, model3, model4, model5], mode='concat')    \n",
    "final_model = Sequential()    \n",
    "final_model.add(merged)    \n",
    "final_model.add(Dense(**40**, init='glorot_normal', activation='tanh',**W_regularizer=l2(.05)**))    \n",
    "final_model.add(Dense(1, init='glorot_normal', activation='tanh'))    \n",
    "final_model.compile(loss='binary_crossentropy', optimizer=adam, metrics=['accuracy'])    \n",
    "\n",
    "history=final_model.fit([X1, X2, X3, X4, X5], y, validation_split=0.2, nb_epoch=80, **batch_size=8**,verbose=0, callbacks=[callbacks1,callbacks3]) \n"
   ]
  },
  {
   "cell_type": "markdown",
   "metadata": {
    "collapsed": true
   },
   "source": [
    "### Model632      \n",
    "\n",
    "callbacks1=EarlyStopping(monitor='loss', mode='auto', patience=30,verbose=0)   \n",
    "callbacks3=ModelCheckpoint('m508_Weights.{epoch:02d}-{val_acc:.2f}.hdf5',monitor='val_acc', verbose=0, save_best_only=True, save_weights_only=False, mode='auto')   \n",
    "\n",
    "adam=Adam(**lr=0.000001**, beta_1=0.9, beta_2=0.999, epsilon=1e-08, decay=1e-04)   \n",
    "\n",
    "model5=Sequential()    \n",
    "model5.add(Convolution3D(10, 3, 3, 3, input_shape=(16, 16, 16,1), border_mode='valid', init='he_normal',**W_regularizer=l2(.05)**))    \n",
    "model5.add(BatchNormalization())    \n",
    "model5.add(Activation('relu'))    \n",
    "model5.add(Flatten())    \n",
    "model5.add(Dropout(0.2))    \n",
    "model5.add(Dense(20, init='glorot_normal', activation='tanh'**, W_regularizer=l2(.05)**))    \n",
    "\n",
    "merged = Merge([model1, model2, model3, model4, model5], mode='concat')    \n",
    "final_model = Sequential()    \n",
    "final_model.add(merged)    \n",
    "final_model.add(Dense(**20**, init='glorot_normal', activation='tanh',**W_regularizer=l2(.05)**))    \n",
    "**final_model.add(Dense(20, init='glorot_normal', activation='tanh',W_regularizer=l2(.05)))    **\n",
    "final_model.add(Dense(1, init='glorot_normal', activation='tanh'))    \n",
    "final_model.compile(loss='binary_crossentropy', optimizer=adam, metrics=['accuracy'])    \n",
    "\n",
    "history=final_model.fit([X1, X2, X3, X4, X5], y, validation_split=0.2, nb_epoch=80, **batch_size=8**,verbose=0, callbacks=[callbacks1,callbacks3]) \n"
   ]
  },
  {
   "cell_type": "markdown",
   "metadata": {},
   "source": [
    "### Model633      \n",
    "\n",
    "callbacks1=EarlyStopping(monitor='loss', mode='auto', patience=30,verbose=0)   \n",
    "callbacks3=ModelCheckpoint('m508_Weights.{epoch:02d}-{val_acc:.2f}.hdf5',monitor='val_acc', verbose=0, save_best_only=True, save_weights_only=False, mode='auto')   \n",
    "\n",
    "adam=Adam(**lr=0.000001**, beta_1=0.9, beta_2=0.999, epsilon=1e-08, decay=1e-04)   \n",
    "\n",
    "model5=Sequential()    \n",
    "model5.add(Convolution3D(10, 3, 3, 3, input_shape=(16, 16, 16,1), border_mode='valid', init='he_normal',**W_regularizer=l2(.05)**))    \n",
    "model5.add(BatchNormalization())    \n",
    "model5.add(Activation('relu'))    \n",
    "model5.add(Flatten())    \n",
    "model5.add(Dropout(0.2))    \n",
    "model5.add(Dense(20, init='glorot_normal', activation='tanh'**, W_regularizer=l2(.05)**))    \n",
    "\n",
    "merged = Merge([model1, model2, model3, model4, model5], mode='concat')    \n",
    "final_model = Sequential()    \n",
    "final_model.add(merged)    \n",
    "final_model.add(Dense(**10**, init='glorot_normal', activation='tanh',**W_regularizer=l2(.05)**))    \n",
    "**final_model.add(Dense(10, init='glorot_normal', activation='tanh',W_regularizer=l2(.05)))**    \n",
    "final_model.add(Dense(1, init='glorot_normal', activation='tanh'))    \n",
    "final_model.compile(loss='binary_crossentropy', optimizer=adam, metrics=['accuracy'])    \n",
    "\n",
    "history=final_model.fit([X1, X2, X3, X4, X5], y, validation_split=0.2, nb_epoch=80, **batch_size=8**,verbose=0, callbacks=[callbacks1,callbacks3]) \n"
   ]
  },
  {
   "cell_type": "markdown",
   "metadata": {},
   "source": [
    "### Model634      \n",
    "\n",
    "callbacks1=EarlyStopping(monitor='loss', mode='auto', patience=30,verbose=0)   \n",
    "callbacks3=ModelCheckpoint('m508_Weights.{epoch:02d}-{val_acc:.2f}.hdf5',monitor='val_acc', verbose=0, save_best_only=True, save_weights_only=False, mode='auto')   \n",
    "\n",
    "adam=Adam(**lr=0.000001**, beta_1=0.9, beta_2=0.999, epsilon=1e-08, decay=1e-04)   \n",
    "\n",
    "model5=Sequential()    \n",
    "model5.add(Convolution3D(10, 3, 3, 3, input_shape=(16, 16, 16,1), border_mode='valid', init='he_normal',**W_regularizer=l2(.05)**))    \n",
    "model5.add(BatchNormalization())    \n",
    "model5.add(Activation('relu'))    \n",
    "model5.add(Flatten())    \n",
    "model5.add(Dropout(0.2))    \n",
    "model5.add(Dense(20, init='glorot_normal', activation='tanh'**, W_regularizer=l2(.05)**))    \n",
    "\n",
    "merged = Merge([model1, model2, model3, model4, model5], mode='concat')    \n",
    "final_model = Sequential()    \n",
    "final_model.add(merged)    \n",
    "final_model.add(Dense(**10**, init='glorot_normal', activation='tanh',**W_regularizer=l2(.05)**))    \n",
    "**final_model.add(Dense(10, init='glorot_normal', activation='tanh',W_regularizer=l2(.05)))**    \n",
    "final_model.add(Dense(1, init='glorot_normal', activation='tanh'))    \n",
    "final_model.compile(loss='binary_crossentropy', optimizer=adam, metrics=['accuracy'])    \n",
    "\n",
    "history=final_model.fit([X1, X2, X3, X4, X5, X6, **X7, X8, X9**], y, validation_split=0.2, nb_epoch=80, **batch_size=8**,verbose=0, callbacks=[callbacks1,callbacks3]) \n"
   ]
  },
  {
   "cell_type": "markdown",
   "metadata": {},
   "source": [
    "### Model635      \n",
    "\n",
    "callbacks1=EarlyStopping(monitor='loss', mode='auto', patience=30,verbose=0)   \n",
    "callbacks3=ModelCheckpoint('m508_Weights.{epoch:02d}-{val_acc:.2f}.hdf5',monitor='val_acc', verbose=0, save_best_only=True, save_weights_only=False, mode='auto')   \n",
    "\n",
    "adam=Adam(**lr=0.000001**, beta_1=0.9, beta_2=0.999, epsilon=1e-08, decay=1e-04)   \n",
    "\n",
    "model5=Sequential()    \n",
    "model5.add(Convolution3D(10, 3, 3, 3, input_shape=(16, 16, 16,1), border_mode='valid', init='he_normal',**W_regularizer=l2(.05)**))    \n",
    "model5.add(BatchNormalization())    \n",
    "model5.add(Activation('relu'))    \n",
    "**model5.add(Convolution3D(10, 3, 3, 3, border_mode='valid', init='he_normal',**W_regularizer=l2(.05)**))    \n",
    "model5.add(BatchNormalization())    \n",
    "model5.add(Activation('relu'))**    \n",
    "\n",
    "model5.add(Flatten())    \n",
    "model5.add(Dropout(0.2))    \n",
    "model5.add(Dense(20, init='glorot_normal', activation='tanh'**, W_regularizer=l2(.05)**))    \n",
    "\n",
    "merged = Merge([model1, model2, model3, model4, model5], mode='concat')    \n",
    "final_model = Sequential()    \n",
    "final_model.add(merged)    \n",
    "final_model.add(Dense(**10**, init='glorot_normal', activation='tanh',**W_regularizer=l2(.05)**))    \n",
    "**final_model.add(Dense(10, init='glorot_normal', activation='tanh',W_regularizer=l2(.05)))**    \n",
    "final_model.add(Dense(1, init='glorot_normal', activation='tanh'))    \n",
    "final_model.compile(loss='binary_crossentropy', optimizer=adam, metrics=['accuracy'])    \n",
    "\n",
    "history=final_model.fit([X1, X2, X3, X4, X5], y, validation_split=0.2, nb_epoch=80, **batch_size=8**,verbose=0, callbacks=[callbacks1,callbacks3]) \n"
   ]
  },
  {
   "cell_type": "markdown",
   "metadata": {},
   "source": [
    "### Model636      \n",
    "\n",
    "callbacks1=EarlyStopping(monitor='loss', mode='auto', patience=30,verbose=0)   \n",
    "callbacks3=ModelCheckpoint('m508_Weights.{epoch:02d}-{val_acc:.2f}.hdf5',monitor='val_acc', verbose=0, save_best_only=True, save_weights_only=False, mode='auto')   \n",
    "\n",
    "adam=Adam(**lr=0.0000005**, beta_1=0.9, beta_2=0.999, epsilon=1e-08, decay=1e-04)   \n",
    "\n",
    "model5=Sequential()    \n",
    "model5.add(Convolution3D(10, 3, 3, 3, input_shape=(16, 16, 16,1), border_mode='valid', init='he_normal',**W_regularizer=l2(.05)**))    \n",
    "model5.add(BatchNormalization())    \n",
    "model5.add(Activation('relu'))    \n",
    "**model5.add(Convolution3D(10, 3, 3, 3, border_mode='valid', init='he_normal',**W_regularizer=l2(.05)**))    \n",
    "model5.add(BatchNormalization())    \n",
    "model5.add(Activation('relu'))**    \n",
    "\n",
    "model5.add(Flatten())    \n",
    "model5.add(Dropout(0.2))    \n",
    "model5.add(Dense(20, init='glorot_normal', activation='tanh'**, W_regularizer=l2(.05)**))    \n",
    "\n",
    "merged = Merge([model1, model2, model3, model4, model5], mode='concat')    \n",
    "final_model = Sequential()    \n",
    "final_model.add(merged)    \n",
    "final_model.add(Dense(**10**, init='glorot_normal', activation='tanh',**W_regularizer=l2(.05)**))    \n",
    "**final_model.add(Dense(10, init='glorot_normal', activation='tanh',W_regularizer=l2(.05)))**    \n",
    "final_model.add(Dense(1, init='glorot_normal', activation='tanh'))    \n",
    "final_model.compile(loss='binary_crossentropy', optimizer=adam, metrics=['accuracy'])    \n",
    "\n",
    "history=final_model.fit([X1, X2, X3, X4, X5], y, validation_split=0.2, nb_epoch=80, **batch_size=8**,verbose=0, callbacks=[callbacks1,callbacks3]) \n"
   ]
  },
  {
   "cell_type": "markdown",
   "metadata": {},
   "source": [
    "### Model637      \n",
    "\n",
    "callbacks1=EarlyStopping(monitor='loss', mode='auto', patience=30,verbose=0)   \n",
    "callbacks3=ModelCheckpoint('m508_Weights.{epoch:02d}-{val_acc:.2f}.hdf5',monitor='val_acc', verbose=0, save_best_only=True, save_weights_only=False, mode='auto')   \n",
    "\n",
    "adam=Adam(**lr=0.0000001**, beta_1=0.9, beta_2=0.999, epsilon=1e-08, decay=1e-04)   \n",
    "\n",
    "model5=Sequential()    \n",
    "model5.add(Convolution3D(10, 3, 3, 3, input_shape=(16, 16, 16,1), border_mode='valid', init='he_normal',**W_regularizer=l2(.05)**))    \n",
    "model5.add(BatchNormalization())    \n",
    "model5.add(Activation('relu'))    \n",
    "**model5.add(Convolution3D(10, 3, 3, 3, border_mode='valid', init='he_normal',**W_regularizer=l2(.05)**))    \n",
    "model5.add(BatchNormalization())    \n",
    "model5.add(Activation('relu'))**    \n",
    "\n",
    "model5.add(Flatten())    \n",
    "model5.add(Dropout(0.2))    \n",
    "model5.add(Dense(20, init='glorot_normal', activation='tanh'**, W_regularizer=l2(.05)**))    \n",
    "\n",
    "merged = Merge([model1, model2, model3, model4, model5], mode='concat')    \n",
    "final_model = Sequential()    \n",
    "final_model.add(merged)    \n",
    "final_model.add(Dense(**10**, init='glorot_normal', activation='tanh',**W_regularizer=l2(.05)**))    \n",
    "**final_model.add(Dense(10, init='glorot_normal', activation='tanh',W_regularizer=l2(.05)))**    \n",
    "final_model.add(Dense(1, init='glorot_normal', activation='tanh'))    \n",
    "final_model.compile(loss='binary_crossentropy', optimizer=adam, metrics=['accuracy'])    \n",
    "\n",
    "history=final_model.fit([X1, X2, X3, X4, X5], y, validation_split=0.2, nb_epoch=80, **batch_size=8**,verbose=0, callbacks=[callbacks1,callbacks3]) \n"
   ]
  },
  {
   "cell_type": "markdown",
   "metadata": {
    "collapsed": true
   },
   "source": [
    "### Model638      \n",
    "\n",
    "callbacks1=EarlyStopping(monitor='loss', mode='auto', patience=30,verbose=0)   \n",
    "callbacks3=ModelCheckpoint('m508_Weights.{epoch:02d}-{val_acc:.2f}.hdf5',monitor='val_acc', verbose=0, save_best_only=True, save_weights_only=False, mode='auto')   \n",
    "\n",
    "adam=Adam(**lr=0.000005**, beta_1=0.9, beta_2=0.999, epsilon=1e-08, decay=1e-04)   \n",
    "\n",
    "model5=Sequential()    \n",
    "model5.add(Convolution3D(10, 3, 3, 3, input_shape=(16, 16, 16,1), border_mode='valid', init='he_normal',**W_regularizer=l2(.05)**))    \n",
    "model5.add(BatchNormalization())    \n",
    "model5.add(Activation('relu'))    \n",
    "model5.add(Flatten())    \n",
    "model5.add(Dropout(0.2))    \n",
    "model5.add(Dense(20, init='glorot_normal', activation='tanh'**, W_regularizer=l2(.05)**))    \n",
    "\n",
    "merged = Merge([model1, model2, model3, model4, model5], mode='concat')    \n",
    "final_model = Sequential()    \n",
    "final_model.add(merged)    \n",
    "final_model.add(Dense(**10**, init='glorot_normal', activation=**'relu'**,W_regularizer=l2(.05)))    \n",
    "final_model.add(Dense(1, init='glorot_normal', activation=**'relu'**))    \n",
    "final_model.compile(loss='binary_crossentropy', optimizer=adam, metrics=['accuracy'])    \n",
    "\n",
    "history=final_model.fit([X1, X2, X3, X4, X5], y, validation_split=0.2, nb_epoch=80, **batch_size=8**,verbose=0, callbacks=[callbacks1,callbacks3]) \n"
   ]
  },
  {
   "cell_type": "code",
   "execution_count": null,
   "metadata": {
    "collapsed": true
   },
   "outputs": [],
   "source": [
    "class Callback(object):\n",
    "    '''Abstract base class used to build new callbacks.\n",
    "    # Properties\n",
    "        params: dict. Training parameters\n",
    "            (eg. verbosity, batch size, number of epochs...).\n",
    "        model: instance of `keras.models.Model`.\n",
    "            Reference of the model being trained.\n",
    "    The `logs` dictionary that callback methods\n",
    "    take as argument will contain keys for quantities relevant to\n",
    "    the current batch or epoch.\n",
    "    Currently, the `.fit()` method of the `Sequential` model class\n",
    "    will include the following quantities in the `logs` that\n",
    "    it passes to its callbacks:\n",
    "        on_epoch_end: logs include `acc` and `loss`, and\n",
    "            optionally include `val_loss`\n",
    "            (if validation is enabled in `fit`), and `val_acc`\n",
    "            (if validation and accuracy monitoring are enabled).\n",
    "        on_batch_begin: logs include `size`,\n",
    "            the number of samples in the current batch.\n",
    "        on_batch_end: logs include `loss`, and optionally `acc`\n",
    "            (if accuracy monitoring is enabled).\n",
    "    '''\n",
    "    def __init__(self):\n",
    "        pass\n",
    "\n",
    "    def _set_params(self, params):\n",
    "        self.params = params\n",
    "\n",
    "    def _set_model(self, model):\n",
    "        self.model = model\n",
    "\n",
    "    def on_epoch_begin(self, epoch, logs={}):\n",
    "        pass\n",
    "\n",
    "    def on_epoch_end(self, epoch, logs={}):\n",
    "        pass\n",
    "\n",
    "    def on_batch_begin(self, batch, logs={}):\n",
    "        pass\n",
    "\n",
    "    def on_batch_end(self, batch, logs={}):\n",
    "        pass\n",
    "\n",
    "    def on_train_begin(self, logs={}):\n",
    "        pass\n",
    "\n",
    "    def on_train_end(self, logs={}):\n",
    "        pass"
   ]
  },
  {
   "cell_type": "code",
   "execution_count": null,
   "metadata": {
    "collapsed": false
   },
   "outputs": [],
   "source": [
    "class ReduceLROnPlateau(Callback):\n",
    "    '''Reduce learning rate when a metric has stopped improving.\n",
    "    Models often benefit from reducing the learning rate by a factor\n",
    "    of 2-10 once learning stagnates. This callback monitors a\n",
    "    quantity and if no improvement is seen for a 'patience' number\n",
    "    of epochs, the learning rate is reduced.\n",
    "    # Example\n",
    "        ```python\n",
    "            reduce_lr = ReduceLROnPlateau(monitor='val_loss', factor=0.2,\n",
    "                                          patience=5, min_lr=0.001)\n",
    "            model.fit(X_train, Y_train, callbacks=[reduce_lr])\n",
    "        ```\n",
    "    # Arguments\n",
    "        monitor: quantity to be monitored.\n",
    "        factor: factor by which the learning rate will\n",
    "            be reduced. new_lr = lr * factor\n",
    "        patience: number of epochs with no improvement\n",
    "            after which learning rate will be reduced.\n",
    "        verbose: int. 0: quiet, 1: update messages.\n",
    "        mode: one of {auto, min, max}. In `min` mode,\n",
    "            lr will be reduced when the quantity\n",
    "            monitored has stopped decreasing; in `max`\n",
    "            mode it will be reduced when the quantity\n",
    "            monitored has stopped increasing; in `auto`\n",
    "            mode, the direction is automatically inferred\n",
    "            from the name of the monitored quantity.\n",
    "        epsilon: threshold for measuring the new optimum,\n",
    "            to only focus on significant changes.\n",
    "        cooldown: number of epochs to wait before resuming\n",
    "            normal operation after lr has been reduced.\n",
    "        min_lr: lower bound on the learning rate.\n",
    "    '''\n",
    "\n",
    "    def __init__(self, monitor='val_loss', factor=0.1, patience=10,\n",
    "                 verbose=0, mode='auto', epsilon=1e-4, cooldown=0, min_lr=0):\n",
    "        super(Callback, self).__init__()\n",
    "\n",
    "        self.monitor = monitor\n",
    "        if factor >= 1.0:\n",
    "            raise ValueError('ReduceLROnPlateau does not support a factor >= 1.0.')\n",
    "        self.factor = factor\n",
    "        self.min_lr = min_lr\n",
    "        self.epsilon = epsilon\n",
    "        self.patience = patience\n",
    "        self.verbose = verbose\n",
    "        self.cooldown = cooldown\n",
    "        self.cooldown_counter = 0  # Cooldown counter.\n",
    "        self.wait = 0\n",
    "        self.best = 0\n",
    "        self.mode = mode\n",
    "        self.monitor_op = None\n",
    "        self.reset()\n",
    "\n",
    "    def reset(self):\n",
    "        if self.mode not in ['auto', 'min', 'max']:\n",
    "            warnings.warn('Learning Rate Plateau Reducing mode %s is unknown, '\n",
    "                          'fallback to auto mode.' % (self.mode), RuntimeWarning)\n",
    "            self.mode = 'auto'\n",
    "        if self.mode == 'min' or (self.mode == 'auto' and 'acc' not in self.monitor):\n",
    "            self.monitor_op = lambda a, b: np.less(a, b - self.epsilon)\n",
    "            self.best = np.Inf\n",
    "        else:\n",
    "            self.monitor_op = lambda a, b: np.greater(a, b + self.epsilon)\n",
    "            self.best = -np.Inf\n",
    "        self.cooldown_counter = 0\n",
    "        self.wait = 0\n",
    "        self.lr_epsilon = self.min_lr * 1e-4\n",
    "\n",
    "    def on_train_begin(self, logs={}):\n",
    "        self.reset()\n",
    "\n",
    "    def on_epoch_end(self, epoch, logs={}):\n",
    "        logs['lr'] = K.get_value(self.model.optimizer.lr)\n",
    "        current = logs.get(self.monitor)\n",
    "        if current is None:\n",
    "            warnings.warn('Learning Rate Plateau Reducing requires %s available!' %\n",
    "                          self.monitor, RuntimeWarning)\n",
    "        else:\n",
    "            if self.in_cooldown():\n",
    "                self.cooldown_counter -= 1\n",
    "                self.wait = 0\n",
    "\n",
    "            if self.monitor_op(current, self.best):\n",
    "                self.best = current\n",
    "                self.wait = 0\n",
    "            elif not self.in_cooldown():\n",
    "                if self.wait >= self.patience:\n",
    "                    old_lr = float(K.get_value(self.model.optimizer.lr))\n",
    "                    if old_lr > self.min_lr + self.lr_epsilon:\n",
    "                        new_lr = old_lr * self.factor\n",
    "                        new_lr = max(new_lr, self.min_lr)\n",
    "                        K.set_value(self.model.optimizer.lr, new_lr)\n",
    "                        if self.verbose > 0:\n",
    "                            print('\\nEpoch %05d: reducing learning rate to %s.' % (epoch, new_lr))\n",
    "                        self.cooldown_counter = self.cooldown\n",
    "                        self.wait = 0\n",
    "                self.wait += 1\n",
    "\n",
    "    def in_cooldown(self):\n",
    "        return self.cooldown_counter > 0"
   ]
  },
  {
   "cell_type": "code",
   "execution_count": null,
   "metadata": {
    "collapsed": true
   },
   "outputs": [],
   "source": [
    "# To load a model\n",
    "\n",
    "from keras.models import load_model\n",
    "from sklearn.metrics import confusion_matrix\n",
    "from sklearn.metrics import  accuracy_score\n",
    "\n",
    "model=load_model('m504a.h5')\n",
    "\n",
    "y_predC=model.predict_classes([X1test, X2test, X3test, X4test, X5test])\n",
    "y_predC=np.squeeze(y_predC)\n",
    "\n",
    "namesTest=pd.read_csv('scansTestFold1/scansNamesTestFold1.csv')\n",
    "namesTestDF=pd.DataFrame(namesTest)\n",
    "y_true=namesTestDF.label.values.astype(int)\n",
    "\n",
    "print accuracy_score(y_true,y_predC)\n",
    "confusion_matrix(y_true,y_predC)"
   ]
  }
 ],
 "metadata": {
  "kernelspec": {
   "display_name": "Python 2",
   "language": "python",
   "name": "python2"
  },
  "language_info": {
   "codemirror_mode": {
    "name": "ipython",
    "version": 2
   },
   "file_extension": ".py",
   "mimetype": "text/x-python",
   "name": "python",
   "nbconvert_exporter": "python",
   "pygments_lexer": "ipython2",
   "version": "2.7.12"
  }
 },
 "nbformat": 4,
 "nbformat_minor": 0
}
