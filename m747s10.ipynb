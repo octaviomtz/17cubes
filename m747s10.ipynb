{
 "cells": [
  {
   "cell_type": "code",
   "execution_count": 1,
   "metadata": {
    "collapsed": true
   },
   "outputs": [],
   "source": [
    "import scipy.io\n",
    "import numpy as np, h5py\n",
    "import matplotlib.pyplot as plt\n",
    "import copy\n",
    "import pandas as pd\n",
    "import pickle\n",
    "%matplotlib inline"
   ]
  },
  {
   "cell_type": "code",
   "execution_count": 8,
   "metadata": {
    "collapsed": true
   },
   "outputs": [],
   "source": [
    "from pylab import rcParams\n",
    "rcParams['figure.figsize'] = 10, 5\n",
    "rcParams['figure.dpi']=150\n",
    "rcParams['lines.linewidth']=1\n",
    "rcParams['axes.grid']=True\n",
    "rcParams['axes.facecolor']='#FFFFFF'\n",
    "rcParams['font.size']=14\n",
    "rcParams['patch.edgecolor']='#000000'"
   ]
  },
  {
   "cell_type": "code",
   "execution_count": 3,
   "metadata": {
    "collapsed": true
   },
   "outputs": [],
   "source": [
    "# fix random seed for reproducibility\n",
    "seed = 7\n",
    "np.random.seed(seed)"
   ]
  },
  {
   "cell_type": "code",
   "execution_count": 4,
   "metadata": {
    "collapsed": true
   },
   "outputs": [],
   "source": [
    "def readScan(scan):\n",
    "    # We read the file saved in Matlab. There is only one variable in the file called scansMini\n",
    "    data = h5py.File(scan, 'r')\n",
    "    Xscans=data.get('scansMini')\n",
    "    # We have to get the values into the right format (subjects, dim1, dim2, dim3, channels)\n",
    "    X=copy.copy(Xscans.value)\n",
    "    X=np.expand_dims(X,4)\n",
    "    X1=np.rollaxis(X,3)\n",
    "    return X1"
   ]
  },
  {
   "cell_type": "code",
   "execution_count": 5,
   "metadata": {
    "collapsed": true
   },
   "outputs": [],
   "source": [
    "def readLabels(labels):\n",
    "    data = h5py.File(labels, 'r')\n",
    "    Xscans=data.get('labels')\n",
    "    X=copy.copy(Xscans.value)\n",
    "    X2=np.squeeze(X).astype(int)\n",
    "    return X2"
   ]
  },
  {
   "cell_type": "code",
   "execution_count": 6,
   "metadata": {
    "collapsed": false
   },
   "outputs": [],
   "source": [
    "y=readLabels('fold1/train/labelsTrain.mat')\n",
    "X1=readScan('fold1/train/scansMiniTrain1.mat')\n",
    "X2=readScan('fold1/train/scansMiniTrain2.mat')\n",
    "X3=readScan('fold1/train/scansMiniTrain3.mat')\n",
    "X4=readScan('fold1/train/scansMiniTrain4.mat')\n",
    "X5=readScan('fold1/train/scansMiniTrain5.mat')\n",
    "X6=readScan('fold1/train/scansMiniTrain6.mat')\n",
    "X7=readScan('fold1/train/scansMiniTrain7.mat')\n",
    "X8=readScan('fold1/train/scansMiniTrain8.mat')\n",
    "X9=readScan('fold1/train/scansMiniTrain9.mat')\n",
    "X10=readScan('fold1/train/scansMiniTrain10.mat')\n",
    "X11=readScan('fold1/train/scansMiniTrain11.mat')\n",
    "X12=readScan('fold1/train/scansMiniTrain12.mat')\n",
    "X13=readScan('fold1/train/scansMiniTrain13.mat')\n",
    "X14=readScan('fold1/train/scansMiniTrain14.mat')\n",
    "X15=readScan('fold1/train/scansMiniTrain15.mat')\n",
    "X16=readScan('fold1/train/scansMiniTrain16.mat')\n",
    "X17=readScan('fold1/train/scansMiniTrain17.mat')"
   ]
  },
  {
   "cell_type": "code",
   "execution_count": 9,
   "metadata": {
    "collapsed": false
   },
   "outputs": [
    {
     "data": {
      "image/png": "[encoded data removed]",
      "text/plain": [
       "<matplotlib.figure.Figure at 0x7eff82423410>"
      ]
     },
     "metadata": {},
     "output_type": "display_data"
    }
   ],
   "source": [
    "x1=np.squeeze(X1[:,:,:,:,0])\n",
    "side1=x1.shape[1]\n",
    "x1Values=(np.reshape(x1,[248*side1*side1*side1]))\n",
    "n, bins, patches = plt.hist(x1Values, 50, normed=1, facecolor='green', alpha=0.75)"
   ]
  },
  {
   "cell_type": "code",
   "execution_count": 10,
   "metadata": {
    "collapsed": true
   },
   "outputs": [],
   "source": [
    "X1=np.multiply(X1,10)\n",
    "X2=np.multiply(X2,10)\n",
    "X3=np.multiply(X3,10)\n",
    "X4=np.multiply(X4,10)\n",
    "X5=np.multiply(X5,10)\n",
    "X6=np.multiply(X6,10)\n",
    "X7=np.multiply(X7,10)\n",
    "X8=np.multiply(X8,10)\n",
    "X9=np.multiply(X9,10)\n",
    "X10=np.multiply(X10,10)\n",
    "X11=np.multiply(X11,10)\n",
    "X12=np.multiply(X12,10)\n",
    "X13=np.multiply(X13,10)\n",
    "X14=np.multiply(X14,10)\n",
    "X15=np.multiply(X15,10)\n",
    "X16=np.multiply(X16,10)\n",
    "X17=np.multiply(X17,10)"
   ]
  },
  {
   "cell_type": "code",
   "execution_count": 11,
   "metadata": {
    "collapsed": false
   },
   "outputs": [
    {
     "data": {
      "image/png": "[encoded data removed]",
      "text/plain": [
       "<matplotlib.figure.Figure at 0x7eff7fbf7690>"
      ]
     },
     "metadata": {},
     "output_type": "display_data"
    }
   ],
   "source": [
    "x1=np.squeeze(X1[:,:,:,:,0])\n",
    "side1=x1.shape[1]\n",
    "x1Values=(np.reshape(x1,[248*side1*side1*side1]))\n",
    "n, bins, patches = plt.hist(x1Values, 50, normed=1, facecolor='green', alpha=0.75)"
   ]
  },
  {
   "cell_type": "code",
   "execution_count": 12,
   "metadata": {
    "collapsed": false
   },
   "outputs": [
    {
     "data": {
      "text/plain": [
       "<matplotlib.collections.PolyCollection at 0x7eff7f9e60d0>"
      ]
     },
     "execution_count": 12,
     "metadata": {},
     "output_type": "execute_result"
    },
    {
     "data": {
      "image/png": "[encoded data removed]",
      "text/plain": [
       "<matplotlib.figure.Figure at 0x7eff820e1110>"
      ]
     },
     "metadata": {},
     "output_type": "display_data"
    }
   ],
   "source": [
    "f, (ax1, ax2) = plt.subplots(1, 2, sharey=True)\n",
    "ax1.pcolor((X1[10,:,:,0,0]))\n",
    "ax1.set_title('Sharing Y axis')\n",
    "ax2.pcolor((X2[10,:,:,0,0]))"
   ]
  },
  {
   "cell_type": "code",
   "execution_count": 13,
   "metadata": {
    "collapsed": false
   },
   "outputs": [
    {
     "data": {
      "text/plain": [
       "(248, 10, 10, 10, 1)"
      ]
     },
     "execution_count": 13,
     "metadata": {},
     "output_type": "execute_result"
    }
   ],
   "source": [
    "X1.shape"
   ]
  },
  {
   "cell_type": "markdown",
   "metadata": {},
   "source": [
    "---"
   ]
  },
  {
   "cell_type": "markdown",
   "metadata": {},
   "source": [
    "## Keras libraries"
   ]
  },
  {
   "cell_type": "code",
   "execution_count": 14,
   "metadata": {
    "collapsed": false
   },
   "outputs": [
    {
     "name": "stderr",
     "output_type": "stream",
     "text": [
      "Using TensorFlow backend.\n"
     ]
    }
   ],
   "source": [
    "from keras.models import Sequential\n",
    "from keras.layers import Dense\n",
    "from keras.layers import Merge\n",
    "from keras.layers.convolutional import Convolution3D\n",
    "from keras.layers.pooling import MaxPooling3D\n",
    "from keras.layers.core import Dense, Flatten\n",
    "from keras.layers import Dropout\n",
    "from keras.optimizers import Adam\n",
    "from keras.optimizers import SGD\n",
    "from keras.wrappers.scikit_learn import KerasClassifier\n",
    "from keras.callbacks import EarlyStopping\n",
    "import time"
   ]
  },
  {
   "cell_type": "code",
   "execution_count": 15,
   "metadata": {
    "collapsed": false
   },
   "outputs": [],
   "source": [
    "import keras.backend as K\n",
    "from keras.callbacks import ModelCheckpoint\n",
    "from keras.callbacks import LearningRateScheduler\n",
    "from keras.layers import Activation\n",
    "from keras.layers.normalization import BatchNormalization\n",
    "from keras.regularizers import l2\n",
    "import math"
   ]
  },
  {
   "cell_type": "markdown",
   "metadata": {
    "collapsed": true
   },
   "source": [
    "---"
   ]
  },
  {
   "cell_type": "markdown",
   "metadata": {},
   "source": [
    "## The model"
   ]
  },
  {
   "cell_type": "code",
   "execution_count": 16,
   "metadata": {
    "collapsed": true
   },
   "outputs": [],
   "source": [
    "adam=Adam(lr=0.000005, beta_1=0.9, beta_2=0.999, epsilon=1e-08, decay=1e-04)"
   ]
  },
  {
   "cell_type": "code",
   "execution_count": 20,
   "metadata": {
    "collapsed": true
   },
   "outputs": [],
   "source": [
    "final_model.reset_states()\n",
    "model1.reset_states()\n",
    "model2.reset_states()\n",
    "model3.reset_states()\n",
    "model4.reset_states()\n",
    "model5.reset_states()\n",
    "model6.reset_states()\n",
    "model7.reset_states()\n",
    "model8.reset_states()\n",
    "model9.reset_states()\n",
    "model10.reset_states()\n",
    "model11.reset_states()\n",
    "model12.reset_states()\n",
    "model13.reset_states()\n",
    "model14.reset_states()\n",
    "model15.reset_states()\n",
    "model16.reset_states()\n",
    "model17.reset_states()"
   ]
  },
  {
   "cell_type": "code",
   "execution_count": 21,
   "metadata": {
    "collapsed": false
   },
   "outputs": [],
   "source": [
    "model1=Sequential()\n",
    "model1.add(Convolution3D(10, 3, 3, 3, input_shape=(10, 10, 10 ,1), border_mode='valid', init='he_normal', W_regularizer=l2(.05)))\n",
    "model1.add(BatchNormalization())\n",
    "model1.add(Convolution3D(10, 3, 3, 3, border_mode='valid', init='he_normal', W_regularizer=l2(.05)))\n",
    "model1.add(BatchNormalization())\n",
    "model1.add(Activation('relu'))\n",
    "model1.add(Flatten())\n",
    "model1.add(Dropout(0.2))\n",
    "model1.add(Dense(20, init='glorot_normal', activation='relu', W_regularizer=l2(.05)))\n",
    "\n",
    "model2=Sequential()\n",
    "model2.add(Convolution3D(10, 3, 3, 3, input_shape=(10, 10, 10 ,1), border_mode='valid',  init='he_normal',W_regularizer=l2(.05)))\n",
    "model2.add(BatchNormalization())\n",
    "model2.add(Convolution3D(10, 3, 3, 3, border_mode='valid', init='he_normal', W_regularizer=l2(.05)))\n",
    "model2.add(BatchNormalization())\n",
    "model2.add(Activation('relu'))\n",
    "model2.add(Flatten())\n",
    "model2.add(Dropout(0.2))\n",
    "model2.add(Dense(20, init='glorot_normal', activation='relu', W_regularizer=l2(.05)))\n",
    "\n",
    "model3=Sequential()\n",
    "model3.add(Convolution3D(10, 3, 3, 3, input_shape=(10, 10, 10 ,1), border_mode='valid',  init='he_normal',W_regularizer=l2(.05)))\n",
    "model3.add(BatchNormalization())\n",
    "model3.add(Convolution3D(10, 3, 3, 3, border_mode='valid', init='he_normal', W_regularizer=l2(.05)))\n",
    "model3.add(BatchNormalization())\n",
    "model3.add(Activation('relu'))\n",
    "model3.add(Flatten())\n",
    "model3.add(Dropout(0.2))\n",
    "model3.add(Dense(20, init='glorot_normal', activation='relu', W_regularizer=l2(.05)))\n",
    "\n",
    "model4=Sequential()\n",
    "model4.add(Convolution3D(10, 3, 3, 3, input_shape=(10, 10, 10 ,1), border_mode='valid',  init='he_normal',W_regularizer=l2(.05)))\n",
    "model4.add(BatchNormalization())\n",
    "model4.add(Convolution3D(10, 3, 3, 3, border_mode='valid', init='he_normal', W_regularizer=l2(.05)))\n",
    "model4.add(BatchNormalization())\n",
    "model4.add(Activation('relu'))\n",
    "model4.add(Flatten())\n",
    "model4.add(Dropout(0.2))\n",
    "model4.add(Dense(20, init='glorot_normal', activation='relu', W_regularizer=l2(.05)))\n",
    "\n",
    "model5=Sequential()\n",
    "model5.add(Convolution3D(10, 3, 3, 3, input_shape=(10, 10, 10 ,1), border_mode='valid', init='he_normal',W_regularizer=l2(.05)))\n",
    "model5.add(BatchNormalization())\n",
    "model5.add(Convolution3D(10, 3, 3, 3, border_mode='valid', init='he_normal', W_regularizer=l2(.05)))\n",
    "model5.add(BatchNormalization())\n",
    "model5.add(Activation('relu'))\n",
    "model5.add(Flatten())\n",
    "model5.add(Dropout(0.2))\n",
    "model5.add(Dense(20, init='glorot_normal', activation='relu', W_regularizer=l2(.05)))\n",
    "\n",
    "model6=Sequential()\n",
    "model6.add(Convolution3D(10, 3, 3, 3, input_shape=(10, 10, 10 ,1), border_mode='valid', init='he_normal',W_regularizer=l2(.05)))\n",
    "model6.add(BatchNormalization())\n",
    "model6.add(Convolution3D(10, 3, 3, 3, border_mode='valid', init='he_normal', W_regularizer=l2(.05)))\n",
    "model6.add(BatchNormalization())\n",
    "model6.add(Activation('relu'))\n",
    "model6.add(Flatten())\n",
    "model6.add(Dropout(0.2))\n",
    "model6.add(Dense(20, init='glorot_normal', activation='relu', W_regularizer=l2(.05)))\n",
    "\n",
    "model7=Sequential()\n",
    "model7.add(Convolution3D(10, 3, 3, 3, input_shape=(10, 10, 10 ,1), border_mode='valid', init='he_normal',W_regularizer=l2(.05)))\n",
    "model7.add(BatchNormalization())\n",
    "model7.add(Convolution3D(10, 3, 3, 3, border_mode='valid', init='he_normal', W_regularizer=l2(.05)))\n",
    "model7.add(BatchNormalization())\n",
    "model7.add(Activation('relu'))\n",
    "model7.add(Flatten())\n",
    "model7.add(Dropout(0.2))\n",
    "model7.add(Dense(20, init='glorot_normal', activation='relu', W_regularizer=l2(.05)))\n",
    "\n",
    "model8=Sequential()\n",
    "model8.add(Convolution3D(10, 3, 3, 3, input_shape=(10, 10, 10 ,1), border_mode='valid', init='he_normal',W_regularizer=l2(.05)))\n",
    "model8.add(BatchNormalization())\n",
    "model8.add(Convolution3D(10, 3, 3, 3, border_mode='valid', init='he_normal', W_regularizer=l2(.05)))\n",
    "model8.add(BatchNormalization())\n",
    "model8.add(Activation('relu'))\n",
    "model8.add(Flatten())\n",
    "model8.add(Dropout(0.2))\n",
    "model8.add(Dense(20, init='glorot_normal', activation='relu', W_regularizer=l2(.05)))\n",
    "\n",
    "model9=Sequential()\n",
    "model9.add(Convolution3D(10, 3, 3, 3, input_shape=(10, 10, 10 ,1), border_mode='valid', init='he_normal',W_regularizer=l2(.05)))\n",
    "model9.add(BatchNormalization())\n",
    "model9.add(Convolution3D(10, 3, 3, 3, border_mode='valid', init='he_normal', W_regularizer=l2(.05)))\n",
    "model9.add(BatchNormalization())\n",
    "model9.add(Activation('relu'))\n",
    "model9.add(Flatten())\n",
    "model9.add(Dropout(0.2))\n",
    "model9.add(Dense(20, init='glorot_normal', activation='relu', W_regularizer=l2(.05)))\n",
    "\n",
    "model10=Sequential()\n",
    "model10.add(Convolution3D(10, 3, 3, 3, input_shape=(10, 10, 10 ,1), border_mode='valid', init='he_normal',W_regularizer=l2(.05)))\n",
    "model10.add(BatchNormalization())\n",
    "model10.add(Convolution3D(10, 3, 3, 3, border_mode='valid', init='he_normal', W_regularizer=l2(.05)))\n",
    "model10.add(BatchNormalization())\n",
    "model10.add(Activation('relu'))\n",
    "model10.add(Flatten())\n",
    "model10.add(Dropout(0.2))\n",
    "model10.add(Dense(20, init='glorot_normal', activation='relu', W_regularizer=l2(.05)))\n",
    "\n",
    "model11=Sequential()\n",
    "model11.add(Convolution3D(10, 3, 3, 3, input_shape=(10, 10, 10 ,1), border_mode='valid', init='he_normal',W_regularizer=l2(.05)))\n",
    "model11.add(BatchNormalization())\n",
    "model11.add(Convolution3D(10, 3, 3, 3, border_mode='valid', init='he_normal', W_regularizer=l2(.05)))\n",
    "model11.add(BatchNormalization())\n",
    "model11.add(Activation('relu'))\n",
    "model11.add(Flatten())\n",
    "model11.add(Dropout(0.2))\n",
    "model11.add(Dense(20, init='glorot_normal', activation='relu', W_regularizer=l2(.05)))\n",
    "\n",
    "model12=Sequential()\n",
    "model12.add(Convolution3D(10, 3, 3, 3, input_shape=(10, 10, 10 ,1), border_mode='valid', init='he_normal', W_regularizer=l2(.05)))\n",
    "model12.add(BatchNormalization())\n",
    "model12.add(Convolution3D(10, 3, 3, 3, border_mode='valid', init='he_normal', W_regularizer=l2(.05)))\n",
    "model12.add(BatchNormalization())\n",
    "model12.add(Activation('relu'))\n",
    "model12.add(Flatten())\n",
    "model12.add(Dropout(0.2))\n",
    "model12.add(Dense(20, init='glorot_normal', activation='relu', W_regularizer=l2(.05)))\n",
    "\n",
    "model13=Sequential()\n",
    "model13.add(Convolution3D(10, 3, 3, 3, input_shape=(10, 10, 10 ,1), border_mode='valid', init='he_normal', W_regularizer=l2(.05)))\n",
    "model13.add(BatchNormalization())\n",
    "model13.add(Convolution3D(10, 3, 3, 3, border_mode='valid', init='he_normal', W_regularizer=l2(.05)))\n",
    "model13.add(BatchNormalization())\n",
    "model13.add(Activation('relu'))\n",
    "model13.add(Flatten())\n",
    "model13.add(Dropout(0.2))\n",
    "model13.add(Dense(20, init='glorot_normal', activation='relu', W_regularizer=l2(.05)))\n",
    "\n",
    "model14=Sequential()\n",
    "model14.add(Convolution3D(10, 3, 3, 3, input_shape=(10, 10, 10 ,1), border_mode='valid', init='he_normal', W_regularizer=l2(.05)))\n",
    "model14.add(BatchNormalization())\n",
    "model14.add(Convolution3D(10, 3, 3, 3, border_mode='valid', init='he_normal', W_regularizer=l2(.05)))\n",
    "model14.add(BatchNormalization())\n",
    "model14.add(Activation('relu'))\n",
    "model14.add(Flatten())\n",
    "model14.add(Dropout(0.2))\n",
    "model14.add(Dense(20, init='glorot_normal', activation='relu', W_regularizer=l2(.05)))\n",
    "\n",
    "model15=Sequential()\n",
    "model15.add(Convolution3D(10, 3, 3, 3, input_shape=(10, 10, 10 ,1), border_mode='valid', init='he_normal', W_regularizer=l2(.05)))\n",
    "model15.add(BatchNormalization())\n",
    "model15.add(Convolution3D(10, 3, 3, 3, border_mode='valid', init='he_normal', W_regularizer=l2(.05)))\n",
    "model15.add(BatchNormalization())\n",
    "model15.add(Activation('relu'))\n",
    "model15.add(Flatten())\n",
    "model15.add(Dropout(0.2))\n",
    "model15.add(Dense(20, init='glorot_normal', activation='relu', W_regularizer=l2(.05)))\n",
    "\n",
    "model16=Sequential()\n",
    "model16.add(Convolution3D(10, 3, 3, 3, input_shape=(10, 10, 10 ,1), border_mode='valid', init='he_normal', W_regularizer=l2(.05)))\n",
    "model16.add(BatchNormalization())\n",
    "model16.add(Convolution3D(10, 3, 3, 3, border_mode='valid', init='he_normal', W_regularizer=l2(.05)))\n",
    "model16.add(BatchNormalization())\n",
    "model16.add(Activation('relu'))\n",
    "model16.add(Flatten())\n",
    "model16.add(Dropout(0.2))\n",
    "model16.add(Dense(20, init='glorot_normal', activation='relu', W_regularizer=l2(.05)))\n",
    "\n",
    "model17=Sequential()\n",
    "model17.add(Convolution3D(10, 3, 3, 3, input_shape=(10, 10, 10 ,1), border_mode='valid', init='he_normal', W_regularizer=l2(.05)))\n",
    "model17.add(BatchNormalization())\n",
    "model17.add(Convolution3D(10, 3, 3, 3, border_mode='valid', init='he_normal', W_regularizer=l2(.05)))\n",
    "model17.add(BatchNormalization())\n",
    "model17.add(Activation('relu'))\n",
    "model17.add(Flatten())\n",
    "model17.add(Dropout(0.2))\n",
    "model17.add(Dense(20, init='glorot_normal', activation='relu', W_regularizer=l2(.05)))\n",
    "\n",
    "merged = Merge([model1, model2, model3, model4, model5, model6, model7, model8, model9, model10, model11, model12, model13, model14, model15, model16, model17], mode='concat')\n",
    "final_model = Sequential()\n",
    "final_model.add(merged)\n",
    "final_model.add(Dense(10, init='glorot_normal', activation='relu',W_regularizer=l2(.05)))\n",
    "final_model.add(Dense(1, init='glorot_normal', activation='relu',W_regularizer=l2(.05)))\n",
    "final_model.compile(loss='binary_crossentropy', optimizer=adam, metrics=['accuracy'])"
   ]
  },
  {
   "cell_type": "code",
   "execution_count": 22,
   "metadata": {
    "collapsed": false
   },
   "outputs": [
    {
     "name": "stdout",
     "output_type": "stream",
     "text": [
      "5e-06\n"
     ]
    }
   ],
   "source": [
    "import keras.backend as K\n",
    "print K.get_value(final_model.optimizer.lr)"
   ]
  },
  {
   "cell_type": "code",
   "execution_count": 23,
   "metadata": {
    "collapsed": false
   },
   "outputs": [
    {
     "name": "stdout",
     "output_type": "stream",
     "text": [
      "Train on 198 samples, validate on 50 samples\n",
      "Epoch 1/1\n",
      "295s - loss: 53.3994 - acc: 0.4141 - val_loss: 5.1585 - val_acc: 0.6800\n",
      "Train on 198 samples, validate on 50 samples\n",
      "Epoch 1/1\n",
      "371s - loss: 53.5943 - acc: 0.4141 - val_loss: 5.1588 - val_acc: 0.6800\n",
      "Train on 198 samples, validate on 50 samples\n",
      "Epoch 1/1\n",
      "377s - loss: 52.7851 - acc: 0.4141 - val_loss: 5.1592 - val_acc: 0.6800\n",
      "Train on 198 samples, validate on 50 samples\n",
      "Epoch 1/1\n",
      "405s - loss: 52.2560 - acc: 0.4141 - val_loss: 5.1609 - val_acc: 0.6800\n",
      "Train on 198 samples, validate on 50 samples\n",
      "Epoch 1/1\n",
      "338s - loss: 51.2944 - acc: 0.4141 - val_loss: 5.1628 - val_acc: 0.6800\n",
      "Train on 198 samples, validate on 50 samples\n",
      "Epoch 1/1\n",
      "330s - loss: 50.3833 - acc: 0.4192 - val_loss: 4.8954 - val_acc: 0.6800\n",
      "Train on 198 samples, validate on 50 samples\n",
      "Epoch 1/1\n",
      "484s - loss: 50.2711 - acc: 0.4242 - val_loss: 4.6840 - val_acc: 0.6800\n",
      "Train on 198 samples, validate on 50 samples\n",
      "Epoch 1/1\n",
      "546s - loss: 48.7537 - acc: 0.4495 - val_loss: 3.9150 - val_acc: 0.6800\n",
      "Train on 198 samples, validate on 50 samples\n",
      "Epoch 1/1\n",
      "411s - loss: 48.6656 - acc: 0.4242 - val_loss: 3.1725 - val_acc: 0.6800\n",
      "Train on 198 samples, validate on 50 samples\n",
      "Epoch 1/1\n",
      "414s - loss: 47.8134 - acc: 0.4848 - val_loss: 2.8599 - val_acc: 0.6800\n",
      "Train on 198 samples, validate on 50 samples\n",
      "Epoch 1/1\n",
      "417s - loss: 47.6982 - acc: 0.4949 - val_loss: 2.5675 - val_acc: 0.6800\n",
      "Train on 198 samples, validate on 50 samples\n",
      "Epoch 1/1\n",
      "374s - loss: 47.1563 - acc: 0.4848 - val_loss: 2.5316 - val_acc: 0.6800\n",
      "Train on 198 samples, validate on 50 samples\n",
      "Epoch 1/1\n",
      "395s - loss: 47.0048 - acc: 0.5000 - val_loss: 2.2623 - val_acc: 0.6800\n",
      "Train on 198 samples, validate on 50 samples\n",
      "Epoch 1/1\n",
      "414s - loss: 46.9842 - acc: 0.5505 - val_loss: 2.2238 - val_acc: 0.6800\n",
      "Train on 198 samples, validate on 50 samples\n",
      "Epoch 1/1\n",
      "410s - loss: 47.1681 - acc: 0.5505 - val_loss: 2.1464 - val_acc: 0.6600\n",
      "Train on 198 samples, validate on 50 samples\n",
      "Epoch 1/1\n",
      "301s - loss: 46.0916 - acc: 0.5253 - val_loss: 1.8867 - val_acc: 0.6600\n",
      "Train on 198 samples, validate on 50 samples\n",
      "Epoch 1/1\n",
      "380s - loss: 45.9508 - acc: 0.5909 - val_loss: 1.8572 - val_acc: 0.6800\n",
      "Train on 198 samples, validate on 50 samples\n",
      "Epoch 1/1\n",
      "324s - loss: 46.5899 - acc: 0.5354 - val_loss: 1.8446 - val_acc: 0.7000\n",
      "Train on 198 samples, validate on 50 samples\n",
      "Epoch 1/1\n",
      "328s - loss: 45.8231 - acc: 0.5253 - val_loss: 1.8429 - val_acc: 0.7000\n",
      "Train on 198 samples, validate on 50 samples\n",
      "Epoch 1/1\n",
      "310s - loss: 45.6459 - acc: 0.5808 - val_loss: 1.5583 - val_acc: 0.6400\n",
      "Train on 198 samples, validate on 50 samples\n",
      "Epoch 1/1\n",
      "309s - loss: 45.7158 - acc: 0.5455 - val_loss: 1.5579 - val_acc: 0.6400\n",
      "Train on 198 samples, validate on 50 samples\n",
      "Epoch 1/1\n",
      "308s - loss: 45.8984 - acc: 0.5960 - val_loss: 1.5589 - val_acc: 0.6400\n",
      "Train on 198 samples, validate on 50 samples\n",
      "Epoch 1/1\n",
      "308s - loss: 45.7042 - acc: 0.6111 - val_loss: 1.5601 - val_acc: 0.6400\n",
      "Train on 198 samples, validate on 50 samples\n",
      "Epoch 1/1\n",
      "308s - loss: 45.5604 - acc: 0.5657 - val_loss: 1.5612 - val_acc: 0.6200\n",
      "Train on 198 samples, validate on 50 samples\n",
      "Epoch 1/1\n",
      "309s - loss: 45.4891 - acc: 0.6162 - val_loss: 1.5598 - val_acc: 0.6200\n",
      "Train on 198 samples, validate on 50 samples\n",
      "Epoch 1/1\n",
      "310s - loss: 45.4163 - acc: 0.6212 - val_loss: 1.5576 - val_acc: 0.6200\n",
      "Train on 198 samples, validate on 50 samples\n",
      "Epoch 1/1\n",
      "309s - loss: 45.4570 - acc: 0.5707 - val_loss: 1.5511 - val_acc: 0.6200\n",
      "Train on 198 samples, validate on 50 samples\n",
      "Epoch 1/1\n",
      "308s - loss: 45.5326 - acc: 0.6061 - val_loss: 1.5498 - val_acc: 0.6200\n",
      "Train on 198 samples, validate on 50 samples\n",
      "Epoch 1/1\n",
      "308s - loss: 45.3041 - acc: 0.5707 - val_loss: 1.5479 - val_acc: 0.6200\n",
      "Train on 198 samples, validate on 50 samples\n",
      "Epoch 1/1\n",
      "324s - loss: 45.2876 - acc: 0.6010 - val_loss: 1.5451 - val_acc: 0.6200\n",
      "Train on 198 samples, validate on 50 samples\n",
      "Epoch 1/1\n",
      "325s - loss: 45.3543 - acc: 0.6263 - val_loss: 1.5402 - val_acc: 0.6200\n",
      "Train on 198 samples, validate on 50 samples\n",
      "Epoch 1/1\n",
      "398s - loss: 45.4882 - acc: 0.5303 - val_loss: 1.3285 - val_acc: 0.6200\n",
      "Train on 198 samples, validate on 50 samples\n",
      "Epoch 1/1\n",
      "344s - loss: 45.6808 - acc: 0.6061 - val_loss: 1.2940 - val_acc: 0.6400\n",
      "Train on 198 samples, validate on 50 samples\n",
      "Epoch 1/1\n",
      "349s - loss: 45.3935 - acc: 0.5960 - val_loss: 1.2841 - val_acc: 0.6600\n",
      "Train on 198 samples, validate on 50 samples\n",
      "Epoch 1/1\n",
      "369s - loss: 45.0970 - acc: 0.6515 - val_loss: 1.2755 - val_acc: 0.6400\n",
      "Train on 198 samples, validate on 50 samples\n",
      "Epoch 1/1\n",
      "343s - loss: 45.4882 - acc: 0.6465 - val_loss: 1.2727 - val_acc: 0.6400\n",
      "Train on 198 samples, validate on 50 samples\n",
      "Epoch 1/1\n",
      "361s - loss: 45.3047 - acc: 0.6212 - val_loss: 1.0618 - val_acc: 0.6200\n",
      "Train on 198 samples, validate on 50 samples\n",
      "Epoch 1/1\n",
      "346s - loss: 45.4750 - acc: 0.6162 - val_loss: 1.0329 - val_acc: 0.6000\n",
      "Train on 198 samples, validate on 50 samples\n",
      "Epoch 1/1\n",
      "346s - loss: 45.0881 - acc: 0.6414 - val_loss: 1.0262 - val_acc: 0.6000\n",
      "Train on 198 samples, validate on 50 samples\n",
      "Epoch 1/1\n",
      "357s - loss: 45.3417 - acc: 0.6414 - val_loss: 1.0209 - val_acc: 0.6000\n",
      "Train on 198 samples, validate on 50 samples\n",
      "Epoch 1/1\n",
      "346s - loss: 45.1476 - acc: 0.6010 - val_loss: 1.0162 - val_acc: 0.6000\n",
      "Train on 198 samples, validate on 50 samples\n",
      "Epoch 1/1\n",
      "338s - loss: 45.2070 - acc: 0.6212 - val_loss: 1.0099 - val_acc: 0.6200\n",
      "Train on 198 samples, validate on 50 samples\n",
      "Epoch 1/1\n",
      "373s - loss: 45.1869 - acc: 0.6061 - val_loss: 1.0036 - val_acc: 0.6200\n",
      "Train on 198 samples, validate on 50 samples\n",
      "Epoch 1/1\n",
      "379s - loss: 45.3487 - acc: 0.6263 - val_loss: 1.0005 - val_acc: 0.6200\n",
      "Train on 198 samples, validate on 50 samples\n",
      "Epoch 1/1\n",
      "363s - loss: 45.1418 - acc: 0.6515 - val_loss: 0.9953 - val_acc: 0.6200\n",
      "Train on 198 samples, validate on 50 samples\n",
      "Epoch 1/1\n",
      "393s - loss: 45.0717 - acc: 0.6162 - val_loss: 0.9941 - val_acc: 0.6200\n",
      "Train on 198 samples, validate on 50 samples\n",
      "Epoch 1/1\n",
      "349s - loss: 45.3441 - acc: 0.6212 - val_loss: 0.9915 - val_acc: 0.6200\n",
      "Train on 198 samples, validate on 50 samples\n",
      "Epoch 1/1\n",
      "331s - loss: 45.3441 - acc: 0.6717 - val_loss: 0.9905 - val_acc: 0.6200\n",
      "Train on 198 samples, validate on 50 samples\n",
      "Epoch 1/1\n",
      "328s - loss: 45.0188 - acc: 0.5505 - val_loss: 0.9887 - val_acc: 0.6200\n",
      "Train on 198 samples, validate on 50 samples\n",
      "Epoch 1/1\n",
      "340s - loss: 45.0880 - acc: 0.6010 - val_loss: 0.9880 - val_acc: 0.6200\n",
      "Train on 198 samples, validate on 50 samples\n",
      "Epoch 1/1\n",
      "335s - loss: 45.1864 - acc: 0.5859 - val_loss: 0.9860 - val_acc: 0.6200\n",
      "Train on 198 samples, validate on 50 samples\n",
      "Epoch 1/1\n",
      "382s - loss: 45.0369 - acc: 0.6212 - val_loss: 0.9848 - val_acc: 0.6200\n",
      "Train on 198 samples, validate on 50 samples\n",
      "Epoch 1/1\n",
      "378s - loss: 45.1347 - acc: 0.6667 - val_loss: 0.9856 - val_acc: 0.6200\n",
      "Train on 198 samples, validate on 50 samples\n",
      "Epoch 1/1\n",
      "343s - loss: 45.1059 - acc: 0.6414 - val_loss: 0.9828 - val_acc: 0.6200\n",
      "Train on 198 samples, validate on 50 samples\n",
      "Epoch 1/1\n",
      "362s - loss: 44.9755 - acc: 0.6061 - val_loss: 0.9822 - val_acc: 0.6200\n",
      "Train on 198 samples, validate on 50 samples\n",
      "Epoch 1/1\n",
      "358s - loss: 45.0593 - acc: 0.6162 - val_loss: 0.9822 - val_acc: 0.6200\n",
      "Train on 198 samples, validate on 50 samples\n",
      "Epoch 1/1\n",
      "401s - loss: 45.0728 - acc: 0.6061 - val_loss: 0.9808 - val_acc: 0.6200\n",
      "Train on 198 samples, validate on 50 samples\n",
      "Epoch 1/1\n",
      "362s - loss: 45.0078 - acc: 0.6162 - val_loss: 0.9824 - val_acc: 0.6200\n",
      "Train on 198 samples, validate on 50 samples\n",
      "Epoch 1/1\n",
      "367s - loss: 45.1364 - acc: 0.5859 - val_loss: 0.9820 - val_acc: 0.6200\n",
      "Train on 198 samples, validate on 50 samples\n",
      "Epoch 1/1\n",
      "388s - loss: 45.4889 - acc: 0.6212 - val_loss: 0.9827 - val_acc: 0.6200\n",
      "Train on 198 samples, validate on 50 samples\n",
      "Epoch 1/1\n",
      "342s - loss: 45.2012 - acc: 0.6212 - val_loss: 0.9825 - val_acc: 0.6200\n",
      "Train on 198 samples, validate on 50 samples\n",
      "Epoch 1/1\n",
      "377s - loss: 44.9590 - acc: 0.6111 - val_loss: 0.9812 - val_acc: 0.6200\n",
      "Train on 198 samples, validate on 50 samples\n",
      "Epoch 1/1\n",
      "353s - loss: 44.8865 - acc: 0.6313 - val_loss: 0.9811 - val_acc: 0.6200\n",
      "Train on 198 samples, validate on 50 samples\n",
      "Epoch 1/1\n",
      "344s - loss: 44.9493 - acc: 0.6717 - val_loss: 0.9805 - val_acc: 0.6200\n",
      "Train on 198 samples, validate on 50 samples\n",
      "Epoch 1/1\n",
      "343s - loss: 45.0973 - acc: 0.6414 - val_loss: 0.9798 - val_acc: 0.6200\n",
      "Train on 198 samples, validate on 50 samples\n",
      "Epoch 1/1\n",
      "368s - loss: 45.2386 - acc: 0.6414 - val_loss: 0.9797 - val_acc: 0.6200\n",
      "Train on 198 samples, validate on 50 samples\n",
      "Epoch 1/1\n",
      "404s - loss: 45.0032 - acc: 0.6515 - val_loss: 0.9780 - val_acc: 0.6200\n",
      "Train on 198 samples, validate on 50 samples\n",
      "Epoch 1/1\n",
      "380s - loss: 45.3609 - acc: 0.6162 - val_loss: 0.9780 - val_acc: 0.6200\n",
      "Train on 198 samples, validate on 50 samples\n",
      "Epoch 1/1\n",
      "356s - loss: 45.1946 - acc: 0.6162 - val_loss: 0.9777 - val_acc: 0.6200\n",
      "Train on 198 samples, validate on 50 samples\n",
      "Epoch 1/1\n",
      "404s - loss: 44.9469 - acc: 0.6263 - val_loss: 0.9754 - val_acc: 0.6200\n",
      "7.04881044666\n"
     ]
    }
   ],
   "source": [
    "# WATCHOUT: Change the name of the model\n",
    "acc_train=[]\n",
    "loss_train=[]\n",
    "acc_val=[]\n",
    "loss_val=[]\n",
    "all_lr=[]\n",
    "t0 = time.time()\n",
    "\n",
    "# thresholds\n",
    "thres1=.80\n",
    "thres1passed=0\n",
    "thres2=.90\n",
    "thres2passed=0\n",
    "thres3=.93\n",
    "thres3passed=0\n",
    "thres4=.96\n",
    "thres4passed=0\n",
    "maxAcc=0\n",
    "maxAccVal=0\n",
    "countNoIncrease=0\n",
    "\n",
    "for iteration in np.linspace(1,70,70):\n",
    "    history=final_model.fit([X1, X2, X3, X4, X5, X6, X7, X8, X9, X10, X1, X12, X13, X14, X15, X16, X17], y, validation_split=0.2, nb_epoch=1, batch_size=8,verbose=2)\n",
    "    # Append values\n",
    "    acc_train.append(history.history['acc'])\n",
    "    acc_val.append(history.history['val_acc'])\n",
    "    loss_train.append(history.history['loss'])\n",
    "    loss_val.append(history.history['val_loss'])\n",
    "    all_lr.append(K.get_value(final_model.optimizer.lr))\n",
    "    \n",
    "    # Compare last iteration vs max value of Acc\n",
    "    if acc_train[-1][0]>maxAcc:\n",
    "        maxAcc=max(acc_train)[0]\n",
    "        maxIt=iteration\n",
    "    else:\n",
    "        countNoIncrease=countNoIncrease+1\n",
    "        \n",
    "    if acc_val[-1][0]>maxAccVal:\n",
    "        maxAccVal=max(acc_val)[0]\n",
    "        final_model.save('m747s10_iter_'+'{0}_valAcc_{1}'.format(int(iteration),acc_val[-1][0])+'.h5')\n",
    "    \n",
    "    if countNoIncrease>=10:\n",
    "        countNoIncrease=0\n",
    "        K.set_value(final_model.optimizer.lr, 0.5 * K.get_value(final_model.optimizer.lr))    \n",
    "        \n",
    "    if acc_train[-1][0] > thres1 and thres1passed == 0:\n",
    "        thres1passed=1\n",
    "        countNoIncrease=0\n",
    "        K.set_value(final_model.optimizer.lr, 0.5 * K.get_value(final_model.optimizer.lr))    \n",
    "        \n",
    "    if acc_train[-1][0] > thres2 and thres2passed == 0:\n",
    "        thres2passed=1\n",
    "        countNoIncrease=0\n",
    "        K.set_value(final_model.optimizer.lr, 0.5 * K.get_value(final_model.optimizer.lr))    \n",
    "        \n",
    "    if acc_train[-1][0] > thres3 and thres3passed == 0:\n",
    "        thres3passed=1\n",
    "        countNoIncrease=0\n",
    "        K.set_value(final_model.optimizer.lr, 0.5 * K.get_value(final_model.optimizer.lr))    \n",
    "        \n",
    "    if acc_train[-1][0] > thres4 and thres4passed == 0:\n",
    "        thres4passed=1\n",
    "        countNoIncrease=0\n",
    "        K.set_value(final_model.optimizer.lr, 0.5 * K.get_value(final_model.optimizer.lr))   \n",
    "    \n",
    "t1 = time.time()\n",
    "print (t1-t0)/60/60"
   ]
  },
  {
   "cell_type": "code",
   "execution_count": 24,
   "metadata": {
    "collapsed": false
   },
   "outputs": [
    {
     "data": {
      "image/png": "[encoded data removed]",
      "text/plain": [
       "<matplotlib.figure.Figure at 0x7eff69e9fd90>"
      ]
     },
     "metadata": {},
     "output_type": "display_data"
    },
    {
     "data": {
      "image/png": "[encoded data removed]",
      "text/plain": [
       "<matplotlib.figure.Figure at 0x7eff5b2c4110>"
      ]
     },
     "metadata": {},
     "output_type": "display_data"
    }
   ],
   "source": [
    "#summarize history for accuracy\n",
    "fig=plt.figure()\n",
    "plt.plot(acc_train)\n",
    "plt.plot(acc_val)\n",
    "plt.title('model accuracy')\n",
    "plt.ylabel('accuracy')\n",
    "plt.xlabel('epoch')\n",
    "plt.legend(['train','val'], loc='lower right')\n",
    "plt.ylim([0, 1])\n",
    "plt.show()\n",
    "# summarize history for accuracy\n",
    "plt.plot(loss_train)\n",
    "plt.plot(loss_val)\n",
    "plt.title('model loss')\n",
    "plt.ylabel('loss')\n",
    "plt.xlabel('epoch')\n",
    "plt.legend(['train','val'], loc='upper right')\n",
    "#plt.ylim([0, 2])\n",
    "plt.show()"
   ]
  },
  {
   "cell_type": "code",
   "execution_count": 25,
   "metadata": {
    "collapsed": false
   },
   "outputs": [
    {
     "data": {
      "image/png": "[encoded data removed]",
      "text/plain": [
       "<matplotlib.figure.Figure at 0x7eff69eaffd0>"
      ]
     },
     "metadata": {},
     "output_type": "display_data"
    }
   ],
   "source": [
    "fig=plt.figure()\n",
    "plt.plot(all_lr)\n",
    "plt.title('learning rate')\n",
    "plt.ylabel('learning rate')\n",
    "plt.xlabel('epoch')\n",
    "plt.legend(['learning rate'], loc='upper right')\n",
    "plt.show()"
   ]
  },
  {
   "cell_type": "markdown",
   "metadata": {},
   "source": [
    "---"
   ]
  },
  {
   "cell_type": "markdown",
   "metadata": {},
   "source": [
    "## To resume training"
   ]
  },
  {
   "cell_type": "code",
   "execution_count": null,
   "metadata": {
    "collapsed": true
   },
   "outputs": [],
   "source": [
    "t0 = time.time()\n",
    "\n",
    "for iteration in np.linspace(3,8,6):\n",
    "    history=final_model.fit([X1, X2, X3, X4, X5, X6, X7, X8, X9, X10, X1, X12, X13, X14, X15, X16, X17], y, validation_split=0.2, nb_epoch=1, batch_size=8,verbose=2)\n",
    "    # Append values\n",
    "    acc_train.append(history.history['acc'])\n",
    "    acc_val.append(history.history['val_acc'])\n",
    "    loss_train.append(history.history['loss'])\n",
    "    loss_val.append(history.history['val_loss'])\n",
    "    all_lr.append(K.get_value(final_model.optimizer.lr))\n",
    "    \n",
    "    # Compare last iteration vs max value of Acc\n",
    "    if acc_train[-1][0]>maxAcc:\n",
    "        maxAcc=max(acc_train)[0]\n",
    "        maxIt=iteration\n",
    "    else:\n",
    "        countNoIncrease=countNoIncrease+1\n",
    "        \n",
    "    if acc_val[-1][0]>maxAccVal:\n",
    "        maxAccVal=max(acc_val)[0]\n",
    "        final_model.save('m715s10_iter_'+'{0}_valAcc_{1}'.format(int(iteration),acc_val[-1][0])+'.h5')\n",
    "    \n",
    "    if countNoIncrease>=10:\n",
    "        countNoIncrease=0\n",
    "        K.set_value(final_model.optimizer.lr, 0.5 * K.get_value(final_model.optimizer.lr))    \n",
    "        \n",
    "    if acc_train[-1][0] > thres1 and thres1passed == 0:\n",
    "        thres1passed=1\n",
    "        countNoIncrease=0\n",
    "        K.set_value(final_model.optimizer.lr, 0.5 * K.get_value(final_model.optimizer.lr))    \n",
    "        \n",
    "    if acc_train[-1][0] > thres2 and thres2passed == 0:\n",
    "        thres2passed=1\n",
    "        countNoIncrease=0\n",
    "        K.set_value(final_model.optimizer.lr, 0.5 * K.get_value(final_model.optimizer.lr))    \n",
    "        \n",
    "    if acc_train[-1][0] > thres3 and thres3passed == 0:\n",
    "        thres3passed=1\n",
    "        countNoIncrease=0\n",
    "        K.set_value(final_model.optimizer.lr, 0.5 * K.get_value(final_model.optimizer.lr))    \n",
    "        \n",
    "    if acc_train[-1][0] > thres4 and thres4passed == 0:\n",
    "        thres4passed=1\n",
    "        countNoIncrease=0\n",
    "        K.set_value(final_model.optimizer.lr, 0.5 * K.get_value(final_model.optimizer.lr))   \n",
    "    \n",
    "t1 = time.time()\n",
    "print (t1-t0)/60/60"
   ]
  },
  {
   "cell_type": "markdown",
   "metadata": {},
   "source": [
    "---"
   ]
  },
  {
   "cell_type": "markdown",
   "metadata": {},
   "source": [
    "## To Save the model and the variables"
   ]
  },
  {
   "cell_type": "code",
   "execution_count": 26,
   "metadata": {
    "collapsed": true
   },
   "outputs": [],
   "source": [
    "final_model.save('X.h5')"
   ]
  },
  {
   "cell_type": "code",
   "execution_count": 27,
   "metadata": {
    "collapsed": true
   },
   "outputs": [],
   "source": [
    "K_LR=K.get_value(adam.lr)\n",
    "K_LR, acc_train, loss_train, acc_val, loss_val, all_lr\n",
    "with open('Xobjs.pickle', 'wb') as f:\n",
    "    pickle.dump([K_LR, acc_train, loss_train, acc_val, loss_val, all_lr], f)"
   ]
  },
  {
   "cell_type": "markdown",
   "metadata": {},
   "source": [
    "---"
   ]
  },
  {
   "cell_type": "markdown",
   "metadata": {},
   "source": [
    "## To retreive the model and the variables"
   ]
  },
  {
   "cell_type": "code",
   "execution_count": 9,
   "metadata": {
    "collapsed": false
   },
   "outputs": [],
   "source": [
    "# Getting back the objects:\n",
    "with open('m715objs.pickle') as f:\n",
    "    K_LR, acc_train, loss_train, acc_val, loss_val, all_lr = pickle.load(f)"
   ]
  },
  {
   "cell_type": "code",
   "execution_count": 28,
   "metadata": {
    "collapsed": true
   },
   "outputs": [],
   "source": [
    "from keras.models import load_model\n",
    "best_model=load_model('m715s10_iter_4_valAcc_0.96.h5')"
   ]
  },
  {
   "cell_type": "code",
   "execution_count": 31,
   "metadata": {
    "collapsed": false
   },
   "outputs": [
    {
     "name": "stdout",
     "output_type": "stream",
     "text": [
      "62/62 [==============================] - 3s     \n",
      "0.870967741935\n"
     ]
    },
    {
     "data": {
      "text/plain": [
       "array([[23,  6],\n",
       "       [ 2, 31]])"
      ]
     },
     "execution_count": 31,
     "metadata": {},
     "output_type": "execute_result"
    }
   ],
   "source": [
    "y_pred=best_model.predict_classes([X1test, X2test, X3test, X4test, X5test, X6test, X7test, X8test, X9test, X10test, X11test, X12test, X13test, X14test, X15test, X16test, X17test])\n",
    "y_predC=np.squeeze(y_pred)\n",
    "print accuracy_score(y_true,y_predC)\n",
    "confusion_matrix(y_true,y_predC)"
   ]
  },
  {
   "cell_type": "markdown",
   "metadata": {
    "collapsed": false
   },
   "source": [
    "---"
   ]
  },
  {
   "cell_type": "markdown",
   "metadata": {
    "collapsed": false
   },
   "source": [
    "## To get the test result"
   ]
  },
  {
   "cell_type": "code",
   "execution_count": 19,
   "metadata": {
    "collapsed": false
   },
   "outputs": [],
   "source": [
    "y_true=readLabels('fold1/test/labelsTest.mat')\n",
    "X1test=readScan('fold1/test/scansMiniTest1.mat')\n",
    "X2test=readScan('fold1/test/scansMiniTest2.mat')\n",
    "X3test=readScan('fold1/test/scansMiniTest3.mat')\n",
    "X4test=readScan('fold1/test/scansMiniTest4.mat')\n",
    "X5test=readScan('fold1/test/scansMiniTest5.mat')\n",
    "X6test=readScan('fold1/test/scansMiniTest6.mat')\n",
    "X7test=readScan('fold1/test/scansMiniTest7.mat')\n",
    "X8test=readScan('fold1/test/scansMiniTest8.mat')\n",
    "X9test=readScan('fold1/test/scansMiniTest9.mat')\n",
    "X10test=readScan('fold1/test/scansMiniTest10.mat')\n",
    "X11test=readScan('fold1/test/scansMiniTest11.mat')\n",
    "X12test=readScan('fold1/test/scansMiniTest12.mat')\n",
    "X13test=readScan('fold1/test/scansMiniTest13.mat')\n",
    "X14test=readScan('fold1/test/scansMiniTest14.mat')\n",
    "X15test=readScan('fold1/test/scansMiniTest15.mat')\n",
    "X16test=readScan('fold1/test/scansMiniTest16.mat')\n",
    "X17test=readScan('fold1/test/scansMiniTest17.mat')"
   ]
  },
  {
   "cell_type": "code",
   "execution_count": 21,
   "metadata": {
    "collapsed": false
   },
   "outputs": [
    {
     "name": "stdout",
     "output_type": "stream",
     "text": [
      "62/62 [==============================] - 3s     \n"
     ]
    }
   ],
   "source": [
    "y_predProb=final_model.predict([X1test, X2test, X3test, X4test, X5test, X6test, X7test, X8test, X9test, X10test, X11test, X12test, X13test, X14test, X15test, X16test, X17test])\n",
    "y_pred=final_model.predict_classes([X1test, X2test, X3test, X4test, X5test, X6test, X7test, X8test, X9test, X10test, X11test, X12test, X13test, X14test, X15test, X16test, X17test])"
   ]
  },
  {
   "cell_type": "code",
   "execution_count": 25,
   "metadata": {
    "collapsed": false
   },
   "outputs": [
    {
     "data": {
      "text/plain": [
       "array([ 0.21689016, -0.22181533, -0.12564114,  0.79740047,  0.05062718,\n",
       "       -0.20838131,  0.06703719, -0.2394022 ,  0.70000696,  0.8789382 ,\n",
       "        0.88738132,  0.3901667 ,  0.96023619,  0.96115619,  0.96273249,\n",
       "        0.9153322 ,  0.95319158,  0.95621729,  0.87015134,  0.95635557,\n",
       "        0.95737928,  0.9527005 ,  0.76358092, -0.29578796,  0.70928782,\n",
       "        0.92070013,  0.84278494,  0.86923629,  0.93821198,  0.94442046,\n",
       "        0.90996623,  0.90765119,  0.93816912,  0.92197514,  0.17372566,\n",
       "        0.32999846,  0.90308779,  0.9603641 ,  0.94495183,  0.95603502,\n",
       "       -0.17813762, -0.11361975,  0.88588536,  0.30340621, -0.42349905,\n",
       "       -0.23305795,  0.84807897,  0.21914464,  0.76635778, -0.16997755,\n",
       "       -0.28304669, -0.24796797, -0.34844163, -0.24537045, -0.31619179,\n",
       "       -0.42110252, -0.0333176 , -0.345705  ,  0.89989269,  0.90149546,\n",
       "        0.76470381,  0.91482806], dtype=float32)"
      ]
     },
     "execution_count": 25,
     "metadata": {},
     "output_type": "execute_result"
    }
   ],
   "source": [
    "np.squeeze(y_predProb)"
   ]
  },
  {
   "cell_type": "code",
   "execution_count": 22,
   "metadata": {
    "collapsed": false
   },
   "outputs": [
    {
     "data": {
      "text/plain": [
       "array([0, 0, 0, 1, 0, 0, 0, 0, 1, 1, 1, 0, 1, 1, 1, 1, 1, 1, 1, 1, 1, 1, 1,\n",
       "       0, 1, 1, 1, 1, 1, 1, 1, 1, 1, 1, 0, 0, 1, 1, 1, 1, 0, 0, 1, 0, 0, 0,\n",
       "       1, 0, 1, 0, 0, 0, 0, 0, 0, 0, 0, 0, 1, 1, 1, 1], dtype=int32)"
      ]
     },
     "execution_count": 22,
     "metadata": {},
     "output_type": "execute_result"
    }
   ],
   "source": [
    "y_predC=np.squeeze(y_pred)\n",
    "y_predC"
   ]
  },
  {
   "cell_type": "code",
   "execution_count": 23,
   "metadata": {
    "collapsed": true
   },
   "outputs": [],
   "source": [
    "from sklearn.metrics import confusion_matrix\n",
    "from sklearn.metrics import  accuracy_score"
   ]
  },
  {
   "cell_type": "code",
   "execution_count": 24,
   "metadata": {
    "collapsed": false
   },
   "outputs": [
    {
     "name": "stdout",
     "output_type": "stream",
     "text": [
      "0.854838709677\n",
      "[ 3 11 22 24 34 35 42 46 48]\n"
     ]
    },
    {
     "data": {
      "text/plain": [
       "array([[23,  6],\n",
       "       [ 3, 30]])"
      ]
     },
     "execution_count": 24,
     "metadata": {},
     "output_type": "execute_result"
    }
   ],
   "source": [
    "print accuracy_score(y_true,y_predC)\n",
    "print np.where(y_true.astype(bool)!=y_predC.astype(bool))[0]\n",
    "confusion_matrix(y_true,y_predC)"
   ]
  },
  {
   "cell_type": "markdown",
   "metadata": {},
   "source": [
    "---"
   ]
  },
  {
   "cell_type": "markdown",
   "metadata": {},
   "source": [
    "---"
   ]
  },
  {
   "cell_type": "markdown",
   "metadata": {},
   "source": [
    "---"
   ]
  },
  {
   "cell_type": "code",
   "execution_count": null,
   "metadata": {
    "collapsed": true
   },
   "outputs": [],
   "source": [
    "from keras.utils.np_utils import to_categorical\n",
    "y_binary = to_categorical(ysq)"
   ]
  },
  {
   "cell_type": "code",
   "execution_count": null,
   "metadata": {
    "collapsed": true
   },
   "outputs": [],
   "source": [
    "def baseline_model():\n",
    "    model=Sequential()\n",
    "    model.add(Convolution3D(10, 3, 3, 3, input_shape=(16, 16, 16,1), border_mode='valid', activation='relu'))\n",
    "    model.add(Flatten())\n",
    "    model.add(Dense(100, init='uniform', activation='tanh'))\n",
    "    model.add(Dense(1, init='uniform', activation='tanh'))\n",
    "    # Compile model\n",
    "    model.compile(loss='binary_crossentropy', optimizer='adam', metrics=['accuracy'])\n",
    "    return model"
   ]
  },
  {
   "cell_type": "code",
   "execution_count": null,
   "metadata": {
    "collapsed": true
   },
   "outputs": [],
   "source": [
    "estimator = KerasClassifier(build_fn=baseline_model, nb_epoch=200, batch_size=10, verbose=0)\n",
    "kfold = KFold(n=len(X), n_folds=8, shuffle=True, random_state=seed)\n",
    "results = cross_val_score(estimator, X, ysq, cv=kfold)\n",
    "print results\n",
    "print results.mean()"
   ]
  },
  {
   "cell_type": "markdown",
   "metadata": {},
   "source": [
    "---"
   ]
  },
  {
   "cell_type": "markdown",
   "metadata": {},
   "source": [
    "---"
   ]
  },
  {
   "cell_type": "markdown",
   "metadata": {},
   "source": [
    "---"
   ]
  },
  {
   "cell_type": "markdown",
   "metadata": {
    "collapsed": true
   },
   "source": [
    "### Model622      \n",
    "\n",
    "callbacks1=EarlyStopping(monitor='loss', mode='auto', patience=30,verbose=0)   \n",
    "callbacks3=ModelCheckpoint('m508_Weights.{epoch:02d}-{val_acc:.2f}.hdf5',monitor='val_acc', verbose=0, save_best_only=True, save_weights_only=False, mode='auto')   \n",
    "\n",
    "adam=Adam(**lr=0.000005**, beta_1=0.9, beta_2=0.999, epsilon=1e-08, decay=1e-04)   \n",
    "\n",
    "model5=Sequential()    \n",
    "model5.add(Convolution3D(10, 3, 3, 3, input_shape=(16, 16, 16,1), border_mode='valid', init='he_normal',**W_regularizer=l2(.05)**))    \n",
    "model5.add(BatchNormalization())    \n",
    "model5.add(Activation('relu'))    \n",
    "model5.add(Flatten())    \n",
    "model5.add(Dropout(0.2))    \n",
    "model5.add(Dense(20, init='glorot_normal', activation='tanh'**, W_regularizer=l2(.05)**))    \n",
    "\n",
    "merged = Merge([model1, model2, model3, model4, model5], mode='concat')    \n",
    "final_model = Sequential()    \n",
    "final_model.add(merged)    \n",
    "final_model.add(Dense(**10**, init='glorot_normal', activation='tanh',**W_regularizer=l2(.05)**))    \n",
    "final_model.add(Dense(1, init='glorot_normal', activation='tanh'))    \n",
    "final_model.compile(loss='binary_crossentropy', optimizer=adam, metrics=['accuracy'])    \n",
    "\n",
    "history=final_model.fit([X1, X2, X3, X4, X5], y, validation_split=0.2, nb_epoch=80, **batch_size=8**,verbose=0, callbacks=[callbacks1,callbacks3]) \n"
   ]
  },
  {
   "cell_type": "markdown",
   "metadata": {
    "collapsed": true
   },
   "source": [
    "### Model627      \n",
    "\n",
    "callbacks1=EarlyStopping(monitor='loss', mode='auto', patience=30,verbose=0)   \n",
    "callbacks3=ModelCheckpoint('m508_Weights.{epoch:02d}-{val_acc:.2f}.hdf5',monitor='val_acc', verbose=0, save_best_only=True, save_weights_only=False, mode='auto')   \n",
    "\n",
    "adam=Adam(**lr=0.000005**, beta_1=0.9, beta_2=0.999, epsilon=1e-08, decay=1e-04)   \n",
    "\n",
    "model5=Sequential()    \n",
    "model5.add(Convolution3D(10, 3, 3, 3, input_shape=(16, 16, 16,1), border_mode='valid', init='he_normal',**W_regularizer=l2(.05)**))    \n",
    "model5.add(BatchNormalization())    \n",
    "model5.add(Activation('relu'))    \n",
    "model5.add(Flatten())    \n",
    "model5.add(Dropout(0.2))    \n",
    "model5.add(Dense(20, init='glorot_normal', activation='tanh'**, W_regularizer=l2(.05)**))    \n",
    "\n",
    "merged = Merge([model1, model2, model3, model4, model5], mode='concat')    \n",
    "final_model = Sequential()    \n",
    "final_model.add(merged)    \n",
    "final_model.add(Dense(**40**, init='glorot_normal', activation='tanh',**W_regularizer=l2(.05)**))    \n",
    "final_model.add(Dense(1, init='glorot_normal', activation='tanh'))    \n",
    "final_model.compile(loss='binary_crossentropy', optimizer=adam, metrics=['accuracy'])    \n",
    "\n",
    "history=final_model.fit([X1, X2, X3, X4, X5], y, validation_split=0.2, nb_epoch=80, **batch_size=8**,verbose=0, callbacks=[callbacks1,callbacks3]) \n"
   ]
  },
  {
   "cell_type": "markdown",
   "metadata": {
    "collapsed": true
   },
   "source": [
    "### Model628      \n",
    "\n",
    "callbacks1=EarlyStopping(monitor='loss', mode='auto', patience=30,verbose=0)   \n",
    "callbacks3=ModelCheckpoint('m508_Weights.{epoch:02d}-{val_acc:.2f}.hdf5',monitor='val_acc', verbose=0, save_best_only=True, save_weights_only=False, mode='auto')   \n",
    "\n",
    "adam=Adam(**lr=0.0000001**, beta_1=0.9, beta_2=0.999, epsilon=1e-08, decay=1e-04)   \n",
    "\n",
    "model5=Sequential()    \n",
    "model5.add(Convolution3D(10, 3, 3, 3, input_shape=(16, 16, 16,1), border_mode='valid', init='he_normal',**W_regularizer=l2(.05)**))    \n",
    "model5.add(BatchNormalization())    \n",
    "model5.add(Activation('relu'))    \n",
    "model5.add(Flatten())    \n",
    "model5.add(Dropout(0.2))    \n",
    "model5.add(Dense(20, init='glorot_normal', activation='tanh'**, W_regularizer=l2(.05)**))    \n",
    "\n",
    "merged = Merge([model1, model2, model3, model4, model5], mode='concat')    \n",
    "final_model = Sequential()    \n",
    "final_model.add(merged)    \n",
    "final_model.add(Dense(**40**, init='glorot_normal', activation='tanh',**W_regularizer=l2(.05)**))    \n",
    "final_model.add(Dense(1, init='glorot_normal', activation='tanh'))    \n",
    "final_model.compile(loss='binary_crossentropy', optimizer=adam, metrics=['accuracy'])    \n",
    "\n",
    "history=final_model.fit([X1, X2, X3, X4, X5], y, validation_split=0.2, nb_epoch=80, **batch_size=8**,verbose=0, callbacks=[callbacks1,callbacks3]) \n"
   ]
  },
  {
   "cell_type": "markdown",
   "metadata": {
    "collapsed": true
   },
   "source": [
    "### Model629      \n",
    "\n",
    "callbacks1=EarlyStopping(monitor='loss', mode='auto', patience=30,verbose=0)   \n",
    "callbacks3=ModelCheckpoint('m508_Weights.{epoch:02d}-{val_acc:.2f}.hdf5',monitor='val_acc', verbose=0, save_best_only=True, save_weights_only=False, mode='auto')   \n",
    "\n",
    "adam=Adam(**lr=0.000001**, beta_1=0.9, beta_2=0.999, epsilon=1e-08, decay=1e-04)   \n",
    "\n",
    "model5=Sequential()    \n",
    "model5.add(Convolution3D(10, 3, 3, 3, input_shape=(16, 16, 16,1), border_mode='valid', init='he_normal',**W_regularizer=l2(.05)**))    \n",
    "model5.add(BatchNormalization())    \n",
    "model5.add(Activation('relu'))    \n",
    "model5.add(Flatten())    \n",
    "model5.add(Dropout(0.2))    \n",
    "model5.add(Dense(20, init='glorot_normal', activation='tanh'**, W_regularizer=l2(.05)**))    \n",
    "\n",
    "merged = Merge([model1, model2, model3, model4, model5], mode='concat')    \n",
    "final_model = Sequential()    \n",
    "final_model.add(merged)    \n",
    "final_model.add(Dense(**10**, init='glorot_normal', activation='tanh',**W_regularizer=l2(.05)**))    \n",
    "final_model.add(Dense(1, init='glorot_normal', activation='tanh'))    \n",
    "final_model.compile(loss='binary_crossentropy', optimizer=adam, metrics=['accuracy'])    \n",
    "\n",
    "history=final_model.fit([X1, X2, X3, X4, X5], y, validation_split=0.2, nb_epoch=80, **batch_size=8**,verbose=0, callbacks=[callbacks1,callbacks3]) \n"
   ]
  },
  {
   "cell_type": "markdown",
   "metadata": {
    "collapsed": true
   },
   "source": [
    "### Model630      \n",
    "\n",
    "callbacks1=EarlyStopping(monitor='loss', mode='auto', patience=30,verbose=0)   \n",
    "callbacks3=ModelCheckpoint('m508_Weights.{epoch:02d}-{val_acc:.2f}.hdf5',monitor='val_acc', verbose=0, save_best_only=True, save_weights_only=False, mode='auto')   \n",
    "\n",
    "adam=Adam(**lr=0.0000005**, beta_1=0.9, beta_2=0.999, epsilon=1e-08, decay=1e-04)   \n",
    "\n",
    "model5=Sequential()    \n",
    "model5.add(Convolution3D(10, 3, 3, 3, input_shape=(16, 16, 16,1), border_mode='valid', init='he_normal',**W_regularizer=l2(.05)**))    \n",
    "model5.add(BatchNormalization())    \n",
    "model5.add(Activation('relu'))    \n",
    "model5.add(Flatten())    \n",
    "model5.add(Dropout(0.2))    \n",
    "model5.add(Dense(20, init='glorot_normal', activation='tanh'**, W_regularizer=l2(.05)**))    \n",
    "\n",
    "merged = Merge([model1, model2, model3, model4, model5], mode='concat')    \n",
    "final_model = Sequential()    \n",
    "final_model.add(merged)    \n",
    "final_model.add(Dense(**10**, init='glorot_normal', activation='tanh',**W_regularizer=l2(.05)**))    \n",
    "final_model.add(Dense(1, init='glorot_normal', activation='tanh'))    \n",
    "final_model.compile(loss='binary_crossentropy', optimizer=adam, metrics=['accuracy'])    \n",
    "\n",
    "history=final_model.fit([X1, X2, X3, X4, X5], y, validation_split=0.2, nb_epoch=80, **batch_size=8**,verbose=0, callbacks=[callbacks1,callbacks3]) \n"
   ]
  },
  {
   "cell_type": "markdown",
   "metadata": {
    "collapsed": true
   },
   "source": [
    "### Model631      \n",
    "\n",
    "callbacks1=EarlyStopping(monitor='loss', mode='auto', patience=30,verbose=0)   \n",
    "callbacks3=ModelCheckpoint('m508_Weights.{epoch:02d}-{val_acc:.2f}.hdf5',monitor='val_acc', verbose=0, save_best_only=True, save_weights_only=False, mode='auto')   \n",
    "\n",
    "adam=Adam(**lr=0.000001**, beta_1=0.9, beta_2=0.999, epsilon=1e-08, decay=1e-04)   \n",
    "\n",
    "model5=Sequential()    \n",
    "model5.add(Convolution3D(10, 3, 3, 3, input_shape=(16, 16, 16,1), border_mode='valid', init='he_normal',**W_regularizer=l2(.05)**))    \n",
    "model5.add(BatchNormalization())    \n",
    "model5.add(Activation('relu'))    \n",
    "model5.add(Flatten())    \n",
    "model5.add(Dropout(0.2))    \n",
    "model5.add(Dense(20, init='glorot_normal', activation='tanh'**, W_regularizer=l2(.05)**))    \n",
    "\n",
    "merged = Merge([model1, model2, model3, model4, model5], mode='concat')    \n",
    "final_model = Sequential()    \n",
    "final_model.add(merged)    \n",
    "final_model.add(Dense(**40**, init='glorot_normal', activation='tanh',**W_regularizer=l2(.05)**))    \n",
    "final_model.add(Dense(1, init='glorot_normal', activation='tanh'))    \n",
    "final_model.compile(loss='binary_crossentropy', optimizer=adam, metrics=['accuracy'])    \n",
    "\n",
    "history=final_model.fit([X1, X2, X3, X4, X5], y, validation_split=0.2, nb_epoch=80, **batch_size=8**,verbose=0, callbacks=[callbacks1,callbacks3]) \n"
   ]
  },
  {
   "cell_type": "markdown",
   "metadata": {
    "collapsed": true
   },
   "source": [
    "### Model632      \n",
    "\n",
    "callbacks1=EarlyStopping(monitor='loss', mode='auto', patience=30,verbose=0)   \n",
    "callbacks3=ModelCheckpoint('m508_Weights.{epoch:02d}-{val_acc:.2f}.hdf5',monitor='val_acc', verbose=0, save_best_only=True, save_weights_only=False, mode='auto')   \n",
    "\n",
    "adam=Adam(**lr=0.000001**, beta_1=0.9, beta_2=0.999, epsilon=1e-08, decay=1e-04)   \n",
    "\n",
    "model5=Sequential()    \n",
    "model5.add(Convolution3D(10, 3, 3, 3, input_shape=(16, 16, 16,1), border_mode='valid', init='he_normal',**W_regularizer=l2(.05)**))    \n",
    "model5.add(BatchNormalization())    \n",
    "model5.add(Activation('relu'))    \n",
    "model5.add(Flatten())    \n",
    "model5.add(Dropout(0.2))    \n",
    "model5.add(Dense(20, init='glorot_normal', activation='tanh'**, W_regularizer=l2(.05)**))    \n",
    "\n",
    "merged = Merge([model1, model2, model3, model4, model5], mode='concat')    \n",
    "final_model = Sequential()    \n",
    "final_model.add(merged)    \n",
    "final_model.add(Dense(**20**, init='glorot_normal', activation='tanh',**W_regularizer=l2(.05)**))    \n",
    "**final_model.add(Dense(20, init='glorot_normal', activation='tanh',W_regularizer=l2(.05)))    **\n",
    "final_model.add(Dense(1, init='glorot_normal', activation='tanh'))    \n",
    "final_model.compile(loss='binary_crossentropy', optimizer=adam, metrics=['accuracy'])    \n",
    "\n",
    "history=final_model.fit([X1, X2, X3, X4, X5], y, validation_split=0.2, nb_epoch=80, **batch_size=8**,verbose=0, callbacks=[callbacks1,callbacks3]) \n"
   ]
  },
  {
   "cell_type": "markdown",
   "metadata": {},
   "source": [
    "### Model633      \n",
    "\n",
    "callbacks1=EarlyStopping(monitor='loss', mode='auto', patience=30,verbose=0)   \n",
    "callbacks3=ModelCheckpoint('m508_Weights.{epoch:02d}-{val_acc:.2f}.hdf5',monitor='val_acc', verbose=0, save_best_only=True, save_weights_only=False, mode='auto')   \n",
    "\n",
    "adam=Adam(**lr=0.000001**, beta_1=0.9, beta_2=0.999, epsilon=1e-08, decay=1e-04)   \n",
    "\n",
    "model5=Sequential()    \n",
    "model5.add(Convolution3D(10, 3, 3, 3, input_shape=(16, 16, 16,1), border_mode='valid', init='he_normal',**W_regularizer=l2(.05)**))    \n",
    "model5.add(BatchNormalization())    \n",
    "model5.add(Activation('relu'))    \n",
    "model5.add(Flatten())    \n",
    "model5.add(Dropout(0.2))    \n",
    "model5.add(Dense(20, init='glorot_normal', activation='tanh'**, W_regularizer=l2(.05)**))    \n",
    "\n",
    "merged = Merge([model1, model2, model3, model4, model5], mode='concat')    \n",
    "final_model = Sequential()    \n",
    "final_model.add(merged)    \n",
    "final_model.add(Dense(**10**, init='glorot_normal', activation='tanh',**W_regularizer=l2(.05)**))    \n",
    "**final_model.add(Dense(10, init='glorot_normal', activation='tanh',W_regularizer=l2(.05)))**    \n",
    "final_model.add(Dense(1, init='glorot_normal', activation='tanh'))    \n",
    "final_model.compile(loss='binary_crossentropy', optimizer=adam, metrics=['accuracy'])    \n",
    "\n",
    "history=final_model.fit([X1, X2, X3, X4, X5], y, validation_split=0.2, nb_epoch=80, **batch_size=8**,verbose=0, callbacks=[callbacks1,callbacks3]) \n"
   ]
  },
  {
   "cell_type": "markdown",
   "metadata": {},
   "source": [
    "### Model634      \n",
    "\n",
    "callbacks1=EarlyStopping(monitor='loss', mode='auto', patience=30,verbose=0)   \n",
    "callbacks3=ModelCheckpoint('m508_Weights.{epoch:02d}-{val_acc:.2f}.hdf5',monitor='val_acc', verbose=0, save_best_only=True, save_weights_only=False, mode='auto')   \n",
    "\n",
    "adam=Adam(**lr=0.000001**, beta_1=0.9, beta_2=0.999, epsilon=1e-08, decay=1e-04)   \n",
    "\n",
    "model5=Sequential()    \n",
    "model5.add(Convolution3D(10, 3, 3, 3, input_shape=(16, 16, 16,1), border_mode='valid', init='he_normal',**W_regularizer=l2(.05)**))    \n",
    "model5.add(BatchNormalization())    \n",
    "model5.add(Activation('relu'))    \n",
    "model5.add(Flatten())    \n",
    "model5.add(Dropout(0.2))    \n",
    "model5.add(Dense(20, init='glorot_normal', activation='tanh'**, W_regularizer=l2(.05)**))    \n",
    "\n",
    "merged = Merge([model1, model2, model3, model4, model5], mode='concat')    \n",
    "final_model = Sequential()    \n",
    "final_model.add(merged)    \n",
    "final_model.add(Dense(**10**, init='glorot_normal', activation='tanh',**W_regularizer=l2(.05)**))    \n",
    "**final_model.add(Dense(10, init='glorot_normal', activation='tanh',W_regularizer=l2(.05)))**    \n",
    "final_model.add(Dense(1, init='glorot_normal', activation='tanh'))    \n",
    "final_model.compile(loss='binary_crossentropy', optimizer=adam, metrics=['accuracy'])    \n",
    "\n",
    "history=final_model.fit([X1, X2, X3, X4, X5, X6, **X7, X8, X9**], y, validation_split=0.2, nb_epoch=80, **batch_size=8**,verbose=0, callbacks=[callbacks1,callbacks3]) \n"
   ]
  },
  {
   "cell_type": "markdown",
   "metadata": {},
   "source": [
    "### Model635      \n",
    "\n",
    "callbacks1=EarlyStopping(monitor='loss', mode='auto', patience=30,verbose=0)   \n",
    "callbacks3=ModelCheckpoint('m508_Weights.{epoch:02d}-{val_acc:.2f}.hdf5',monitor='val_acc', verbose=0, save_best_only=True, save_weights_only=False, mode='auto')   \n",
    "\n",
    "adam=Adam(**lr=0.000001**, beta_1=0.9, beta_2=0.999, epsilon=1e-08, decay=1e-04)   \n",
    "\n",
    "model5=Sequential()    \n",
    "model5.add(Convolution3D(10, 3, 3, 3, input_shape=(16, 16, 16,1), border_mode='valid', init='he_normal',**W_regularizer=l2(.05)**))    \n",
    "model5.add(BatchNormalization())    \n",
    "model5.add(Activation('relu'))    \n",
    "**model5.add(Convolution3D(10, 3, 3, 3, border_mode='valid', init='he_normal',**W_regularizer=l2(.05)**))    \n",
    "model5.add(BatchNormalization())    \n",
    "model5.add(Activation('relu'))**    \n",
    "\n",
    "model5.add(Flatten())    \n",
    "model5.add(Dropout(0.2))    \n",
    "model5.add(Dense(20, init='glorot_normal', activation='tanh'**, W_regularizer=l2(.05)**))    \n",
    "\n",
    "merged = Merge([model1, model2, model3, model4, model5], mode='concat')    \n",
    "final_model = Sequential()    \n",
    "final_model.add(merged)    \n",
    "final_model.add(Dense(**10**, init='glorot_normal', activation='tanh',**W_regularizer=l2(.05)**))    \n",
    "**final_model.add(Dense(10, init='glorot_normal', activation='tanh',W_regularizer=l2(.05)))**    \n",
    "final_model.add(Dense(1, init='glorot_normal', activation='tanh'))    \n",
    "final_model.compile(loss='binary_crossentropy', optimizer=adam, metrics=['accuracy'])    \n",
    "\n",
    "history=final_model.fit([X1, X2, X3, X4, X5], y, validation_split=0.2, nb_epoch=80, **batch_size=8**,verbose=0, callbacks=[callbacks1,callbacks3]) \n"
   ]
  },
  {
   "cell_type": "markdown",
   "metadata": {},
   "source": [
    "### Model636      \n",
    "\n",
    "callbacks1=EarlyStopping(monitor='loss', mode='auto', patience=30,verbose=0)   \n",
    "callbacks3=ModelCheckpoint('m508_Weights.{epoch:02d}-{val_acc:.2f}.hdf5',monitor='val_acc', verbose=0, save_best_only=True, save_weights_only=False, mode='auto')   \n",
    "\n",
    "adam=Adam(**lr=0.0000005**, beta_1=0.9, beta_2=0.999, epsilon=1e-08, decay=1e-04)   \n",
    "\n",
    "model5=Sequential()    \n",
    "model5.add(Convolution3D(10, 3, 3, 3, input_shape=(16, 16, 16,1), border_mode='valid', init='he_normal',**W_regularizer=l2(.05)**))    \n",
    "model5.add(BatchNormalization())    \n",
    "model5.add(Activation('relu'))    \n",
    "**model5.add(Convolution3D(10, 3, 3, 3, border_mode='valid', init='he_normal',**W_regularizer=l2(.05)**))    \n",
    "model5.add(BatchNormalization())    \n",
    "model5.add(Activation('relu'))**    \n",
    "\n",
    "model5.add(Flatten())    \n",
    "model5.add(Dropout(0.2))    \n",
    "model5.add(Dense(20, init='glorot_normal', activation='tanh'**, W_regularizer=l2(.05)**))    \n",
    "\n",
    "merged = Merge([model1, model2, model3, model4, model5], mode='concat')    \n",
    "final_model = Sequential()    \n",
    "final_model.add(merged)    \n",
    "final_model.add(Dense(**10**, init='glorot_normal', activation='tanh',**W_regularizer=l2(.05)**))    \n",
    "**final_model.add(Dense(10, init='glorot_normal', activation='tanh',W_regularizer=l2(.05)))**    \n",
    "final_model.add(Dense(1, init='glorot_normal', activation='tanh'))    \n",
    "final_model.compile(loss='binary_crossentropy', optimizer=adam, metrics=['accuracy'])    \n",
    "\n",
    "history=final_model.fit([X1, X2, X3, X4, X5], y, validation_split=0.2, nb_epoch=80, **batch_size=8**,verbose=0, callbacks=[callbacks1,callbacks3]) \n"
   ]
  },
  {
   "cell_type": "markdown",
   "metadata": {},
   "source": [
    "### Model637      \n",
    "\n",
    "callbacks1=EarlyStopping(monitor='loss', mode='auto', patience=30,verbose=0)   \n",
    "callbacks3=ModelCheckpoint('m508_Weights.{epoch:02d}-{val_acc:.2f}.hdf5',monitor='val_acc', verbose=0, save_best_only=True, save_weights_only=False, mode='auto')   \n",
    "\n",
    "adam=Adam(**lr=0.0000001**, beta_1=0.9, beta_2=0.999, epsilon=1e-08, decay=1e-04)   \n",
    "\n",
    "model5=Sequential()    \n",
    "model5.add(Convolution3D(10, 3, 3, 3, input_shape=(16, 16, 16,1), border_mode='valid', init='he_normal',**W_regularizer=l2(.05)**))    \n",
    "model5.add(BatchNormalization())    \n",
    "model5.add(Activation('relu'))    \n",
    "**model5.add(Convolution3D(10, 3, 3, 3, border_mode='valid', init='he_normal',**W_regularizer=l2(.05)**))    \n",
    "model5.add(BatchNormalization())    \n",
    "model5.add(Activation('relu'))**    \n",
    "\n",
    "model5.add(Flatten())    \n",
    "model5.add(Dropout(0.2))    \n",
    "model5.add(Dense(20, init='glorot_normal', activation='tanh'**, W_regularizer=l2(.05)**))    \n",
    "\n",
    "merged = Merge([model1, model2, model3, model4, model5], mode='concat')    \n",
    "final_model = Sequential()    \n",
    "final_model.add(merged)    \n",
    "final_model.add(Dense(**10**, init='glorot_normal', activation='tanh',**W_regularizer=l2(.05)**))    \n",
    "**final_model.add(Dense(10, init='glorot_normal', activation='tanh',W_regularizer=l2(.05)))**    \n",
    "final_model.add(Dense(1, init='glorot_normal', activation='tanh'))    \n",
    "final_model.compile(loss='binary_crossentropy', optimizer=adam, metrics=['accuracy'])    \n",
    "\n",
    "history=final_model.fit([X1, X2, X3, X4, X5], y, validation_split=0.2, nb_epoch=80, **batch_size=8**,verbose=0, callbacks=[callbacks1,callbacks3]) \n"
   ]
  },
  {
   "cell_type": "markdown",
   "metadata": {
    "collapsed": true
   },
   "source": [
    "### Model638      \n",
    "\n",
    "callbacks1=EarlyStopping(monitor='loss', mode='auto', patience=30,verbose=0)   \n",
    "callbacks3=ModelCheckpoint('m508_Weights.{epoch:02d}-{val_acc:.2f}.hdf5',monitor='val_acc', verbose=0, save_best_only=True, save_weights_only=False, mode='auto')   \n",
    "\n",
    "adam=Adam(**lr=0.000005**, beta_1=0.9, beta_2=0.999, epsilon=1e-08, decay=1e-04)   \n",
    "\n",
    "model5=Sequential()    \n",
    "model5.add(Convolution3D(10, 3, 3, 3, input_shape=(16, 16, 16,1), border_mode='valid', init='he_normal',**W_regularizer=l2(.05)**))    \n",
    "model5.add(BatchNormalization())    \n",
    "model5.add(Activation('relu'))    \n",
    "model5.add(Flatten())    \n",
    "model5.add(Dropout(0.2))    \n",
    "model5.add(Dense(20, init='glorot_normal', activation='tanh'**, W_regularizer=l2(.05)**))    \n",
    "\n",
    "merged = Merge([model1, model2, model3, model4, model5], mode='concat')    \n",
    "final_model = Sequential()    \n",
    "final_model.add(merged)    \n",
    "final_model.add(Dense(**10**, init='glorot_normal', activation=**'relu'**,W_regularizer=l2(.05)))    \n",
    "final_model.add(Dense(1, init='glorot_normal', activation=**'relu'**))    \n",
    "final_model.compile(loss='binary_crossentropy', optimizer=adam, metrics=['accuracy'])    \n",
    "\n",
    "history=final_model.fit([X1, X2, X3, X4, X5], y, validation_split=0.2, nb_epoch=80, **batch_size=8**,verbose=0, callbacks=[callbacks1,callbacks3]) \n"
   ]
  },
  {
   "cell_type": "code",
   "execution_count": null,
   "metadata": {
    "collapsed": true
   },
   "outputs": [],
   "source": [
    "class Callback(object):\n",
    "    '''Abstract base class used to build new callbacks.\n",
    "    # Properties\n",
    "        params: dict. Training parameters\n",
    "            (eg. verbosity, batch size, number of epochs...).\n",
    "        model: instance of `keras.models.Model`.\n",
    "            Reference of the model being trained.\n",
    "    The `logs` dictionary that callback methods\n",
    "    take as argument will contain keys for quantities relevant to\n",
    "    the current batch or epoch.\n",
    "    Currently, the `.fit()` method of the `Sequential` model class\n",
    "    will include the following quantities in the `logs` that\n",
    "    it passes to its callbacks:\n",
    "        on_epoch_end: logs include `acc` and `loss`, and\n",
    "            optionally include `val_loss`\n",
    "            (if validation is enabled in `fit`), and `val_acc`\n",
    "            (if validation and accuracy monitoring are enabled).\n",
    "        on_batch_begin: logs include `size`,\n",
    "            the number of samples in the current batch.\n",
    "        on_batch_end: logs include `loss`, and optionally `acc`\n",
    "            (if accuracy monitoring is enabled).\n",
    "    '''\n",
    "    def __init__(self):\n",
    "        pass\n",
    "\n",
    "    def _set_params(self, params):\n",
    "        self.params = params\n",
    "\n",
    "    def _set_model(self, model):\n",
    "        self.model = model\n",
    "\n",
    "    def on_epoch_begin(self, epoch, logs={}):\n",
    "        pass\n",
    "\n",
    "    def on_epoch_end(self, epoch, logs={}):\n",
    "        pass\n",
    "\n",
    "    def on_batch_begin(self, batch, logs={}):\n",
    "        pass\n",
    "\n",
    "    def on_batch_end(self, batch, logs={}):\n",
    "        pass\n",
    "\n",
    "    def on_train_begin(self, logs={}):\n",
    "        pass\n",
    "\n",
    "    def on_train_end(self, logs={}):\n",
    "        pass"
   ]
  },
  {
   "cell_type": "code",
   "execution_count": null,
   "metadata": {
    "collapsed": false
   },
   "outputs": [],
   "source": [
    "class ReduceLROnPlateau(Callback):\n",
    "    '''Reduce learning rate when a metric has stopped improving.\n",
    "    Models often benefit from reducing the learning rate by a factor\n",
    "    of 2-10 once learning stagnates. This callback monitors a\n",
    "    quantity and if no improvement is seen for a 'patience' number\n",
    "    of epochs, the learning rate is reduced.\n",
    "    # Example\n",
    "        ```python\n",
    "            reduce_lr = ReduceLROnPlateau(monitor='val_loss', factor=0.2,\n",
    "                                          patience=5, min_lr=0.001)\n",
    "            model.fit(X_train, Y_train, callbacks=[reduce_lr])\n",
    "        ```\n",
    "    # Arguments\n",
    "        monitor: quantity to be monitored.\n",
    "        factor: factor by which the learning rate will\n",
    "            be reduced. new_lr = lr * factor\n",
    "        patience: number of epochs with no improvement\n",
    "            after which learning rate will be reduced.\n",
    "        verbose: int. 0: quiet, 1: update messages.\n",
    "        mode: one of {auto, min, max}. In `min` mode,\n",
    "            lr will be reduced when the quantity\n",
    "            monitored has stopped decreasing; in `max`\n",
    "            mode it will be reduced when the quantity\n",
    "            monitored has stopped increasing; in `auto`\n",
    "            mode, the direction is automatically inferred\n",
    "            from the name of the monitored quantity.\n",
    "        epsilon: threshold for measuring the new optimum,\n",
    "            to only focus on significant changes.\n",
    "        cooldown: number of epochs to wait before resuming\n",
    "            normal operation after lr has been reduced.\n",
    "        min_lr: lower bound on the learning rate.\n",
    "    '''\n",
    "\n",
    "    def __init__(self, monitor='val_loss', factor=0.1, patience=10,\n",
    "                 verbose=0, mode='auto', epsilon=1e-4, cooldown=0, min_lr=0):\n",
    "        super(Callback, self).__init__()\n",
    "\n",
    "        self.monitor = monitor\n",
    "        if factor >= 1.0:\n",
    "            raise ValueError('ReduceLROnPlateau does not support a factor >= 1.0.')\n",
    "        self.factor = factor\n",
    "        self.min_lr = min_lr\n",
    "        self.epsilon = epsilon\n",
    "        self.patience = patience\n",
    "        self.verbose = verbose\n",
    "        self.cooldown = cooldown\n",
    "        self.cooldown_counter = 0  # Cooldown counter.\n",
    "        self.wait = 0\n",
    "        self.best = 0\n",
    "        self.mode = mode\n",
    "        self.monitor_op = None\n",
    "        self.reset()\n",
    "\n",
    "    def reset(self):\n",
    "        if self.mode not in ['auto', 'min', 'max']:\n",
    "            warnings.warn('Learning Rate Plateau Reducing mode %s is unknown, '\n",
    "                          'fallback to auto mode.' % (self.mode), RuntimeWarning)\n",
    "            self.mode = 'auto'\n",
    "        if self.mode == 'min' or (self.mode == 'auto' and 'acc' not in self.monitor):\n",
    "            self.monitor_op = lambda a, b: np.less(a, b - self.epsilon)\n",
    "            self.best = np.Inf\n",
    "        else:\n",
    "            self.monitor_op = lambda a, b: np.greater(a, b + self.epsilon)\n",
    "            self.best = -np.Inf\n",
    "        self.cooldown_counter = 0\n",
    "        self.wait = 0\n",
    "        self.lr_epsilon = self.min_lr * 1e-4\n",
    "\n",
    "    def on_train_begin(self, logs={}):\n",
    "        self.reset()\n",
    "\n",
    "    def on_epoch_end(self, epoch, logs={}):\n",
    "        logs['lr'] = K.get_value(self.model.optimizer.lr)\n",
    "        current = logs.get(self.monitor)\n",
    "        if current is None:\n",
    "            warnings.warn('Learning Rate Plateau Reducing requires %s available!' %\n",
    "                          self.monitor, RuntimeWarning)\n",
    "        else:\n",
    "            if self.in_cooldown():\n",
    "                self.cooldown_counter -= 1\n",
    "                self.wait = 0\n",
    "\n",
    "            if self.monitor_op(current, self.best):\n",
    "                self.best = current\n",
    "                self.wait = 0\n",
    "            elif not self.in_cooldown():\n",
    "                if self.wait >= self.patience:\n",
    "                    old_lr = float(K.get_value(self.model.optimizer.lr))\n",
    "                    if old_lr > self.min_lr + self.lr_epsilon:\n",
    "                        new_lr = old_lr * self.factor\n",
    "                        new_lr = max(new_lr, self.min_lr)\n",
    "                        K.set_value(self.model.optimizer.lr, new_lr)\n",
    "                        if self.verbose > 0:\n",
    "                            print('\\nEpoch %05d: reducing learning rate to %s.' % (epoch, new_lr))\n",
    "                        self.cooldown_counter = self.cooldown\n",
    "                        self.wait = 0\n",
    "                self.wait += 1\n",
    "\n",
    "    def in_cooldown(self):\n",
    "        return self.cooldown_counter > 0"
   ]
  },
  {
   "cell_type": "code",
   "execution_count": null,
   "metadata": {
    "collapsed": true
   },
   "outputs": [],
   "source": [
    "# To load a model\n",
    "\n",
    "from keras.models import load_model\n",
    "from sklearn.metrics import confusion_matrix\n",
    "from sklearn.metrics import  accuracy_score\n",
    "\n",
    "model=load_model('m504a.h5')\n",
    "\n",
    "y_predC=model.predict_classes([X1test, X2test, X3test, X4test, X5test])\n",
    "y_predC=np.squeeze(y_predC)\n",
    "\n",
    "namesTest=pd.read_csv('scansTestFold1/scansNamesTestFold1.csv')\n",
    "namesTestDF=pd.DataFrame(namesTest)\n",
    "y_true=namesTestDF.label.values.astype(int)\n",
    "\n",
    "print accuracy_score(y_true,y_predC)\n",
    "confusion_matrix(y_true,y_predC)"
   ]
  }
 ],
 "metadata": {
  "kernelspec": {
   "display_name": "Python 2",
   "language": "python",
   "name": "python2"
  },
  "language_info": {
   "codemirror_mode": {
    "name": "ipython",
    "version": 2
   },
   "file_extension": ".py",
   "mimetype": "text/x-python",
   "name": "python",
   "nbconvert_exporter": "python",
   "pygments_lexer": "ipython2",
   "version": "2.7.12"
  }
 },
 "nbformat": 4,
 "nbformat_minor": 0
}
