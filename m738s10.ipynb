{
 "cells": [
  {
   "cell_type": "code",
   "execution_count": 1,
   "metadata": {
    "collapsed": true
   },
   "outputs": [],
   "source": [
    "import scipy.io\n",
    "import numpy as np, h5py\n",
    "import matplotlib.pyplot as plt\n",
    "import copy\n",
    "import pandas as pd\n",
    "import pickle\n",
    "import random\n",
    "%matplotlib inline"
   ]
  },
  {
   "cell_type": "code",
   "execution_count": 2,
   "metadata": {
    "collapsed": true
   },
   "outputs": [],
   "source": [
    "from pylab import rcParams\n",
    "rcParams['figure.figsize'] = 10, 5\n",
    "rcParams['figure.dpi']=150\n",
    "rcParams['lines.linewidth']=1\n",
    "rcParams['axes.grid']=True\n",
    "rcParams['axes.facecolor']='#FFFFFF'\n",
    "rcParams['font.size']=14\n",
    "rcParams['patch.edgecolor']='none'"
   ]
  },
  {
   "cell_type": "code",
   "execution_count": 3,
   "metadata": {
    "collapsed": true
   },
   "outputs": [],
   "source": [
    "# fix random seed for reproducibility\n",
    "seed = 7\n",
    "np.random.seed(seed)"
   ]
  },
  {
   "cell_type": "code",
   "execution_count": 4,
   "metadata": {
    "collapsed": true
   },
   "outputs": [],
   "source": [
    "def readScan(scan):\n",
    "    # We read the file saved in Matlab. There is only one variable in the file called scansMini\n",
    "    data = h5py.File(scan, 'r')\n",
    "    Xscans=data.get('scansMini')\n",
    "    # We have to get the values into the right format (subjects, dim1, dim2, dim3, channels)\n",
    "    X=copy.copy(Xscans.value)\n",
    "    X=np.expand_dims(X,4)\n",
    "    X1=np.rollaxis(X,3)\n",
    "    return X1"
   ]
  },
  {
   "cell_type": "code",
   "execution_count": 5,
   "metadata": {
    "collapsed": true
   },
   "outputs": [],
   "source": [
    "def readLabels(labels):\n",
    "    data = h5py.File(labels, 'r')\n",
    "    Xscans=data.get('labels')\n",
    "    X=copy.copy(Xscans.value)\n",
    "    X2=np.squeeze(X).astype(int)\n",
    "    return X2"
   ]
  },
  {
   "cell_type": "code",
   "execution_count": 6,
   "metadata": {
    "collapsed": false
   },
   "outputs": [],
   "source": [
    "y=readLabels('fold1/train/labelsTrain.mat')\n",
    "X1=readScan('fold1/train/scansMiniTrain1.mat')\n",
    "X2=readScan('fold1/train/scansMiniTrain2.mat')\n",
    "X3=readScan('fold1/train/scansMiniTrain3.mat')\n",
    "X4=readScan('fold1/train/scansMiniTrain4.mat')\n",
    "X5=readScan('fold1/train/scansMiniTrain5.mat')\n",
    "X6=readScan('fold1/train/scansMiniTrain6.mat')\n",
    "X7=readScan('fold1/train/scansMiniTrain7.mat')\n",
    "X8=readScan('fold1/train/scansMiniTrain8.mat')\n",
    "X9=readScan('fold1/train/scansMiniTrain9.mat')\n",
    "X10=readScan('fold1/train/scansMiniTrain10.mat')\n",
    "X11=readScan('fold1/train/scansMiniTrain11.mat')\n",
    "X12=readScan('fold1/train/scansMiniTrain12.mat')\n",
    "X13=readScan('fold1/train/scansMiniTrain13.mat')\n",
    "X14=readScan('fold1/train/scansMiniTrain14.mat')\n",
    "X15=readScan('fold1/train/scansMiniTrain15.mat')\n",
    "X16=readScan('fold1/train/scansMiniTrain16.mat')\n",
    "X17=readScan('fold1/train/scansMiniTrain17.mat')"
   ]
  },
  {
   "cell_type": "code",
   "execution_count": 7,
   "metadata": {
    "collapsed": false
   },
   "outputs": [
    {
     "data": {
      "text/plain": [
       "<matplotlib.collections.PolyCollection at 0x7f247292e790>"
      ]
     },
     "execution_count": 7,
     "metadata": {},
     "output_type": "execute_result"
    },
    {
     "data": {
      "image/png": "[encoded data removed]",
      "text/plain": [
       "<matplotlib.figure.Figure at 0x7f2472a6e7d0>"
      ]
     },
     "metadata": {},
     "output_type": "display_data"
    }
   ],
   "source": [
    "f, (ax1, ax2) = plt.subplots(1, 2, sharey=True)\n",
    "ax1.pcolor((X1[10,:,:,0,0]))\n",
    "ax1.set_title('Sharing Y axis')\n",
    "ax2.pcolor((X2[10,:,:,0,0]))"
   ]
  },
  {
   "cell_type": "code",
   "execution_count": 8,
   "metadata": {
    "collapsed": false
   },
   "outputs": [
    {
     "data": {
      "text/plain": [
       "(248, 10, 10, 10, 1)"
      ]
     },
     "execution_count": 8,
     "metadata": {},
     "output_type": "execute_result"
    }
   ],
   "source": [
    "X1.shape"
   ]
  },
  {
   "cell_type": "markdown",
   "metadata": {},
   "source": [
    "---"
   ]
  },
  {
   "cell_type": "markdown",
   "metadata": {},
   "source": [
    "## Keras libraries"
   ]
  },
  {
   "cell_type": "code",
   "execution_count": 9,
   "metadata": {
    "collapsed": false
   },
   "outputs": [
    {
     "name": "stderr",
     "output_type": "stream",
     "text": [
      "Using TensorFlow backend.\n"
     ]
    }
   ],
   "source": [
    "from keras.models import Sequential\n",
    "from keras.layers import Dense\n",
    "from keras.layers import Merge\n",
    "from keras.layers.convolutional import Convolution3D\n",
    "from keras.layers.pooling import MaxPooling3D\n",
    "from keras.layers.core import Dense, Flatten\n",
    "from keras.layers import Dropout\n",
    "from keras.optimizers import Adam\n",
    "from keras.optimizers import SGD\n",
    "from keras.wrappers.scikit_learn import KerasClassifier\n",
    "from keras.callbacks import EarlyStopping\n",
    "import time"
   ]
  },
  {
   "cell_type": "code",
   "execution_count": 10,
   "metadata": {
    "collapsed": false
   },
   "outputs": [],
   "source": [
    "import keras.backend as K\n",
    "from keras.callbacks import ModelCheckpoint\n",
    "from keras.callbacks import LearningRateScheduler\n",
    "from keras.layers import Activation\n",
    "from keras.layers.normalization import BatchNormalization\n",
    "from keras.regularizers import l2\n",
    "import math"
   ]
  },
  {
   "cell_type": "markdown",
   "metadata": {
    "collapsed": true
   },
   "source": [
    "---"
   ]
  },
  {
   "cell_type": "markdown",
   "metadata": {},
   "source": [
    "## The model"
   ]
  },
  {
   "cell_type": "code",
   "execution_count": 11,
   "metadata": {
    "collapsed": true
   },
   "outputs": [],
   "source": [
    "adam=Adam(lr=0.0005, beta_1=0.9, beta_2=0.999, epsilon=1e-08, decay=1e-04)#"
   ]
  },
  {
   "cell_type": "code",
   "execution_count": null,
   "metadata": {
    "collapsed": true
   },
   "outputs": [],
   "source": [
    "final_model.reset_states()\n",
    "model1.reset_states()\n",
    "model2.reset_states()\n",
    "model3.reset_states()\n",
    "model4.reset_states()\n",
    "model5.reset_states()\n",
    "model6.reset_states()\n",
    "model7.reset_states()\n",
    "model8.reset_states()\n",
    "model9.reset_states()\n",
    "model10.reset_states()\n",
    "model11.reset_states()\n",
    "model12.reset_states()\n",
    "model13.reset_states()\n",
    "model14.reset_states()\n",
    "model15.reset_states()\n",
    "model16.reset_states()\n",
    "model17.reset_states()"
   ]
  },
  {
   "cell_type": "code",
   "execution_count": 12,
   "metadata": {
    "collapsed": false
   },
   "outputs": [],
   "source": [
    "fully1W=0.1\n",
    "\n",
    "model1=Sequential()\n",
    "model1.add(Convolution3D(10, 3, 3, 3, input_shape=(10, 10, 10,1), border_mode='valid', init='he_normal', W_regularizer=l2(.05)))\n",
    "model1.add(BatchNormalization())\n",
    "model1.add(Activation('relu'))\n",
    "model1.add(Convolution3D(10, 3, 3, 3, border_mode='valid', init='he_normal', W_regularizer=l2(.05)))\n",
    "model1.add(BatchNormalization())\n",
    "model1.add(Activation('relu'))\n",
    "model1.add(Flatten())\n",
    "model1.add(Dropout(0.2))\n",
    "model1.add(Dense(20, init='glorot_normal', activation='tanh',W_regularizer=l2(fully1W)))\n",
    "\n",
    "model2=Sequential()\n",
    "model2.add(Convolution3D(10, 3, 3, 3, input_shape=(10, 10, 10,1), border_mode='valid',  init='he_normal',W_regularizer=l2(.05)))\n",
    "model2.add(BatchNormalization())\n",
    "model2.add(Activation('relu'))\n",
    "model2.add(Convolution3D(10, 3, 3, 3, border_mode='valid', init='he_normal', W_regularizer=l2(.05)))\n",
    "model2.add(BatchNormalization())\n",
    "model2.add(Activation('relu'))\n",
    "model2.add(Flatten())\n",
    "model2.add(Dropout(0.2))\n",
    "model2.add(Dense(20, init='glorot_normal', activation='tanh',W_regularizer=l2(fully1W)))\n",
    "\n",
    "model3=Sequential()\n",
    "model3.add(Convolution3D(10, 3, 3, 3, input_shape=(10, 10, 10,1), border_mode='valid',  init='he_normal',W_regularizer=l2(.05)))\n",
    "model3.add(BatchNormalization())\n",
    "model3.add(Activation('relu'))\n",
    "model3.add(Convolution3D(10, 3, 3, 3, border_mode='valid', init='he_normal', W_regularizer=l2(.05)))\n",
    "model3.add(BatchNormalization())\n",
    "model3.add(Activation('relu'))\n",
    "model3.add(Flatten())\n",
    "model3.add(Dropout(0.2))\n",
    "model3.add(Dense(20, init='glorot_normal', activation='tanh',W_regularizer=l2(fully1W)))\n",
    "\n",
    "model4=Sequential()\n",
    "model4.add(Convolution3D(10, 3, 3, 3, input_shape=(10, 10, 10,1), border_mode='valid',  init='he_normal',W_regularizer=l2(.05)))\n",
    "model4.add(BatchNormalization())\n",
    "model4.add(Activation('relu'))\n",
    "model4.add(Convolution3D(10, 3, 3, 3, border_mode='valid', init='he_normal', W_regularizer=l2(.05)))\n",
    "model4.add(BatchNormalization())\n",
    "model4.add(Activation('relu'))\n",
    "model4.add(Flatten())\n",
    "model4.add(Dropout(0.2))\n",
    "model4.add(Dense(20, init='glorot_normal', activation='tanh',W_regularizer=l2(fully1W)))\n",
    "\n",
    "model5=Sequential()\n",
    "model5.add(Convolution3D(10, 3, 3, 3, input_shape=(10, 10, 10,1), border_mode='valid', init='he_normal',W_regularizer=l2(.05)))\n",
    "model5.add(BatchNormalization())\n",
    "model5.add(Activation('relu'))\n",
    "model5.add(Convolution3D(10, 3, 3, 3, border_mode='valid', init='he_normal', W_regularizer=l2(.05)))\n",
    "model5.add(BatchNormalization())\n",
    "model5.add(Activation('relu'))\n",
    "model5.add(Flatten())\n",
    "model5.add(Dropout(0.2))\n",
    "model5.add(Dense(20, init='glorot_normal', activation='tanh',W_regularizer=l2(fully1W)))\n",
    "\n",
    "model6=Sequential()\n",
    "model6.add(Convolution3D(10, 3, 3, 3, input_shape=(10, 10, 10,1), border_mode='valid', init='he_normal',W_regularizer=l2(.05)))\n",
    "model6.add(BatchNormalization())\n",
    "model6.add(Activation('relu'))\n",
    "model6.add(Convolution3D(10, 3, 3, 3, border_mode='valid', init='he_normal', W_regularizer=l2(.05)))\n",
    "model6.add(BatchNormalization())\n",
    "model6.add(Activation('relu'))\n",
    "model6.add(Flatten())\n",
    "model6.add(Dropout(0.2))\n",
    "model6.add(Dense(20, init='glorot_normal', activation='tanh',W_regularizer=l2(fully1W)))\n",
    "\n",
    "model7=Sequential()\n",
    "model7.add(Convolution3D(10, 3, 3, 3, input_shape=(10, 10, 10,1), border_mode='valid',  init='he_normal',W_regularizer=l2(.05)))\n",
    "model7.add(BatchNormalization())\n",
    "model7.add(Activation('relu'))\n",
    "model7.add(Convolution3D(10, 3, 3, 3, border_mode='valid', init='he_normal', W_regularizer=l2(.05)))\n",
    "model7.add(BatchNormalization())\n",
    "model7.add(Activation('relu'))\n",
    "model7.add(Flatten())\n",
    "model7.add(Dropout(0.2))\n",
    "model7.add(Dense(20, init='glorot_normal', activation='tanh',W_regularizer=l2(fully1W)))\n",
    "\n",
    "model8=Sequential()\n",
    "model8.add(Convolution3D(10, 3, 3, 3, input_shape=(10, 10, 10,1), border_mode='valid', init='he_normal',W_regularizer=l2(.05)))\n",
    "model8.add(BatchNormalization())\n",
    "model8.add(Activation('relu'))\n",
    "model8.add(Convolution3D(10, 3, 3, 3, border_mode='valid', init='he_normal', W_regularizer=l2(.05)))\n",
    "model8.add(BatchNormalization())\n",
    "model8.add(Activation('relu'))\n",
    "model8.add(Flatten())\n",
    "model8.add(Dropout(0.2))\n",
    "model8.add(Dense(20, init='glorot_normal', activation='tanh',W_regularizer=l2(fully1W)))\n",
    "\n",
    "model9=Sequential()\n",
    "model9.add(Convolution3D(10, 3, 3, 3, input_shape=(10, 10, 10,1), border_mode='valid', init='he_normal',W_regularizer=l2(.05)))\n",
    "model9.add(BatchNormalization())\n",
    "model9.add(Activation('relu'))\n",
    "model9.add(Convolution3D(10, 3, 3, 3, border_mode='valid', init='he_normal', W_regularizer=l2(.05)))\n",
    "model9.add(BatchNormalization())\n",
    "model9.add(Activation('relu'))\n",
    "model9.add(Flatten())\n",
    "model9.add(Dropout(0.2))\n",
    "model9.add(Dense(20, init='glorot_normal', activation='tanh',W_regularizer=l2(fully1W)))\n",
    "\n",
    "model10=Sequential()\n",
    "model10.add(Convolution3D(10, 3, 3, 3, input_shape=(10, 10, 10,1), border_mode='valid', init='he_normal',W_regularizer=l2(.05)))\n",
    "model10.add(BatchNormalization())\n",
    "model10.add(Activation('relu'))\n",
    "model10.add(Convolution3D(10, 3, 3, 3, border_mode='valid', init='he_normal', W_regularizer=l2(.05)))\n",
    "model10.add(BatchNormalization())\n",
    "model10.add(Activation('relu'))\n",
    "model10.add(Flatten())\n",
    "model10.add(Dropout(0.2))\n",
    "model10.add(Dense(20, init='glorot_normal', activation='tanh',W_regularizer=l2(fully1W)))\n",
    "\n",
    "model11=Sequential()\n",
    "model11.add(Convolution3D(10, 3, 3, 3, input_shape=(10, 10, 10,1), border_mode='valid', init='he_normal',W_regularizer=l2(.05)))\n",
    "model11.add(BatchNormalization())\n",
    "model11.add(Activation('relu'))\n",
    "model11.add(Convolution3D(10, 3, 3, 3, border_mode='valid', init='he_normal', W_regularizer=l2(.05)))\n",
    "model11.add(BatchNormalization())\n",
    "model11.add(Activation('relu'))\n",
    "model11.add(Flatten())\n",
    "model11.add(Dropout(0.2))\n",
    "model11.add(Dense(20, init='glorot_normal', activation='tanh',W_regularizer=l2(fully1W)))\n",
    "\n",
    "model12=Sequential()\n",
    "model12.add(Convolution3D(10, 3, 3, 3, input_shape=(10, 10, 10,1), border_mode='valid', init='he_normal',W_regularizer=l2(.05)))\n",
    "model12.add(BatchNormalization())\n",
    "model12.add(Activation('relu'))\n",
    "model12.add(Convolution3D(10, 3, 3, 3, border_mode='valid', init='he_normal', W_regularizer=l2(.05)))\n",
    "model12.add(BatchNormalization())\n",
    "model12.add(Activation('relu'))\n",
    "model12.add(Flatten())\n",
    "model12.add(Dropout(0.2))\n",
    "model12.add(Dense(20, init='glorot_normal', activation='tanh',W_regularizer=l2(fully1W)))\n",
    "\n",
    "model13=Sequential()\n",
    "model13.add(Convolution3D(10, 3, 3, 3, input_shape=(10, 10, 10,1), border_mode='valid', init='he_normal',W_regularizer=l2(.05)))\n",
    "model13.add(BatchNormalization())\n",
    "model13.add(Activation('relu'))\n",
    "model13.add(Convolution3D(10, 3, 3, 3, border_mode='valid', init='he_normal', W_regularizer=l2(.05)))\n",
    "model13.add(BatchNormalization())\n",
    "model13.add(Activation('relu'))\n",
    "model13.add(Flatten())\n",
    "model13.add(Dropout(0.2))\n",
    "model13.add(Dense(20, init='glorot_normal', activation='tanh',W_regularizer=l2(fully1W)))\n",
    "\n",
    "model14=Sequential()\n",
    "model14.add(Convolution3D(10, 3, 3, 3, input_shape=(10, 10, 10,1), border_mode='valid', init='he_normal',W_regularizer=l2(.05)))\n",
    "model14.add(BatchNormalization())\n",
    "model14.add(Activation('relu'))\n",
    "model14.add(Convolution3D(10, 3, 3, 3, border_mode='valid', init='he_normal', W_regularizer=l2(.05)))\n",
    "model14.add(BatchNormalization())\n",
    "model14.add(Activation('relu'))\n",
    "model14.add(Flatten())\n",
    "model14.add(Dropout(0.2))\n",
    "model14.add(Dense(20, init='glorot_normal', activation='tanh',W_regularizer=l2(fully1W)))\n",
    "\n",
    "model15=Sequential()\n",
    "model15.add(Convolution3D(10, 3, 3, 3, input_shape=(10, 10, 10,1), border_mode='valid', init='he_normal',W_regularizer=l2(.05)))\n",
    "model15.add(BatchNormalization())\n",
    "model15.add(Activation('relu'))\n",
    "model15.add(Convolution3D(10, 3, 3, 3, border_mode='valid', init='he_normal', W_regularizer=l2(.05)))\n",
    "model15.add(BatchNormalization())\n",
    "model15.add(Activation('relu'))\n",
    "model15.add(Flatten())\n",
    "model15.add(Dropout(0.2))\n",
    "model15.add(Dense(20, init='glorot_normal', activation='tanh',W_regularizer=l2(fully1W)))\n",
    "\n",
    "model16=Sequential()\n",
    "model16.add(Convolution3D(10, 3, 3, 3, input_shape=(10, 10, 10,1), border_mode='valid', init='he_normal',W_regularizer=l2(.05)))\n",
    "model16.add(BatchNormalization())\n",
    "model16.add(Activation('relu'))\n",
    "model16.add(Convolution3D(10, 3, 3, 3, border_mode='valid', init='he_normal', W_regularizer=l2(.05)))\n",
    "model16.add(BatchNormalization())\n",
    "model16.add(Activation('relu'))\n",
    "model16.add(Flatten())\n",
    "model16.add(Dropout(0.2))\n",
    "model16.add(Dense(20, init='glorot_normal', activation='tanh',W_regularizer=l2(fully1W)))\n",
    "\n",
    "model17=Sequential()\n",
    "model17.add(Convolution3D(10, 3, 3, 3, input_shape=(10, 10, 10,1), border_mode='valid', init='he_normal',W_regularizer=l2(.05)))\n",
    "model17.add(BatchNormalization())\n",
    "model17.add(Activation('relu'))\n",
    "model17.add(Convolution3D(10, 3, 3, 3, border_mode='valid', init='he_normal', W_regularizer=l2(.05)))\n",
    "model17.add(BatchNormalization())\n",
    "model17.add(Activation('relu'))\n",
    "model17.add(Flatten())\n",
    "model17.add(Dropout(0.2))\n",
    "model17.add(Dense(20, init='glorot_normal', activation='tanh',W_regularizer=l2(fully1W)))\n",
    "\n",
    "merged = Merge([model1, model2, model3, model4, model5, model6, model7, model8, model9, model10, model11, model12, model13, model14, model15, model16, model17], mode='concat')\n",
    "final_model = Sequential()\n",
    "final_model.add(merged)\n",
    "final_model.add(Dense(10, init='glorot_normal', activation='tanh',W_regularizer=l2(.01)))\n",
    "final_model.add(Dense(1, init='glorot_normal', activation='tanh',W_regularizer=l2(.05)))\n",
    "final_model.compile(loss='binary_crossentropy', optimizer=adam, metrics=['accuracy'])"
   ]
  },
  {
   "cell_type": "code",
   "execution_count": 13,
   "metadata": {
    "collapsed": false
   },
   "outputs": [
    {
     "name": "stdout",
     "output_type": "stream",
     "text": [
      "0.0005\n"
     ]
    }
   ],
   "source": [
    "import keras.backend as K\n",
    "print K.get_value(final_model.optimizer.lr)"
   ]
  },
  {
   "cell_type": "code",
   "execution_count": 14,
   "metadata": {
    "collapsed": false
   },
   "outputs": [
    {
     "name": "stdout",
     "output_type": "stream",
     "text": [
      "Train on 198 samples, validate on 50 samples\n",
      "Epoch 1/1\n",
      "329s - loss: 67.7765 - acc: 0.6515 - val_loss: 0.6669 - val_acc: 0.4400\n",
      "Train on 198 samples, validate on 50 samples\n",
      "Epoch 1/1\n",
      "334s - loss: 49.7540 - acc: 0.6818 - val_loss: 0.7122 - val_acc: 0.3200\n",
      "Train on 198 samples, validate on 50 samples\n",
      "Epoch 1/1\n",
      "262s - loss: 37.7735 - acc: 0.7727 - val_loss: 0.6181 - val_acc: 0.7200\n",
      "Train on 198 samples, validate on 50 samples\n",
      "Epoch 1/1\n",
      "435s - loss: 29.4700 - acc: 0.8232 - val_loss: 0.9151 - val_acc: 0.3200\n",
      "Train on 198 samples, validate on 50 samples\n",
      "Epoch 1/1\n",
      "457s - loss: 24.8822 - acc: 0.8384 - val_loss: 0.9770 - val_acc: 0.3200\n",
      "Train on 198 samples, validate on 50 samples\n",
      "Epoch 1/1\n",
      "451s - loss: 22.4824 - acc: 0.9192 - val_loss: 0.9201 - val_acc: 0.3200\n",
      "Train on 198 samples, validate on 50 samples\n",
      "Epoch 1/1\n",
      "392s - loss: 20.7978 - acc: 0.9141 - val_loss: 0.9526 - val_acc: 0.3200\n",
      "Train on 198 samples, validate on 50 samples\n",
      "Epoch 1/1\n",
      "315s - loss: 19.7857 - acc: 0.9747 - val_loss: 0.8955 - val_acc: 0.3200\n",
      "Train on 198 samples, validate on 50 samples\n",
      "Epoch 1/1\n",
      "332s - loss: 19.1944 - acc: 0.9495 - val_loss: 0.8783 - val_acc: 0.3400\n",
      "Train on 198 samples, validate on 50 samples\n",
      "Epoch 1/1\n",
      "312s - loss: 18.9403 - acc: 0.9495 - val_loss: 0.7800 - val_acc: 0.3600\n",
      "Train on 198 samples, validate on 50 samples\n",
      "Epoch 1/1\n",
      "312s - loss: 18.7458 - acc: 0.9545 - val_loss: 0.8768 - val_acc: 0.3600\n",
      "Train on 198 samples, validate on 50 samples\n",
      "Epoch 1/1\n",
      "338s - loss: 18.4570 - acc: 0.9697 - val_loss: 0.7252 - val_acc: 0.5000\n",
      "Train on 198 samples, validate on 50 samples\n",
      "Epoch 1/1\n",
      "315s - loss: 18.2404 - acc: 0.9646 - val_loss: 0.7941 - val_acc: 0.4600\n",
      "Train on 198 samples, validate on 50 samples\n",
      "Epoch 1/1\n",
      "324s - loss: 18.0063 - acc: 0.9646 - val_loss: 0.6586 - val_acc: 0.5800\n",
      "Train on 198 samples, validate on 50 samples\n",
      "Epoch 1/1\n",
      "347s - loss: 17.7444 - acc: 0.9444 - val_loss: 0.6820 - val_acc: 0.5600\n",
      "Train on 198 samples, validate on 50 samples\n",
      "Epoch 1/1\n",
      "355s - loss: 17.5012 - acc: 0.9798 - val_loss: 0.5281 - val_acc: 0.6600\n",
      "Train on 198 samples, validate on 50 samples\n",
      "Epoch 1/1\n",
      "336s - loss: 17.2850 - acc: 0.9394 - val_loss: 0.6293 - val_acc: 0.6000\n",
      "Train on 198 samples, validate on 50 samples\n",
      "Epoch 1/1\n",
      "310s - loss: 17.0149 - acc: 0.9646 - val_loss: 0.5197 - val_acc: 0.6600\n",
      "Train on 198 samples, validate on 50 samples\n",
      "Epoch 1/1\n",
      "307s - loss: 16.7789 - acc: 0.9798 - val_loss: 0.5042 - val_acc: 0.7000\n",
      "Train on 198 samples, validate on 50 samples\n",
      "Epoch 1/1\n",
      "308s - loss: 16.5886 - acc: 0.9798 - val_loss: 0.4289 - val_acc: 0.8200\n",
      "Train on 198 samples, validate on 50 samples\n",
      "Epoch 1/1\n",
      "308s - loss: 16.4738 - acc: 0.9747 - val_loss: 0.4114 - val_acc: 0.8200\n",
      "Train on 198 samples, validate on 50 samples\n",
      "Epoch 1/1\n",
      "318s - loss: 16.3551 - acc: 0.9747 - val_loss: 0.3898 - val_acc: 0.8000\n",
      "Train on 198 samples, validate on 50 samples\n",
      "Epoch 1/1\n",
      "310s - loss: 16.2486 - acc: 0.9646 - val_loss: 0.5600 - val_acc: 0.7000\n",
      "Train on 198 samples, validate on 50 samples\n",
      "Epoch 1/1\n",
      "328s - loss: 16.1084 - acc: 0.9899 - val_loss: 0.4071 - val_acc: 0.7400\n",
      "Train on 198 samples, validate on 50 samples\n",
      "Epoch 1/1\n",
      "360s - loss: 16.0164 - acc: 0.9848 - val_loss: 0.3707 - val_acc: 0.7800\n",
      "Train on 198 samples, validate on 50 samples\n",
      "Epoch 1/1\n",
      "351s - loss: 15.9173 - acc: 0.9899 - val_loss: 0.3545 - val_acc: 0.8000\n",
      "Train on 198 samples, validate on 50 samples\n",
      "Epoch 1/1\n",
      "389s - loss: 15.8363 - acc: 0.9747 - val_loss: 0.3339 - val_acc: 0.8200\n",
      "Train on 198 samples, validate on 50 samples\n",
      "Epoch 1/1\n",
      "366s - loss: 15.7551 - acc: 0.9899 - val_loss: 0.3343 - val_acc: 0.8200\n",
      "Train on 198 samples, validate on 50 samples\n",
      "Epoch 1/1\n",
      "345s - loss: 15.6562 - acc: 0.9899 - val_loss: 0.3135 - val_acc: 0.8200\n",
      "Train on 198 samples, validate on 50 samples\n",
      "Epoch 1/1\n",
      "343s - loss: 15.5823 - acc: 0.9899 - val_loss: 0.3121 - val_acc: 0.8200\n",
      "Train on 198 samples, validate on 50 samples\n",
      "Epoch 1/1\n",
      "314s - loss: 15.5263 - acc: 0.9596 - val_loss: 0.3126 - val_acc: 0.8400\n",
      "Train on 198 samples, validate on 50 samples\n",
      "Epoch 1/1\n",
      "352s - loss: 15.4827 - acc: 0.9697 - val_loss: 0.3370 - val_acc: 0.8400\n",
      "Train on 198 samples, validate on 50 samples\n",
      "Epoch 1/1\n",
      "395s - loss: 15.4288 - acc: 0.9747 - val_loss: 0.5572 - val_acc: 0.8400\n",
      "Train on 198 samples, validate on 50 samples\n",
      "Epoch 1/1\n",
      "320s - loss: 15.3943 - acc: 0.9848 - val_loss: 0.5597 - val_acc: 0.8400\n",
      "Train on 198 samples, validate on 50 samples\n",
      "Epoch 1/1\n",
      "341s - loss: 15.3416 - acc: 0.9949 - val_loss: 0.5558 - val_acc: 0.8400\n",
      "Train on 198 samples, validate on 50 samples\n",
      "Epoch 1/1\n",
      "359s - loss: 15.2929 - acc: 0.9747 - val_loss: 0.5504 - val_acc: 0.8400\n",
      "Train on 198 samples, validate on 50 samples\n",
      "Epoch 1/1\n",
      "330s - loss: 15.2424 - acc: 1.0000 - val_loss: 0.5526 - val_acc: 0.8400\n",
      "Train on 198 samples, validate on 50 samples\n",
      "Epoch 1/1\n",
      "332s - loss: 15.2039 - acc: 0.9848 - val_loss: 0.5530 - val_acc: 0.8400\n",
      "Train on 198 samples, validate on 50 samples\n",
      "Epoch 1/1\n",
      "357s - loss: 15.1589 - acc: 0.9848 - val_loss: 0.5465 - val_acc: 0.8400\n",
      "Train on 198 samples, validate on 50 samples\n",
      "Epoch 1/1\n",
      "398s - loss: 15.1175 - acc: 0.9899 - val_loss: 0.5514 - val_acc: 0.8400\n",
      "Train on 198 samples, validate on 50 samples\n",
      "Epoch 1/1\n",
      "374s - loss: 15.0702 - acc: 0.9949 - val_loss: 0.5534 - val_acc: 0.8400\n",
      "Train on 198 samples, validate on 50 samples\n",
      "Epoch 1/1\n",
      "350s - loss: 15.0183 - acc: 0.9949 - val_loss: 0.5477 - val_acc: 0.8400\n",
      "Train on 198 samples, validate on 50 samples\n",
      "Epoch 1/1\n",
      "365s - loss: 14.9911 - acc: 0.9949 - val_loss: 0.5477 - val_acc: 0.8400\n",
      "Train on 198 samples, validate on 50 samples\n",
      "Epoch 1/1\n",
      "340s - loss: 14.9667 - acc: 0.9899 - val_loss: 0.5506 - val_acc: 0.8400\n",
      "Train on 198 samples, validate on 50 samples\n",
      "Epoch 1/1\n",
      "340s - loss: 14.9420 - acc: 0.9949 - val_loss: 0.5453 - val_acc: 0.8600\n",
      "Train on 198 samples, validate on 50 samples\n",
      "Epoch 1/1\n",
      "329s - loss: 14.9172 - acc: 1.0000 - val_loss: 0.5426 - val_acc: 0.8600\n",
      "Train on 198 samples, validate on 50 samples\n",
      "Epoch 1/1\n",
      "356s - loss: 14.9026 - acc: 0.9798 - val_loss: 0.5427 - val_acc: 0.8600\n",
      "Train on 198 samples, validate on 50 samples\n",
      "Epoch 1/1\n",
      "346s - loss: 14.8669 - acc: 0.9949 - val_loss: 0.5429 - val_acc: 0.8600\n",
      "Train on 198 samples, validate on 50 samples\n",
      "Epoch 1/1\n",
      "314s - loss: 14.8408 - acc: 0.9899 - val_loss: 0.5426 - val_acc: 0.8600\n",
      "Train on 198 samples, validate on 50 samples\n",
      "Epoch 1/1\n",
      "345s - loss: 14.8214 - acc: 0.9848 - val_loss: 0.5412 - val_acc: 0.8600\n",
      "Train on 198 samples, validate on 50 samples\n",
      "Epoch 1/1\n",
      "365s - loss: 14.7984 - acc: 0.9949 - val_loss: 0.5408 - val_acc: 0.8600\n",
      "Train on 198 samples, validate on 50 samples\n",
      "Epoch 1/1\n",
      "370s - loss: 14.7923 - acc: 0.9848 - val_loss: 0.5399 - val_acc: 0.8600\n",
      "Train on 198 samples, validate on 50 samples\n",
      "Epoch 1/1\n",
      "376s - loss: 14.7612 - acc: 0.9848 - val_loss: 0.5395 - val_acc: 0.8600\n",
      "Train on 198 samples, validate on 50 samples\n",
      "Epoch 1/1\n",
      "327s - loss: 14.7414 - acc: 0.9848 - val_loss: 0.5402 - val_acc: 0.8600\n",
      "Train on 198 samples, validate on 50 samples\n",
      "Epoch 1/1\n",
      "320s - loss: 14.7358 - acc: 0.9848 - val_loss: 0.5419 - val_acc: 0.8600\n",
      "Train on 198 samples, validate on 50 samples\n",
      "Epoch 1/1\n",
      "368s - loss: 14.7153 - acc: 0.9949 - val_loss: 0.5439 - val_acc: 0.8600\n",
      "Train on 198 samples, validate on 50 samples\n",
      "Epoch 1/1\n",
      "327s - loss: 14.7060 - acc: 0.9949 - val_loss: 0.5432 - val_acc: 0.8600\n",
      "Train on 198 samples, validate on 50 samples\n",
      "Epoch 1/1\n",
      "342s - loss: 14.6933 - acc: 0.9899 - val_loss: 0.5454 - val_acc: 0.8600\n",
      "Train on 198 samples, validate on 50 samples\n",
      "Epoch 1/1\n",
      "339s - loss: 14.6883 - acc: 0.9848 - val_loss: 0.5461 - val_acc: 0.8400\n",
      "Train on 198 samples, validate on 50 samples\n",
      "Epoch 1/1\n",
      "341s - loss: 14.6630 - acc: 0.9848 - val_loss: 0.5460 - val_acc: 0.8400\n",
      "Train on 198 samples, validate on 50 samples\n",
      "Epoch 1/1\n",
      "337s - loss: 14.6690 - acc: 0.9949 - val_loss: 0.5444 - val_acc: 0.8600\n",
      "Train on 198 samples, validate on 50 samples\n",
      "Epoch 1/1\n",
      "358s - loss: 14.6466 - acc: 0.9899 - val_loss: 0.5425 - val_acc: 0.8600\n",
      "Train on 198 samples, validate on 50 samples\n",
      "Epoch 1/1\n",
      "325s - loss: 14.6289 - acc: 0.9697 - val_loss: 0.5429 - val_acc: 0.8600\n",
      "Train on 198 samples, validate on 50 samples\n",
      "Epoch 1/1\n",
      "470s - loss: 14.6327 - acc: 0.9949 - val_loss: 0.5423 - val_acc: 0.8600\n",
      "Train on 198 samples, validate on 50 samples\n",
      "Epoch 1/1\n",
      "450s - loss: 14.6304 - acc: 0.9798 - val_loss: 0.5404 - val_acc: 0.8600\n",
      "Train on 198 samples, validate on 50 samples\n",
      "Epoch 1/1\n",
      "367s - loss: 14.6192 - acc: 1.0000 - val_loss: 0.5414 - val_acc: 0.8600\n",
      "Train on 198 samples, validate on 50 samples\n",
      "Epoch 1/1\n",
      "360s - loss: 14.6147 - acc: 0.9848 - val_loss: 0.5410 - val_acc: 0.8600\n",
      "Train on 198 samples, validate on 50 samples\n",
      "Epoch 1/1\n",
      "324s - loss: 14.6079 - acc: 0.9899 - val_loss: 0.5412 - val_acc: 0.8600\n",
      "Train on 198 samples, validate on 50 samples\n",
      "Epoch 1/1\n",
      "332s - loss: 14.5928 - acc: 0.9949 - val_loss: 0.5411 - val_acc: 0.8600\n",
      "Train on 198 samples, validate on 50 samples\n",
      "Epoch 1/1\n",
      "361s - loss: 14.5864 - acc: 0.9949 - val_loss: 0.5409 - val_acc: 0.8600\n",
      "6.83943624059\n"
     ]
    }
   ],
   "source": [
    "# WATCHOUT: Change the name of the model\n",
    "modelName='738'\n",
    "\n",
    "acc_train=[]\n",
    "loss_train=[]\n",
    "acc_val=[]\n",
    "loss_val=[]\n",
    "all_lr=[]\n",
    "t0 = time.time()\n",
    "\n",
    "# thresholds\n",
    "thres1=.80\n",
    "thres1passed=0\n",
    "thres2=.90\n",
    "thres2passed=0\n",
    "thres3=.93\n",
    "thres3passed=0\n",
    "thres4=.96\n",
    "thres4passed=0\n",
    "maxAcc=0\n",
    "maxAccVal=0\n",
    "countNoIncrease=0\n",
    "minValLoss=10\n",
    "\n",
    "#for iteration in np.linspace(1,70,70):\n",
    "iteration=1\n",
    "while iteration<=70:\n",
    "    \n",
    "    history=final_model.fit([X1, X2, X3, X4, X5, X6, X7, X8, X9, X10, X1, X12, X13, X14, X15, X16, X17], y, validation_split=0.2, nb_epoch=1, batch_size=8,verbose=2)\n",
    "    # Append values\n",
    "    acc_train.append(history.history['acc'])\n",
    "    acc_val.append(history.history['val_acc'])\n",
    "    loss_train.append(history.history['loss'])\n",
    "    loss_val.append(history.history['val_loss'])\n",
    "    all_lr.append(K.get_value(final_model.optimizer.lr))\n",
    "    \n",
    "    ## if we have a bad initialization\n",
    "    if acc_val[-1][0] < 0.00001:\n",
    "        iteration=1\n",
    "        print('reset weights')\n",
    "        random.seed(np.random.randint(100))\n",
    "        restAllModels()\n",
    "        acc_train=[]\n",
    "        loss_train=[]\n",
    "        acc_val=[]\n",
    "        loss_val=[]\n",
    "        all_lr=[]\n",
    "        continue\n",
    "    \n",
    "    # Compare last iteration vs max value of Acc\n",
    "    if acc_train[-1][0]>maxAcc:\n",
    "        maxAcc=max(acc_train)[0]\n",
    "        maxIt=iteration\n",
    "    else:\n",
    "        countNoIncrease=countNoIncrease+1\n",
    "        \n",
    "    if acc_val[-1][0]>maxAccVal:\n",
    "        maxAccVal=max(acc_val)[0]\n",
    "        final_model.save('m{0}s10_iter_'.format(modelName)+'{0}_valAcc_{1}'.format(int(iteration),acc_val[-1][0])+'.h5')\n",
    "        \n",
    "    if loss_val[-1][0]<minValLoss:\n",
    "        minValLoss=min(loss_val)[0]\n",
    "        if acc_val>.9:\n",
    "            final_model.save('m{0}s10_iter_'.format(modelName)+'{0}_valLoss_{1}'.format(int(iteration),loss_val[-1][0])+'.h5')\n",
    "    \n",
    "    if countNoIncrease>=10:\n",
    "        countNoIncrease=0\n",
    "        K.set_value(final_model.optimizer.lr, 0.5 * K.get_value(final_model.optimizer.lr))    \n",
    "        \n",
    "    if acc_train[-1][0] > thres1 and thres1passed == 0:\n",
    "        thres1passed=1\n",
    "        countNoIncrease=0\n",
    "        K.set_value(final_model.optimizer.lr, 0.5 * K.get_value(final_model.optimizer.lr))    \n",
    "        \n",
    "    if acc_train[-1][0] > thres2 and thres2passed == 0:\n",
    "        thres2passed=1\n",
    "        countNoIncrease=0\n",
    "        K.set_value(final_model.optimizer.lr, 0.5 * K.get_value(final_model.optimizer.lr))    \n",
    "        \n",
    "    if acc_train[-1][0] > thres3 and thres3passed == 0:\n",
    "        thres3passed=1\n",
    "        countNoIncrease=0\n",
    "        K.set_value(final_model.optimizer.lr, 0.5 * K.get_value(final_model.optimizer.lr))    \n",
    "        \n",
    "    if acc_train[-1][0] > thres4 and thres4passed == 0:\n",
    "        thres4passed=1\n",
    "        countNoIncrease=0\n",
    "        K.set_value(final_model.optimizer.lr, 0.5 * K.get_value(final_model.optimizer.lr))   \n",
    "        \n",
    "    iteration+=1\n",
    "    \n",
    "t1 = time.time()\n",
    "print (t1-t0)/60/60"
   ]
  },
  {
   "cell_type": "code",
   "execution_count": 15,
   "metadata": {
    "collapsed": false
   },
   "outputs": [
    {
     "data": {
      "image/png": "[encoded data removed]",
      "text/plain": [
       "<matplotlib.figure.Figure at 0x7f245a553610>"
      ]
     },
     "metadata": {},
     "output_type": "display_data"
    },
    {
     "data": {
      "image/png": "[encoded data removed]",
      "text/plain": [
       "<matplotlib.figure.Figure at 0x7f244e998110>"
      ]
     },
     "metadata": {},
     "output_type": "display_data"
    }
   ],
   "source": [
    "#summarize history for accuracy\n",
    "fig=plt.figure()\n",
    "plt.plot(acc_train)\n",
    "plt.plot(acc_val)\n",
    "plt.title('model accuracy')\n",
    "plt.ylabel('accuracy')\n",
    "plt.xlabel('epoch')\n",
    "plt.legend(['train','val'], loc='lower right')\n",
    "plt.ylim([0, 1])\n",
    "plt.show()\n",
    "# summarize history for accuracy\n",
    "plt.plot(loss_train)\n",
    "plt.plot(loss_val)\n",
    "plt.title('model loss')\n",
    "plt.ylabel('loss')\n",
    "plt.xlabel('epoch')\n",
    "plt.legend(['train','val'], loc='upper right')\n",
    "#plt.ylim([0, 2])\n",
    "plt.show()"
   ]
  },
  {
   "cell_type": "code",
   "execution_count": 15,
   "metadata": {
    "collapsed": false
   },
   "outputs": [
    {
     "data": {
      "image/png": "[encoded data removed]",
      "text/plain": [
       "<matplotlib.figure.Figure at 0x7fe4702df190>"
      ]
     },
     "metadata": {},
     "output_type": "display_data"
    }
   ],
   "source": [
    "fig=plt.figure()\n",
    "plt.plot(all_lr)\n",
    "plt.title('learning rate')\n",
    "plt.ylabel('learning rate')\n",
    "plt.xlabel('epoch')\n",
    "plt.legend(['learning rate'], loc='upper right')\n",
    "plt.show()"
   ]
  },
  {
   "cell_type": "markdown",
   "metadata": {},
   "source": [
    "---"
   ]
  },
  {
   "cell_type": "markdown",
   "metadata": {},
   "source": [
    "## To resume training"
   ]
  },
  {
   "cell_type": "code",
   "execution_count": 32,
   "metadata": {
    "collapsed": false
   },
   "outputs": [
    {
     "name": "stdout",
     "output_type": "stream",
     "text": [
      "Train on 198 samples, validate on 50 samples\n",
      "Epoch 1/1\n",
      "124s - loss: 8.8347 - acc: 0.9949 - val_loss: 0.1631 - val_acc: 0.9200\n",
      "Train on 198 samples, validate on 50 samples\n",
      "Epoch 1/1\n",
      "116s - loss: 8.8211 - acc: 0.9949 - val_loss: 0.1710 - val_acc: 0.9200\n",
      "Train on 198 samples, validate on 50 samples\n",
      "Epoch 1/1\n",
      "118s - loss: 8.8063 - acc: 0.9949 - val_loss: 0.1665 - val_acc: 0.9200\n",
      "Train on 198 samples, validate on 50 samples\n",
      "Epoch 1/1\n",
      "117s - loss: 8.7826 - acc: 0.9949 - val_loss: 0.1628 - val_acc: 0.9200\n",
      "Train on 198 samples, validate on 50 samples\n",
      "Epoch 1/1\n",
      "117s - loss: 8.7659 - acc: 0.9949 - val_loss: 0.1647 - val_acc: 0.9200\n",
      "Train on 198 samples, validate on 50 samples\n",
      "Epoch 1/1\n",
      "124s - loss: 8.7434 - acc: 0.9949 - val_loss: 0.1613 - val_acc: 0.9200\n",
      "Train on 198 samples, validate on 50 samples\n",
      "Epoch 1/1\n",
      "178s - loss: 8.7238 - acc: 0.9949 - val_loss: 0.1590 - val_acc: 0.9200\n",
      "Train on 198 samples, validate on 50 samples\n",
      "Epoch 1/1\n",
      "150s - loss: 8.7066 - acc: 1.0000 - val_loss: 0.1596 - val_acc: 0.9200\n",
      "Train on 198 samples, validate on 50 samples\n",
      "Epoch 1/1\n",
      "153s - loss: 8.6990 - acc: 0.9949 - val_loss: 0.1603 - val_acc: 0.9200\n",
      "Train on 198 samples, validate on 50 samples\n",
      "Epoch 1/1\n",
      "155s - loss: 8.6887 - acc: 0.9949 - val_loss: 0.1598 - val_acc: 0.9200\n",
      "Train on 198 samples, validate on 50 samples\n",
      "Epoch 1/1\n",
      "131s - loss: 8.6799 - acc: 0.9949 - val_loss: 0.1602 - val_acc: 0.9200\n",
      "Train on 198 samples, validate on 50 samples\n",
      "Epoch 1/1\n",
      "117s - loss: 8.6710 - acc: 0.9899 - val_loss: 0.1609 - val_acc: 0.9200\n",
      "Train on 198 samples, validate on 50 samples\n",
      "Epoch 1/1\n",
      "116s - loss: 8.6658 - acc: 1.0000 - val_loss: 0.1621 - val_acc: 0.9200\n",
      "Train on 198 samples, validate on 50 samples\n",
      "Epoch 1/1\n",
      "176s - loss: 8.6501 - acc: 0.9949 - val_loss: 0.1618 - val_acc: 0.9200\n",
      "0.527992493312\n"
     ]
    }
   ],
   "source": [
    "t0 = time.time()\n",
    "\n",
    "for iteration in np.linspace(31,70,40):\n",
    "    history=best_model.fit([X1, X2, X3, X4, X5, X6, X7, X8, X9, X10, X1, X12, X13, X14, X15, X16, X17], y, validation_split=0.2, nb_epoch=1, batch_size=8,verbose=2)\n",
    "    # Append values\n",
    "    acc_train.append(history.history['acc'])\n",
    "    acc_val.append(history.history['val_acc'])\n",
    "    loss_train.append(history.history['loss'])\n",
    "    loss_val.append(history.history['val_loss'])\n",
    "    all_lr.append(K.get_value(final_model.optimizer.lr))\n",
    "    \n",
    "    # Compare last iteration vs max value of Acc\n",
    "    if acc_train[-1][0]>maxAcc:\n",
    "        maxAcc=max(acc_train)[0]\n",
    "        maxIt=iteration\n",
    "    else:\n",
    "        countNoIncrease=countNoIncrease+1\n",
    "        \n",
    "    if acc_val[-1][0]>maxAccVal:\n",
    "        maxAccVal=max(acc_val)[0]\n",
    "        final_model.save('m724s10_iter_'+'{0}_valAcc_{1}'.format(int(iteration),acc_val[-1][0])+'.h5')\n",
    "    \n",
    "    if countNoIncrease>=10:\n",
    "        countNoIncrease=0\n",
    "        K.set_value(final_model.optimizer.lr, 0.5 * K.get_value(final_model.optimizer.lr))    \n",
    "        \n",
    "    if acc_train[-1][0] > thres1 and thres1passed == 0:\n",
    "        thres1passed=1\n",
    "        countNoIncrease=0\n",
    "        K.set_value(final_model.optimizer.lr, 0.5 * K.get_value(final_model.optimizer.lr))    \n",
    "        \n",
    "    if acc_train[-1][0] > thres2 and thres2passed == 0:\n",
    "        thres2passed=1\n",
    "        countNoIncrease=0\n",
    "        K.set_value(final_model.optimizer.lr, 0.5 * K.get_value(final_model.optimizer.lr))    \n",
    "        \n",
    "    if acc_train[-1][0] > thres3 and thres3passed == 0:\n",
    "        thres3passed=1\n",
    "        countNoIncrease=0\n",
    "        K.set_value(final_model.optimizer.lr, 0.5 * K.get_value(final_model.optimizer.lr))    \n",
    "        \n",
    "    if acc_train[-1][0] > thres4 and thres4passed == 0:\n",
    "        thres4passed=1\n",
    "        countNoIncrease=0\n",
    "        K.set_value(final_model.optimizer.lr, 0.5 * K.get_value(final_model.optimizer.lr))   \n",
    "    \n",
    "t1 = time.time()\n",
    "print (t1-t0)/60/60"
   ]
  },
  {
   "cell_type": "markdown",
   "metadata": {},
   "source": [
    "---"
   ]
  },
  {
   "cell_type": "markdown",
   "metadata": {},
   "source": [
    "## To Save the model and the variables"
   ]
  },
  {
   "cell_type": "code",
   "execution_count": 16,
   "metadata": {
    "collapsed": true
   },
   "outputs": [],
   "source": [
    "final_model.save('m738s10_iter_30.h5')"
   ]
  },
  {
   "cell_type": "code",
   "execution_count": 17,
   "metadata": {
    "collapsed": true
   },
   "outputs": [],
   "source": [
    "K_LR=K.get_value(adam.lr)\n",
    "K_LR, acc_train, loss_train, acc_val, loss_val, all_lr, countNoIncrease, maxAcc, maxAccVal, thres1, thres1passed, thres2, thres2passed, thres3, thres3passed, thres4, thres4passed\n",
    "with open('m738s10objs.pickle', 'wb') as f:\n",
    "    pickle.dump([K_LR, acc_train, loss_train, acc_val, loss_val, all_lr, countNoIncrease, maxAcc, maxAccVal, thres1, thres1passed, thres2, thres2passed, thres3, thres3passed, thres4, thres4passed], f)"
   ]
  },
  {
   "cell_type": "markdown",
   "metadata": {},
   "source": [
    "---"
   ]
  },
  {
   "cell_type": "markdown",
   "metadata": {},
   "source": [
    "## To retreive the model and the variables"
   ]
  },
  {
   "cell_type": "code",
   "execution_count": 14,
   "metadata": {
    "collapsed": false
   },
   "outputs": [
    {
     "ename": "EOFError",
     "evalue": "",
     "output_type": "error",
     "traceback": [
      "\u001b[1;31m---------------------------------------------------------------------------\u001b[0m",
      "\u001b[1;31mEOFError\u001b[0m                                  Traceback (most recent call last)",
      "\u001b[1;32m<ipython-input-14-0529b54ef29c>\u001b[0m in \u001b[0;36m<module>\u001b[1;34m()\u001b[0m\n\u001b[0;32m      1\u001b[0m \u001b[1;31m# Getting back the objects:\u001b[0m\u001b[1;33m\u001b[0m\u001b[1;33m\u001b[0m\u001b[0m\n\u001b[0;32m      2\u001b[0m \u001b[1;32mwith\u001b[0m \u001b[0mopen\u001b[0m\u001b[1;33m(\u001b[0m\u001b[1;34m'm738s10objs.pickle'\u001b[0m\u001b[1;33m)\u001b[0m \u001b[1;32mas\u001b[0m \u001b[0mf\u001b[0m\u001b[1;33m:\u001b[0m\u001b[1;33m\u001b[0m\u001b[0m\n\u001b[1;32m----> 3\u001b[1;33m     \u001b[0mK_LR\u001b[0m\u001b[1;33m,\u001b[0m \u001b[0macc_train\u001b[0m\u001b[1;33m,\u001b[0m \u001b[0mloss_train\u001b[0m\u001b[1;33m,\u001b[0m \u001b[0macc_val\u001b[0m\u001b[1;33m,\u001b[0m \u001b[0mloss_val\u001b[0m\u001b[1;33m,\u001b[0m \u001b[0mall_lr\u001b[0m\u001b[1;33m,\u001b[0m \u001b[0mcountNoIncrease\u001b[0m\u001b[1;33m,\u001b[0m \u001b[0mmaxAcc\u001b[0m\u001b[1;33m,\u001b[0m \u001b[0mmaxAccVal\u001b[0m\u001b[1;33m,\u001b[0m \u001b[0mthres1\u001b[0m\u001b[1;33m,\u001b[0m \u001b[0mthres1passed\u001b[0m\u001b[1;33m,\u001b[0m \u001b[0mthres2\u001b[0m\u001b[1;33m,\u001b[0m \u001b[0mthres2passed\u001b[0m\u001b[1;33m,\u001b[0m \u001b[0mthres3\u001b[0m\u001b[1;33m,\u001b[0m \u001b[0mthres3passed\u001b[0m\u001b[1;33m,\u001b[0m \u001b[0mthres4\u001b[0m\u001b[1;33m,\u001b[0m \u001b[0mthres4passed\u001b[0m \u001b[1;33m=\u001b[0m \u001b[0mpickle\u001b[0m\u001b[1;33m.\u001b[0m\u001b[0mload\u001b[0m\u001b[1;33m(\u001b[0m\u001b[0mf\u001b[0m\u001b[1;33m)\u001b[0m\u001b[1;33m\u001b[0m\u001b[0m\n\u001b[0m",
      "\u001b[1;32m/home/octavio/anaconda2/lib/python2.7/pickle.pyc\u001b[0m in \u001b[0;36mload\u001b[1;34m(file)\u001b[0m\n\u001b[0;32m   1382\u001b[0m \u001b[1;33m\u001b[0m\u001b[0m\n\u001b[0;32m   1383\u001b[0m \u001b[1;32mdef\u001b[0m \u001b[0mload\u001b[0m\u001b[1;33m(\u001b[0m\u001b[0mfile\u001b[0m\u001b[1;33m)\u001b[0m\u001b[1;33m:\u001b[0m\u001b[1;33m\u001b[0m\u001b[0m\n\u001b[1;32m-> 1384\u001b[1;33m     \u001b[1;32mreturn\u001b[0m \u001b[0mUnpickler\u001b[0m\u001b[1;33m(\u001b[0m\u001b[0mfile\u001b[0m\u001b[1;33m)\u001b[0m\u001b[1;33m.\u001b[0m\u001b[0mload\u001b[0m\u001b[1;33m(\u001b[0m\u001b[1;33m)\u001b[0m\u001b[1;33m\u001b[0m\u001b[0m\n\u001b[0m\u001b[0;32m   1385\u001b[0m \u001b[1;33m\u001b[0m\u001b[0m\n\u001b[0;32m   1386\u001b[0m \u001b[1;32mdef\u001b[0m \u001b[0mloads\u001b[0m\u001b[1;33m(\u001b[0m\u001b[0mstr\u001b[0m\u001b[1;33m)\u001b[0m\u001b[1;33m:\u001b[0m\u001b[1;33m\u001b[0m\u001b[0m\n",
      "\u001b[1;32m/home/octavio/anaconda2/lib/python2.7/pickle.pyc\u001b[0m in \u001b[0;36mload\u001b[1;34m(self)\u001b[0m\n\u001b[0;32m    862\u001b[0m             \u001b[1;32mwhile\u001b[0m \u001b[1;36m1\u001b[0m\u001b[1;33m:\u001b[0m\u001b[1;33m\u001b[0m\u001b[0m\n\u001b[0;32m    863\u001b[0m                 \u001b[0mkey\u001b[0m \u001b[1;33m=\u001b[0m \u001b[0mread\u001b[0m\u001b[1;33m(\u001b[0m\u001b[1;36m1\u001b[0m\u001b[1;33m)\u001b[0m\u001b[1;33m\u001b[0m\u001b[0m\n\u001b[1;32m--> 864\u001b[1;33m                 \u001b[0mdispatch\u001b[0m\u001b[1;33m[\u001b[0m\u001b[0mkey\u001b[0m\u001b[1;33m]\u001b[0m\u001b[1;33m(\u001b[0m\u001b[0mself\u001b[0m\u001b[1;33m)\u001b[0m\u001b[1;33m\u001b[0m\u001b[0m\n\u001b[0m\u001b[0;32m    865\u001b[0m         \u001b[1;32mexcept\u001b[0m \u001b[0m_Stop\u001b[0m\u001b[1;33m,\u001b[0m \u001b[0mstopinst\u001b[0m\u001b[1;33m:\u001b[0m\u001b[1;33m\u001b[0m\u001b[0m\n\u001b[0;32m    866\u001b[0m             \u001b[1;32mreturn\u001b[0m \u001b[0mstopinst\u001b[0m\u001b[1;33m.\u001b[0m\u001b[0mvalue\u001b[0m\u001b[1;33m\u001b[0m\u001b[0m\n",
      "\u001b[1;32m/home/octavio/anaconda2/lib/python2.7/pickle.pyc\u001b[0m in \u001b[0;36mload_eof\u001b[1;34m(self)\u001b[0m\n\u001b[0;32m    884\u001b[0m \u001b[1;33m\u001b[0m\u001b[0m\n\u001b[0;32m    885\u001b[0m     \u001b[1;32mdef\u001b[0m \u001b[0mload_eof\u001b[0m\u001b[1;33m(\u001b[0m\u001b[0mself\u001b[0m\u001b[1;33m)\u001b[0m\u001b[1;33m:\u001b[0m\u001b[1;33m\u001b[0m\u001b[0m\n\u001b[1;32m--> 886\u001b[1;33m         \u001b[1;32mraise\u001b[0m \u001b[0mEOFError\u001b[0m\u001b[1;33m\u001b[0m\u001b[0m\n\u001b[0m\u001b[0;32m    887\u001b[0m     \u001b[0mdispatch\u001b[0m\u001b[1;33m[\u001b[0m\u001b[1;34m''\u001b[0m\u001b[1;33m]\u001b[0m \u001b[1;33m=\u001b[0m \u001b[0mload_eof\u001b[0m\u001b[1;33m\u001b[0m\u001b[0m\n\u001b[0;32m    888\u001b[0m \u001b[1;33m\u001b[0m\u001b[0m\n",
      "\u001b[1;31mEOFError\u001b[0m: "
     ]
    }
   ],
   "source": [
    "# Getting back the objects:\n",
    "with open('m738s10objs.pickle') as f:\n",
    "    K_LR, acc_train, loss_train, acc_val, loss_val, all_lr, countNoIncrease, maxAcc, maxAccVal, thres1, thres1passed, thres2, thres2passed, thres3, thres3passed, thres4, thres4passed = pickle.load(f)"
   ]
  },
  {
   "cell_type": "code",
   "execution_count": 12,
   "metadata": {
    "collapsed": true
   },
   "outputs": [],
   "source": [
    "from keras.models import load_model\n",
    "best_model=load_model('m738s10_iter_30.h5')"
   ]
  },
  {
   "cell_type": "code",
   "execution_count": 40,
   "metadata": {
    "collapsed": false
   },
   "outputs": [
    {
     "name": "stdout",
     "output_type": "stream",
     "text": [
      "62/62 [==============================] - 7s     \n",
      "0.870967741935\n"
     ]
    },
    {
     "data": {
      "text/plain": [
       "array([[22,  7],\n",
       "       [ 1, 32]])"
      ]
     },
     "execution_count": 40,
     "metadata": {},
     "output_type": "execute_result"
    }
   ],
   "source": [
    "y_pred=best_model.predict_classes([X1test, X2test, X3test, X4test, X5test, X6test, X7test, X8test, X9test, X10test, X11test, X12test, X13test, X14test, X15test, X16test, X17test])\n",
    "y_predC=np.squeeze(y_pred)\n",
    "print accuracy_score(y_true,y_predC)\n",
    "confusion_matrix(y_true,y_predC)"
   ]
  },
  {
   "cell_type": "markdown",
   "metadata": {
    "collapsed": false
   },
   "source": [
    "---"
   ]
  },
  {
   "cell_type": "markdown",
   "metadata": {
    "collapsed": false
   },
   "source": [
    "## To get the test result"
   ]
  },
  {
   "cell_type": "code",
   "execution_count": 15,
   "metadata": {
    "collapsed": false
   },
   "outputs": [],
   "source": [
    "y_true=readLabels('fold1/test/labelsTest.mat')\n",
    "X1test=readScan('fold1/test/scansMiniTest1.mat')\n",
    "X2test=readScan('fold1/test/scansMiniTest2.mat')\n",
    "X3test=readScan('fold1/test/scansMiniTest3.mat')\n",
    "X4test=readScan('fold1/test/scansMiniTest4.mat')\n",
    "X5test=readScan('fold1/test/scansMiniTest5.mat')\n",
    "X6test=readScan('fold1/test/scansMiniTest6.mat')\n",
    "X7test=readScan('fold1/test/scansMiniTest7.mat')\n",
    "X8test=readScan('fold1/test/scansMiniTest8.mat')\n",
    "X9test=readScan('fold1/test/scansMiniTest9.mat')\n",
    "X10test=readScan('fold1/test/scansMiniTest10.mat')\n",
    "X11test=readScan('fold1/test/scansMiniTest11.mat')\n",
    "X12test=readScan('fold1/test/scansMiniTest12.mat')\n",
    "X13test=readScan('fold1/test/scansMiniTest13.mat')\n",
    "X14test=readScan('fold1/test/scansMiniTest14.mat')\n",
    "X15test=readScan('fold1/test/scansMiniTest15.mat')\n",
    "X16test=readScan('fold1/test/scansMiniTest16.mat')\n",
    "X17test=readScan('fold1/test/scansMiniTest17.mat')"
   ]
  },
  {
   "cell_type": "code",
   "execution_count": 34,
   "metadata": {
    "collapsed": false
   },
   "outputs": [
    {
     "name": "stdout",
     "output_type": "stream",
     "text": [
      "62/62 [==============================] - 3s     \n"
     ]
    }
   ],
   "source": [
    "y_predProb=final_model.predict([X1test, X2test, X3test, X4test, X5test, X6test, X7test, X8test, X9test, X10test, X11test, X12test, X13test, X14test, X15test, X16test, X17test])\n",
    "y_pred=final_model.predict_classes([X1test, X2test, X3test, X4test, X5test, X6test, X7test, X8test, X9test, X10test, X11test, X12test, X13test, X14test, X15test, X16test, X17test])"
   ]
  },
  {
   "cell_type": "code",
   "execution_count": 35,
   "metadata": {
    "collapsed": false
   },
   "outputs": [
    {
     "data": {
      "text/plain": [
       "array([ 0.0726957 ,  0.10404619,  0.24853253,  0.93767095,  0.01248153,\n",
       "       -0.12955262,  0.2559751 ,  0.12003842,  0.79068232,  0.86133504,\n",
       "        0.61079895,  0.12211662,  0.98836708,  0.98574162,  0.9846797 ,\n",
       "        0.96578443,  0.97853565,  0.98351097,  0.9490633 ,  0.98645401,\n",
       "        0.98289853,  0.98739648,  0.89238906, -0.18414859,  0.81302083,\n",
       "        0.97272599,  0.77888399,  0.9539963 ,  0.91568094,  0.98042607,\n",
       "        0.94594663,  0.98030299,  0.97775692,  0.67190415,  0.04734179,\n",
       "        0.79489684,  0.92129505,  0.97721702,  0.97925317,  0.98267144,\n",
       "        0.03264817,  0.37937635,  0.64497173,  0.44714829, -0.22083379,\n",
       "        0.36542368,  0.08212218, -0.18297227,  0.71263874, -0.13814023,\n",
       "       -0.17331   , -0.06299079, -0.29138881, -0.16858049, -0.28551686,\n",
       "       -0.23429738,  0.01649511, -0.20285937,  0.96788639,  0.85191232,\n",
       "        0.85052568,  0.95790434], dtype=float32)"
      ]
     },
     "execution_count": 35,
     "metadata": {},
     "output_type": "execute_result"
    }
   ],
   "source": [
    "np.squeeze(y_predProb)"
   ]
  },
  {
   "cell_type": "code",
   "execution_count": 36,
   "metadata": {
    "collapsed": false
   },
   "outputs": [
    {
     "data": {
      "text/plain": [
       "array([0, 0, 0, 1, 0, 0, 0, 0, 1, 1, 1, 0, 1, 1, 1, 1, 1, 1, 1, 1, 1, 1, 1,\n",
       "       0, 1, 1, 1, 1, 1, 1, 1, 1, 1, 1, 0, 1, 1, 1, 1, 1, 0, 0, 1, 0, 0, 0,\n",
       "       0, 0, 1, 0, 0, 0, 0, 0, 0, 0, 0, 0, 1, 1, 1, 1], dtype=int32)"
      ]
     },
     "execution_count": 36,
     "metadata": {},
     "output_type": "execute_result"
    }
   ],
   "source": [
    "y_predC=np.squeeze(y_pred)\n",
    "y_predC"
   ]
  },
  {
   "cell_type": "code",
   "execution_count": 29,
   "metadata": {
    "collapsed": true
   },
   "outputs": [],
   "source": [
    "from sklearn.metrics import confusion_matrix\n",
    "from sklearn.metrics import  accuracy_score"
   ]
  },
  {
   "cell_type": "code",
   "execution_count": 37,
   "metadata": {
    "collapsed": false
   },
   "outputs": [
    {
     "name": "stdout",
     "output_type": "stream",
     "text": [
      "0.887096774194\n",
      "[ 3 11 22 24 34 42 48]\n"
     ]
    },
    {
     "data": {
      "text/plain": [
       "array([[24,  5],\n",
       "       [ 2, 31]])"
      ]
     },
     "execution_count": 37,
     "metadata": {},
     "output_type": "execute_result"
    }
   ],
   "source": [
    "print accuracy_score(y_true,y_predC)\n",
    "print np.where(y_true.astype(bool)!=y_predC.astype(bool))[0]\n",
    "confusion_matrix(y_true,y_predC)"
   ]
  },
  {
   "cell_type": "markdown",
   "metadata": {},
   "source": [
    "---"
   ]
  },
  {
   "cell_type": "markdown",
   "metadata": {},
   "source": [
    "---"
   ]
  },
  {
   "cell_type": "markdown",
   "metadata": {},
   "source": [
    "---"
   ]
  }
 ],
 "metadata": {
  "kernelspec": {
   "display_name": "Python 2",
   "language": "python",
   "name": "python2"
  },
  "language_info": {
   "codemirror_mode": {
    "name": "ipython",
    "version": 2
   },
   "file_extension": ".py",
   "mimetype": "text/x-python",
   "name": "python",
   "nbconvert_exporter": "python",
   "pygments_lexer": "ipython2",
   "version": "2.7.12"
  }
 },
 "nbformat": 4,
 "nbformat_minor": 0
}
