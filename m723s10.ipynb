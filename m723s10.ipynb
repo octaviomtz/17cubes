{
 "cells": [
  {
   "cell_type": "code",
   "execution_count": 1,
   "metadata": {
    "collapsed": true
   },
   "outputs": [],
   "source": [
    "import scipy.io\n",
    "import numpy as np, h5py\n",
    "import matplotlib.pyplot as plt\n",
    "import copy\n",
    "import pandas as pd\n",
    "import pickle\n",
    "%matplotlib inline"
   ]
  },
  {
   "cell_type": "code",
   "execution_count": 2,
   "metadata": {
    "collapsed": true
   },
   "outputs": [],
   "source": [
    "from pylab import rcParams\n",
    "rcParams['figure.figsize'] = 10, 5\n",
    "rcParams['figure.dpi']=150\n",
    "rcParams['lines.linewidth']=1\n",
    "rcParams['axes.grid']=True\n",
    "rcParams['axes.facecolor']='#FFFFFF'\n",
    "rcParams['font.size']=14\n",
    "rcParams['patch.edgecolor']='none'"
   ]
  },
  {
   "cell_type": "code",
   "execution_count": 3,
   "metadata": {
    "collapsed": true
   },
   "outputs": [],
   "source": [
    "# fix random seed for reproducibility\n",
    "seed = 7\n",
    "np.random.seed(seed)"
   ]
  },
  {
   "cell_type": "code",
   "execution_count": 4,
   "metadata": {
    "collapsed": true
   },
   "outputs": [],
   "source": [
    "def readScan(scan):\n",
    "    # We read the file saved in Matlab. There is only one variable in the file called scansMini\n",
    "    data = h5py.File(scan, 'r')\n",
    "    Xscans=data.get('scansMini')\n",
    "    # We have to get the values into the right format (subjects, dim1, dim2, dim3, channels)\n",
    "    X=copy.copy(Xscans.value)\n",
    "    X=np.expand_dims(X,4)\n",
    "    X1=np.rollaxis(X,3)\n",
    "    return X1"
   ]
  },
  {
   "cell_type": "code",
   "execution_count": 5,
   "metadata": {
    "collapsed": true
   },
   "outputs": [],
   "source": [
    "def readLabels(labels):\n",
    "    data = h5py.File(labels, 'r')\n",
    "    Xscans=data.get('labels')\n",
    "    X=copy.copy(Xscans.value)\n",
    "    X2=np.squeeze(X).astype(int)\n",
    "    return X2"
   ]
  },
  {
   "cell_type": "code",
   "execution_count": 6,
   "metadata": {
    "collapsed": false
   },
   "outputs": [],
   "source": [
    "y=readLabels('fold1/train/labelsTrain.mat')\n",
    "X1=readScan('fold1/train/scansMiniTrain1.mat')\n",
    "X2=readScan('fold1/train/scansMiniTrain2.mat')\n",
    "X3=readScan('fold1/train/scansMiniTrain3.mat')\n",
    "X4=readScan('fold1/train/scansMiniTrain4.mat')\n",
    "X5=readScan('fold1/train/scansMiniTrain5.mat')\n",
    "X6=readScan('fold1/train/scansMiniTrain6.mat')\n",
    "X7=readScan('fold1/train/scansMiniTrain7.mat')\n",
    "X8=readScan('fold1/train/scansMiniTrain8.mat')\n",
    "X9=readScan('fold1/train/scansMiniTrain9.mat')\n",
    "X10=readScan('fold1/train/scansMiniTrain10.mat')\n",
    "X11=readScan('fold1/train/scansMiniTrain11.mat')\n",
    "X12=readScan('fold1/train/scansMiniTrain12.mat')\n",
    "X13=readScan('fold1/train/scansMiniTrain13.mat')\n",
    "X14=readScan('fold1/train/scansMiniTrain14.mat')\n",
    "X15=readScan('fold1/train/scansMiniTrain15.mat')\n",
    "X16=readScan('fold1/train/scansMiniTrain16.mat')\n",
    "X17=readScan('fold1/train/scansMiniTrain17.mat')"
   ]
  },
  {
   "cell_type": "code",
   "execution_count": 7,
   "metadata": {
    "collapsed": false
   },
   "outputs": [
    {
     "data": {
      "text/plain": [
       "<matplotlib.collections.PolyCollection at 0x7f14bd62f6d0>"
      ]
     },
     "execution_count": 7,
     "metadata": {},
     "output_type": "execute_result"
    },
    {
     "data": {
      "image/png": "[encoded data removed]",
      "text/plain": [
       "<matplotlib.figure.Figure at 0x7f14bd76d790>"
      ]
     },
     "metadata": {},
     "output_type": "display_data"
    }
   ],
   "source": [
    "f, (ax1, ax2) = plt.subplots(1, 2, sharey=True)\n",
    "ax1.pcolor((X1[10,:,:,0,0]))\n",
    "ax1.set_title('Sharing Y axis')\n",
    "ax2.pcolor((X2[10,:,:,0,0]))"
   ]
  },
  {
   "cell_type": "code",
   "execution_count": 8,
   "metadata": {
    "collapsed": false
   },
   "outputs": [
    {
     "data": {
      "text/plain": [
       "(248, 10, 10, 10, 1)"
      ]
     },
     "execution_count": 8,
     "metadata": {},
     "output_type": "execute_result"
    }
   ],
   "source": [
    "X1.shape"
   ]
  },
  {
   "cell_type": "markdown",
   "metadata": {},
   "source": [
    "---"
   ]
  },
  {
   "cell_type": "markdown",
   "metadata": {},
   "source": [
    "## Keras libraries"
   ]
  },
  {
   "cell_type": "code",
   "execution_count": 9,
   "metadata": {
    "collapsed": false
   },
   "outputs": [
    {
     "name": "stderr",
     "output_type": "stream",
     "text": [
      "Using TensorFlow backend.\n"
     ]
    }
   ],
   "source": [
    "from keras.models import Sequential\n",
    "from keras.layers import Dense\n",
    "from keras.layers import Merge\n",
    "from keras.layers.convolutional import Convolution3D\n",
    "from keras.layers.pooling import MaxPooling3D\n",
    "from keras.layers.core import Dense, Flatten\n",
    "from keras.layers import Dropout\n",
    "from keras.optimizers import Adam\n",
    "from keras.optimizers import SGD\n",
    "from keras.wrappers.scikit_learn import KerasClassifier\n",
    "from keras.callbacks import EarlyStopping\n",
    "import time"
   ]
  },
  {
   "cell_type": "code",
   "execution_count": 10,
   "metadata": {
    "collapsed": false
   },
   "outputs": [],
   "source": [
    "import keras.backend as K\n",
    "from keras.callbacks import ModelCheckpoint\n",
    "from keras.callbacks import LearningRateScheduler\n",
    "from keras.layers import Activation\n",
    "from keras.layers.normalization import BatchNormalization\n",
    "from keras.regularizers import l2\n",
    "import math"
   ]
  },
  {
   "cell_type": "markdown",
   "metadata": {
    "collapsed": true
   },
   "source": [
    "---"
   ]
  },
  {
   "cell_type": "markdown",
   "metadata": {},
   "source": [
    "## The model"
   ]
  },
  {
   "cell_type": "code",
   "execution_count": 12,
   "metadata": {
    "collapsed": true
   },
   "outputs": [],
   "source": [
    "adam=Adam(lr=0.0005, beta_1=0.9, beta_2=0.999, epsilon=1e-08, decay=1e-04)#"
   ]
  },
  {
   "cell_type": "code",
   "execution_count": null,
   "metadata": {
    "collapsed": true
   },
   "outputs": [],
   "source": [
    "final_model.reset_states()\n",
    "model1.reset_states()\n",
    "model2.reset_states()\n",
    "model3.reset_states()\n",
    "model4.reset_states()\n",
    "model5.reset_states()\n",
    "model6.reset_states()\n",
    "model7.reset_states()\n",
    "model8.reset_states()\n",
    "model9.reset_states()\n",
    "model10.reset_states()\n",
    "model11.reset_states()\n",
    "model12.reset_states()\n",
    "model13.reset_states()\n",
    "model14.reset_states()\n",
    "model15.reset_states()\n",
    "model16.reset_states()\n",
    "model17.reset_states()"
   ]
  },
  {
   "cell_type": "code",
   "execution_count": 13,
   "metadata": {
    "collapsed": false
   },
   "outputs": [],
   "source": [
    "model1=Sequential()\n",
    "model1.add(Convolution3D(10, 3, 3, 3, input_shape=(10, 10, 10,1), border_mode='valid', init='he_normal', W_regularizer=l2(.05)))\n",
    "model1.add(BatchNormalization())\n",
    "model1.add(Activation('relu'))\n",
    "model1.add(Flatten())\n",
    "model1.add(Dropout(0.2))\n",
    "model1.add(Dense(20, init='glorot_normal', activation='tanh',W_regularizer=l2(.05)))\n",
    "\n",
    "model2=Sequential()\n",
    "model2.add(Convolution3D(10, 3, 3, 3, input_shape=(10, 10, 10,1), border_mode='valid',  init='he_normal',W_regularizer=l2(.05)))\n",
    "model2.add(BatchNormalization())\n",
    "model2.add(Activation('relu'))\n",
    "model2.add(Flatten())\n",
    "model2.add(Dropout(0.2))\n",
    "model2.add(Dense(20, init='glorot_normal', activation='tanh',W_regularizer=l2(.05)))\n",
    "\n",
    "model3=Sequential()\n",
    "model3.add(Convolution3D(10, 3, 3, 3, input_shape=(10, 10, 10,1), border_mode='valid',  init='he_normal',W_regularizer=l2(.05)))\n",
    "model3.add(BatchNormalization())\n",
    "model3.add(Activation('relu'))\n",
    "model3.add(Flatten())\n",
    "model3.add(Dropout(0.2))\n",
    "model3.add(Dense(20, init='glorot_normal', activation='tanh',W_regularizer=l2(.05)))\n",
    "\n",
    "model4=Sequential()\n",
    "model4.add(Convolution3D(10, 3, 3, 3, input_shape=(10, 10, 10,1), border_mode='valid',  init='he_normal',W_regularizer=l2(.05)))\n",
    "model4.add(BatchNormalization())\n",
    "model4.add(Activation('relu'))\n",
    "model4.add(Flatten())\n",
    "model4.add(Dropout(0.2))\n",
    "model4.add(Dense(20, init='glorot_normal', activation='tanh',W_regularizer=l2(.05)))\n",
    "\n",
    "model5=Sequential()\n",
    "model5.add(Convolution3D(10, 3, 3, 3, input_shape=(10, 10, 10,1), border_mode='valid', init='he_normal',W_regularizer=l2(.05)))\n",
    "model5.add(BatchNormalization())\n",
    "model5.add(Activation('relu'))\n",
    "model5.add(Flatten())\n",
    "model5.add(Dropout(0.2))\n",
    "model5.add(Dense(20, init='glorot_normal', activation='tanh',W_regularizer=l2(.05)))\n",
    "\n",
    "model6=Sequential()\n",
    "model6.add(Convolution3D(10, 3, 3, 3, input_shape=(10, 10, 10,1), border_mode='valid', init='he_normal',W_regularizer=l2(.05)))\n",
    "model6.add(BatchNormalization())\n",
    "model6.add(Activation('relu'))\n",
    "model6.add(Flatten())\n",
    "model6.add(Dropout(0.2))\n",
    "model6.add(Dense(20, init='glorot_normal', activation='tanh',W_regularizer=l2(.05)))\n",
    "\n",
    "model7=Sequential()\n",
    "model7.add(Convolution3D(10, 3, 3, 3, input_shape=(10, 10, 10,1), border_mode='valid',  init='he_normal',W_regularizer=l2(.05)))\n",
    "model7.add(BatchNormalization())\n",
    "model7.add(Activation('relu'))\n",
    "model7.add(Flatten())\n",
    "model7.add(Dropout(0.2))\n",
    "model7.add(Dense(20, init='glorot_normal', activation='tanh',W_regularizer=l2(.05)))\n",
    "\n",
    "model8=Sequential()\n",
    "model8.add(Convolution3D(10, 3, 3, 3, input_shape=(10, 10, 10,1), border_mode='valid', init='he_normal',W_regularizer=l2(.05)))\n",
    "model8.add(BatchNormalization())\n",
    "model8.add(Activation('relu'))\n",
    "model8.add(Flatten())\n",
    "model8.add(Dropout(0.2))\n",
    "model8.add(Dense(20, init='glorot_normal', activation='tanh',W_regularizer=l2(.05)))\n",
    "\n",
    "model9=Sequential()\n",
    "model9.add(Convolution3D(10, 3, 3, 3, input_shape=(10, 10, 10,1), border_mode='valid', init='he_normal',W_regularizer=l2(.05)))\n",
    "model9.add(BatchNormalization())\n",
    "model9.add(Activation('relu'))\n",
    "model9.add(Flatten())\n",
    "model9.add(Dropout(0.2))\n",
    "model9.add(Dense(20, init='glorot_normal', activation='tanh',W_regularizer=l2(.05)))\n",
    "\n",
    "model10=Sequential()\n",
    "model10.add(Convolution3D(10, 3, 3, 3, input_shape=(10, 10, 10,1), border_mode='valid', init='he_normal',W_regularizer=l2(.05)))\n",
    "model10.add(BatchNormalization())\n",
    "model10.add(Activation('relu'))\n",
    "model10.add(Flatten())\n",
    "model10.add(Dropout(0.2))\n",
    "model10.add(Dense(20, init='glorot_normal', activation='tanh',W_regularizer=l2(.05)))\n",
    "\n",
    "model11=Sequential()\n",
    "model11.add(Convolution3D(10, 3, 3, 3, input_shape=(10, 10, 10,1), border_mode='valid', init='he_normal',W_regularizer=l2(.05)))\n",
    "model11.add(BatchNormalization())\n",
    "model11.add(Activation('relu'))\n",
    "model11.add(Flatten())\n",
    "model11.add(Dropout(0.2))\n",
    "model11.add(Dense(20, init='glorot_normal', activation='tanh',W_regularizer=l2(.05)))\n",
    "\n",
    "model12=Sequential()\n",
    "model12.add(Convolution3D(10, 3, 3, 3, input_shape=(10, 10, 10,1), border_mode='valid', init='he_normal',W_regularizer=l2(.05)))\n",
    "model12.add(BatchNormalization())\n",
    "model12.add(Activation('relu'))\n",
    "model12.add(Flatten())\n",
    "model12.add(Dropout(0.2))\n",
    "model12.add(Dense(20, init='glorot_normal', activation='tanh',W_regularizer=l2(.05)))\n",
    "\n",
    "model13=Sequential()\n",
    "model13.add(Convolution3D(10, 3, 3, 3, input_shape=(10, 10, 10,1), border_mode='valid', init='he_normal',W_regularizer=l2(.05)))\n",
    "model13.add(BatchNormalization())\n",
    "model13.add(Activation('relu'))\n",
    "model13.add(Flatten())\n",
    "model13.add(Dropout(0.2))\n",
    "model13.add(Dense(20, init='glorot_normal', activation='tanh',W_regularizer=l2(.05)))\n",
    "\n",
    "model14=Sequential()\n",
    "model14.add(Convolution3D(10, 3, 3, 3, input_shape=(10, 10, 10,1), border_mode='valid', init='he_normal',W_regularizer=l2(.05)))\n",
    "model14.add(BatchNormalization())\n",
    "model14.add(Activation('relu'))\n",
    "model14.add(Flatten())\n",
    "model14.add(Dropout(0.2))\n",
    "model14.add(Dense(20, init='glorot_normal', activation='tanh',W_regularizer=l2(.05)))\n",
    "\n",
    "model15=Sequential()\n",
    "model15.add(Convolution3D(10, 3, 3, 3, input_shape=(10, 10, 10,1), border_mode='valid', init='he_normal',W_regularizer=l2(.05)))\n",
    "model15.add(BatchNormalization())\n",
    "model15.add(Activation('relu'))\n",
    "model15.add(Flatten())\n",
    "model15.add(Dropout(0.2))\n",
    "model15.add(Dense(20, init='glorot_normal', activation='tanh',W_regularizer=l2(.05)))\n",
    "\n",
    "model16=Sequential()\n",
    "model16.add(Convolution3D(10, 3, 3, 3, input_shape=(10, 10, 10,1), border_mode='valid', init='he_normal',W_regularizer=l2(.05)))\n",
    "model16.add(BatchNormalization())\n",
    "model16.add(Activation('relu'))\n",
    "model16.add(Flatten())\n",
    "model16.add(Dropout(0.2))\n",
    "model16.add(Dense(20, init='glorot_normal', activation='tanh',W_regularizer=l2(.05)))\n",
    "\n",
    "model17=Sequential()\n",
    "model17.add(Convolution3D(10, 3, 3, 3, input_shape=(10, 10, 10,1), border_mode='valid', init='he_normal',W_regularizer=l2(.05)))\n",
    "model17.add(BatchNormalization())\n",
    "model17.add(Activation('relu'))\n",
    "model17.add(Flatten())\n",
    "model17.add(Dropout(0.2))\n",
    "model17.add(Dense(20, init='glorot_normal', activation='tanh',W_regularizer=l2(.05)))\n",
    "\n",
    "merged = Merge([model1, model2, model3, model4, model5, model6, model7, model8, model9, model10, model11, model12, model13, model14, model15, model16, model17], mode='concat')\n",
    "final_model = Sequential()\n",
    "final_model.add(merged)\n",
    "final_model.add(Dense(10, init='glorot_normal', activation='tanh',W_regularizer=l2(.01)))\n",
    "final_model.add(Dense(1, init='glorot_normal', activation='tanh'))\n",
    "final_model.compile(loss='binary_crossentropy', optimizer=adam, metrics=['accuracy'])"
   ]
  },
  {
   "cell_type": "code",
   "execution_count": 14,
   "metadata": {
    "collapsed": false
   },
   "outputs": [
    {
     "name": "stdout",
     "output_type": "stream",
     "text": [
      "0.0005\n"
     ]
    }
   ],
   "source": [
    "import keras.backend as K\n",
    "print K.get_value(final_model.optimizer.lr)"
   ]
  },
  {
   "cell_type": "code",
   "execution_count": 15,
   "metadata": {
    "collapsed": false
   },
   "outputs": [
    {
     "name": "stdout",
     "output_type": "stream",
     "text": [
      "Train on 198 samples, validate on 50 samples\n",
      "Epoch 1/1\n",
      "256s - loss: 35.9917 - acc: 0.5808 - val_loss: 0.9849 - val_acc: 0.3200\n",
      "Train on 198 samples, validate on 50 samples\n",
      "Epoch 1/1\n",
      "301s - loss: 27.3666 - acc: 0.7525 - val_loss: 0.9467 - val_acc: 0.3200\n",
      "Train on 198 samples, validate on 50 samples\n",
      "Epoch 1/1\n",
      "226s - loss: 21.1730 - acc: 0.7980 - val_loss: 1.4032 - val_acc: 0.3200\n",
      "Train on 198 samples, validate on 50 samples\n",
      "Epoch 1/1\n",
      "338s - loss: 17.0558 - acc: 0.8030 - val_loss: 1.0529 - val_acc: 0.3200\n",
      "Train on 198 samples, validate on 50 samples\n",
      "Epoch 1/1\n",
      "367s - loss: 14.7397 - acc: 0.8788 - val_loss: 1.1713 - val_acc: 0.3200\n",
      "Train on 198 samples, validate on 50 samples\n",
      "Epoch 1/1\n",
      "247s - loss: 13.5083 - acc: 0.9091 - val_loss: 1.1860 - val_acc: 0.3200\n",
      "Train on 198 samples, validate on 50 samples\n",
      "Epoch 1/1\n",
      "160s - loss: 12.6394 - acc: 0.9343 - val_loss: 1.1061 - val_acc: 0.3200\n",
      "Train on 198 samples, validate on 50 samples\n",
      "Epoch 1/1\n",
      "140s - loss: 12.1973 - acc: 0.9646 - val_loss: 1.0327 - val_acc: 0.3200\n",
      "Train on 198 samples, validate on 50 samples\n",
      "Epoch 1/1\n",
      "209s - loss: 11.9940 - acc: 0.9596 - val_loss: 1.0097 - val_acc: 0.3200\n",
      "Train on 198 samples, validate on 50 samples\n",
      "Epoch 1/1\n",
      "243s - loss: 11.8588 - acc: 0.9646 - val_loss: 0.9503 - val_acc: 0.3400\n",
      "Train on 198 samples, validate on 50 samples\n",
      "Epoch 1/1\n",
      "238s - loss: 11.7358 - acc: 0.9545 - val_loss: 0.9304 - val_acc: 0.3400\n",
      "Train on 198 samples, validate on 50 samples\n",
      "Epoch 1/1\n",
      "244s - loss: 11.5698 - acc: 0.9747 - val_loss: 0.8430 - val_acc: 0.3400\n",
      "Train on 198 samples, validate on 50 samples\n",
      "Epoch 1/1\n",
      "252s - loss: 11.4301 - acc: 0.9747 - val_loss: 0.7610 - val_acc: 0.4200\n",
      "Train on 198 samples, validate on 50 samples\n",
      "Epoch 1/1\n",
      "243s - loss: 11.2976 - acc: 0.9697 - val_loss: 0.6998 - val_acc: 0.5000\n",
      "Train on 198 samples, validate on 50 samples\n",
      "Epoch 1/1\n",
      "257s - loss: 11.1439 - acc: 0.9747 - val_loss: 0.6786 - val_acc: 0.5600\n",
      "Train on 198 samples, validate on 50 samples\n",
      "Epoch 1/1\n",
      "243s - loss: 10.9928 - acc: 0.9798 - val_loss: 0.5464 - val_acc: 0.7200\n",
      "Train on 198 samples, validate on 50 samples\n",
      "Epoch 1/1\n",
      "238s - loss: 10.8624 - acc: 0.9545 - val_loss: 0.4944 - val_acc: 0.8000\n",
      "Train on 198 samples, validate on 50 samples\n",
      "Epoch 1/1\n",
      "242s - loss: 10.7095 - acc: 0.9848 - val_loss: 0.5407 - val_acc: 0.7600\n",
      "Train on 198 samples, validate on 50 samples\n",
      "Epoch 1/1\n",
      "242s - loss: 10.5595 - acc: 0.9848 - val_loss: 0.4321 - val_acc: 0.8200\n",
      "Train on 198 samples, validate on 50 samples\n",
      "Epoch 1/1\n",
      "238s - loss: 10.4153 - acc: 0.9949 - val_loss: 0.4214 - val_acc: 0.8200\n",
      "Train on 198 samples, validate on 50 samples\n",
      "Epoch 1/1\n",
      "252s - loss: 10.2728 - acc: 0.9899 - val_loss: 0.3907 - val_acc: 0.8600\n",
      "Train on 198 samples, validate on 50 samples\n",
      "Epoch 1/1\n",
      "242s - loss: 10.1402 - acc: 0.9899 - val_loss: 0.3392 - val_acc: 0.8400\n",
      "Train on 198 samples, validate on 50 samples\n",
      "Epoch 1/1\n",
      "238s - loss: 10.0316 - acc: 0.9899 - val_loss: 0.3241 - val_acc: 0.8800\n",
      "Train on 198 samples, validate on 50 samples\n",
      "Epoch 1/1\n",
      "240s - loss: 9.9480 - acc: 0.9899 - val_loss: 0.2999 - val_acc: 0.9000\n",
      "Train on 198 samples, validate on 50 samples\n",
      "Epoch 1/1\n",
      "238s - loss: 9.8780 - acc: 0.9899 - val_loss: 0.2874 - val_acc: 0.9000\n",
      "Train on 198 samples, validate on 50 samples\n",
      "Epoch 1/1\n",
      "238s - loss: 9.8018 - acc: 0.9949 - val_loss: 0.2659 - val_acc: 0.9200\n",
      "Train on 198 samples, validate on 50 samples\n",
      "Epoch 1/1\n",
      "238s - loss: 9.7262 - acc: 0.9949 - val_loss: 0.2545 - val_acc: 0.9400\n",
      "Train on 198 samples, validate on 50 samples\n",
      "Epoch 1/1\n",
      "246s - loss: 9.6610 - acc: 0.9899 - val_loss: 0.2450 - val_acc: 0.9400\n",
      "Train on 198 samples, validate on 50 samples\n",
      "Epoch 1/1\n",
      "258s - loss: 9.5804 - acc: 0.9899 - val_loss: 0.2391 - val_acc: 0.9200\n",
      "Train on 198 samples, validate on 50 samples\n",
      "Epoch 1/1\n",
      "264s - loss: 9.5154 - acc: 0.9848 - val_loss: 0.2305 - val_acc: 0.9400\n",
      "Train on 198 samples, validate on 50 samples\n",
      "Epoch 1/1\n",
      "265s - loss: 9.4435 - acc: 0.9949 - val_loss: 0.2346 - val_acc: 0.9400\n",
      "Train on 198 samples, validate on 50 samples\n",
      "Epoch 1/1\n",
      "299s - loss: 9.3726 - acc: 0.9848 - val_loss: 0.2302 - val_acc: 0.9200\n",
      "Train on 198 samples, validate on 50 samples\n",
      "Epoch 1/1\n",
      "332s - loss: 9.3049 - acc: 0.9899 - val_loss: 0.2366 - val_acc: 0.9400\n",
      "Train on 198 samples, validate on 50 samples\n",
      "Epoch 1/1\n",
      "308s - loss: 9.2750 - acc: 0.9848 - val_loss: 0.2320 - val_acc: 0.9400\n",
      "Train on 198 samples, validate on 50 samples\n",
      "Epoch 1/1\n",
      "324s - loss: 9.2339 - acc: 0.9949 - val_loss: 0.2288 - val_acc: 0.9400\n",
      "Train on 198 samples, validate on 50 samples\n",
      "Epoch 1/1\n",
      "326s - loss: 9.1926 - acc: 0.9848 - val_loss: 0.2249 - val_acc: 0.9400\n",
      "Train on 198 samples, validate on 50 samples\n",
      "Epoch 1/1\n",
      "328s - loss: 9.1484 - acc: 0.9899 - val_loss: 0.2274 - val_acc: 0.9200\n",
      "Train on 198 samples, validate on 50 samples\n",
      "Epoch 1/1\n",
      "328s - loss: 9.1169 - acc: 0.9899 - val_loss: 0.2200 - val_acc: 0.9200\n",
      "Train on 198 samples, validate on 50 samples\n",
      "Epoch 1/1\n",
      "328s - loss: 9.0674 - acc: 0.9949 - val_loss: 0.2076 - val_acc: 0.9200\n",
      "Train on 198 samples, validate on 50 samples\n",
      "Epoch 1/1\n",
      "328s - loss: 9.0467 - acc: 0.9899 - val_loss: 0.2029 - val_acc: 0.9200\n",
      "Train on 198 samples, validate on 50 samples\n",
      "Epoch 1/1\n",
      "329s - loss: 9.0028 - acc: 0.9899 - val_loss: 0.1900 - val_acc: 0.9200\n",
      "Train on 198 samples, validate on 50 samples\n",
      "Epoch 1/1\n",
      "327s - loss: 8.9708 - acc: 0.9949 - val_loss: 0.1836 - val_acc: 0.9200\n",
      "Train on 198 samples, validate on 50 samples\n",
      "Epoch 1/1\n",
      "286s - loss: 8.9301 - acc: 0.9899 - val_loss: 0.1775 - val_acc: 0.9200\n",
      "Train on 198 samples, validate on 50 samples\n",
      "Epoch 1/1\n",
      "260s - loss: 8.9182 - acc: 0.9899 - val_loss: 0.1757 - val_acc: 0.9000\n",
      "Train on 198 samples, validate on 50 samples\n",
      "Epoch 1/1\n",
      "250s - loss: 8.9003 - acc: 0.9949 - val_loss: 0.1779 - val_acc: 0.9000\n",
      "Train on 198 samples, validate on 50 samples\n",
      "Epoch 1/1\n",
      "250s - loss: 8.8737 - acc: 0.9899 - val_loss: 0.1764 - val_acc: 0.9000\n",
      "Train on 198 samples, validate on 50 samples\n",
      "Epoch 1/1\n",
      "256s - loss: 8.8599 - acc: 0.9899 - val_loss: 0.1708 - val_acc: 0.9200\n",
      "Train on 198 samples, validate on 50 samples\n",
      "Epoch 1/1\n",
      "266s - loss: 8.8433 - acc: 0.9899 - val_loss: 0.1706 - val_acc: 0.9000\n",
      "Train on 198 samples, validate on 50 samples\n",
      "Epoch 1/1\n",
      "259s - loss: 8.8102 - acc: 0.9949 - val_loss: 0.1719 - val_acc: 0.9000\n",
      "Train on 198 samples, validate on 50 samples\n",
      "Epoch 1/1\n",
      "248s - loss: 8.8000 - acc: 0.9949 - val_loss: 0.1735 - val_acc: 0.9000\n",
      "Train on 198 samples, validate on 50 samples\n",
      "Epoch 1/1\n",
      "250s - loss: 8.7815 - acc: 0.9949 - val_loss: 0.1752 - val_acc: 0.9000\n",
      "Train on 198 samples, validate on 50 samples\n",
      "Epoch 1/1\n",
      "250s - loss: 8.7583 - acc: 0.9949 - val_loss: 0.1664 - val_acc: 0.9200\n",
      "Train on 198 samples, validate on 50 samples\n",
      "Epoch 1/1\n",
      "294s - loss: 8.7445 - acc: 0.9949 - val_loss: 0.1666 - val_acc: 0.9200\n",
      "Train on 198 samples, validate on 50 samples\n",
      "Epoch 1/1\n",
      "257s - loss: 8.7333 - acc: 0.9949 - val_loss: 0.1642 - val_acc: 0.9200\n",
      "Train on 198 samples, validate on 50 samples\n",
      "Epoch 1/1\n",
      "251s - loss: 8.7201 - acc: 0.9949 - val_loss: 0.1631 - val_acc: 0.9200\n",
      "Train on 198 samples, validate on 50 samples\n",
      "Epoch 1/1\n",
      "263s - loss: 8.7114 - acc: 0.9949 - val_loss: 0.1626 - val_acc: 0.9200\n",
      "Train on 198 samples, validate on 50 samples\n",
      "Epoch 1/1\n",
      "266s - loss: 8.7055 - acc: 0.9949 - val_loss: 0.1620 - val_acc: 0.9200\n",
      "Train on 198 samples, validate on 50 samples\n",
      "Epoch 1/1\n",
      "251s - loss: 8.6920 - acc: 0.9949 - val_loss: 0.1612 - val_acc: 0.9200\n",
      "Train on 198 samples, validate on 50 samples\n",
      "Epoch 1/1\n",
      "250s - loss: 8.6820 - acc: 0.9949 - val_loss: 0.1620 - val_acc: 0.9200\n",
      "Train on 198 samples, validate on 50 samples\n",
      "Epoch 1/1\n",
      "260s - loss: 8.6713 - acc: 0.9949 - val_loss: 0.1628 - val_acc: 0.9200\n",
      "Train on 198 samples, validate on 50 samples\n",
      "Epoch 1/1\n",
      "249s - loss: 8.6665 - acc: 0.9899 - val_loss: 0.1628 - val_acc: 0.9200\n",
      "Train on 198 samples, validate on 50 samples\n",
      "Epoch 1/1\n",
      "247s - loss: 8.6524 - acc: 0.9949 - val_loss: 0.1624 - val_acc: 0.9200\n",
      "Train on 198 samples, validate on 50 samples\n",
      "Epoch 1/1\n",
      "251s - loss: 8.6392 - acc: 0.9949 - val_loss: 0.1623 - val_acc: 0.9200\n",
      "Train on 198 samples, validate on 50 samples\n",
      "Epoch 1/1\n",
      "258s - loss: 8.6408 - acc: 0.9949 - val_loss: 0.1624 - val_acc: 0.9200\n",
      "Train on 198 samples, validate on 50 samples\n",
      "Epoch 1/1\n",
      "254s - loss: 8.6306 - acc: 0.9949 - val_loss: 0.1623 - val_acc: 0.9200\n",
      "Train on 198 samples, validate on 50 samples\n",
      "Epoch 1/1\n",
      "246s - loss: 8.6308 - acc: 0.9949 - val_loss: 0.1625 - val_acc: 0.9200\n",
      "Train on 198 samples, validate on 50 samples\n",
      "Epoch 1/1\n",
      "241s - loss: 8.6246 - acc: 0.9949 - val_loss: 0.1625 - val_acc: 0.9200\n",
      "Train on 198 samples, validate on 50 samples\n",
      "Epoch 1/1\n",
      "248s - loss: 8.6159 - acc: 1.0000 - val_loss: 0.1620 - val_acc: 0.9200\n",
      "Train on 198 samples, validate on 50 samples\n",
      "Epoch 1/1\n",
      "252s - loss: 8.6109 - acc: 1.0000 - val_loss: 0.1618 - val_acc: 0.9200\n",
      "Train on 198 samples, validate on 50 samples\n",
      "Epoch 1/1\n",
      "256s - loss: 8.6018 - acc: 0.9949 - val_loss: 0.1613 - val_acc: 0.9200\n",
      "5.15159154561\n"
     ]
    }
   ],
   "source": [
    "# WATCHOUT: Change the name of the model\n",
    "acc_train=[]\n",
    "loss_train=[]\n",
    "acc_val=[]\n",
    "loss_val=[]\n",
    "all_lr=[]\n",
    "t0 = time.time()\n",
    "\n",
    "# thresholds\n",
    "thres1=.80\n",
    "thres1passed=0\n",
    "thres2=.90\n",
    "thres2passed=0\n",
    "thres3=.93\n",
    "thres3passed=0\n",
    "thres4=.96\n",
    "thres4passed=0\n",
    "maxAcc=0\n",
    "maxAccVal=0\n",
    "countNoIncrease=0\n",
    "\n",
    "for iteration in np.linspace(1,70,70):\n",
    "    history=final_model.fit([X1, X2, X3, X4, X5, X6, X7, X8, X9, X10, X1, X12, X13, X14, X15, X16, X17], y, validation_split=0.2, nb_epoch=1, batch_size=8,verbose=2)\n",
    "    # Append values\n",
    "    acc_train.append(history.history['acc'])\n",
    "    acc_val.append(history.history['val_acc'])\n",
    "    loss_train.append(history.history['loss'])\n",
    "    loss_val.append(history.history['val_loss'])\n",
    "    all_lr.append(K.get_value(final_model.optimizer.lr))\n",
    "    \n",
    "    # Compare last iteration vs max value of Acc\n",
    "    if acc_train[-1][0]>maxAcc:\n",
    "        maxAcc=max(acc_train)[0]\n",
    "        maxIt=iteration\n",
    "    else:\n",
    "        countNoIncrease=countNoIncrease+1\n",
    "        \n",
    "    if acc_val[-1][0]>maxAccVal:\n",
    "        maxAccVal=max(acc_val)[0]\n",
    "        final_model.save('m723s10_iter_'+'{0}_valAcc_{1}'.format(int(iteration),acc_val[-1][0])+'.h5')\n",
    "    \n",
    "    if countNoIncrease>=10:\n",
    "        countNoIncrease=0\n",
    "        K.set_value(final_model.optimizer.lr, 0.5 * K.get_value(final_model.optimizer.lr))    \n",
    "        \n",
    "    if acc_train[-1][0] > thres1 and thres1passed == 0:\n",
    "        thres1passed=1\n",
    "        countNoIncrease=0\n",
    "        K.set_value(final_model.optimizer.lr, 0.5 * K.get_value(final_model.optimizer.lr))    \n",
    "        \n",
    "    if acc_train[-1][0] > thres2 and thres2passed == 0:\n",
    "        thres2passed=1\n",
    "        countNoIncrease=0\n",
    "        K.set_value(final_model.optimizer.lr, 0.5 * K.get_value(final_model.optimizer.lr))    \n",
    "        \n",
    "    if acc_train[-1][0] > thres3 and thres3passed == 0:\n",
    "        thres3passed=1\n",
    "        countNoIncrease=0\n",
    "        K.set_value(final_model.optimizer.lr, 0.5 * K.get_value(final_model.optimizer.lr))    \n",
    "        \n",
    "    if acc_train[-1][0] > thres4 and thres4passed == 0:\n",
    "        thres4passed=1\n",
    "        countNoIncrease=0\n",
    "        K.set_value(final_model.optimizer.lr, 0.5 * K.get_value(final_model.optimizer.lr))   \n",
    "    \n",
    "t1 = time.time()\n",
    "print (t1-t0)/60/60"
   ]
  },
  {
   "cell_type": "code",
   "execution_count": 16,
   "metadata": {
    "collapsed": false
   },
   "outputs": [
    {
     "data": {
      "image/png": "[encoded data removed]",
      "text/plain": [
       "<matplotlib.figure.Figure at 0x7f14b5928e10>"
      ]
     },
     "metadata": {},
     "output_type": "display_data"
    },
    {
     "data": {
      "image/png": "[encoded data removed]",
      "text/plain": [
       "<matplotlib.figure.Figure at 0x7f149f5765d0>"
      ]
     },
     "metadata": {},
     "output_type": "display_data"
    }
   ],
   "source": [
    "#summarize history for accuracy\n",
    "fig=plt.figure()\n",
    "plt.plot(acc_train)\n",
    "plt.plot(acc_val)\n",
    "plt.title('model accuracy')\n",
    "plt.ylabel('accuracy')\n",
    "plt.xlabel('epoch')\n",
    "plt.legend(['train','val'], loc='lower right')\n",
    "plt.ylim([0, 1])\n",
    "plt.show()\n",
    "# summarize history for accuracy\n",
    "plt.plot(loss_train)\n",
    "plt.plot(loss_val)\n",
    "plt.title('model loss')\n",
    "plt.ylabel('loss')\n",
    "plt.xlabel('epoch')\n",
    "plt.legend(['train','val'], loc='upper right')\n",
    "#plt.ylim([0, 2])\n",
    "plt.show()"
   ]
  },
  {
   "cell_type": "code",
   "execution_count": 17,
   "metadata": {
    "collapsed": false
   },
   "outputs": [
    {
     "data": {
      "image/png": "[encoded data removed]",
      "text/plain": [
       "<matplotlib.figure.Figure at 0x7f14b595bfd0>"
      ]
     },
     "metadata": {},
     "output_type": "display_data"
    }
   ],
   "source": [
    "fig=plt.figure()\n",
    "plt.plot(all_lr)\n",
    "plt.title('learning rate')\n",
    "plt.ylabel('learning rate')\n",
    "plt.xlabel('epoch')\n",
    "plt.legend(['learning rate'], loc='upper right')\n",
    "plt.show()"
   ]
  },
  {
   "cell_type": "markdown",
   "metadata": {},
   "source": [
    "---"
   ]
  },
  {
   "cell_type": "markdown",
   "metadata": {},
   "source": [
    "## To resume training"
   ]
  },
  {
   "cell_type": "code",
   "execution_count": null,
   "metadata": {
    "collapsed": true
   },
   "outputs": [],
   "source": [
    "t0 = time.time()\n",
    "\n",
    "for iteration in np.linspace(3,8,6):\n",
    "    history=final_model.fit([X1, X2, X3, X4, X5, X6, X7, X8, X9, X10, X1, X12, X13, X14, X15, X16, X17], y, validation_split=0.2, nb_epoch=1, batch_size=8,verbose=2)\n",
    "    # Append values\n",
    "    acc_train.append(history.history['acc'])\n",
    "    acc_val.append(history.history['val_acc'])\n",
    "    loss_train.append(history.history['loss'])\n",
    "    loss_val.append(history.history['val_loss'])\n",
    "    all_lr.append(K.get_value(final_model.optimizer.lr))\n",
    "    \n",
    "    # Compare last iteration vs max value of Acc\n",
    "    if acc_train[-1][0]>maxAcc:\n",
    "        maxAcc=max(acc_train)[0]\n",
    "        maxIt=iteration\n",
    "    else:\n",
    "        countNoIncrease=countNoIncrease+1\n",
    "        \n",
    "    if acc_val[-1][0]>maxAccVal:\n",
    "        maxAccVal=max(acc_val)[0]\n",
    "        final_model.save('m715s10_iter_'+'{0}_valAcc_{1}'.format(int(iteration),acc_val[-1][0])+'.h5')\n",
    "    \n",
    "    if countNoIncrease>=10:\n",
    "        countNoIncrease=0\n",
    "        K.set_value(final_model.optimizer.lr, 0.5 * K.get_value(final_model.optimizer.lr))    \n",
    "        \n",
    "    if acc_train[-1][0] > thres1 and thres1passed == 0:\n",
    "        thres1passed=1\n",
    "        countNoIncrease=0\n",
    "        K.set_value(final_model.optimizer.lr, 0.5 * K.get_value(final_model.optimizer.lr))    \n",
    "        \n",
    "    if acc_train[-1][0] > thres2 and thres2passed == 0:\n",
    "        thres2passed=1\n",
    "        countNoIncrease=0\n",
    "        K.set_value(final_model.optimizer.lr, 0.5 * K.get_value(final_model.optimizer.lr))    \n",
    "        \n",
    "    if acc_train[-1][0] > thres3 and thres3passed == 0:\n",
    "        thres3passed=1\n",
    "        countNoIncrease=0\n",
    "        K.set_value(final_model.optimizer.lr, 0.5 * K.get_value(final_model.optimizer.lr))    \n",
    "        \n",
    "    if acc_train[-1][0] > thres4 and thres4passed == 0:\n",
    "        thres4passed=1\n",
    "        countNoIncrease=0\n",
    "        K.set_value(final_model.optimizer.lr, 0.5 * K.get_value(final_model.optimizer.lr))   \n",
    "    \n",
    "t1 = time.time()\n",
    "print (t1-t0)/60/60"
   ]
  },
  {
   "cell_type": "markdown",
   "metadata": {},
   "source": [
    "---"
   ]
  },
  {
   "cell_type": "markdown",
   "metadata": {},
   "source": [
    "## To Save the model and the variables"
   ]
  },
  {
   "cell_type": "code",
   "execution_count": 18,
   "metadata": {
    "collapsed": true
   },
   "outputs": [],
   "source": [
    "final_model.save('X.h5')"
   ]
  },
  {
   "cell_type": "code",
   "execution_count": 27,
   "metadata": {
    "collapsed": true
   },
   "outputs": [],
   "source": [
    "K_LR=K.get_value(adam.lr)\n",
    "K_LR, acc_train, loss_train, acc_val, loss_val, all_lr, countNoIncrease, maxAcc, maxAccVal, thres1, thres1passed, thres2, thres2passed, thres3, thres3passed, thres4, thres4passed\n",
    "with open('Xobjs.pickle', 'wb') as f:\n",
    "    pickle.dump([K_LR, acc_train, loss_train, acc_val, loss_val, all_lr, countNoIncrease, maxAcc, maxAccVal, thres1, thres1passed, thres2, thres2passed, thres3, thres3passed, thres4, thres4passed], f)"
   ]
  },
  {
   "cell_type": "markdown",
   "metadata": {},
   "source": [
    "---"
   ]
  },
  {
   "cell_type": "markdown",
   "metadata": {},
   "source": [
    "## To retreive the model and the variables"
   ]
  },
  {
   "cell_type": "code",
   "execution_count": 9,
   "metadata": {
    "collapsed": false
   },
   "outputs": [],
   "source": [
    "# Getting back the objects:\n",
    "with open('m715objs.pickle') as f:\n",
    "    K_LR, acc_train, loss_train, acc_val, loss_val, all_lr, countNoIncrease, maxAcc, maxAccVal, thres1, thres1passed, thres2, thres2passed, thres3, thres3passed, thres4, thres4passed = pickle.load(f)"
   ]
  },
  {
   "cell_type": "code",
   "execution_count": 25,
   "metadata": {
    "collapsed": true
   },
   "outputs": [],
   "source": [
    "from keras.models import load_model\n",
    "best_model=load_model('m723s10_iter_27_valAcc_0.94.h5')"
   ]
  },
  {
   "cell_type": "code",
   "execution_count": 26,
   "metadata": {
    "collapsed": false
   },
   "outputs": [
    {
     "name": "stdout",
     "output_type": "stream",
     "text": [
      "62/62 [==============================] - 4s     \n",
      "0.887096774194\n"
     ]
    },
    {
     "data": {
      "text/plain": [
       "array([[23,  6],\n",
       "       [ 1, 32]])"
      ]
     },
     "execution_count": 26,
     "metadata": {},
     "output_type": "execute_result"
    }
   ],
   "source": [
    "y_pred=best_model.predict_classes([X1test, X2test, X3test, X4test, X5test, X6test, X7test, X8test, X9test, X10test, X11test, X12test, X13test, X14test, X15test, X16test, X17test])\n",
    "y_predC=np.squeeze(y_pred)\n",
    "print accuracy_score(y_true,y_predC)\n",
    "confusion_matrix(y_true,y_predC)"
   ]
  },
  {
   "cell_type": "markdown",
   "metadata": {
    "collapsed": false
   },
   "source": [
    "---"
   ]
  },
  {
   "cell_type": "markdown",
   "metadata": {
    "collapsed": false
   },
   "source": [
    "## To get the test result"
   ]
  },
  {
   "cell_type": "code",
   "execution_count": 19,
   "metadata": {
    "collapsed": false
   },
   "outputs": [],
   "source": [
    "y_true=readLabels('fold1/test/labelsTest.mat')\n",
    "X1test=readScan('fold1/test/scansMiniTest1.mat')\n",
    "X2test=readScan('fold1/test/scansMiniTest2.mat')\n",
    "X3test=readScan('fold1/test/scansMiniTest3.mat')\n",
    "X4test=readScan('fold1/test/scansMiniTest4.mat')\n",
    "X5test=readScan('fold1/test/scansMiniTest5.mat')\n",
    "X6test=readScan('fold1/test/scansMiniTest6.mat')\n",
    "X7test=readScan('fold1/test/scansMiniTest7.mat')\n",
    "X8test=readScan('fold1/test/scansMiniTest8.mat')\n",
    "X9test=readScan('fold1/test/scansMiniTest9.mat')\n",
    "X10test=readScan('fold1/test/scansMiniTest10.mat')\n",
    "X11test=readScan('fold1/test/scansMiniTest11.mat')\n",
    "X12test=readScan('fold1/test/scansMiniTest12.mat')\n",
    "X13test=readScan('fold1/test/scansMiniTest13.mat')\n",
    "X14test=readScan('fold1/test/scansMiniTest14.mat')\n",
    "X15test=readScan('fold1/test/scansMiniTest15.mat')\n",
    "X16test=readScan('fold1/test/scansMiniTest16.mat')\n",
    "X17test=readScan('fold1/test/scansMiniTest17.mat')"
   ]
  },
  {
   "cell_type": "code",
   "execution_count": 20,
   "metadata": {
    "collapsed": false
   },
   "outputs": [
    {
     "name": "stdout",
     "output_type": "stream",
     "text": [
      "62/62 [==============================] - 4s     \n"
     ]
    }
   ],
   "source": [
    "y_predProb=final_model.predict([X1test, X2test, X3test, X4test, X5test, X6test, X7test, X8test, X9test, X10test, X11test, X12test, X13test, X14test, X15test, X16test, X17test])\n",
    "y_pred=final_model.predict_classes([X1test, X2test, X3test, X4test, X5test, X6test, X7test, X8test, X9test, X10test, X11test, X12test, X13test, X14test, X15test, X16test, X17test])"
   ]
  },
  {
   "cell_type": "code",
   "execution_count": 21,
   "metadata": {
    "collapsed": false
   },
   "outputs": [
    {
     "data": {
      "text/plain": [
       "array([ 0.12652703,  0.14476146,  0.29822367,  0.94110709,  0.04415207,\n",
       "       -0.12183058,  0.26552585,  0.15792345,  0.79904175,  0.86054921,\n",
       "        0.6045506 ,  0.14526699,  0.98872513,  0.9860546 ,  0.98475766,\n",
       "        0.96503025,  0.97901773,  0.98391569,  0.95124441,  0.98692876,\n",
       "        0.98265064,  0.98768377,  0.88566303, -0.18132611,  0.80062443,\n",
       "        0.97234368,  0.79345191,  0.95622253,  0.91167492,  0.98179156,\n",
       "        0.94804448,  0.98102236,  0.97815073,  0.68038768,  0.05703928,\n",
       "        0.81303728,  0.92041421,  0.97884548,  0.97990179,  0.98335582,\n",
       "        0.04456527,  0.46661142,  0.67274654,  0.47146529, -0.22224624,\n",
       "        0.38552928,  0.10202714, -0.17836626,  0.69328505, -0.12674169,\n",
       "       -0.16302225, -0.06577493, -0.28938419, -0.16275227, -0.28446943,\n",
       "       -0.23177804,  0.03408346, -0.19528736,  0.96865165,  0.8616991 ,\n",
       "        0.85862052,  0.95955199], dtype=float32)"
      ]
     },
     "execution_count": 21,
     "metadata": {},
     "output_type": "execute_result"
    }
   ],
   "source": [
    "np.squeeze(y_predProb)"
   ]
  },
  {
   "cell_type": "code",
   "execution_count": 22,
   "metadata": {
    "collapsed": false
   },
   "outputs": [
    {
     "data": {
      "text/plain": [
       "array([0, 0, 0, 1, 0, 0, 0, 0, 1, 1, 1, 0, 1, 1, 1, 1, 1, 1, 1, 1, 1, 1, 1,\n",
       "       0, 1, 1, 1, 1, 1, 1, 1, 1, 1, 1, 0, 1, 1, 1, 1, 1, 0, 0, 1, 0, 0, 0,\n",
       "       0, 0, 1, 0, 0, 0, 0, 0, 0, 0, 0, 0, 1, 1, 1, 1], dtype=int32)"
      ]
     },
     "execution_count": 22,
     "metadata": {},
     "output_type": "execute_result"
    }
   ],
   "source": [
    "y_predC=np.squeeze(y_pred)\n",
    "y_predC"
   ]
  },
  {
   "cell_type": "code",
   "execution_count": 23,
   "metadata": {
    "collapsed": true
   },
   "outputs": [],
   "source": [
    "from sklearn.metrics import confusion_matrix\n",
    "from sklearn.metrics import  accuracy_score"
   ]
  },
  {
   "cell_type": "code",
   "execution_count": 24,
   "metadata": {
    "collapsed": false
   },
   "outputs": [
    {
     "name": "stdout",
     "output_type": "stream",
     "text": [
      "0.887096774194\n",
      "[ 3 11 22 24 34 42 48]\n"
     ]
    },
    {
     "data": {
      "text/plain": [
       "array([[24,  5],\n",
       "       [ 2, 31]])"
      ]
     },
     "execution_count": 24,
     "metadata": {},
     "output_type": "execute_result"
    }
   ],
   "source": [
    "print accuracy_score(y_true,y_predC)\n",
    "print np.where(y_true.astype(bool)!=y_predC.astype(bool))[0]\n",
    "confusion_matrix(y_true,y_predC)"
   ]
  },
  {
   "cell_type": "markdown",
   "metadata": {},
   "source": [
    "---"
   ]
  },
  {
   "cell_type": "markdown",
   "metadata": {},
   "source": [
    "---"
   ]
  },
  {
   "cell_type": "markdown",
   "metadata": {},
   "source": [
    "---"
   ]
  }
 ],
 "metadata": {
  "kernelspec": {
   "display_name": "Python 2",
   "language": "python",
   "name": "python2"
  },
  "language_info": {
   "codemirror_mode": {
    "name": "ipython",
    "version": 2
   },
   "file_extension": ".py",
   "mimetype": "text/x-python",
   "name": "python",
   "nbconvert_exporter": "python",
   "pygments_lexer": "ipython2",
   "version": "2.7.12"
  }
 },
 "nbformat": 4,
 "nbformat_minor": 0
}
