{
 "cells": [
  {
   "cell_type": "code",
   "execution_count": 1,
   "metadata": {
    "collapsed": true
   },
   "outputs": [],
   "source": [
    "import scipy.io\n",
    "import numpy as np, h5py\n",
    "import matplotlib.pyplot as plt\n",
    "import copy\n",
    "import pandas as pd\n",
    "import pickle\n",
    "%matplotlib inline"
   ]
  },
  {
   "cell_type": "code",
   "execution_count": 2,
   "metadata": {
    "collapsed": true
   },
   "outputs": [],
   "source": [
    "from pylab import rcParams\n",
    "rcParams['figure.figsize'] = 10, 5\n",
    "rcParams['figure.dpi']=150\n",
    "rcParams['lines.linewidth']=1\n",
    "rcParams['axes.grid']=True\n",
    "rcParams['axes.facecolor']='#FFFFFF'\n",
    "rcParams['font.size']=14\n",
    "rcParams['patch.edgecolor']='none'"
   ]
  },
  {
   "cell_type": "code",
   "execution_count": 3,
   "metadata": {
    "collapsed": true
   },
   "outputs": [],
   "source": [
    "# fix random seed for reproducibility\n",
    "seed = 7\n",
    "np.random.seed(seed)"
   ]
  },
  {
   "cell_type": "code",
   "execution_count": 4,
   "metadata": {
    "collapsed": true
   },
   "outputs": [],
   "source": [
    "def readScan(scan):\n",
    "    # We read the file saved in Matlab. There is only one variable in the file called scansMini\n",
    "    data = h5py.File(scan, 'r')\n",
    "    Xscans=data.get('scansMini')\n",
    "    # We have to get the values into the right format (subjects, dim1, dim2, dim3, channels)\n",
    "    X=copy.copy(Xscans.value)\n",
    "    X=np.expand_dims(X,4)\n",
    "    X1=np.rollaxis(X,3)\n",
    "    return X1"
   ]
  },
  {
   "cell_type": "code",
   "execution_count": 5,
   "metadata": {
    "collapsed": true
   },
   "outputs": [],
   "source": [
    "def readLabels(labels):\n",
    "    data = h5py.File(labels, 'r')\n",
    "    Xscans=data.get('labels')\n",
    "    X=copy.copy(Xscans.value)\n",
    "    X2=np.squeeze(X).astype(int)\n",
    "    return X2"
   ]
  },
  {
   "cell_type": "code",
   "execution_count": 6,
   "metadata": {
    "collapsed": false
   },
   "outputs": [],
   "source": [
    "y=readLabels('fold1/train/labelsTrain.mat')\n",
    "X1=readScan('fold1/train/scansMiniTrain1.mat')\n",
    "X2=readScan('fold1/train/scansMiniTrain2.mat')\n",
    "X3=readScan('fold1/train/scansMiniTrain3.mat')\n",
    "X4=readScan('fold1/train/scansMiniTrain4.mat')\n",
    "X5=readScan('fold1/train/scansMiniTrain5.mat')\n",
    "X6=readScan('fold1/train/scansMiniTrain6.mat')\n",
    "X7=readScan('fold1/train/scansMiniTrain7.mat')\n",
    "X8=readScan('fold1/train/scansMiniTrain8.mat')\n",
    "X9=readScan('fold1/train/scansMiniTrain9.mat')\n",
    "X10=readScan('fold1/train/scansMiniTrain10.mat')\n",
    "X11=readScan('fold1/train/scansMiniTrain11.mat')\n",
    "X12=readScan('fold1/train/scansMiniTrain12.mat')\n",
    "X13=readScan('fold1/train/scansMiniTrain13.mat')\n",
    "X14=readScan('fold1/train/scansMiniTrain14.mat')\n",
    "X15=readScan('fold1/train/scansMiniTrain15.mat')\n",
    "X16=readScan('fold1/train/scansMiniTrain16.mat')\n",
    "X17=readScan('fold1/train/scansMiniTrain17.mat')"
   ]
  },
  {
   "cell_type": "code",
   "execution_count": 7,
   "metadata": {
    "collapsed": false
   },
   "outputs": [
    {
     "data": {
      "text/plain": [
       "<matplotlib.collections.PolyCollection at 0x7f976d0246d0>"
      ]
     },
     "execution_count": 7,
     "metadata": {},
     "output_type": "execute_result"
    },
    {
     "data": {
      "image/png": "[encoded data removed]",
      "text/plain": [
       "<matplotlib.figure.Figure at 0x7f976d162790>"
      ]
     },
     "metadata": {},
     "output_type": "display_data"
    }
   ],
   "source": [
    "f, (ax1, ax2) = plt.subplots(1, 2, sharey=True)\n",
    "ax1.pcolor((X1[10,:,:,0,0]))\n",
    "ax1.set_title('Sharing Y axis')\n",
    "ax2.pcolor((X2[10,:,:,0,0]))"
   ]
  },
  {
   "cell_type": "code",
   "execution_count": 8,
   "metadata": {
    "collapsed": false
   },
   "outputs": [
    {
     "data": {
      "text/plain": [
       "(248, 10, 10, 10, 1)"
      ]
     },
     "execution_count": 8,
     "metadata": {},
     "output_type": "execute_result"
    }
   ],
   "source": [
    "X1.shape"
   ]
  },
  {
   "cell_type": "markdown",
   "metadata": {},
   "source": [
    "---"
   ]
  },
  {
   "cell_type": "markdown",
   "metadata": {},
   "source": [
    "## Keras libraries"
   ]
  },
  {
   "cell_type": "code",
   "execution_count": 9,
   "metadata": {
    "collapsed": false
   },
   "outputs": [
    {
     "name": "stderr",
     "output_type": "stream",
     "text": [
      "Using TensorFlow backend.\n"
     ]
    }
   ],
   "source": [
    "from keras.models import Sequential\n",
    "from keras.layers import Dense\n",
    "from keras.layers import Merge\n",
    "from keras.layers.convolutional import Convolution3D\n",
    "from keras.layers.pooling import MaxPooling3D\n",
    "from keras.layers.core import Dense, Flatten\n",
    "from keras.layers import Dropout\n",
    "from keras.optimizers import Adam\n",
    "from keras.optimizers import SGD\n",
    "from keras.wrappers.scikit_learn import KerasClassifier\n",
    "from keras.callbacks import EarlyStopping\n",
    "import time"
   ]
  },
  {
   "cell_type": "code",
   "execution_count": 10,
   "metadata": {
    "collapsed": false
   },
   "outputs": [],
   "source": [
    "import keras.backend as K\n",
    "from keras.callbacks import ModelCheckpoint\n",
    "from keras.callbacks import LearningRateScheduler\n",
    "from keras.layers import Activation\n",
    "from keras.layers.normalization import BatchNormalization\n",
    "from keras.regularizers import l2\n",
    "import math"
   ]
  },
  {
   "cell_type": "markdown",
   "metadata": {
    "collapsed": true
   },
   "source": [
    "---"
   ]
  },
  {
   "cell_type": "markdown",
   "metadata": {},
   "source": [
    "## The model"
   ]
  },
  {
   "cell_type": "code",
   "execution_count": 11,
   "metadata": {
    "collapsed": true
   },
   "outputs": [],
   "source": [
    "adam=Adam(lr=0.0005, beta_1=0.9, beta_2=0.999, epsilon=1e-08, decay=1e-04)#"
   ]
  },
  {
   "cell_type": "code",
   "execution_count": null,
   "metadata": {
    "collapsed": true
   },
   "outputs": [],
   "source": [
    "final_model.reset_states()\n",
    "model1.reset_states()\n",
    "model2.reset_states()\n",
    "model3.reset_states()\n",
    "model4.reset_states()\n",
    "model5.reset_states()\n",
    "model6.reset_states()\n",
    "model7.reset_states()\n",
    "model8.reset_states()\n",
    "model9.reset_states()\n",
    "model10.reset_states()\n",
    "model11.reset_states()\n",
    "model12.reset_states()\n",
    "model13.reset_states()\n",
    "model14.reset_states()\n",
    "model15.reset_states()\n",
    "model16.reset_states()\n",
    "model17.reset_states()"
   ]
  },
  {
   "cell_type": "code",
   "execution_count": 12,
   "metadata": {
    "collapsed": false
   },
   "outputs": [],
   "source": [
    "model1=Sequential()\n",
    "model1.add(Convolution3D(10, 3, 3, 3, input_shape=(10, 10, 10,1), border_mode='valid', init='he_normal', W_regularizer=l2(.05)))\n",
    "model1.add(BatchNormalization())\n",
    "model1.add(Activation('relu'))\n",
    "model1.add(Flatten())\n",
    "model1.add(Dense(20, init='glorot_normal', activation='tanh'))\n",
    "\n",
    "model2=Sequential()\n",
    "model2.add(Convolution3D(10, 3, 3, 3, input_shape=(10, 10, 10,1), border_mode='valid',  init='he_normal',W_regularizer=l2(.05)))\n",
    "model2.add(BatchNormalization())\n",
    "model2.add(Activation('relu'))\n",
    "model2.add(Flatten())\n",
    "model2.add(Dense(20, init='glorot_normal', activation='tanh'))\n",
    "\n",
    "model3=Sequential()\n",
    "model3.add(Convolution3D(10, 3, 3, 3, input_shape=(10, 10, 10,1), border_mode='valid',  init='he_normal',W_regularizer=l2(.05)))\n",
    "model3.add(BatchNormalization())\n",
    "model3.add(Activation('relu'))\n",
    "model3.add(Flatten())\n",
    "model3.add(Dense(20, init='glorot_normal', activation='tanh'))\n",
    "\n",
    "model4=Sequential()\n",
    "model4.add(Convolution3D(10, 3, 3, 3, input_shape=(10, 10, 10,1), border_mode='valid',  init='he_normal',W_regularizer=l2(.05)))\n",
    "model4.add(BatchNormalization())\n",
    "model4.add(Activation('relu'))\n",
    "model4.add(Flatten())\n",
    "model4.add(Dense(20, init='glorot_normal', activation='tanh'))\n",
    "\n",
    "model5=Sequential()\n",
    "model5.add(Convolution3D(10, 3, 3, 3, input_shape=(10, 10, 10,1), border_mode='valid', init='he_normal',W_regularizer=l2(.05)))\n",
    "model5.add(BatchNormalization())\n",
    "model5.add(Activation('relu'))\n",
    "model5.add(Flatten())\n",
    "model5.add(Dense(20, init='glorot_normal', activation='tanh'))\n",
    "\n",
    "model6=Sequential()\n",
    "model6.add(Convolution3D(10, 3, 3, 3, input_shape=(10, 10, 10,1), border_mode='valid', init='he_normal',W_regularizer=l2(.05)))\n",
    "model6.add(BatchNormalization())\n",
    "model6.add(Activation('relu'))\n",
    "model6.add(Flatten())\n",
    "model6.add(Dense(20, init='glorot_normal', activation='tanh'))\n",
    "\n",
    "model7=Sequential()\n",
    "model7.add(Convolution3D(10, 3, 3, 3, input_shape=(10, 10, 10,1), border_mode='valid',  init='he_normal',W_regularizer=l2(.05)))\n",
    "model7.add(BatchNormalization())\n",
    "model7.add(Activation('relu'))\n",
    "model7.add(Flatten())\n",
    "model7.add(Dense(20, init='glorot_normal', activation='tanh'))\n",
    "\n",
    "model8=Sequential()\n",
    "model8.add(Convolution3D(10, 3, 3, 3, input_shape=(10, 10, 10,1), border_mode='valid', init='he_normal',W_regularizer=l2(.05)))\n",
    "model8.add(BatchNormalization())\n",
    "model8.add(Activation('relu'))\n",
    "model8.add(Flatten())\n",
    "model8.add(Dense(20, init='glorot_normal', activation='tanh'))\n",
    "\n",
    "model9=Sequential()\n",
    "model9.add(Convolution3D(10, 3, 3, 3, input_shape=(10, 10, 10,1), border_mode='valid', init='he_normal',W_regularizer=l2(.05)))\n",
    "model9.add(BatchNormalization())\n",
    "model9.add(Activation('relu'))\n",
    "model9.add(Flatten())\n",
    "model9.add(Dense(20, init='glorot_normal', activation='tanh'))\n",
    "\n",
    "model10=Sequential()\n",
    "model10.add(Convolution3D(10, 3, 3, 3, input_shape=(10, 10, 10,1), border_mode='valid', init='he_normal',W_regularizer=l2(.05)))\n",
    "model10.add(BatchNormalization())\n",
    "model10.add(Activation('relu'))\n",
    "model10.add(Flatten())\n",
    "model10.add(Dense(20, init='glorot_normal', activation='tanh'))\n",
    "\n",
    "model11=Sequential()\n",
    "model11.add(Convolution3D(10, 3, 3, 3, input_shape=(10, 10, 10,1), border_mode='valid', init='he_normal',W_regularizer=l2(.05)))\n",
    "model11.add(BatchNormalization())\n",
    "model11.add(Activation('relu'))\n",
    "model11.add(Flatten())\n",
    "model11.add(Dense(20, init='glorot_normal', activation='tanh'))\n",
    "\n",
    "model12=Sequential()\n",
    "model12.add(Convolution3D(10, 3, 3, 3, input_shape=(10, 10, 10,1), border_mode='valid', init='he_normal',W_regularizer=l2(.05)))\n",
    "model12.add(BatchNormalization())\n",
    "model12.add(Activation('relu'))\n",
    "model12.add(Flatten())\n",
    "model12.add(Dense(20, init='glorot_normal', activation='tanh'))\n",
    "\n",
    "model13=Sequential()\n",
    "model13.add(Convolution3D(10, 3, 3, 3, input_shape=(10, 10, 10,1), border_mode='valid', init='he_normal',W_regularizer=l2(.05)))\n",
    "model13.add(BatchNormalization())\n",
    "model13.add(Activation('relu'))\n",
    "model13.add(Flatten())\n",
    "model13.add(Dense(20, init='glorot_normal', activation='tanh'))\n",
    "\n",
    "model14=Sequential()\n",
    "model14.add(Convolution3D(10, 3, 3, 3, input_shape=(10, 10, 10,1), border_mode='valid', init='he_normal',W_regularizer=l2(.05)))\n",
    "model14.add(BatchNormalization())\n",
    "model14.add(Activation('relu'))\n",
    "model14.add(Flatten())\n",
    "model14.add(Dense(20, init='glorot_normal', activation='tanh'))\n",
    "\n",
    "model15=Sequential()\n",
    "model15.add(Convolution3D(10, 3, 3, 3, input_shape=(10, 10, 10,1), border_mode='valid', init='he_normal',W_regularizer=l2(.05)))\n",
    "model15.add(BatchNormalization())\n",
    "model15.add(Activation('relu'))\n",
    "model15.add(Flatten())\n",
    "model15.add(Dense(20, init='glorot_normal', activation='tanh'))\n",
    "\n",
    "model16=Sequential()\n",
    "model16.add(Convolution3D(10, 3, 3, 3, input_shape=(10, 10, 10,1), border_mode='valid', init='he_normal',W_regularizer=l2(.05)))\n",
    "model16.add(BatchNormalization())\n",
    "model16.add(Activation('relu'))\n",
    "model16.add(Flatten())\n",
    "model16.add(Dense(20, init='glorot_normal', activation='tanh'))\n",
    "\n",
    "model17=Sequential()\n",
    "model17.add(Convolution3D(10, 3, 3, 3, input_shape=(10, 10, 10,1), border_mode='valid', init='he_normal',W_regularizer=l2(.05)))\n",
    "model17.add(BatchNormalization())\n",
    "model17.add(Activation('relu'))\n",
    "model17.add(Flatten())\n",
    "model17.add(Dense(20, init='glorot_normal', activation='tanh'))\n",
    "\n",
    "merged = Merge([model1, model2, model3, model4, model5, model6, model7, model8, model9, model10, model11, model12, model13, model14, model15, model16, model17], mode='concat')\n",
    "final_model = Sequential()\n",
    "final_model.add(merged)\n",
    "final_model.add(Dense(10, init='glorot_normal', activation='tanh',W_regularizer=l2(.01)))\n",
    "final_model.add(Dense(1, init='glorot_normal', activation='tanh'))\n",
    "final_model.compile(loss='binary_crossentropy', optimizer=adam, metrics=['accuracy'])"
   ]
  },
  {
   "cell_type": "code",
   "execution_count": 13,
   "metadata": {
    "collapsed": false
   },
   "outputs": [
    {
     "name": "stdout",
     "output_type": "stream",
     "text": [
      "0.0005\n"
     ]
    }
   ],
   "source": [
    "import keras.backend as K\n",
    "print K.get_value(final_model.optimizer.lr)"
   ]
  },
  {
   "cell_type": "code",
   "execution_count": 14,
   "metadata": {
    "collapsed": false
   },
   "outputs": [
    {
     "name": "stdout",
     "output_type": "stream",
     "text": [
      "Train on 198 samples, validate on 50 samples\n",
      "Epoch 1/1\n",
      "204s - loss: 6.1351 - acc: 0.6616 - val_loss: 0.3688 - val_acc: 0.9000\n",
      "Train on 198 samples, validate on 50 samples\n",
      "Epoch 1/1\n",
      "232s - loss: 4.9887 - acc: 0.8081 - val_loss: 0.2793 - val_acc: 0.9200\n",
      "Train on 198 samples, validate on 50 samples\n",
      "Epoch 1/1\n",
      "292s - loss: 4.6075 - acc: 0.8182 - val_loss: 0.2800 - val_acc: 0.9400\n",
      "Train on 198 samples, validate on 50 samples\n",
      "Epoch 1/1\n",
      "286s - loss: 4.3410 - acc: 0.8737 - val_loss: 0.2387 - val_acc: 0.9200\n",
      "Train on 198 samples, validate on 50 samples\n",
      "Epoch 1/1\n",
      "311s - loss: 4.1075 - acc: 0.8586 - val_loss: 0.2547 - val_acc: 0.9200\n",
      "Train on 198 samples, validate on 50 samples\n",
      "Epoch 1/1\n",
      "287s - loss: 3.8247 - acc: 0.9293 - val_loss: 0.2533 - val_acc: 0.9200\n",
      "Train on 198 samples, validate on 50 samples\n",
      "Epoch 1/1\n",
      "295s - loss: 3.6234 - acc: 0.9545 - val_loss: 0.2383 - val_acc: 0.9000\n",
      "Train on 198 samples, validate on 50 samples\n",
      "Epoch 1/1\n",
      "291s - loss: 3.5444 - acc: 0.9444 - val_loss: 0.2541 - val_acc: 0.8800\n",
      "Train on 198 samples, validate on 50 samples\n",
      "Epoch 1/1\n",
      "189s - loss: 3.5477 - acc: 0.9798 - val_loss: 0.2434 - val_acc: 0.8800\n",
      "Train on 198 samples, validate on 50 samples\n",
      "Epoch 1/1\n",
      "170s - loss: 3.4285 - acc: 0.9747 - val_loss: 0.2352 - val_acc: 0.8800\n",
      "Train on 198 samples, validate on 50 samples\n",
      "Epoch 1/1\n",
      "151s - loss: 3.4086 - acc: 0.9747 - val_loss: 0.2342 - val_acc: 0.8800\n",
      "Train on 198 samples, validate on 50 samples\n",
      "Epoch 1/1\n",
      "214s - loss: 3.3646 - acc: 0.9798 - val_loss: 0.2293 - val_acc: 0.8800\n",
      "Train on 198 samples, validate on 50 samples\n",
      "Epoch 1/1\n",
      "294s - loss: 3.3588 - acc: 0.9646 - val_loss: 0.2253 - val_acc: 0.8800\n",
      "Train on 198 samples, validate on 50 samples\n",
      "Epoch 1/1\n",
      "155s - loss: 3.3186 - acc: 0.9596 - val_loss: 0.2201 - val_acc: 0.8800\n",
      "Train on 198 samples, validate on 50 samples\n",
      "Epoch 1/1\n",
      "151s - loss: 3.2958 - acc: 0.9596 - val_loss: 0.2331 - val_acc: 0.8600\n",
      "Train on 198 samples, validate on 50 samples\n",
      "Epoch 1/1\n",
      "267s - loss: 3.2753 - acc: 0.9545 - val_loss: 0.2268 - val_acc: 0.8800\n",
      "Train on 198 samples, validate on 50 samples\n",
      "Epoch 1/1\n",
      "250s - loss: 3.2569 - acc: 0.9495 - val_loss: 0.2293 - val_acc: 0.8600\n",
      "Train on 198 samples, validate on 50 samples\n",
      "Epoch 1/1\n",
      "240s - loss: 3.2241 - acc: 0.9444 - val_loss: 0.2559 - val_acc: 0.8800\n",
      "Train on 198 samples, validate on 50 samples\n",
      "Epoch 1/1\n",
      "251s - loss: 3.1911 - acc: 0.9495 - val_loss: 0.2419 - val_acc: 0.8800\n",
      "Train on 198 samples, validate on 50 samples\n",
      "Epoch 1/1\n",
      "250s - loss: 3.1760 - acc: 0.9697 - val_loss: 0.2510 - val_acc: 0.8800\n",
      "Train on 198 samples, validate on 50 samples\n",
      "Epoch 1/1\n",
      "239s - loss: 3.1714 - acc: 0.9596 - val_loss: 0.2686 - val_acc: 0.8800\n",
      "Train on 198 samples, validate on 50 samples\n",
      "Epoch 1/1\n",
      "240s - loss: 3.1420 - acc: 0.9747 - val_loss: 0.5043 - val_acc: 0.8400\n",
      "Train on 198 samples, validate on 50 samples\n",
      "Epoch 1/1\n",
      "285s - loss: 3.1442 - acc: 0.9646 - val_loss: 0.5049 - val_acc: 0.8400\n",
      "Train on 198 samples, validate on 50 samples\n",
      "Epoch 1/1\n",
      "274s - loss: 3.1328 - acc: 0.9495 - val_loss: 0.5047 - val_acc: 0.8400\n",
      "Train on 198 samples, validate on 50 samples\n",
      "Epoch 1/1\n",
      "260s - loss: 3.1144 - acc: 0.9596 - val_loss: 0.5072 - val_acc: 0.8400\n",
      "Train on 198 samples, validate on 50 samples\n",
      "Epoch 1/1\n",
      "267s - loss: 3.1040 - acc: 0.9444 - val_loss: 0.5066 - val_acc: 0.8400\n",
      "Train on 198 samples, validate on 50 samples\n",
      "Epoch 1/1\n",
      "272s - loss: 3.0850 - acc: 0.9495 - val_loss: 0.5055 - val_acc: 0.8400\n",
      "Train on 198 samples, validate on 50 samples\n",
      "Epoch 1/1\n",
      "262s - loss: 3.0728 - acc: 0.9444 - val_loss: 0.5056 - val_acc: 0.8400\n",
      "Train on 198 samples, validate on 50 samples\n",
      "Epoch 1/1\n",
      "281s - loss: 3.0627 - acc: 0.9545 - val_loss: 0.5016 - val_acc: 0.8400\n",
      "Train on 198 samples, validate on 50 samples\n",
      "Epoch 1/1\n",
      "240s - loss: 3.0582 - acc: 0.9293 - val_loss: 0.5026 - val_acc: 0.8400\n",
      "Train on 198 samples, validate on 50 samples\n",
      "Epoch 1/1\n",
      "239s - loss: 3.0512 - acc: 0.9596 - val_loss: 0.5050 - val_acc: 0.8400\n",
      "Train on 198 samples, validate on 50 samples\n",
      "Epoch 1/1\n",
      "307s - loss: 3.0504 - acc: 0.9343 - val_loss: 0.5071 - val_acc: 0.8200\n",
      "Train on 198 samples, validate on 50 samples\n",
      "Epoch 1/1\n",
      "306s - loss: 3.0436 - acc: 0.9444 - val_loss: 0.5094 - val_acc: 0.8200\n",
      "Train on 198 samples, validate on 50 samples\n",
      "Epoch 1/1\n",
      "309s - loss: 3.0389 - acc: 0.9444 - val_loss: 0.5130 - val_acc: 0.8200\n",
      "Train on 198 samples, validate on 50 samples\n",
      "Epoch 1/1\n",
      "318s - loss: 3.0254 - acc: 0.9545 - val_loss: 0.3106 - val_acc: 0.8200\n",
      "Train on 198 samples, validate on 50 samples\n",
      "Epoch 1/1\n",
      "330s - loss: 3.0194 - acc: 0.9293 - val_loss: 0.2789 - val_acc: 0.8200\n",
      "Train on 198 samples, validate on 50 samples\n",
      "Epoch 1/1\n",
      "328s - loss: 3.0123 - acc: 0.9444 - val_loss: 0.2721 - val_acc: 0.8200\n",
      "Train on 198 samples, validate on 50 samples\n",
      "Epoch 1/1\n",
      "297s - loss: 3.0117 - acc: 0.9444 - val_loss: 0.2731 - val_acc: 0.8200\n",
      "Train on 198 samples, validate on 50 samples\n",
      "Epoch 1/1\n",
      "314s - loss: 3.0008 - acc: 0.9394 - val_loss: 0.2671 - val_acc: 0.8200\n",
      "Train on 198 samples, validate on 50 samples\n",
      "Epoch 1/1\n",
      "310s - loss: 3.0078 - acc: 0.9596 - val_loss: 0.2709 - val_acc: 0.8000\n",
      "Train on 198 samples, validate on 50 samples\n",
      "Epoch 1/1\n",
      "316s - loss: 3.0003 - acc: 0.9394 - val_loss: 0.2681 - val_acc: 0.8200\n",
      "Train on 198 samples, validate on 50 samples\n",
      "Epoch 1/1\n",
      "275s - loss: 2.9948 - acc: 0.9495 - val_loss: 0.2651 - val_acc: 0.8200\n",
      "Train on 198 samples, validate on 50 samples\n",
      "Epoch 1/1\n",
      "279s - loss: 2.9902 - acc: 0.9343 - val_loss: 0.2647 - val_acc: 0.8200\n",
      "Train on 198 samples, validate on 50 samples\n",
      "Epoch 1/1\n",
      "253s - loss: 2.9937 - acc: 0.9394 - val_loss: 0.2660 - val_acc: 0.8000\n",
      "Train on 198 samples, validate on 50 samples\n",
      "Epoch 1/1\n",
      "303s - loss: 2.9874 - acc: 0.9394 - val_loss: 0.2674 - val_acc: 0.8200\n",
      "Train on 198 samples, validate on 50 samples\n",
      "Epoch 1/1\n",
      "295s - loss: 2.9874 - acc: 0.9495 - val_loss: 0.2689 - val_acc: 0.8200\n",
      "Train on 198 samples, validate on 50 samples\n",
      "Epoch 1/1\n",
      "268s - loss: 2.9825 - acc: 0.9293 - val_loss: 0.2677 - val_acc: 0.8200\n",
      "Train on 198 samples, validate on 50 samples\n",
      "Epoch 1/1\n",
      "283s - loss: 2.9831 - acc: 0.9293 - val_loss: 0.2690 - val_acc: 0.8200\n",
      "Train on 198 samples, validate on 50 samples\n",
      "Epoch 1/1\n",
      "294s - loss: 2.9748 - acc: 0.9545 - val_loss: 0.2698 - val_acc: 0.8200\n",
      "Train on 198 samples, validate on 50 samples\n",
      "Epoch 1/1\n",
      "282s - loss: 2.9805 - acc: 0.9646 - val_loss: 0.2702 - val_acc: 0.8000\n",
      "Train on 198 samples, validate on 50 samples\n",
      "Epoch 1/1\n",
      "290s - loss: 2.9714 - acc: 0.9646 - val_loss: 0.2705 - val_acc: 0.8000\n",
      "Train on 198 samples, validate on 50 samples\n",
      "Epoch 1/1\n",
      "280s - loss: 2.9694 - acc: 0.9394 - val_loss: 0.2719 - val_acc: 0.8000\n",
      "Train on 198 samples, validate on 50 samples\n",
      "Epoch 1/1\n",
      "302s - loss: 2.9634 - acc: 0.9495 - val_loss: 0.2712 - val_acc: 0.8000\n",
      "Train on 198 samples, validate on 50 samples\n",
      "Epoch 1/1\n",
      "288s - loss: 2.9689 - acc: 0.9343 - val_loss: 0.2710 - val_acc: 0.8000\n",
      "Train on 198 samples, validate on 50 samples\n",
      "Epoch 1/1\n",
      "278s - loss: 2.9666 - acc: 0.9545 - val_loss: 0.2714 - val_acc: 0.8000\n",
      "Train on 198 samples, validate on 50 samples\n",
      "Epoch 1/1\n",
      "280s - loss: 2.9615 - acc: 0.9343 - val_loss: 0.2717 - val_acc: 0.8000\n",
      "Train on 198 samples, validate on 50 samples\n",
      "Epoch 1/1\n",
      "287s - loss: 2.9642 - acc: 0.9444 - val_loss: 0.2724 - val_acc: 0.8000\n",
      "Train on 198 samples, validate on 50 samples\n",
      "Epoch 1/1\n",
      "258s - loss: 2.9595 - acc: 0.9394 - val_loss: 0.2720 - val_acc: 0.8000\n",
      "Train on 198 samples, validate on 50 samples\n",
      "Epoch 1/1\n",
      "312s - loss: 2.9618 - acc: 0.9343 - val_loss: 0.2715 - val_acc: 0.8000\n",
      "Train on 198 samples, validate on 50 samples\n",
      "Epoch 1/1\n",
      "293s - loss: 2.9634 - acc: 0.9343 - val_loss: 0.2718 - val_acc: 0.8000\n",
      "Train on 198 samples, validate on 50 samples\n",
      "Epoch 1/1\n",
      "246s - loss: 2.9585 - acc: 0.9646 - val_loss: 0.2719 - val_acc: 0.8000\n",
      "Train on 198 samples, validate on 50 samples\n",
      "Epoch 1/1\n",
      "265s - loss: 2.9547 - acc: 0.9444 - val_loss: 0.2715 - val_acc: 0.8000\n",
      "Train on 198 samples, validate on 50 samples\n",
      "Epoch 1/1\n",
      "304s - loss: 2.9599 - acc: 0.9343 - val_loss: 0.2718 - val_acc: 0.8000\n",
      "Train on 198 samples, validate on 50 samples\n",
      "Epoch 1/1\n",
      "289s - loss: 2.9606 - acc: 0.9596 - val_loss: 0.2730 - val_acc: 0.8000\n",
      "Train on 198 samples, validate on 50 samples\n",
      "Epoch 1/1\n",
      "274s - loss: 2.9548 - acc: 0.9394 - val_loss: 0.2732 - val_acc: 0.8200\n",
      "Train on 198 samples, validate on 50 samples\n",
      "Epoch 1/1\n",
      "273s - loss: 2.9632 - acc: 0.9545 - val_loss: 0.2739 - val_acc: 0.8200\n",
      "Train on 198 samples, validate on 50 samples\n",
      "Epoch 1/1\n",
      "296s - loss: 2.9585 - acc: 0.9343 - val_loss: 0.2749 - val_acc: 0.8200\n",
      "Train on 198 samples, validate on 50 samples\n",
      "Epoch 1/1\n",
      "303s - loss: 2.9541 - acc: 0.9495 - val_loss: 0.2742 - val_acc: 0.8200\n",
      "Train on 198 samples, validate on 50 samples\n",
      "Epoch 1/1\n",
      "271s - loss: 2.9535 - acc: 0.9343 - val_loss: 0.2747 - val_acc: 0.8200\n",
      "Train on 198 samples, validate on 50 samples\n",
      "Epoch 1/1\n",
      "288s - loss: 2.9522 - acc: 0.9444 - val_loss: 0.2748 - val_acc: 0.8200\n",
      "5.30355869386\n"
     ]
    }
   ],
   "source": [
    "# WATCHOUT: Change the name of the model\n",
    "acc_train=[]\n",
    "loss_train=[]\n",
    "acc_val=[]\n",
    "loss_val=[]\n",
    "all_lr=[]\n",
    "t0 = time.time()\n",
    "\n",
    "# thresholds\n",
    "thres1=.80\n",
    "thres1passed=0\n",
    "thres2=.90\n",
    "thres2passed=0\n",
    "thres3=.93\n",
    "thres3passed=0\n",
    "thres4=.96\n",
    "thres4passed=0\n",
    "maxAcc=0\n",
    "maxAccVal=0\n",
    "countNoIncrease=0\n",
    "\n",
    "for iteration in np.linspace(1,70,70):\n",
    "    history=final_model.fit([X1, X2, X3, X4, X5, X6, X7, X8, X9, X10, X1, X12, X13, X14, X15, X16, X17], y, validation_split=0.2, nb_epoch=1, batch_size=8,verbose=2)\n",
    "    # Append values\n",
    "    acc_train.append(history.history['acc'])\n",
    "    acc_val.append(history.history['val_acc'])\n",
    "    loss_train.append(history.history['loss'])\n",
    "    loss_val.append(history.history['val_loss'])\n",
    "    all_lr.append(K.get_value(final_model.optimizer.lr))\n",
    "    \n",
    "    # Compare last iteration vs max value of Acc\n",
    "    if acc_train[-1][0]>maxAcc:\n",
    "        maxAcc=max(acc_train)[0]\n",
    "        maxIt=iteration\n",
    "    else:\n",
    "        countNoIncrease=countNoIncrease+1\n",
    "        \n",
    "    if acc_val[-1][0]>maxAccVal:\n",
    "        maxAccVal=max(acc_val)[0]\n",
    "        final_model.save('m719s10_iter_'+'{0}_valAcc_{1}'.format(int(iteration),acc_val[-1][0])+'.h5')\n",
    "    \n",
    "    if countNoIncrease>=10:\n",
    "        countNoIncrease=0\n",
    "        K.set_value(final_model.optimizer.lr, 0.5 * K.get_value(final_model.optimizer.lr))    \n",
    "        \n",
    "    if acc_train[-1][0] > thres1 and thres1passed == 0:\n",
    "        thres1passed=1\n",
    "        countNoIncrease=0\n",
    "        K.set_value(final_model.optimizer.lr, 0.5 * K.get_value(final_model.optimizer.lr))    \n",
    "        \n",
    "    if acc_train[-1][0] > thres2 and thres2passed == 0:\n",
    "        thres2passed=1\n",
    "        countNoIncrease=0\n",
    "        K.set_value(final_model.optimizer.lr, 0.5 * K.get_value(final_model.optimizer.lr))    \n",
    "        \n",
    "    if acc_train[-1][0] > thres3 and thres3passed == 0:\n",
    "        thres3passed=1\n",
    "        countNoIncrease=0\n",
    "        K.set_value(final_model.optimizer.lr, 0.5 * K.get_value(final_model.optimizer.lr))    \n",
    "        \n",
    "    if acc_train[-1][0] > thres4 and thres4passed == 0:\n",
    "        thres4passed=1\n",
    "        countNoIncrease=0\n",
    "        K.set_value(final_model.optimizer.lr, 0.5 * K.get_value(final_model.optimizer.lr))   \n",
    "    \n",
    "t1 = time.time()\n",
    "print (t1-t0)/60/60"
   ]
  },
  {
   "cell_type": "code",
   "execution_count": 15,
   "metadata": {
    "collapsed": false
   },
   "outputs": [
    {
     "data": {
      "image/png": "[encoded data removed]",
      "text/plain": [
       "<matplotlib.figure.Figure at 0x7f9764424950>"
      ]
     },
     "metadata": {},
     "output_type": "display_data"
    },
    {
     "data": {
      "image/png": "[encoded data removed]",
      "text/plain": [
       "<matplotlib.figure.Figure at 0x7f9750490f10>"
      ]
     },
     "metadata": {},
     "output_type": "display_data"
    }
   ],
   "source": [
    "#summarize history for accuracy\n",
    "fig=plt.figure()\n",
    "plt.plot(acc_train)\n",
    "plt.plot(acc_val)\n",
    "plt.title('model accuracy')\n",
    "plt.ylabel('accuracy')\n",
    "plt.xlabel('epoch')\n",
    "plt.legend(['train','val'], loc='lower right')\n",
    "plt.ylim([0, 1])\n",
    "plt.show()\n",
    "# summarize history for accuracy\n",
    "plt.plot(loss_train)\n",
    "plt.plot(loss_val)\n",
    "plt.title('model loss')\n",
    "plt.ylabel('loss')\n",
    "plt.xlabel('epoch')\n",
    "plt.legend(['train','val'], loc='upper right')\n",
    "#plt.ylim([0, 2])\n",
    "plt.show()"
   ]
  },
  {
   "cell_type": "code",
   "execution_count": 16,
   "metadata": {
    "collapsed": false
   },
   "outputs": [
    {
     "data": {
      "image/png": "[encoded data removed]",
      "text/plain": [
       "<matplotlib.figure.Figure at 0x7f975e44ef50>"
      ]
     },
     "metadata": {},
     "output_type": "display_data"
    }
   ],
   "source": [
    "fig=plt.figure()\n",
    "plt.plot(all_lr)\n",
    "plt.title('learning rate')\n",
    "plt.ylabel('learning rate')\n",
    "plt.xlabel('epoch')\n",
    "plt.legend(['learning rate'], loc='upper right')\n",
    "plt.show()"
   ]
  },
  {
   "cell_type": "markdown",
   "metadata": {},
   "source": [
    "---"
   ]
  },
  {
   "cell_type": "markdown",
   "metadata": {},
   "source": [
    "## To resume training"
   ]
  },
  {
   "cell_type": "code",
   "execution_count": null,
   "metadata": {
    "collapsed": true
   },
   "outputs": [],
   "source": [
    "t0 = time.time()\n",
    "\n",
    "for iteration in np.linspace(3,8,6):\n",
    "    history=final_model.fit([X1, X2, X3, X4, X5, X6, X7, X8, X9, X10, X1, X12, X13, X14, X15, X16, X17], y, validation_split=0.2, nb_epoch=1, batch_size=8,verbose=2)\n",
    "    # Append values\n",
    "    acc_train.append(history.history['acc'])\n",
    "    acc_val.append(history.history['val_acc'])\n",
    "    loss_train.append(history.history['loss'])\n",
    "    loss_val.append(history.history['val_loss'])\n",
    "    all_lr.append(K.get_value(final_model.optimizer.lr))\n",
    "    \n",
    "    # Compare last iteration vs max value of Acc\n",
    "    if acc_train[-1][0]>maxAcc:\n",
    "        maxAcc=max(acc_train)[0]\n",
    "        maxIt=iteration\n",
    "    else:\n",
    "        countNoIncrease=countNoIncrease+1\n",
    "        \n",
    "    if acc_val[-1][0]>maxAccVal:\n",
    "        maxAccVal=max(acc_val)[0]\n",
    "        final_model.save('m715s10_iter_'+'{0}_valAcc_{1}'.format(int(iteration),acc_val[-1][0])+'.h5')\n",
    "    \n",
    "    if countNoIncrease>=10:\n",
    "        countNoIncrease=0\n",
    "        K.set_value(final_model.optimizer.lr, 0.5 * K.get_value(final_model.optimizer.lr))    \n",
    "        \n",
    "    if acc_train[-1][0] > thres1 and thres1passed == 0:\n",
    "        thres1passed=1\n",
    "        countNoIncrease=0\n",
    "        K.set_value(final_model.optimizer.lr, 0.5 * K.get_value(final_model.optimizer.lr))    \n",
    "        \n",
    "    if acc_train[-1][0] > thres2 and thres2passed == 0:\n",
    "        thres2passed=1\n",
    "        countNoIncrease=0\n",
    "        K.set_value(final_model.optimizer.lr, 0.5 * K.get_value(final_model.optimizer.lr))    \n",
    "        \n",
    "    if acc_train[-1][0] > thres3 and thres3passed == 0:\n",
    "        thres3passed=1\n",
    "        countNoIncrease=0\n",
    "        K.set_value(final_model.optimizer.lr, 0.5 * K.get_value(final_model.optimizer.lr))    \n",
    "        \n",
    "    if acc_train[-1][0] > thres4 and thres4passed == 0:\n",
    "        thres4passed=1\n",
    "        countNoIncrease=0\n",
    "        K.set_value(final_model.optimizer.lr, 0.5 * K.get_value(final_model.optimizer.lr))   \n",
    "    \n",
    "t1 = time.time()\n",
    "print (t1-t0)/60/60"
   ]
  },
  {
   "cell_type": "markdown",
   "metadata": {},
   "source": [
    "---"
   ]
  },
  {
   "cell_type": "markdown",
   "metadata": {},
   "source": [
    "## To Save the model and the variables"
   ]
  },
  {
   "cell_type": "code",
   "execution_count": 17,
   "metadata": {
    "collapsed": true
   },
   "outputs": [],
   "source": [
    "final_model.save('X.h5')"
   ]
  },
  {
   "cell_type": "code",
   "execution_count": 27,
   "metadata": {
    "collapsed": true
   },
   "outputs": [],
   "source": [
    "K_LR=K.get_value(adam.lr)\n",
    "K_LR, acc_train, loss_train, acc_val, loss_val, all_lr, countNoIncrease, maxAcc, maxAccVal, thres1, thres1passed, thres2, thres2passed, thres3, thres3passed, thres4, thres4passed\n",
    "with open('Xobjs.pickle', 'wb') as f:\n",
    "    pickle.dump([K_LR, acc_train, loss_train, acc_val, loss_val, all_lr, countNoIncrease, maxAcc, maxAccVal, thres1, thres1passed, thres2, thres2passed, thres3, thres3passed, thres4, thres4passed], f)"
   ]
  },
  {
   "cell_type": "markdown",
   "metadata": {},
   "source": [
    "---"
   ]
  },
  {
   "cell_type": "markdown",
   "metadata": {},
   "source": [
    "## To retreive the model and the variables"
   ]
  },
  {
   "cell_type": "code",
   "execution_count": 9,
   "metadata": {
    "collapsed": false
   },
   "outputs": [],
   "source": [
    "# Getting back the objects:\n",
    "with open('m715objs.pickle') as f:\n",
    "    K_LR, acc_train, loss_train, acc_val, loss_val, all_lr, countNoIncrease, maxAcc, maxAccVal, thres1, thres1passed, thres2, thres2passed, thres3, thres3passed, thres4, thres4passed = pickle.load(f)"
   ]
  },
  {
   "cell_type": "code",
   "execution_count": 28,
   "metadata": {
    "collapsed": true
   },
   "outputs": [],
   "source": [
    "from keras.models import load_model\n",
    "best_model=load_model('m715s10_iter_4_valAcc_0.96.h5')"
   ]
  },
  {
   "cell_type": "code",
   "execution_count": 31,
   "metadata": {
    "collapsed": false
   },
   "outputs": [
    {
     "name": "stdout",
     "output_type": "stream",
     "text": [
      "62/62 [==============================] - 3s     \n",
      "0.870967741935\n"
     ]
    },
    {
     "data": {
      "text/plain": [
       "array([[23,  6],\n",
       "       [ 2, 31]])"
      ]
     },
     "execution_count": 31,
     "metadata": {},
     "output_type": "execute_result"
    }
   ],
   "source": [
    "y_pred=best_model.predict_classes([X1test, X2test, X3test, X4test, X5test, X6test, X7test, X8test, X9test, X10test, X11test, X12test, X13test, X14test, X15test, X16test, X17test])\n",
    "y_predC=np.squeeze(y_pred)\n",
    "print accuracy_score(y_true,y_predC)\n",
    "confusion_matrix(y_true,y_predC)"
   ]
  },
  {
   "cell_type": "markdown",
   "metadata": {
    "collapsed": false
   },
   "source": [
    "---"
   ]
  },
  {
   "cell_type": "markdown",
   "metadata": {
    "collapsed": false
   },
   "source": [
    "## To get the test result"
   ]
  },
  {
   "cell_type": "code",
   "execution_count": 18,
   "metadata": {
    "collapsed": false
   },
   "outputs": [],
   "source": [
    "y_true=readLabels('fold1/test/labelsTest.mat')\n",
    "X1test=readScan('fold1/test/scansMiniTest1.mat')\n",
    "X2test=readScan('fold1/test/scansMiniTest2.mat')\n",
    "X3test=readScan('fold1/test/scansMiniTest3.mat')\n",
    "X4test=readScan('fold1/test/scansMiniTest4.mat')\n",
    "X5test=readScan('fold1/test/scansMiniTest5.mat')\n",
    "X6test=readScan('fold1/test/scansMiniTest6.mat')\n",
    "X7test=readScan('fold1/test/scansMiniTest7.mat')\n",
    "X8test=readScan('fold1/test/scansMiniTest8.mat')\n",
    "X9test=readScan('fold1/test/scansMiniTest9.mat')\n",
    "X10test=readScan('fold1/test/scansMiniTest10.mat')\n",
    "X11test=readScan('fold1/test/scansMiniTest11.mat')\n",
    "X12test=readScan('fold1/test/scansMiniTest12.mat')\n",
    "X13test=readScan('fold1/test/scansMiniTest13.mat')\n",
    "X14test=readScan('fold1/test/scansMiniTest14.mat')\n",
    "X15test=readScan('fold1/test/scansMiniTest15.mat')\n",
    "X16test=readScan('fold1/test/scansMiniTest16.mat')\n",
    "X17test=readScan('fold1/test/scansMiniTest17.mat')"
   ]
  },
  {
   "cell_type": "code",
   "execution_count": 19,
   "metadata": {
    "collapsed": false
   },
   "outputs": [
    {
     "name": "stdout",
     "output_type": "stream",
     "text": [
      "62/62 [==============================] - 4s     \n"
     ]
    }
   ],
   "source": [
    "y_predProb=final_model.predict([X1test, X2test, X3test, X4test, X5test, X6test, X7test, X8test, X9test, X10test, X11test, X12test, X13test, X14test, X15test, X16test, X17test])\n",
    "y_pred=final_model.predict_classes([X1test, X2test, X3test, X4test, X5test, X6test, X7test, X8test, X9test, X10test, X11test, X12test, X13test, X14test, X15test, X16test, X17test])"
   ]
  },
  {
   "cell_type": "code",
   "execution_count": 20,
   "metadata": {
    "collapsed": false
   },
   "outputs": [
    {
     "data": {
      "text/plain": [
       "array([ 0.02669365,  0.14504839, -0.12080043,  0.87291908,  0.17771854,\n",
       "       -0.01374221,  0.24914303, -0.18446027,  0.96887183,  0.78258747,\n",
       "        0.87786406, -0.17678043,  0.99358529,  0.99354374,  0.99681532,\n",
       "        0.98729658,  0.98738909,  0.98581415,  0.98996562,  0.99117231,\n",
       "        0.99386823,  0.99966735,  0.97447312, -0.23013681,  0.85078853,\n",
       "        0.97393173,  0.89059138,  0.89826882,  0.80408204,  0.97068161,\n",
       "        0.9477784 ,  0.9517746 ,  0.99335867,  0.8815279 ,  0.51303649,\n",
       "        0.91990584,  0.98007864,  0.95861918,  0.98871475,  0.96782607,\n",
       "        0.06869777,  0.37338656,  0.72851461,  0.67409605, -0.2881006 ,\n",
       "        0.86559558,  0.85488921,  0.17040323,  0.96067381, -0.25224847,\n",
       "        0.09415651,  0.47193584, -0.10659166,  0.07474685, -0.22697741,\n",
       "       -0.02461154,  0.27325839, -0.26172867,  0.86086547,  0.67384136,\n",
       "        0.84199667,  0.85535741], dtype=float32)"
      ]
     },
     "execution_count": 20,
     "metadata": {},
     "output_type": "execute_result"
    }
   ],
   "source": [
    "np.squeeze(y_predProb)"
   ]
  },
  {
   "cell_type": "code",
   "execution_count": 21,
   "metadata": {
    "collapsed": false
   },
   "outputs": [
    {
     "data": {
      "text/plain": [
       "array([0, 0, 0, 1, 0, 0, 0, 0, 1, 1, 1, 0, 1, 1, 1, 1, 1, 1, 1, 1, 1, 1, 1,\n",
       "       0, 1, 1, 1, 1, 1, 1, 1, 1, 1, 1, 1, 1, 1, 1, 1, 1, 0, 0, 1, 1, 0, 1,\n",
       "       1, 0, 1, 0, 0, 0, 0, 0, 0, 0, 0, 0, 1, 1, 1, 1], dtype=int32)"
      ]
     },
     "execution_count": 21,
     "metadata": {},
     "output_type": "execute_result"
    }
   ],
   "source": [
    "y_predC=np.squeeze(y_pred)\n",
    "y_predC"
   ]
  },
  {
   "cell_type": "code",
   "execution_count": 22,
   "metadata": {
    "collapsed": true
   },
   "outputs": [],
   "source": [
    "from sklearn.metrics import confusion_matrix\n",
    "from sklearn.metrics import  accuracy_score"
   ]
  },
  {
   "cell_type": "code",
   "execution_count": 23,
   "metadata": {
    "collapsed": false
   },
   "outputs": [
    {
     "name": "stdout",
     "output_type": "stream",
     "text": [
      "0.854838709677\n",
      "[ 3 11 22 24 42 43 45 46 48]\n"
     ]
    },
    {
     "data": {
      "text/plain": [
       "array([[21,  8],\n",
       "       [ 1, 32]])"
      ]
     },
     "execution_count": 23,
     "metadata": {},
     "output_type": "execute_result"
    }
   ],
   "source": [
    "print accuracy_score(y_true,y_predC)\n",
    "print np.where(y_true.astype(bool)!=y_predC.astype(bool))[0]\n",
    "confusion_matrix(y_true,y_predC)"
   ]
  },
  {
   "cell_type": "markdown",
   "metadata": {},
   "source": [
    "---"
   ]
  },
  {
   "cell_type": "markdown",
   "metadata": {},
   "source": [
    "---"
   ]
  },
  {
   "cell_type": "markdown",
   "metadata": {},
   "source": [
    "---"
   ]
  }
 ],
 "metadata": {
  "kernelspec": {
   "display_name": "Python 2",
   "language": "python",
   "name": "python2"
  },
  "language_info": {
   "codemirror_mode": {
    "name": "ipython",
    "version": 2
   },
   "file_extension": ".py",
   "mimetype": "text/x-python",
   "name": "python",
   "nbconvert_exporter": "python",
   "pygments_lexer": "ipython2",
   "version": "2.7.12"
  }
 },
 "nbformat": 4,
 "nbformat_minor": 0
}
