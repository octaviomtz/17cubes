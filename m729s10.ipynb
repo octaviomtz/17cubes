{
 "cells": [
  {
   "cell_type": "code",
   "execution_count": 1,
   "metadata": {
    "collapsed": true
   },
   "outputs": [],
   "source": [
    "import scipy.io\n",
    "import numpy as np, h5py\n",
    "import matplotlib.pyplot as plt\n",
    "import copy\n",
    "import pandas as pd\n",
    "import pickle\n",
    "%matplotlib inline"
   ]
  },
  {
   "cell_type": "code",
   "execution_count": 2,
   "metadata": {
    "collapsed": true
   },
   "outputs": [],
   "source": [
    "from pylab import rcParams\n",
    "rcParams['figure.figsize'] = 10, 5\n",
    "rcParams['figure.dpi']=150\n",
    "rcParams['lines.linewidth']=1\n",
    "rcParams['axes.grid']=True\n",
    "rcParams['axes.facecolor']='#FFFFFF'\n",
    "rcParams['font.size']=14\n",
    "rcParams['patch.edgecolor']='#000000'"
   ]
  },
  {
   "cell_type": "code",
   "execution_count": 3,
   "metadata": {
    "collapsed": true
   },
   "outputs": [],
   "source": [
    "# fix random seed for reproducibility\n",
    "seed = 7\n",
    "np.random.seed(seed)"
   ]
  },
  {
   "cell_type": "code",
   "execution_count": 4,
   "metadata": {
    "collapsed": true
   },
   "outputs": [],
   "source": [
    "def readScan(scan):\n",
    "    # We read the file saved in Matlab. There is only one variable in the file called scansMini\n",
    "    data = h5py.File(scan, 'r')\n",
    "    Xscans=data.get('scansMini')\n",
    "    # We have to get the values into the right format (subjects, dim1, dim2, dim3, channels)\n",
    "    X=copy.copy(Xscans.value)\n",
    "    X=np.expand_dims(X,4)\n",
    "    X1=np.rollaxis(X,3)\n",
    "    return X1"
   ]
  },
  {
   "cell_type": "code",
   "execution_count": 5,
   "metadata": {
    "collapsed": true
   },
   "outputs": [],
   "source": [
    "def readLabels(labels):\n",
    "    data = h5py.File(labels, 'r')\n",
    "    Xscans=data.get('labels')\n",
    "    X=copy.copy(Xscans.value)\n",
    "    X2=np.squeeze(X).astype(int)\n",
    "    return X2"
   ]
  },
  {
   "cell_type": "code",
   "execution_count": 6,
   "metadata": {
    "collapsed": false
   },
   "outputs": [],
   "source": [
    "y=readLabels('fold1/train/labelsTrain.mat')\n",
    "X1=readScan('fold1/train/scansMiniTrain1.mat')\n",
    "X2=readScan('fold1/train/scansMiniTrain2.mat')\n",
    "X3=readScan('fold1/train/scansMiniTrain3.mat')\n",
    "X4=readScan('fold1/train/scansMiniTrain4.mat')\n",
    "X5=readScan('fold1/train/scansMiniTrain5.mat')\n",
    "X6=readScan('fold1/train/scansMiniTrain6.mat')\n",
    "X7=readScan('fold1/train/scansMiniTrain7.mat')\n",
    "X8=readScan('fold1/train/scansMiniTrain8.mat')\n",
    "X9=readScan('fold1/train/scansMiniTrain9.mat')\n",
    "X10=readScan('fold1/train/scansMiniTrain10.mat')\n",
    "X11=readScan('fold1/train/scansMiniTrain11.mat')\n",
    "X12=readScan('fold1/train/scansMiniTrain12.mat')\n",
    "X13=readScan('fold1/train/scansMiniTrain13.mat')\n",
    "X14=readScan('fold1/train/scansMiniTrain14.mat')\n",
    "X15=readScan('fold1/train/scansMiniTrain15.mat')\n",
    "X16=readScan('fold1/train/scansMiniTrain16.mat')\n",
    "X17=readScan('fold1/train/scansMiniTrain17.mat')"
   ]
  },
  {
   "cell_type": "code",
   "execution_count": 7,
   "metadata": {
    "collapsed": false
   },
   "outputs": [
    {
     "data": {
      "image/png": "[encoded data removed]",
      "text/plain": [
       "<matplotlib.figure.Figure at 0x7f352282d810>"
      ]
     },
     "metadata": {},
     "output_type": "display_data"
    }
   ],
   "source": [
    "x1=np.squeeze(X1[:,:,:,:,0])\n",
    "side1=x1.shape[1]\n",
    "x1Values=(np.reshape(x1,[248*side1*side1*side1]))\n",
    "n, bins, patches = plt.hist(x1Values, 50, normed=1, facecolor='green', alpha=0.75)"
   ]
  },
  {
   "cell_type": "code",
   "execution_count": 8,
   "metadata": {
    "collapsed": true
   },
   "outputs": [],
   "source": [
    "X1=np.multiply(X1,10)\n",
    "X2=np.multiply(X2,10)\n",
    "X3=np.multiply(X3,10)\n",
    "X4=np.multiply(X4,10)\n",
    "X5=np.multiply(X5,10)\n",
    "X6=np.multiply(X6,10)\n",
    "X7=np.multiply(X7,10)\n",
    "X8=np.multiply(X8,10)\n",
    "X9=np.multiply(X9,10)\n",
    "X10=np.multiply(X10,10)\n",
    "X11=np.multiply(X11,10)\n",
    "X12=np.multiply(X12,10)\n",
    "X13=np.multiply(X13,10)\n",
    "X14=np.multiply(X14,10)\n",
    "X15=np.multiply(X15,10)\n",
    "X16=np.multiply(X16,10)\n",
    "X17=np.multiply(X17,10)"
   ]
  },
  {
   "cell_type": "code",
   "execution_count": 9,
   "metadata": {
    "collapsed": false
   },
   "outputs": [
    {
     "data": {
      "image/png": "[encoded data removed]",
      "text/plain": [
       "<matplotlib.figure.Figure at 0x7f352282de50>"
      ]
     },
     "metadata": {},
     "output_type": "display_data"
    }
   ],
   "source": [
    "x1=np.squeeze(X1[:,:,:,:,0])\n",
    "side1=x1.shape[1]\n",
    "x1Values=(np.reshape(x1,[248*side1*side1*side1]))\n",
    "n, bins, patches = plt.hist(x1Values, 50, normed=1, facecolor='green', alpha=0.75)"
   ]
  },
  {
   "cell_type": "code",
   "execution_count": 10,
   "metadata": {
    "collapsed": false
   },
   "outputs": [
    {
     "data": {
      "text/plain": [
       "<matplotlib.collections.PolyCollection at 0x7f351ff95590>"
      ]
     },
     "execution_count": 10,
     "metadata": {},
     "output_type": "execute_result"
    },
    {
     "data": {
      "image/png": "[encoded data removed]",
      "text/plain": [
       "<matplotlib.figure.Figure at 0x7f352248cbd0>"
      ]
     },
     "metadata": {},
     "output_type": "display_data"
    }
   ],
   "source": [
    "f, (ax1, ax2) = plt.subplots(1, 2, sharey=True)\n",
    "ax1.pcolor((X1[10,:,:,0,0]))\n",
    "ax1.set_title('Sharing Y axis')\n",
    "ax2.pcolor((X2[10,:,:,0,0]))"
   ]
  },
  {
   "cell_type": "code",
   "execution_count": 11,
   "metadata": {
    "collapsed": false
   },
   "outputs": [
    {
     "data": {
      "text/plain": [
       "(248, 10, 10, 10, 1)"
      ]
     },
     "execution_count": 11,
     "metadata": {},
     "output_type": "execute_result"
    }
   ],
   "source": [
    "X1.shape"
   ]
  },
  {
   "cell_type": "markdown",
   "metadata": {},
   "source": [
    "---"
   ]
  },
  {
   "cell_type": "markdown",
   "metadata": {},
   "source": [
    "## Keras libraries"
   ]
  },
  {
   "cell_type": "code",
   "execution_count": 11,
   "metadata": {
    "collapsed": false
   },
   "outputs": [
    {
     "name": "stderr",
     "output_type": "stream",
     "text": [
      "Using TensorFlow backend.\n"
     ]
    }
   ],
   "source": [
    "from keras.models import Sequential\n",
    "from keras.layers import Dense\n",
    "from keras.layers import Merge\n",
    "from keras.layers.convolutional import Convolution3D\n",
    "from keras.layers.pooling import MaxPooling3D\n",
    "from keras.layers.core import Dense, Flatten\n",
    "from keras.layers import Dropout\n",
    "from keras.optimizers import Adam\n",
    "from keras.optimizers import SGD\n",
    "from keras.wrappers.scikit_learn import KerasClassifier\n",
    "from keras.callbacks import EarlyStopping\n",
    "import time"
   ]
  },
  {
   "cell_type": "code",
   "execution_count": 12,
   "metadata": {
    "collapsed": false
   },
   "outputs": [],
   "source": [
    "import keras.backend as K\n",
    "from keras.callbacks import ModelCheckpoint\n",
    "from keras.callbacks import LearningRateScheduler\n",
    "from keras.layers import Activation\n",
    "from keras.layers.normalization import BatchNormalization\n",
    "from keras.regularizers import l2\n",
    "import math"
   ]
  },
  {
   "cell_type": "markdown",
   "metadata": {
    "collapsed": true
   },
   "source": [
    "---"
   ]
  },
  {
   "cell_type": "markdown",
   "metadata": {},
   "source": [
    "## The model"
   ]
  },
  {
   "cell_type": "code",
   "execution_count": 13,
   "metadata": {
    "collapsed": true
   },
   "outputs": [],
   "source": [
    "adam=Adam(lr=0.00001, beta_1=0.9, beta_2=0.999, epsilon=1e-08, decay=1e-04)"
   ]
  },
  {
   "cell_type": "code",
   "execution_count": 20,
   "metadata": {
    "collapsed": true
   },
   "outputs": [],
   "source": [
    "final_model.reset_states()\n",
    "model1.reset_states()\n",
    "model2.reset_states()\n",
    "model3.reset_states()\n",
    "model4.reset_states()\n",
    "model5.reset_states()\n",
    "model6.reset_states()\n",
    "model7.reset_states()\n",
    "model8.reset_states()\n",
    "model9.reset_states()\n",
    "model10.reset_states()\n",
    "model11.reset_states()\n",
    "model12.reset_states()\n",
    "model13.reset_states()\n",
    "model14.reset_states()\n",
    "model15.reset_states()\n",
    "model16.reset_states()\n",
    "model17.reset_states()"
   ]
  },
  {
   "cell_type": "code",
   "execution_count": 14,
   "metadata": {
    "collapsed": false
   },
   "outputs": [],
   "source": [
    "model1=Sequential()\n",
    "model1.add(Convolution3D(10, 3, 3, 3, input_shape=(10, 10, 10, 1), border_mode='valid', init='he_normal', W_regularizer=l2(.05)))\n",
    "model1.add(BatchNormalization())\n",
    "model1.add(Activation('relu'))\n",
    "model1.add(Flatten())\n",
    "model1.add(Dropout(0.2))\n",
    "model1.add(Dense(20, init='glorot_normal', activation='tanh', W_regularizer=l2(.05)))\n",
    "\n",
    "model2=Sequential()\n",
    "model2.add(Convolution3D(10, 3, 3, 3, input_shape=(10, 10, 10, 1), border_mode='valid',  init='he_normal',W_regularizer=l2(.05)))\n",
    "model2.add(BatchNormalization())\n",
    "model2.add(Activation('relu'))\n",
    "model2.add(Flatten())\n",
    "model2.add(Dropout(0.2))\n",
    "model2.add(Dense(20, init='glorot_normal', activation='tanh', W_regularizer=l2(.05)))\n",
    "\n",
    "model3=Sequential()\n",
    "model3.add(Convolution3D(10, 3, 3, 3, input_shape=(10, 10, 10, 1), border_mode='valid',  init='he_normal',W_regularizer=l2(.05)))\n",
    "model3.add(BatchNormalization())\n",
    "model3.add(Activation('relu'))\n",
    "model3.add(Flatten())\n",
    "model3.add(Dropout(0.2))\n",
    "model3.add(Dense(20, init='glorot_normal', activation='tanh', W_regularizer=l2(.05)))\n",
    "\n",
    "model4=Sequential()\n",
    "model4.add(Convolution3D(10, 3, 3, 3, input_shape=(10, 10, 10, 1), border_mode='valid',  init='he_normal',W_regularizer=l2(.05)))\n",
    "model4.add(BatchNormalization())\n",
    "model4.add(Activation('relu'))\n",
    "model4.add(Flatten())\n",
    "model4.add(Dropout(0.2))\n",
    "model4.add(Dense(20, init='glorot_normal', activation='tanh', W_regularizer=l2(.05)))\n",
    "\n",
    "model5=Sequential()\n",
    "model5.add(Convolution3D(10, 3, 3, 3, input_shape=(10, 10, 10, 1), border_mode='valid', init='he_normal',W_regularizer=l2(.05)))\n",
    "model5.add(BatchNormalization())\n",
    "model5.add(Activation('relu'))\n",
    "model5.add(Flatten())\n",
    "model5.add(Dropout(0.2))\n",
    "model5.add(Dense(20, init='glorot_normal', activation='tanh', W_regularizer=l2(.05)))\n",
    "\n",
    "model6=Sequential()\n",
    "model6.add(Convolution3D(10, 3, 3, 3, input_shape=(10, 10, 10, 1), border_mode='valid', init='he_normal',W_regularizer=l2(.05)))\n",
    "model6.add(BatchNormalization())\n",
    "model6.add(Activation('relu'))\n",
    "model6.add(Flatten())\n",
    "model6.add(Dropout(0.2))\n",
    "model6.add(Dense(20, init='glorot_normal', activation='tanh', W_regularizer=l2(.05)))\n",
    "\n",
    "model7=Sequential()\n",
    "model7.add(Convolution3D(10, 3, 3, 3, input_shape=(10, 10, 10, 1), border_mode='valid',  init='he_normal',W_regularizer=l2(.05)))\n",
    "model7.add(BatchNormalization())\n",
    "model7.add(Activation('relu'))\n",
    "model7.add(Flatten())\n",
    "model7.add(Dropout(0.2))\n",
    "model7.add(Dense(20, init='glorot_normal', activation='tanh', W_regularizer=l2(.05)))\n",
    "\n",
    "model8=Sequential()\n",
    "model8.add(Convolution3D(10, 3, 3, 3, input_shape=(10, 10, 10, 1), border_mode='valid',  init='he_normal',W_regularizer=l2(.05)))\n",
    "model8.add(BatchNormalization())\n",
    "model8.add(Activation('relu'))\n",
    "model8.add(Flatten())\n",
    "model8.add(Dropout(0.2))\n",
    "model8.add(Dense(20, init='glorot_normal', activation='tanh', W_regularizer=l2(.05)))\n",
    "\n",
    "model9=Sequential()\n",
    "model9.add(Convolution3D(10, 3, 3, 3, input_shape=(10, 10, 10, 1), border_mode='valid', init='he_normal',W_regularizer=l2(.05)))\n",
    "model9.add(BatchNormalization())\n",
    "model9.add(Activation('relu'))\n",
    "model9.add(Flatten())\n",
    "model9.add(Dropout(0.2))\n",
    "model9.add(Dense(20, init='glorot_normal', activation='tanh', W_regularizer=l2(.05)))\n",
    "\n",
    "model10=Sequential()\n",
    "model10.add(Convolution3D(10, 3, 3, 3, input_shape=(10, 10, 10, 1), border_mode='valid', init='he_normal',W_regularizer=l2(.05)))\n",
    "model10.add(BatchNormalization())\n",
    "model10.add(Activation('relu'))\n",
    "model10.add(Flatten())\n",
    "model10.add(Dropout(0.2))\n",
    "model10.add(Dense(20, init='glorot_normal', activation='tanh', W_regularizer=l2(.05)))\n",
    "\n",
    "model11=Sequential()\n",
    "model11.add(Convolution3D(10, 3, 3, 3, input_shape=(10, 10, 10, 1), border_mode='valid', init='he_normal',W_regularizer=l2(.05)))\n",
    "model11.add(BatchNormalization())\n",
    "model11.add(Activation('relu'))\n",
    "model11.add(Flatten())\n",
    "model11.add(Dropout(0.2))\n",
    "model11.add(Dense(20, init='glorot_normal', activation='tanh', W_regularizer=l2(.05)))\n",
    "\n",
    "model12=Sequential()\n",
    "model12.add(Convolution3D(10, 3, 3, 3, input_shape=(10, 10, 10, 1), border_mode='valid', init='he_normal', W_regularizer=l2(.05)))\n",
    "model12.add(BatchNormalization())\n",
    "model12.add(Activation('relu'))\n",
    "model12.add(Flatten())\n",
    "model12.add(Dropout(0.2))\n",
    "model12.add(Dense(20, init='glorot_normal', activation='tanh', W_regularizer=l2(.05)))\n",
    "\n",
    "model13=Sequential()\n",
    "model13.add(Convolution3D(10, 3, 3, 3, input_shape=(10, 10, 10, 1), border_mode='valid', init='he_normal', W_regularizer=l2(.05)))\n",
    "model13.add(BatchNormalization())\n",
    "model13.add(Activation('relu'))\n",
    "model13.add(Flatten())\n",
    "model13.add(Dropout(0.2))\n",
    "model13.add(Dense(20, init='glorot_normal', activation='tanh', W_regularizer=l2(.05)))\n",
    "\n",
    "model14=Sequential()\n",
    "model14.add(Convolution3D(10, 3, 3, 3, input_shape=(10, 10, 10, 1), border_mode='valid', init='he_normal', W_regularizer=l2(.05)))\n",
    "model14.add(BatchNormalization())\n",
    "model14.add(Activation('relu'))\n",
    "model14.add(Flatten())\n",
    "model14.add(Dropout(0.2))\n",
    "model14.add(Dense(20, init='glorot_normal', activation='tanh', W_regularizer=l2(.05)))\n",
    "\n",
    "model15=Sequential()\n",
    "model15.add(Convolution3D(10, 3, 3, 3, input_shape=(10, 10, 10, 1), border_mode='valid', init='he_normal', W_regularizer=l2(.05)))\n",
    "model15.add(BatchNormalization())\n",
    "model15.add(Activation('relu'))\n",
    "model15.add(Flatten())\n",
    "model15.add(Dropout(0.2))\n",
    "model15.add(Dense(20, init='glorot_normal', activation='tanh', W_regularizer=l2(.05)))\n",
    "\n",
    "model16=Sequential()\n",
    "model16.add(Convolution3D(10, 3, 3, 3, input_shape=(10, 10, 10, 1), border_mode='valid', init='he_normal', W_regularizer=l2(.05)))\n",
    "model16.add(BatchNormalization())\n",
    "model16.add(Activation('relu'))\n",
    "model16.add(Flatten())\n",
    "model16.add(Dropout(0.2))\n",
    "model16.add(Dense(20, init='glorot_normal', activation='tanh', W_regularizer=l2(.05)))\n",
    "\n",
    "model17=Sequential()\n",
    "model17.add(Convolution3D(10, 3, 3, 3, input_shape=(10, 10, 10, 1), border_mode='valid', init='he_normal', W_regularizer=l2(.05)))\n",
    "model17.add(BatchNormalization())\n",
    "model17.add(Activation('relu'))\n",
    "model17.add(Flatten())\n",
    "model17.add(Dropout(0.2))\n",
    "model17.add(Dense(20, init='glorot_normal', activation='tanh', W_regularizer=l2(.05)))\n",
    "\n",
    "merged = Merge([model1, model2, model3, model4, model5, model6, model7, model8, model9, model10, model11, model12, model13, model14, model15, model16, model17], mode='concat')\n",
    "final_model = Sequential()\n",
    "final_model.add(merged)\n",
    "final_model.add(Dense(10, init='glorot_normal', activation='tanh',W_regularizer=l2(.05)))\n",
    "final_model.add(Dense(1, init='glorot_normal', activation='tanh'))\n",
    "final_model.compile(loss='binary_crossentropy', optimizer=adam, metrics=['accuracy'])"
   ]
  },
  {
   "cell_type": "code",
   "execution_count": 18,
   "metadata": {
    "collapsed": false
   },
   "outputs": [
    {
     "name": "stdout",
     "output_type": "stream",
     "text": [
      "1e-05\n"
     ]
    }
   ],
   "source": [
    "import keras.backend as K\n",
    "print K.get_value(final_model.optimizer.lr)"
   ]
  },
  {
   "cell_type": "code",
   "execution_count": 19,
   "metadata": {
    "collapsed": false
   },
   "outputs": [
    {
     "name": "stdout",
     "output_type": "stream",
     "text": [
      "Train on 198 samples, validate on 50 samples\n",
      "Epoch 1/1\n",
      "121s - loss: 41.2367 - acc: 0.5051 - val_loss: 1.0901 - val_acc: 0.3200\n",
      "Train on 198 samples, validate on 50 samples\n",
      "Epoch 1/1\n",
      "171s - loss: 40.6726 - acc: 0.6566 - val_loss: 0.9550 - val_acc: 0.3800\n",
      "Train on 198 samples, validate on 50 samples\n",
      "Epoch 1/1\n",
      "246s - loss: 40.4814 - acc: 0.7172 - val_loss: 0.7739 - val_acc: 0.4200\n",
      "Train on 198 samples, validate on 50 samples\n",
      "Epoch 1/1\n",
      "198s - loss: 40.1270 - acc: 0.7222 - val_loss: 0.7971 - val_acc: 0.4000\n",
      "Train on 198 samples, validate on 50 samples\n",
      "Epoch 1/1\n",
      "119s - loss: 39.7596 - acc: 0.7576 - val_loss: 0.8237 - val_acc: 0.4000\n",
      "Train on 198 samples, validate on 50 samples\n",
      "Epoch 1/1\n",
      "168s - loss: 39.6493 - acc: 0.7727 - val_loss: 0.7575 - val_acc: 0.4200\n",
      "Train on 198 samples, validate on 50 samples\n",
      "Epoch 1/1\n",
      "191s - loss: 39.4356 - acc: 0.7727 - val_loss: 0.6423 - val_acc: 0.5000\n",
      "Train on 198 samples, validate on 50 samples\n",
      "Epoch 1/1\n",
      "116s - loss: 39.4262 - acc: 0.7677 - val_loss: 0.5609 - val_acc: 0.6600\n",
      "Train on 198 samples, validate on 50 samples\n",
      "Epoch 1/1\n",
      "153s - loss: 39.0496 - acc: 0.7828 - val_loss: 0.7254 - val_acc: 0.7800\n",
      "Train on 198 samples, validate on 50 samples\n",
      "Epoch 1/1\n",
      "153s - loss: 38.8035 - acc: 0.7525 - val_loss: 0.6766 - val_acc: 0.5000\n",
      "Train on 198 samples, validate on 50 samples\n",
      "Epoch 1/1\n",
      "143s - loss: 38.5664 - acc: 0.8030 - val_loss: 0.7047 - val_acc: 0.8000\n",
      "Train on 198 samples, validate on 50 samples\n",
      "Epoch 1/1\n",
      "168s - loss: 38.4179 - acc: 0.8030 - val_loss: 0.7586 - val_acc: 0.7600\n",
      "Train on 198 samples, validate on 50 samples\n",
      "Epoch 1/1\n",
      "143s - loss: 38.2737 - acc: 0.8030 - val_loss: 0.7289 - val_acc: 0.7800\n",
      "Train on 198 samples, validate on 50 samples\n",
      "Epoch 1/1\n",
      "157s - loss: 38.1973 - acc: 0.7929 - val_loss: 0.7194 - val_acc: 0.7800\n",
      "Train on 198 samples, validate on 50 samples\n",
      "Epoch 1/1\n",
      "143s - loss: 38.1077 - acc: 0.8081 - val_loss: 0.7100 - val_acc: 0.7800\n",
      "Train on 198 samples, validate on 50 samples\n",
      "Epoch 1/1\n",
      "147s - loss: 38.0134 - acc: 0.8283 - val_loss: 0.7073 - val_acc: 0.7800\n",
      "Train on 198 samples, validate on 50 samples\n",
      "Epoch 1/1\n",
      "143s - loss: 37.8988 - acc: 0.8636 - val_loss: 0.6890 - val_acc: 0.8200\n",
      "Train on 198 samples, validate on 50 samples\n",
      "Epoch 1/1\n",
      "151s - loss: 37.8066 - acc: 0.8434 - val_loss: 0.6619 - val_acc: 0.8200\n",
      "Train on 198 samples, validate on 50 samples\n",
      "Epoch 1/1\n",
      "142s - loss: 37.7486 - acc: 0.8232 - val_loss: 0.6673 - val_acc: 0.8200\n",
      "Train on 198 samples, validate on 50 samples\n",
      "Epoch 1/1\n",
      "143s - loss: 37.6273 - acc: 0.8384 - val_loss: 0.8719 - val_acc: 0.8200\n",
      "Train on 198 samples, validate on 50 samples\n",
      "Epoch 1/1\n",
      "158s - loss: 37.5831 - acc: 0.8485 - val_loss: 0.7796 - val_acc: 0.7000\n",
      "Train on 198 samples, validate on 50 samples\n",
      "Epoch 1/1\n",
      "143s - loss: 37.4927 - acc: 0.8384 - val_loss: 0.6836 - val_acc: 0.8000\n",
      "Train on 198 samples, validate on 50 samples\n",
      "Epoch 1/1\n",
      "143s - loss: 37.3933 - acc: 0.8535 - val_loss: 0.6338 - val_acc: 0.8400\n",
      "Train on 198 samples, validate on 50 samples\n",
      "Epoch 1/1\n",
      "152s - loss: 37.2883 - acc: 0.8586 - val_loss: 0.6256 - val_acc: 0.8200\n",
      "Train on 198 samples, validate on 50 samples\n",
      "Epoch 1/1\n",
      "139s - loss: 37.2440 - acc: 0.8636 - val_loss: 0.6300 - val_acc: 0.8200\n",
      "Train on 198 samples, validate on 50 samples\n",
      "Epoch 1/1\n",
      "124s - loss: 37.3291 - acc: 0.8485 - val_loss: 0.8523 - val_acc: 0.8200\n",
      "Train on 198 samples, validate on 50 samples\n",
      "Epoch 1/1\n",
      "116s - loss: 37.1288 - acc: 0.8939 - val_loss: 0.6421 - val_acc: 0.8200\n",
      "Train on 198 samples, validate on 50 samples\n",
      "Epoch 1/1\n",
      "183s - loss: 37.1155 - acc: 0.8838 - val_loss: 0.8514 - val_acc: 0.8000\n",
      "Train on 198 samples, validate on 50 samples\n",
      "Epoch 1/1\n"
     ]
    },
    {
     "ename": "KeyboardInterrupt",
     "evalue": "",
     "output_type": "error",
     "traceback": [
      "\u001b[1;31m---------------------------------------------------------------------------\u001b[0m",
      "\u001b[1;31mKeyboardInterrupt\u001b[0m                         Traceback (most recent call last)",
      "\u001b[1;32m<ipython-input-19-a0ff6629fa78>\u001b[0m in \u001b[0;36m<module>\u001b[1;34m()\u001b[0m\n\u001b[0;32m     21\u001b[0m \u001b[1;33m\u001b[0m\u001b[0m\n\u001b[0;32m     22\u001b[0m \u001b[1;32mfor\u001b[0m \u001b[0miteration\u001b[0m \u001b[1;32min\u001b[0m \u001b[0mnp\u001b[0m\u001b[1;33m.\u001b[0m\u001b[0mlinspace\u001b[0m\u001b[1;33m(\u001b[0m\u001b[1;36m1\u001b[0m\u001b[1;33m,\u001b[0m\u001b[1;36m70\u001b[0m\u001b[1;33m,\u001b[0m\u001b[1;36m70\u001b[0m\u001b[1;33m)\u001b[0m\u001b[1;33m:\u001b[0m\u001b[1;33m\u001b[0m\u001b[0m\n\u001b[1;32m---> 23\u001b[1;33m     \u001b[0mhistory\u001b[0m\u001b[1;33m=\u001b[0m\u001b[0mfinal_model\u001b[0m\u001b[1;33m.\u001b[0m\u001b[0mfit\u001b[0m\u001b[1;33m(\u001b[0m\u001b[1;33m[\u001b[0m\u001b[0mX1\u001b[0m\u001b[1;33m,\u001b[0m \u001b[0mX2\u001b[0m\u001b[1;33m,\u001b[0m \u001b[0mX3\u001b[0m\u001b[1;33m,\u001b[0m \u001b[0mX4\u001b[0m\u001b[1;33m,\u001b[0m \u001b[0mX5\u001b[0m\u001b[1;33m,\u001b[0m \u001b[0mX6\u001b[0m\u001b[1;33m,\u001b[0m \u001b[0mX7\u001b[0m\u001b[1;33m,\u001b[0m \u001b[0mX8\u001b[0m\u001b[1;33m,\u001b[0m \u001b[0mX9\u001b[0m\u001b[1;33m,\u001b[0m \u001b[0mX10\u001b[0m\u001b[1;33m,\u001b[0m \u001b[0mX1\u001b[0m\u001b[1;33m,\u001b[0m \u001b[0mX12\u001b[0m\u001b[1;33m,\u001b[0m \u001b[0mX13\u001b[0m\u001b[1;33m,\u001b[0m \u001b[0mX14\u001b[0m\u001b[1;33m,\u001b[0m \u001b[0mX15\u001b[0m\u001b[1;33m,\u001b[0m \u001b[0mX16\u001b[0m\u001b[1;33m,\u001b[0m \u001b[0mX17\u001b[0m\u001b[1;33m]\u001b[0m\u001b[1;33m,\u001b[0m \u001b[0my\u001b[0m\u001b[1;33m,\u001b[0m \u001b[0mvalidation_split\u001b[0m\u001b[1;33m=\u001b[0m\u001b[1;36m0.2\u001b[0m\u001b[1;33m,\u001b[0m \u001b[0mnb_epoch\u001b[0m\u001b[1;33m=\u001b[0m\u001b[1;36m1\u001b[0m\u001b[1;33m,\u001b[0m \u001b[0mbatch_size\u001b[0m\u001b[1;33m=\u001b[0m\u001b[1;36m8\u001b[0m\u001b[1;33m,\u001b[0m\u001b[0mverbose\u001b[0m\u001b[1;33m=\u001b[0m\u001b[1;36m2\u001b[0m\u001b[1;33m)\u001b[0m\u001b[1;33m\u001b[0m\u001b[0m\n\u001b[0m\u001b[0;32m     24\u001b[0m     \u001b[1;31m# Append values\u001b[0m\u001b[1;33m\u001b[0m\u001b[1;33m\u001b[0m\u001b[0m\n\u001b[0;32m     25\u001b[0m     \u001b[0macc_train\u001b[0m\u001b[1;33m.\u001b[0m\u001b[0mappend\u001b[0m\u001b[1;33m(\u001b[0m\u001b[0mhistory\u001b[0m\u001b[1;33m.\u001b[0m\u001b[0mhistory\u001b[0m\u001b[1;33m[\u001b[0m\u001b[1;34m'acc'\u001b[0m\u001b[1;33m]\u001b[0m\u001b[1;33m)\u001b[0m\u001b[1;33m\u001b[0m\u001b[0m\n",
      "\u001b[1;32m/home/octavio/anaconda2/lib/python2.7/site-packages/keras/models.pyc\u001b[0m in \u001b[0;36mfit\u001b[1;34m(self, x, y, batch_size, nb_epoch, verbose, callbacks, validation_split, validation_data, shuffle, class_weight, sample_weight, **kwargs)\u001b[0m\n\u001b[0;32m    618\u001b[0m                               \u001b[0mshuffle\u001b[0m\u001b[1;33m=\u001b[0m\u001b[0mshuffle\u001b[0m\u001b[1;33m,\u001b[0m\u001b[1;33m\u001b[0m\u001b[0m\n\u001b[0;32m    619\u001b[0m                               \u001b[0mclass_weight\u001b[0m\u001b[1;33m=\u001b[0m\u001b[0mclass_weight\u001b[0m\u001b[1;33m,\u001b[0m\u001b[1;33m\u001b[0m\u001b[0m\n\u001b[1;32m--> 620\u001b[1;33m                               sample_weight=sample_weight)\n\u001b[0m\u001b[0;32m    621\u001b[0m \u001b[1;33m\u001b[0m\u001b[0m\n\u001b[0;32m    622\u001b[0m     def evaluate(self, x, y, batch_size=32, verbose=1,\n",
      "\u001b[1;32m/home/octavio/anaconda2/lib/python2.7/site-packages/keras/engine/training.pyc\u001b[0m in \u001b[0;36mfit\u001b[1;34m(self, x, y, batch_size, nb_epoch, verbose, callbacks, validation_split, validation_data, shuffle, class_weight, sample_weight)\u001b[0m\n\u001b[0;32m   1104\u001b[0m                               \u001b[0mverbose\u001b[0m\u001b[1;33m=\u001b[0m\u001b[0mverbose\u001b[0m\u001b[1;33m,\u001b[0m \u001b[0mcallbacks\u001b[0m\u001b[1;33m=\u001b[0m\u001b[0mcallbacks\u001b[0m\u001b[1;33m,\u001b[0m\u001b[1;33m\u001b[0m\u001b[0m\n\u001b[0;32m   1105\u001b[0m                               \u001b[0mval_f\u001b[0m\u001b[1;33m=\u001b[0m\u001b[0mval_f\u001b[0m\u001b[1;33m,\u001b[0m \u001b[0mval_ins\u001b[0m\u001b[1;33m=\u001b[0m\u001b[0mval_ins\u001b[0m\u001b[1;33m,\u001b[0m \u001b[0mshuffle\u001b[0m\u001b[1;33m=\u001b[0m\u001b[0mshuffle\u001b[0m\u001b[1;33m,\u001b[0m\u001b[1;33m\u001b[0m\u001b[0m\n\u001b[1;32m-> 1106\u001b[1;33m                               callback_metrics=callback_metrics)\n\u001b[0m\u001b[0;32m   1107\u001b[0m \u001b[1;33m\u001b[0m\u001b[0m\n\u001b[0;32m   1108\u001b[0m     \u001b[1;32mdef\u001b[0m \u001b[0mevaluate\u001b[0m\u001b[1;33m(\u001b[0m\u001b[0mself\u001b[0m\u001b[1;33m,\u001b[0m \u001b[0mx\u001b[0m\u001b[1;33m,\u001b[0m \u001b[0my\u001b[0m\u001b[1;33m,\u001b[0m \u001b[0mbatch_size\u001b[0m\u001b[1;33m=\u001b[0m\u001b[1;36m32\u001b[0m\u001b[1;33m,\u001b[0m \u001b[0mverbose\u001b[0m\u001b[1;33m=\u001b[0m\u001b[1;36m1\u001b[0m\u001b[1;33m,\u001b[0m \u001b[0msample_weight\u001b[0m\u001b[1;33m=\u001b[0m\u001b[0mNone\u001b[0m\u001b[1;33m)\u001b[0m\u001b[1;33m:\u001b[0m\u001b[1;33m\u001b[0m\u001b[0m\n",
      "\u001b[1;32m/home/octavio/anaconda2/lib/python2.7/site-packages/keras/engine/training.pyc\u001b[0m in \u001b[0;36m_fit_loop\u001b[1;34m(self, f, ins, out_labels, batch_size, nb_epoch, verbose, callbacks, val_f, val_ins, shuffle, callback_metrics)\u001b[0m\n\u001b[0;32m    822\u001b[0m                 \u001b[0mbatch_logs\u001b[0m\u001b[1;33m[\u001b[0m\u001b[1;34m'size'\u001b[0m\u001b[1;33m]\u001b[0m \u001b[1;33m=\u001b[0m \u001b[0mlen\u001b[0m\u001b[1;33m(\u001b[0m\u001b[0mbatch_ids\u001b[0m\u001b[1;33m)\u001b[0m\u001b[1;33m\u001b[0m\u001b[0m\n\u001b[0;32m    823\u001b[0m                 \u001b[0mcallbacks\u001b[0m\u001b[1;33m.\u001b[0m\u001b[0mon_batch_begin\u001b[0m\u001b[1;33m(\u001b[0m\u001b[0mbatch_index\u001b[0m\u001b[1;33m,\u001b[0m \u001b[0mbatch_logs\u001b[0m\u001b[1;33m)\u001b[0m\u001b[1;33m\u001b[0m\u001b[0m\n\u001b[1;32m--> 824\u001b[1;33m                 \u001b[0mouts\u001b[0m \u001b[1;33m=\u001b[0m \u001b[0mf\u001b[0m\u001b[1;33m(\u001b[0m\u001b[0mins_batch\u001b[0m\u001b[1;33m)\u001b[0m\u001b[1;33m\u001b[0m\u001b[0m\n\u001b[0m\u001b[0;32m    825\u001b[0m                 \u001b[1;32mif\u001b[0m \u001b[0mtype\u001b[0m\u001b[1;33m(\u001b[0m\u001b[0mouts\u001b[0m\u001b[1;33m)\u001b[0m \u001b[1;33m!=\u001b[0m \u001b[0mlist\u001b[0m\u001b[1;33m:\u001b[0m\u001b[1;33m\u001b[0m\u001b[0m\n\u001b[0;32m    826\u001b[0m                     \u001b[0mouts\u001b[0m \u001b[1;33m=\u001b[0m \u001b[1;33m[\u001b[0m\u001b[0mouts\u001b[0m\u001b[1;33m]\u001b[0m\u001b[1;33m\u001b[0m\u001b[0m\n",
      "\u001b[1;32m/home/octavio/anaconda2/lib/python2.7/site-packages/keras/backend/tensorflow_backend.pyc\u001b[0m in \u001b[0;36m__call__\u001b[1;34m(self, inputs)\u001b[0m\n\u001b[0;32m   1011\u001b[0m             \u001b[0mfeed_dict\u001b[0m\u001b[1;33m[\u001b[0m\u001b[0mtensor\u001b[0m\u001b[1;33m]\u001b[0m \u001b[1;33m=\u001b[0m \u001b[0mvalue\u001b[0m\u001b[1;33m\u001b[0m\u001b[0m\n\u001b[0;32m   1012\u001b[0m         \u001b[0msession\u001b[0m \u001b[1;33m=\u001b[0m \u001b[0mget_session\u001b[0m\u001b[1;33m(\u001b[0m\u001b[1;33m)\u001b[0m\u001b[1;33m\u001b[0m\u001b[0m\n\u001b[1;32m-> 1013\u001b[1;33m         \u001b[0mupdated\u001b[0m \u001b[1;33m=\u001b[0m \u001b[0msession\u001b[0m\u001b[1;33m.\u001b[0m\u001b[0mrun\u001b[0m\u001b[1;33m(\u001b[0m\u001b[0mself\u001b[0m\u001b[1;33m.\u001b[0m\u001b[0moutputs\u001b[0m \u001b[1;33m+\u001b[0m \u001b[1;33m[\u001b[0m\u001b[0mself\u001b[0m\u001b[1;33m.\u001b[0m\u001b[0mupdates_op\u001b[0m\u001b[1;33m]\u001b[0m\u001b[1;33m,\u001b[0m \u001b[0mfeed_dict\u001b[0m\u001b[1;33m=\u001b[0m\u001b[0mfeed_dict\u001b[0m\u001b[1;33m)\u001b[0m\u001b[1;33m\u001b[0m\u001b[0m\n\u001b[0m\u001b[0;32m   1014\u001b[0m         \u001b[1;32mreturn\u001b[0m \u001b[0mupdated\u001b[0m\u001b[1;33m[\u001b[0m\u001b[1;33m:\u001b[0m\u001b[0mlen\u001b[0m\u001b[1;33m(\u001b[0m\u001b[0mself\u001b[0m\u001b[1;33m.\u001b[0m\u001b[0moutputs\u001b[0m\u001b[1;33m)\u001b[0m\u001b[1;33m]\u001b[0m\u001b[1;33m\u001b[0m\u001b[0m\n\u001b[0;32m   1015\u001b[0m \u001b[1;33m\u001b[0m\u001b[0m\n",
      "\u001b[1;32m/home/octavio/anaconda2/lib/python2.7/site-packages/tensorflow/python/client/session.pyc\u001b[0m in \u001b[0;36mrun\u001b[1;34m(self, fetches, feed_dict, options, run_metadata)\u001b[0m\n\u001b[0;32m    380\u001b[0m     \u001b[1;32mtry\u001b[0m\u001b[1;33m:\u001b[0m\u001b[1;33m\u001b[0m\u001b[0m\n\u001b[0;32m    381\u001b[0m       result = self._run(None, fetches, feed_dict, options_ptr,\n\u001b[1;32m--> 382\u001b[1;33m                          run_metadata_ptr)\n\u001b[0m\u001b[0;32m    383\u001b[0m       \u001b[1;32mif\u001b[0m \u001b[0mrun_metadata\u001b[0m\u001b[1;33m:\u001b[0m\u001b[1;33m\u001b[0m\u001b[0m\n\u001b[0;32m    384\u001b[0m         \u001b[0mproto_data\u001b[0m \u001b[1;33m=\u001b[0m \u001b[0mtf_session\u001b[0m\u001b[1;33m.\u001b[0m\u001b[0mTF_GetBuffer\u001b[0m\u001b[1;33m(\u001b[0m\u001b[0mrun_metadata_ptr\u001b[0m\u001b[1;33m)\u001b[0m\u001b[1;33m\u001b[0m\u001b[0m\n",
      "\u001b[1;32m/home/octavio/anaconda2/lib/python2.7/site-packages/tensorflow/python/client/session.pyc\u001b[0m in \u001b[0;36m_run\u001b[1;34m(self, handle, fetches, feed_dict, options, run_metadata)\u001b[0m\n\u001b[0;32m    653\u001b[0m     \u001b[0mmovers\u001b[0m \u001b[1;33m=\u001b[0m \u001b[0mself\u001b[0m\u001b[1;33m.\u001b[0m\u001b[0m_update_with_movers\u001b[0m\u001b[1;33m(\u001b[0m\u001b[0mfeed_dict_string\u001b[0m\u001b[1;33m,\u001b[0m \u001b[0mfeed_map\u001b[0m\u001b[1;33m)\u001b[0m\u001b[1;33m\u001b[0m\u001b[0m\n\u001b[0;32m    654\u001b[0m     results = self._do_run(handle, target_list, unique_fetches,\n\u001b[1;32m--> 655\u001b[1;33m                            feed_dict_string, options, run_metadata)\n\u001b[0m\u001b[0;32m    656\u001b[0m \u001b[1;33m\u001b[0m\u001b[0m\n\u001b[0;32m    657\u001b[0m     \u001b[1;31m# User may have fetched the same tensor multiple times, but we\u001b[0m\u001b[1;33m\u001b[0m\u001b[1;33m\u001b[0m\u001b[0m\n",
      "\u001b[1;32m/home/octavio/anaconda2/lib/python2.7/site-packages/tensorflow/python/client/session.pyc\u001b[0m in \u001b[0;36m_do_run\u001b[1;34m(self, handle, target_list, fetch_list, feed_dict, options, run_metadata)\u001b[0m\n\u001b[0;32m    721\u001b[0m     \u001b[1;32mif\u001b[0m \u001b[0mhandle\u001b[0m \u001b[1;32mis\u001b[0m \u001b[0mNone\u001b[0m\u001b[1;33m:\u001b[0m\u001b[1;33m\u001b[0m\u001b[0m\n\u001b[0;32m    722\u001b[0m       return self._do_call(_run_fn, self._session, feed_dict, fetch_list,\n\u001b[1;32m--> 723\u001b[1;33m                            target_list, options, run_metadata)\n\u001b[0m\u001b[0;32m    724\u001b[0m     \u001b[1;32melse\u001b[0m\u001b[1;33m:\u001b[0m\u001b[1;33m\u001b[0m\u001b[0m\n\u001b[0;32m    725\u001b[0m       return self._do_call(_prun_fn, self._session, handle, feed_dict,\n",
      "\u001b[1;32m/home/octavio/anaconda2/lib/python2.7/site-packages/tensorflow/python/client/session.pyc\u001b[0m in \u001b[0;36m_do_call\u001b[1;34m(self, fn, *args)\u001b[0m\n\u001b[0;32m    728\u001b[0m   \u001b[1;32mdef\u001b[0m \u001b[0m_do_call\u001b[0m\u001b[1;33m(\u001b[0m\u001b[0mself\u001b[0m\u001b[1;33m,\u001b[0m \u001b[0mfn\u001b[0m\u001b[1;33m,\u001b[0m \u001b[1;33m*\u001b[0m\u001b[0margs\u001b[0m\u001b[1;33m)\u001b[0m\u001b[1;33m:\u001b[0m\u001b[1;33m\u001b[0m\u001b[0m\n\u001b[0;32m    729\u001b[0m     \u001b[1;32mtry\u001b[0m\u001b[1;33m:\u001b[0m\u001b[1;33m\u001b[0m\u001b[0m\n\u001b[1;32m--> 730\u001b[1;33m       \u001b[1;32mreturn\u001b[0m \u001b[0mfn\u001b[0m\u001b[1;33m(\u001b[0m\u001b[1;33m*\u001b[0m\u001b[0margs\u001b[0m\u001b[1;33m)\u001b[0m\u001b[1;33m\u001b[0m\u001b[0m\n\u001b[0m\u001b[0;32m    731\u001b[0m     \u001b[1;32mexcept\u001b[0m \u001b[0merrors\u001b[0m\u001b[1;33m.\u001b[0m\u001b[0mOpError\u001b[0m \u001b[1;32mas\u001b[0m \u001b[0me\u001b[0m\u001b[1;33m:\u001b[0m\u001b[1;33m\u001b[0m\u001b[0m\n\u001b[0;32m    732\u001b[0m       \u001b[0mmessage\u001b[0m \u001b[1;33m=\u001b[0m \u001b[0mcompat\u001b[0m\u001b[1;33m.\u001b[0m\u001b[0mas_text\u001b[0m\u001b[1;33m(\u001b[0m\u001b[0me\u001b[0m\u001b[1;33m.\u001b[0m\u001b[0mmessage\u001b[0m\u001b[1;33m)\u001b[0m\u001b[1;33m\u001b[0m\u001b[0m\n",
      "\u001b[1;32m/home/octavio/anaconda2/lib/python2.7/site-packages/tensorflow/python/client/session.pyc\u001b[0m in \u001b[0;36m_run_fn\u001b[1;34m(session, feed_dict, fetch_list, target_list, options, run_metadata)\u001b[0m\n\u001b[0;32m    710\u001b[0m         return tf_session.TF_Run(session, options,\n\u001b[0;32m    711\u001b[0m                                  \u001b[0mfeed_dict\u001b[0m\u001b[1;33m,\u001b[0m \u001b[0mfetch_list\u001b[0m\u001b[1;33m,\u001b[0m \u001b[0mtarget_list\u001b[0m\u001b[1;33m,\u001b[0m\u001b[1;33m\u001b[0m\u001b[0m\n\u001b[1;32m--> 712\u001b[1;33m                                  status, run_metadata)\n\u001b[0m\u001b[0;32m    713\u001b[0m \u001b[1;33m\u001b[0m\u001b[0m\n\u001b[0;32m    714\u001b[0m     \u001b[1;32mdef\u001b[0m \u001b[0m_prun_fn\u001b[0m\u001b[1;33m(\u001b[0m\u001b[0msession\u001b[0m\u001b[1;33m,\u001b[0m \u001b[0mhandle\u001b[0m\u001b[1;33m,\u001b[0m \u001b[0mfeed_dict\u001b[0m\u001b[1;33m,\u001b[0m \u001b[0mfetch_list\u001b[0m\u001b[1;33m)\u001b[0m\u001b[1;33m:\u001b[0m\u001b[1;33m\u001b[0m\u001b[0m\n",
      "\u001b[1;31mKeyboardInterrupt\u001b[0m: "
     ]
    }
   ],
   "source": [
    "# WATCHOUT: Change the name of the model\n",
    "acc_train=[]\n",
    "loss_train=[]\n",
    "acc_val=[]\n",
    "loss_val=[]\n",
    "all_lr=[]\n",
    "t0 = time.time()\n",
    "\n",
    "# thresholds\n",
    "thres1=.80\n",
    "thres1passed=0\n",
    "thres2=.90\n",
    "thres2passed=0\n",
    "thres3=.93\n",
    "thres3passed=0\n",
    "thres4=.96\n",
    "thres4passed=0\n",
    "maxAcc=0\n",
    "maxAccVal=0\n",
    "countNoIncrease=0\n",
    "\n",
    "for iteration in np.linspace(1,70,70):\n",
    "    history=final_model.fit([X1, X2, X3, X4, X5, X6, X7, X8, X9, X10, X1, X12, X13, X14, X15, X16, X17], y, validation_split=0.2, nb_epoch=1, batch_size=8,verbose=2)\n",
    "    # Append values\n",
    "    acc_train.append(history.history['acc'])\n",
    "    acc_val.append(history.history['val_acc'])\n",
    "    loss_train.append(history.history['loss'])\n",
    "    loss_val.append(history.history['val_loss'])\n",
    "    all_lr.append(K.get_value(final_model.optimizer.lr))\n",
    "    \n",
    "    # Compare last iteration vs max value of Acc\n",
    "    if acc_train[-1][0]>maxAcc:\n",
    "        maxAcc=max(acc_train)[0]\n",
    "        maxIt=iteration\n",
    "    else:\n",
    "        countNoIncrease=countNoIncrease+1\n",
    "        \n",
    "    if acc_val[-1][0]>maxAccVal:\n",
    "        maxAccVal=max(acc_val)[0]\n",
    "        final_model.save('m729s10_iter_'+'{0}_valAcc_{1}'.format(int(iteration),acc_val[-1][0])+'.h5')\n",
    "    \n",
    "    if countNoIncrease>=10:\n",
    "        countNoIncrease=0\n",
    "        K.set_value(final_model.optimizer.lr, 0.5 * K.get_value(final_model.optimizer.lr))    \n",
    "        \n",
    "    if acc_train[-1][0] > thres1 and thres1passed == 0:\n",
    "        thres1passed=1\n",
    "        countNoIncrease=0\n",
    "        K.set_value(final_model.optimizer.lr, 0.5 * K.get_value(final_model.optimizer.lr))    \n",
    "        \n",
    "    if acc_train[-1][0] > thres2 and thres2passed == 0:\n",
    "        thres2passed=1\n",
    "        countNoIncrease=0\n",
    "        K.set_value(final_model.optimizer.lr, 0.5 * K.get_value(final_model.optimizer.lr))    \n",
    "        \n",
    "    if acc_train[-1][0] > thres3 and thres3passed == 0:\n",
    "        thres3passed=1\n",
    "        countNoIncrease=0\n",
    "        K.set_value(final_model.optimizer.lr, 0.5 * K.get_value(final_model.optimizer.lr))    \n",
    "        \n",
    "    if acc_train[-1][0] > thres4 and thres4passed == 0:\n",
    "        thres4passed=1\n",
    "        countNoIncrease=0\n",
    "        K.set_value(final_model.optimizer.lr, 0.5 * K.get_value(final_model.optimizer.lr))   \n",
    "    \n",
    "t1 = time.time()\n",
    "print (t1-t0)/60/60"
   ]
  },
  {
   "cell_type": "code",
   "execution_count": 30,
   "metadata": {
    "collapsed": false
   },
   "outputs": [
    {
     "data": {
      "image/png": "[encoded data removed]",
      "text/plain": [
       "<matplotlib.figure.Figure at 0x7f3501e9bf90>"
      ]
     },
     "metadata": {},
     "output_type": "display_data"
    },
    {
     "data": {
      "image/png": "[encoded data removed]",
      "text/plain": [
       "<matplotlib.figure.Figure at 0x7f3501ec0c10>"
      ]
     },
     "metadata": {},
     "output_type": "display_data"
    }
   ],
   "source": [
    "#summarize history for accuracy\n",
    "fig=plt.figure()\n",
    "plt.plot(acc_train)\n",
    "plt.plot(acc_val)\n",
    "plt.title('model accuracy')\n",
    "plt.ylabel('accuracy')\n",
    "plt.xlabel('epoch')\n",
    "plt.legend(['train','val'], loc='lower right')\n",
    "plt.ylim([0, 1])\n",
    "plt.show()\n",
    "# summarize history for accuracy\n",
    "plt.plot(loss_train)\n",
    "plt.plot(loss_val)\n",
    "plt.title('model loss')\n",
    "plt.ylabel('loss')\n",
    "plt.xlabel('epoch')\n",
    "plt.legend(['train','val'], loc='upper right')\n",
    "#plt.ylim([0, 2])\n",
    "plt.show()"
   ]
  },
  {
   "cell_type": "code",
   "execution_count": 31,
   "metadata": {
    "collapsed": false
   },
   "outputs": [
    {
     "data": {
      "image/png": "[encoded data removed]",
      "text/plain": [
       "<matplotlib.figure.Figure at 0x7f3501e97e10>"
      ]
     },
     "metadata": {},
     "output_type": "display_data"
    }
   ],
   "source": [
    "fig=plt.figure()\n",
    "plt.plot(all_lr)\n",
    "plt.title('learning rate')\n",
    "plt.ylabel('learning rate')\n",
    "plt.xlabel('epoch')\n",
    "plt.legend(['learning rate'], loc='upper right')\n",
    "plt.show()"
   ]
  },
  {
   "cell_type": "markdown",
   "metadata": {},
   "source": [
    "---"
   ]
  },
  {
   "cell_type": "markdown",
   "metadata": {},
   "source": [
    "## To resume training"
   ]
  },
  {
   "cell_type": "code",
   "execution_count": 28,
   "metadata": {
    "collapsed": true
   },
   "outputs": [],
   "source": [
    "#WATCHOUT this has to be removed\n",
    "maxAcc, maxAccVal, thres1, thres1passed, thres2, thres2passed, thres3, thres3passed, thres4, thres4passed"
   ]
  },
  {
   "cell_type": "code",
   "execution_count": 29,
   "metadata": {
    "collapsed": false
   },
   "outputs": [
    {
     "name": "stdout",
     "output_type": "stream",
     "text": [
      "Train on 198 samples, validate on 50 samples\n",
      "Epoch 1/1\n",
      "118s - loss: 36.8567 - acc: 0.8535 - val_loss: 0.8485 - val_acc: 0.8000\n",
      "Train on 198 samples, validate on 50 samples\n",
      "Epoch 1/1\n",
      "116s - loss: 36.7944 - acc: 0.8687 - val_loss: 0.8421 - val_acc: 0.8000\n",
      "Train on 198 samples, validate on 50 samples\n",
      "Epoch 1/1\n",
      "116s - loss: 36.8360 - acc: 0.8737 - val_loss: 0.8427 - val_acc: 0.8000\n",
      "Train on 198 samples, validate on 50 samples\n",
      "Epoch 1/1\n",
      "171s - loss: 36.7133 - acc: 0.8535 - val_loss: 0.8495 - val_acc: 0.8000\n",
      "Train on 198 samples, validate on 50 samples\n",
      "Epoch 1/1\n",
      "141s - loss: 36.7763 - acc: 0.8889 - val_loss: 0.6251 - val_acc: 0.8000\n",
      "Train on 198 samples, validate on 50 samples\n",
      "Epoch 1/1\n",
      "140s - loss: 36.6316 - acc: 0.8889 - val_loss: 0.6293 - val_acc: 0.8200\n",
      "Train on 198 samples, validate on 50 samples\n",
      "Epoch 1/1\n",
      "140s - loss: 36.5771 - acc: 0.8687 - val_loss: 0.6240 - val_acc: 0.8000\n",
      "Train on 198 samples, validate on 50 samples\n",
      "Epoch 1/1\n",
      "141s - loss: 36.5169 - acc: 0.9192 - val_loss: 0.6343 - val_acc: 0.8200\n",
      "Train on 198 samples, validate on 50 samples\n",
      "Epoch 1/1\n",
      "141s - loss: 36.4873 - acc: 0.8636 - val_loss: 0.8537 - val_acc: 0.8000\n",
      "Train on 198 samples, validate on 50 samples\n",
      "Epoch 1/1\n",
      "140s - loss: 36.4719 - acc: 0.8788 - val_loss: 0.8462 - val_acc: 0.8200\n",
      "Train on 198 samples, validate on 50 samples\n",
      "Epoch 1/1\n",
      "142s - loss: 36.4643 - acc: 0.8737 - val_loss: 0.8441 - val_acc: 0.8200\n",
      "Train on 198 samples, validate on 50 samples\n",
      "Epoch 1/1\n",
      "146s - loss: 36.4342 - acc: 0.8737 - val_loss: 0.8459 - val_acc: 0.8200\n",
      "Train on 198 samples, validate on 50 samples\n",
      "Epoch 1/1\n",
      "142s - loss: 36.4061 - acc: 0.8636 - val_loss: 0.8366 - val_acc: 0.8200\n",
      "Train on 198 samples, validate on 50 samples\n",
      "Epoch 1/1\n",
      "166s - loss: 36.3638 - acc: 0.8990 - val_loss: 0.8386 - val_acc: 0.8200\n",
      "Train on 198 samples, validate on 50 samples\n",
      "Epoch 1/1\n",
      "140s - loss: 36.3266 - acc: 0.8838 - val_loss: 0.8322 - val_acc: 0.8200\n",
      "Train on 198 samples, validate on 50 samples\n",
      "Epoch 1/1\n",
      "142s - loss: 36.3294 - acc: 0.8636 - val_loss: 0.8345 - val_acc: 0.8200\n",
      "Train on 198 samples, validate on 50 samples\n",
      "Epoch 1/1\n",
      "167s - loss: 36.2924 - acc: 0.8788 - val_loss: 0.8285 - val_acc: 0.8200\n",
      "Train on 198 samples, validate on 50 samples\n",
      "Epoch 1/1\n",
      "139s - loss: 36.2649 - acc: 0.8687 - val_loss: 0.8258 - val_acc: 0.8200\n",
      "Train on 198 samples, validate on 50 samples\n",
      "Epoch 1/1\n",
      "139s - loss: 36.2537 - acc: 0.8687 - val_loss: 0.8264 - val_acc: 0.8200\n",
      "Train on 198 samples, validate on 50 samples\n",
      "Epoch 1/1\n",
      "145s - loss: 36.2345 - acc: 0.8939 - val_loss: 0.8245 - val_acc: 0.8200\n",
      "Train on 198 samples, validate on 50 samples\n",
      "Epoch 1/1\n",
      "146s - loss: 36.2172 - acc: 0.8990 - val_loss: 0.8228 - val_acc: 0.8000\n",
      "Train on 198 samples, validate on 50 samples\n",
      "Epoch 1/1\n",
      "142s - loss: 36.2250 - acc: 0.8586 - val_loss: 0.8222 - val_acc: 0.8000\n",
      "Train on 198 samples, validate on 50 samples\n",
      "Epoch 1/1\n",
      "123s - loss: 36.3476 - acc: 0.8535 - val_loss: 0.8173 - val_acc: 0.8000\n",
      "Train on 198 samples, validate on 50 samples\n",
      "Epoch 1/1\n",
      "171s - loss: 36.1759 - acc: 0.9141 - val_loss: 0.8188 - val_acc: 0.8000\n",
      "Train on 198 samples, validate on 50 samples\n",
      "Epoch 1/1\n",
      "205s - loss: 36.1807 - acc: 0.8788 - val_loss: 0.8156 - val_acc: 0.8000\n",
      "Train on 198 samples, validate on 50 samples\n",
      "Epoch 1/1\n",
      "152s - loss: 36.1453 - acc: 0.8889 - val_loss: 0.8162 - val_acc: 0.8000\n",
      "Train on 198 samples, validate on 50 samples\n",
      "Epoch 1/1\n",
      "163s - loss: 36.1660 - acc: 0.8434 - val_loss: 0.8156 - val_acc: 0.8000\n",
      "Train on 198 samples, validate on 50 samples\n",
      "Epoch 1/1\n",
      "156s - loss: 36.1396 - acc: 0.8838 - val_loss: 0.8145 - val_acc: 0.8000\n",
      "Train on 198 samples, validate on 50 samples\n",
      "Epoch 1/1\n",
      "143s - loss: 36.1936 - acc: 0.8889 - val_loss: 0.8133 - val_acc: 0.8000\n",
      "Train on 198 samples, validate on 50 samples\n",
      "Epoch 1/1\n",
      "204s - loss: 36.1180 - acc: 0.8535 - val_loss: 0.8122 - val_acc: 0.8000\n",
      "Train on 198 samples, validate on 50 samples\n",
      "Epoch 1/1\n",
      "164s - loss: 36.2194 - acc: 0.8384 - val_loss: 0.8127 - val_acc: 0.8000\n",
      "Train on 198 samples, validate on 50 samples\n",
      "Epoch 1/1\n",
      "166s - loss: 36.2081 - acc: 0.8586 - val_loss: 0.8119 - val_acc: 0.8000\n",
      "Train on 198 samples, validate on 50 samples\n",
      "Epoch 1/1\n",
      "139s - loss: 36.1001 - acc: 0.8737 - val_loss: 0.8131 - val_acc: 0.8000\n",
      "Train on 198 samples, validate on 50 samples\n",
      "Epoch 1/1\n",
      "142s - loss: 36.0688 - acc: 0.8788 - val_loss: 0.8155 - val_acc: 0.8000\n",
      "Train on 198 samples, validate on 50 samples\n",
      "Epoch 1/1\n",
      "191s - loss: 36.0876 - acc: 0.8838 - val_loss: 0.8146 - val_acc: 0.8000\n",
      "Train on 198 samples, validate on 50 samples\n",
      "Epoch 1/1\n",
      "211s - loss: 36.1097 - acc: 0.8485 - val_loss: 0.8163 - val_acc: 0.8000\n",
      "Train on 198 samples, validate on 50 samples\n",
      "Epoch 1/1\n",
      "144s - loss: 36.0641 - acc: 0.8737 - val_loss: 0.8187 - val_acc: 0.8000\n",
      "Train on 198 samples, validate on 50 samples\n",
      "Epoch 1/1\n",
      "126s - loss: 36.0838 - acc: 0.8838 - val_loss: 0.8269 - val_acc: 0.8200\n",
      "Train on 198 samples, validate on 50 samples\n",
      "Epoch 1/1\n",
      "117s - loss: 36.0719 - acc: 0.8939 - val_loss: 0.8285 - val_acc: 0.8200\n",
      "Train on 198 samples, validate on 50 samples\n",
      "Epoch 1/1\n",
      "182s - loss: 36.1526 - acc: 0.8636 - val_loss: 0.8286 - val_acc: 0.8200\n",
      "Train on 198 samples, validate on 50 samples\n",
      "Epoch 1/1\n",
      "141s - loss: 36.0750 - acc: 0.8636 - val_loss: 0.8267 - val_acc: 0.8200\n",
      "Train on 198 samples, validate on 50 samples\n",
      "Epoch 1/1\n",
      "140s - loss: 36.0293 - acc: 0.8838 - val_loss: 0.8252 - val_acc: 0.8200\n",
      "1.75582309524\n"
     ]
    }
   ],
   "source": [
    "t0 = time.time()\n",
    "\n",
    "for iteration in np.linspace(29,70,42):\n",
    "    history=final_model.fit([X1, X2, X3, X4, X5, X6, X7, X8, X9, X10, X1, X12, X13, X14, X15, X16, X17], y, validation_split=0.2, nb_epoch=1, batch_size=8,verbose=2)\n",
    "    # Append values\n",
    "    acc_train.append(history.history['acc'])\n",
    "    acc_val.append(history.history['val_acc'])\n",
    "    loss_train.append(history.history['loss'])\n",
    "    loss_val.append(history.history['val_loss'])\n",
    "    all_lr.append(K.get_value(final_model.optimizer.lr))\n",
    "    \n",
    "    # Compare last iteration vs max value of Acc\n",
    "    if acc_train[-1][0]>maxAcc:\n",
    "        maxAcc=max(acc_train)[0]\n",
    "        maxIt=iteration\n",
    "    else:\n",
    "        countNoIncrease=countNoIncrease+1\n",
    "        \n",
    "    if acc_val[-1][0]>maxAccVal:\n",
    "        maxAccVal=max(acc_val)[0]\n",
    "        final_model.save('m729s10_iter_'+'{0}_valAcc_{1}'.format(int(iteration),acc_val[-1][0])+'.h5')\n",
    "    \n",
    "    if countNoIncrease>=10:\n",
    "        countNoIncrease=0\n",
    "        K.set_value(final_model.optimizer.lr, 0.5 * K.get_value(final_model.optimizer.lr))    \n",
    "        \n",
    "    if acc_train[-1][0] > thres1 and thres1passed == 0:\n",
    "        thres1passed=1\n",
    "        countNoIncrease=0\n",
    "        K.set_value(final_model.optimizer.lr, 0.5 * K.get_value(final_model.optimizer.lr))    \n",
    "        \n",
    "    if acc_train[-1][0] > thres2 and thres2passed == 0:\n",
    "        thres2passed=1\n",
    "        countNoIncrease=0\n",
    "        K.set_value(final_model.optimizer.lr, 0.5 * K.get_value(final_model.optimizer.lr))    \n",
    "        \n",
    "    if acc_train[-1][0] > thres3 and thres3passed == 0:\n",
    "        thres3passed=1\n",
    "        countNoIncrease=0\n",
    "        K.set_value(final_model.optimizer.lr, 0.5 * K.get_value(final_model.optimizer.lr))    \n",
    "        \n",
    "    if acc_train[-1][0] > thres4 and thres4passed == 0:\n",
    "        thres4passed=1\n",
    "        countNoIncrease=0\n",
    "        K.set_value(final_model.optimizer.lr, 0.5 * K.get_value(final_model.optimizer.lr))   \n",
    "    \n",
    "t1 = time.time()\n",
    "print (t1-t0)/60/60"
   ]
  },
  {
   "cell_type": "markdown",
   "metadata": {},
   "source": [
    "---"
   ]
  },
  {
   "cell_type": "markdown",
   "metadata": {},
   "source": [
    "## To Save the model and the variables"
   ]
  },
  {
   "cell_type": "code",
   "execution_count": 21,
   "metadata": {
    "collapsed": false
   },
   "outputs": [
    {
     "data": {
      "text/plain": [
       "array([ 29.,  30.,  31.,  32.,  33.,  34.,  35.,  36.,  37.,  38.,  39.,\n",
       "        40.,  41.,  42.,  43.,  44.,  45.,  46.,  47.,  48.,  49.,  50.,\n",
       "        51.,  52.,  53.,  54.,  55.,  56.,  57.,  58.,  59.,  60.,  61.,\n",
       "        62.,  63.,  64.,  65.,  66.,  67.,  68.,  69.,  70.])"
      ]
     },
     "execution_count": 21,
     "metadata": {},
     "output_type": "execute_result"
    }
   ],
   "source": [
    "np.linspace(29,70,42)"
   ]
  },
  {
   "cell_type": "code",
   "execution_count": 21,
   "metadata": {
    "collapsed": true
   },
   "outputs": [],
   "source": [
    "final_model.save('m729s10iter29.h5')"
   ]
  },
  {
   "cell_type": "code",
   "execution_count": 23,
   "metadata": {
    "collapsed": true
   },
   "outputs": [],
   "source": [
    "K_LR=K.get_value(adam.lr)\n",
    "K_LR, acc_train, loss_train, acc_val, loss_val, all_lr, countNoIncrease\n",
    "with open('m729s10iter29objs.pickle', 'wb') as f:\n",
    "    pickle.dump([K_LR, acc_train, loss_train, acc_val, loss_val, all_lr, countNoIncrease], f)"
   ]
  },
  {
   "cell_type": "markdown",
   "metadata": {},
   "source": [
    "---"
   ]
  },
  {
   "cell_type": "markdown",
   "metadata": {},
   "source": [
    "## To retreive the model and the variables"
   ]
  },
  {
   "cell_type": "code",
   "execution_count": 15,
   "metadata": {
    "collapsed": false
   },
   "outputs": [],
   "source": [
    "# Getting back the objects:\n",
    "with open('m729s10iter29objs.pickle') as f:\n",
    "    K_LR, acc_train, loss_train, acc_val, loss_val, all_lr, countNoIncrease = pickle.load(f)"
   ]
  },
  {
   "cell_type": "code",
   "execution_count": 16,
   "metadata": {
    "collapsed": true
   },
   "outputs": [],
   "source": [
    "from keras.models import load_model\n",
    "final_model=load_model('m729s10iter29.h5')"
   ]
  },
  {
   "cell_type": "code",
   "execution_count": 31,
   "metadata": {
    "collapsed": false
   },
   "outputs": [
    {
     "name": "stdout",
     "output_type": "stream",
     "text": [
      "62/62 [==============================] - 3s     \n",
      "0.870967741935\n"
     ]
    },
    {
     "data": {
      "text/plain": [
       "array([[23,  6],\n",
       "       [ 2, 31]])"
      ]
     },
     "execution_count": 31,
     "metadata": {},
     "output_type": "execute_result"
    }
   ],
   "source": [
    "y_pred=best_model.predict_classes([X1test, X2test, X3test, X4test, X5test, X6test, X7test, X8test, X9test, X10test, X11test, X12test, X13test, X14test, X15test, X16test, X17test])\n",
    "y_predC=np.squeeze(y_pred)\n",
    "print accuracy_score(y_true,y_predC)\n",
    "confusion_matrix(y_true,y_predC)"
   ]
  },
  {
   "cell_type": "markdown",
   "metadata": {
    "collapsed": false
   },
   "source": [
    "---"
   ]
  },
  {
   "cell_type": "markdown",
   "metadata": {
    "collapsed": false
   },
   "source": [
    "## To get the test result"
   ]
  },
  {
   "cell_type": "code",
   "execution_count": 19,
   "metadata": {
    "collapsed": false
   },
   "outputs": [],
   "source": [
    "y_true=readLabels('fold1/test/labelsTest.mat')\n",
    "X1test=readScan('fold1/test/scansMiniTest1.mat')\n",
    "X2test=readScan('fold1/test/scansMiniTest2.mat')\n",
    "X3test=readScan('fold1/test/scansMiniTest3.mat')\n",
    "X4test=readScan('fold1/test/scansMiniTest4.mat')\n",
    "X5test=readScan('fold1/test/scansMiniTest5.mat')\n",
    "X6test=readScan('fold1/test/scansMiniTest6.mat')\n",
    "X7test=readScan('fold1/test/scansMiniTest7.mat')\n",
    "X8test=readScan('fold1/test/scansMiniTest8.mat')\n",
    "X9test=readScan('fold1/test/scansMiniTest9.mat')\n",
    "X10test=readScan('fold1/test/scansMiniTest10.mat')\n",
    "X11test=readScan('fold1/test/scansMiniTest11.mat')\n",
    "X12test=readScan('fold1/test/scansMiniTest12.mat')\n",
    "X13test=readScan('fold1/test/scansMiniTest13.mat')\n",
    "X14test=readScan('fold1/test/scansMiniTest14.mat')\n",
    "X15test=readScan('fold1/test/scansMiniTest15.mat')\n",
    "X16test=readScan('fold1/test/scansMiniTest16.mat')\n",
    "X17test=readScan('fold1/test/scansMiniTest17.mat')"
   ]
  },
  {
   "cell_type": "code",
   "execution_count": 21,
   "metadata": {
    "collapsed": false
   },
   "outputs": [
    {
     "name": "stdout",
     "output_type": "stream",
     "text": [
      "62/62 [==============================] - 3s     \n"
     ]
    }
   ],
   "source": [
    "y_predProb=final_model.predict([X1test, X2test, X3test, X4test, X5test, X6test, X7test, X8test, X9test, X10test, X11test, X12test, X13test, X14test, X15test, X16test, X17test])\n",
    "y_pred=final_model.predict_classes([X1test, X2test, X3test, X4test, X5test, X6test, X7test, X8test, X9test, X10test, X11test, X12test, X13test, X14test, X15test, X16test, X17test])"
   ]
  },
  {
   "cell_type": "code",
   "execution_count": 25,
   "metadata": {
    "collapsed": false
   },
   "outputs": [
    {
     "data": {
      "text/plain": [
       "array([ 0.21689016, -0.22181533, -0.12564114,  0.79740047,  0.05062718,\n",
       "       -0.20838131,  0.06703719, -0.2394022 ,  0.70000696,  0.8789382 ,\n",
       "        0.88738132,  0.3901667 ,  0.96023619,  0.96115619,  0.96273249,\n",
       "        0.9153322 ,  0.95319158,  0.95621729,  0.87015134,  0.95635557,\n",
       "        0.95737928,  0.9527005 ,  0.76358092, -0.29578796,  0.70928782,\n",
       "        0.92070013,  0.84278494,  0.86923629,  0.93821198,  0.94442046,\n",
       "        0.90996623,  0.90765119,  0.93816912,  0.92197514,  0.17372566,\n",
       "        0.32999846,  0.90308779,  0.9603641 ,  0.94495183,  0.95603502,\n",
       "       -0.17813762, -0.11361975,  0.88588536,  0.30340621, -0.42349905,\n",
       "       -0.23305795,  0.84807897,  0.21914464,  0.76635778, -0.16997755,\n",
       "       -0.28304669, -0.24796797, -0.34844163, -0.24537045, -0.31619179,\n",
       "       -0.42110252, -0.0333176 , -0.345705  ,  0.89989269,  0.90149546,\n",
       "        0.76470381,  0.91482806], dtype=float32)"
      ]
     },
     "execution_count": 25,
     "metadata": {},
     "output_type": "execute_result"
    }
   ],
   "source": [
    "np.squeeze(y_predProb)"
   ]
  },
  {
   "cell_type": "code",
   "execution_count": 22,
   "metadata": {
    "collapsed": false
   },
   "outputs": [
    {
     "data": {
      "text/plain": [
       "array([0, 0, 0, 1, 0, 0, 0, 0, 1, 1, 1, 0, 1, 1, 1, 1, 1, 1, 1, 1, 1, 1, 1,\n",
       "       0, 1, 1, 1, 1, 1, 1, 1, 1, 1, 1, 0, 0, 1, 1, 1, 1, 0, 0, 1, 0, 0, 0,\n",
       "       1, 0, 1, 0, 0, 0, 0, 0, 0, 0, 0, 0, 1, 1, 1, 1], dtype=int32)"
      ]
     },
     "execution_count": 22,
     "metadata": {},
     "output_type": "execute_result"
    }
   ],
   "source": [
    "y_predC=np.squeeze(y_pred)\n",
    "y_predC"
   ]
  },
  {
   "cell_type": "code",
   "execution_count": 23,
   "metadata": {
    "collapsed": true
   },
   "outputs": [],
   "source": [
    "from sklearn.metrics import confusion_matrix\n",
    "from sklearn.metrics import  accuracy_score"
   ]
  },
  {
   "cell_type": "code",
   "execution_count": 24,
   "metadata": {
    "collapsed": false
   },
   "outputs": [
    {
     "name": "stdout",
     "output_type": "stream",
     "text": [
      "0.854838709677\n",
      "[ 3 11 22 24 34 35 42 46 48]\n"
     ]
    },
    {
     "data": {
      "text/plain": [
       "array([[23,  6],\n",
       "       [ 3, 30]])"
      ]
     },
     "execution_count": 24,
     "metadata": {},
     "output_type": "execute_result"
    }
   ],
   "source": [
    "print accuracy_score(y_true,y_predC)\n",
    "print np.where(y_true.astype(bool)!=y_predC.astype(bool))[0]\n",
    "confusion_matrix(y_true,y_predC)"
   ]
  },
  {
   "cell_type": "markdown",
   "metadata": {},
   "source": [
    "---"
   ]
  },
  {
   "cell_type": "markdown",
   "metadata": {},
   "source": [
    "---"
   ]
  },
  {
   "cell_type": "markdown",
   "metadata": {},
   "source": [
    "---"
   ]
  },
  {
   "cell_type": "code",
   "execution_count": null,
   "metadata": {
    "collapsed": true
   },
   "outputs": [],
   "source": [
    "from keras.utils.np_utils import to_categorical\n",
    "y_binary = to_categorical(ysq)"
   ]
  },
  {
   "cell_type": "code",
   "execution_count": null,
   "metadata": {
    "collapsed": true
   },
   "outputs": [],
   "source": [
    "def baseline_model():\n",
    "    model=Sequential()\n",
    "    model.add(Convolution3D(10, 3, 3, 3, input_shape=(16, 16, 16,1), border_mode='valid', activation='relu'))\n",
    "    model.add(Flatten())\n",
    "    model.add(Dense(100, init='uniform', activation='tanh'))\n",
    "    model.add(Dense(1, init='uniform', activation='tanh'))\n",
    "    # Compile model\n",
    "    model.compile(loss='binary_crossentropy', optimizer='adam', metrics=['accuracy'])\n",
    "    return model"
   ]
  },
  {
   "cell_type": "code",
   "execution_count": null,
   "metadata": {
    "collapsed": true
   },
   "outputs": [],
   "source": [
    "estimator = KerasClassifier(build_fn=baseline_model, nb_epoch=200, batch_size=10, verbose=0)\n",
    "kfold = KFold(n=len(X), n_folds=8, shuffle=True, random_state=seed)\n",
    "results = cross_val_score(estimator, X, ysq, cv=kfold)\n",
    "print results\n",
    "print results.mean()"
   ]
  },
  {
   "cell_type": "markdown",
   "metadata": {},
   "source": [
    "---"
   ]
  },
  {
   "cell_type": "markdown",
   "metadata": {},
   "source": [
    "---"
   ]
  },
  {
   "cell_type": "markdown",
   "metadata": {},
   "source": [
    "---"
   ]
  },
  {
   "cell_type": "markdown",
   "metadata": {
    "collapsed": true
   },
   "source": [
    "### Model622      \n",
    "\n",
    "callbacks1=EarlyStopping(monitor='loss', mode='auto', patience=30,verbose=0)   \n",
    "callbacks3=ModelCheckpoint('m508_Weights.{epoch:02d}-{val_acc:.2f}.hdf5',monitor='val_acc', verbose=0, save_best_only=True, save_weights_only=False, mode='auto')   \n",
    "\n",
    "adam=Adam(**lr=0.000005**, beta_1=0.9, beta_2=0.999, epsilon=1e-08, decay=1e-04)   \n",
    "\n",
    "model5=Sequential()    \n",
    "model5.add(Convolution3D(10, 3, 3, 3, input_shape=(16, 16, 16,1), border_mode='valid', init='he_normal',**W_regularizer=l2(.05)**))    \n",
    "model5.add(BatchNormalization())    \n",
    "model5.add(Activation('relu'))    \n",
    "model5.add(Flatten())    \n",
    "model5.add(Dropout(0.2))    \n",
    "model5.add(Dense(20, init='glorot_normal', activation='tanh'**, W_regularizer=l2(.05)**))    \n",
    "\n",
    "merged = Merge([model1, model2, model3, model4, model5], mode='concat')    \n",
    "final_model = Sequential()    \n",
    "final_model.add(merged)    \n",
    "final_model.add(Dense(**10**, init='glorot_normal', activation='tanh',**W_regularizer=l2(.05)**))    \n",
    "final_model.add(Dense(1, init='glorot_normal', activation='tanh'))    \n",
    "final_model.compile(loss='binary_crossentropy', optimizer=adam, metrics=['accuracy'])    \n",
    "\n",
    "history=final_model.fit([X1, X2, X3, X4, X5], y, validation_split=0.2, nb_epoch=80, **batch_size=8**,verbose=0, callbacks=[callbacks1,callbacks3]) \n"
   ]
  },
  {
   "cell_type": "markdown",
   "metadata": {
    "collapsed": true
   },
   "source": [
    "### Model627      \n",
    "\n",
    "callbacks1=EarlyStopping(monitor='loss', mode='auto', patience=30,verbose=0)   \n",
    "callbacks3=ModelCheckpoint('m508_Weights.{epoch:02d}-{val_acc:.2f}.hdf5',monitor='val_acc', verbose=0, save_best_only=True, save_weights_only=False, mode='auto')   \n",
    "\n",
    "adam=Adam(**lr=0.000005**, beta_1=0.9, beta_2=0.999, epsilon=1e-08, decay=1e-04)   \n",
    "\n",
    "model5=Sequential()    \n",
    "model5.add(Convolution3D(10, 3, 3, 3, input_shape=(16, 16, 16,1), border_mode='valid', init='he_normal',**W_regularizer=l2(.05)**))    \n",
    "model5.add(BatchNormalization())    \n",
    "model5.add(Activation('relu'))    \n",
    "model5.add(Flatten())    \n",
    "model5.add(Dropout(0.2))    \n",
    "model5.add(Dense(20, init='glorot_normal', activation='tanh'**, W_regularizer=l2(.05)**))    \n",
    "\n",
    "merged = Merge([model1, model2, model3, model4, model5], mode='concat')    \n",
    "final_model = Sequential()    \n",
    "final_model.add(merged)    \n",
    "final_model.add(Dense(**40**, init='glorot_normal', activation='tanh',**W_regularizer=l2(.05)**))    \n",
    "final_model.add(Dense(1, init='glorot_normal', activation='tanh'))    \n",
    "final_model.compile(loss='binary_crossentropy', optimizer=adam, metrics=['accuracy'])    \n",
    "\n",
    "history=final_model.fit([X1, X2, X3, X4, X5], y, validation_split=0.2, nb_epoch=80, **batch_size=8**,verbose=0, callbacks=[callbacks1,callbacks3]) \n"
   ]
  },
  {
   "cell_type": "markdown",
   "metadata": {
    "collapsed": true
   },
   "source": [
    "### Model628      \n",
    "\n",
    "callbacks1=EarlyStopping(monitor='loss', mode='auto', patience=30,verbose=0)   \n",
    "callbacks3=ModelCheckpoint('m508_Weights.{epoch:02d}-{val_acc:.2f}.hdf5',monitor='val_acc', verbose=0, save_best_only=True, save_weights_only=False, mode='auto')   \n",
    "\n",
    "adam=Adam(**lr=0.0000001**, beta_1=0.9, beta_2=0.999, epsilon=1e-08, decay=1e-04)   \n",
    "\n",
    "model5=Sequential()    \n",
    "model5.add(Convolution3D(10, 3, 3, 3, input_shape=(16, 16, 16,1), border_mode='valid', init='he_normal',**W_regularizer=l2(.05)**))    \n",
    "model5.add(BatchNormalization())    \n",
    "model5.add(Activation('relu'))    \n",
    "model5.add(Flatten())    \n",
    "model5.add(Dropout(0.2))    \n",
    "model5.add(Dense(20, init='glorot_normal', activation='tanh'**, W_regularizer=l2(.05)**))    \n",
    "\n",
    "merged = Merge([model1, model2, model3, model4, model5], mode='concat')    \n",
    "final_model = Sequential()    \n",
    "final_model.add(merged)    \n",
    "final_model.add(Dense(**40**, init='glorot_normal', activation='tanh',**W_regularizer=l2(.05)**))    \n",
    "final_model.add(Dense(1, init='glorot_normal', activation='tanh'))    \n",
    "final_model.compile(loss='binary_crossentropy', optimizer=adam, metrics=['accuracy'])    \n",
    "\n",
    "history=final_model.fit([X1, X2, X3, X4, X5], y, validation_split=0.2, nb_epoch=80, **batch_size=8**,verbose=0, callbacks=[callbacks1,callbacks3]) \n"
   ]
  },
  {
   "cell_type": "markdown",
   "metadata": {
    "collapsed": true
   },
   "source": [
    "### Model629      \n",
    "\n",
    "callbacks1=EarlyStopping(monitor='loss', mode='auto', patience=30,verbose=0)   \n",
    "callbacks3=ModelCheckpoint('m508_Weights.{epoch:02d}-{val_acc:.2f}.hdf5',monitor='val_acc', verbose=0, save_best_only=True, save_weights_only=False, mode='auto')   \n",
    "\n",
    "adam=Adam(**lr=0.000001**, beta_1=0.9, beta_2=0.999, epsilon=1e-08, decay=1e-04)   \n",
    "\n",
    "model5=Sequential()    \n",
    "model5.add(Convolution3D(10, 3, 3, 3, input_shape=(16, 16, 16,1), border_mode='valid', init='he_normal',**W_regularizer=l2(.05)**))    \n",
    "model5.add(BatchNormalization())    \n",
    "model5.add(Activation('relu'))    \n",
    "model5.add(Flatten())    \n",
    "model5.add(Dropout(0.2))    \n",
    "model5.add(Dense(20, init='glorot_normal', activation='tanh'**, W_regularizer=l2(.05)**))    \n",
    "\n",
    "merged = Merge([model1, model2, model3, model4, model5], mode='concat')    \n",
    "final_model = Sequential()    \n",
    "final_model.add(merged)    \n",
    "final_model.add(Dense(**10**, init='glorot_normal', activation='tanh',**W_regularizer=l2(.05)**))    \n",
    "final_model.add(Dense(1, init='glorot_normal', activation='tanh'))    \n",
    "final_model.compile(loss='binary_crossentropy', optimizer=adam, metrics=['accuracy'])    \n",
    "\n",
    "history=final_model.fit([X1, X2, X3, X4, X5], y, validation_split=0.2, nb_epoch=80, **batch_size=8**,verbose=0, callbacks=[callbacks1,callbacks3]) \n"
   ]
  },
  {
   "cell_type": "markdown",
   "metadata": {
    "collapsed": true
   },
   "source": [
    "### Model630      \n",
    "\n",
    "callbacks1=EarlyStopping(monitor='loss', mode='auto', patience=30,verbose=0)   \n",
    "callbacks3=ModelCheckpoint('m508_Weights.{epoch:02d}-{val_acc:.2f}.hdf5',monitor='val_acc', verbose=0, save_best_only=True, save_weights_only=False, mode='auto')   \n",
    "\n",
    "adam=Adam(**lr=0.0000005**, beta_1=0.9, beta_2=0.999, epsilon=1e-08, decay=1e-04)   \n",
    "\n",
    "model5=Sequential()    \n",
    "model5.add(Convolution3D(10, 3, 3, 3, input_shape=(16, 16, 16,1), border_mode='valid', init='he_normal',**W_regularizer=l2(.05)**))    \n",
    "model5.add(BatchNormalization())    \n",
    "model5.add(Activation('relu'))    \n",
    "model5.add(Flatten())    \n",
    "model5.add(Dropout(0.2))    \n",
    "model5.add(Dense(20, init='glorot_normal', activation='tanh'**, W_regularizer=l2(.05)**))    \n",
    "\n",
    "merged = Merge([model1, model2, model3, model4, model5], mode='concat')    \n",
    "final_model = Sequential()    \n",
    "final_model.add(merged)    \n",
    "final_model.add(Dense(**10**, init='glorot_normal', activation='tanh',**W_regularizer=l2(.05)**))    \n",
    "final_model.add(Dense(1, init='glorot_normal', activation='tanh'))    \n",
    "final_model.compile(loss='binary_crossentropy', optimizer=adam, metrics=['accuracy'])    \n",
    "\n",
    "history=final_model.fit([X1, X2, X3, X4, X5], y, validation_split=0.2, nb_epoch=80, **batch_size=8**,verbose=0, callbacks=[callbacks1,callbacks3]) \n"
   ]
  },
  {
   "cell_type": "markdown",
   "metadata": {
    "collapsed": true
   },
   "source": [
    "### Model631      \n",
    "\n",
    "callbacks1=EarlyStopping(monitor='loss', mode='auto', patience=30,verbose=0)   \n",
    "callbacks3=ModelCheckpoint('m508_Weights.{epoch:02d}-{val_acc:.2f}.hdf5',monitor='val_acc', verbose=0, save_best_only=True, save_weights_only=False, mode='auto')   \n",
    "\n",
    "adam=Adam(**lr=0.000001**, beta_1=0.9, beta_2=0.999, epsilon=1e-08, decay=1e-04)   \n",
    "\n",
    "model5=Sequential()    \n",
    "model5.add(Convolution3D(10, 3, 3, 3, input_shape=(16, 16, 16,1), border_mode='valid', init='he_normal',**W_regularizer=l2(.05)**))    \n",
    "model5.add(BatchNormalization())    \n",
    "model5.add(Activation('relu'))    \n",
    "model5.add(Flatten())    \n",
    "model5.add(Dropout(0.2))    \n",
    "model5.add(Dense(20, init='glorot_normal', activation='tanh'**, W_regularizer=l2(.05)**))    \n",
    "\n",
    "merged = Merge([model1, model2, model3, model4, model5], mode='concat')    \n",
    "final_model = Sequential()    \n",
    "final_model.add(merged)    \n",
    "final_model.add(Dense(**40**, init='glorot_normal', activation='tanh',**W_regularizer=l2(.05)**))    \n",
    "final_model.add(Dense(1, init='glorot_normal', activation='tanh'))    \n",
    "final_model.compile(loss='binary_crossentropy', optimizer=adam, metrics=['accuracy'])    \n",
    "\n",
    "history=final_model.fit([X1, X2, X3, X4, X5], y, validation_split=0.2, nb_epoch=80, **batch_size=8**,verbose=0, callbacks=[callbacks1,callbacks3]) \n"
   ]
  },
  {
   "cell_type": "markdown",
   "metadata": {
    "collapsed": true
   },
   "source": [
    "### Model632      \n",
    "\n",
    "callbacks1=EarlyStopping(monitor='loss', mode='auto', patience=30,verbose=0)   \n",
    "callbacks3=ModelCheckpoint('m508_Weights.{epoch:02d}-{val_acc:.2f}.hdf5',monitor='val_acc', verbose=0, save_best_only=True, save_weights_only=False, mode='auto')   \n",
    "\n",
    "adam=Adam(**lr=0.000001**, beta_1=0.9, beta_2=0.999, epsilon=1e-08, decay=1e-04)   \n",
    "\n",
    "model5=Sequential()    \n",
    "model5.add(Convolution3D(10, 3, 3, 3, input_shape=(16, 16, 16,1), border_mode='valid', init='he_normal',**W_regularizer=l2(.05)**))    \n",
    "model5.add(BatchNormalization())    \n",
    "model5.add(Activation('relu'))    \n",
    "model5.add(Flatten())    \n",
    "model5.add(Dropout(0.2))    \n",
    "model5.add(Dense(20, init='glorot_normal', activation='tanh'**, W_regularizer=l2(.05)**))    \n",
    "\n",
    "merged = Merge([model1, model2, model3, model4, model5], mode='concat')    \n",
    "final_model = Sequential()    \n",
    "final_model.add(merged)    \n",
    "final_model.add(Dense(**20**, init='glorot_normal', activation='tanh',**W_regularizer=l2(.05)**))    \n",
    "**final_model.add(Dense(20, init='glorot_normal', activation='tanh',W_regularizer=l2(.05)))    **\n",
    "final_model.add(Dense(1, init='glorot_normal', activation='tanh'))    \n",
    "final_model.compile(loss='binary_crossentropy', optimizer=adam, metrics=['accuracy'])    \n",
    "\n",
    "history=final_model.fit([X1, X2, X3, X4, X5], y, validation_split=0.2, nb_epoch=80, **batch_size=8**,verbose=0, callbacks=[callbacks1,callbacks3]) \n"
   ]
  },
  {
   "cell_type": "markdown",
   "metadata": {},
   "source": [
    "### Model633      \n",
    "\n",
    "callbacks1=EarlyStopping(monitor='loss', mode='auto', patience=30,verbose=0)   \n",
    "callbacks3=ModelCheckpoint('m508_Weights.{epoch:02d}-{val_acc:.2f}.hdf5',monitor='val_acc', verbose=0, save_best_only=True, save_weights_only=False, mode='auto')   \n",
    "\n",
    "adam=Adam(**lr=0.000001**, beta_1=0.9, beta_2=0.999, epsilon=1e-08, decay=1e-04)   \n",
    "\n",
    "model5=Sequential()    \n",
    "model5.add(Convolution3D(10, 3, 3, 3, input_shape=(16, 16, 16,1), border_mode='valid', init='he_normal',**W_regularizer=l2(.05)**))    \n",
    "model5.add(BatchNormalization())    \n",
    "model5.add(Activation('relu'))    \n",
    "model5.add(Flatten())    \n",
    "model5.add(Dropout(0.2))    \n",
    "model5.add(Dense(20, init='glorot_normal', activation='tanh'**, W_regularizer=l2(.05)**))    \n",
    "\n",
    "merged = Merge([model1, model2, model3, model4, model5], mode='concat')    \n",
    "final_model = Sequential()    \n",
    "final_model.add(merged)    \n",
    "final_model.add(Dense(**10**, init='glorot_normal', activation='tanh',**W_regularizer=l2(.05)**))    \n",
    "**final_model.add(Dense(10, init='glorot_normal', activation='tanh',W_regularizer=l2(.05)))**    \n",
    "final_model.add(Dense(1, init='glorot_normal', activation='tanh'))    \n",
    "final_model.compile(loss='binary_crossentropy', optimizer=adam, metrics=['accuracy'])    \n",
    "\n",
    "history=final_model.fit([X1, X2, X3, X4, X5], y, validation_split=0.2, nb_epoch=80, **batch_size=8**,verbose=0, callbacks=[callbacks1,callbacks3]) \n"
   ]
  },
  {
   "cell_type": "markdown",
   "metadata": {},
   "source": [
    "### Model634      \n",
    "\n",
    "callbacks1=EarlyStopping(monitor='loss', mode='auto', patience=30,verbose=0)   \n",
    "callbacks3=ModelCheckpoint('m508_Weights.{epoch:02d}-{val_acc:.2f}.hdf5',monitor='val_acc', verbose=0, save_best_only=True, save_weights_only=False, mode='auto')   \n",
    "\n",
    "adam=Adam(**lr=0.000001**, beta_1=0.9, beta_2=0.999, epsilon=1e-08, decay=1e-04)   \n",
    "\n",
    "model5=Sequential()    \n",
    "model5.add(Convolution3D(10, 3, 3, 3, input_shape=(16, 16, 16,1), border_mode='valid', init='he_normal',**W_regularizer=l2(.05)**))    \n",
    "model5.add(BatchNormalization())    \n",
    "model5.add(Activation('relu'))    \n",
    "model5.add(Flatten())    \n",
    "model5.add(Dropout(0.2))    \n",
    "model5.add(Dense(20, init='glorot_normal', activation='tanh'**, W_regularizer=l2(.05)**))    \n",
    "\n",
    "merged = Merge([model1, model2, model3, model4, model5], mode='concat')    \n",
    "final_model = Sequential()    \n",
    "final_model.add(merged)    \n",
    "final_model.add(Dense(**10**, init='glorot_normal', activation='tanh',**W_regularizer=l2(.05)**))    \n",
    "**final_model.add(Dense(10, init='glorot_normal', activation='tanh',W_regularizer=l2(.05)))**    \n",
    "final_model.add(Dense(1, init='glorot_normal', activation='tanh'))    \n",
    "final_model.compile(loss='binary_crossentropy', optimizer=adam, metrics=['accuracy'])    \n",
    "\n",
    "history=final_model.fit([X1, X2, X3, X4, X5, X6, **X7, X8, X9**], y, validation_split=0.2, nb_epoch=80, **batch_size=8**,verbose=0, callbacks=[callbacks1,callbacks3]) \n"
   ]
  },
  {
   "cell_type": "markdown",
   "metadata": {},
   "source": [
    "### Model635      \n",
    "\n",
    "callbacks1=EarlyStopping(monitor='loss', mode='auto', patience=30,verbose=0)   \n",
    "callbacks3=ModelCheckpoint('m508_Weights.{epoch:02d}-{val_acc:.2f}.hdf5',monitor='val_acc', verbose=0, save_best_only=True, save_weights_only=False, mode='auto')   \n",
    "\n",
    "adam=Adam(**lr=0.000001**, beta_1=0.9, beta_2=0.999, epsilon=1e-08, decay=1e-04)   \n",
    "\n",
    "model5=Sequential()    \n",
    "model5.add(Convolution3D(10, 3, 3, 3, input_shape=(16, 16, 16,1), border_mode='valid', init='he_normal',**W_regularizer=l2(.05)**))    \n",
    "model5.add(BatchNormalization())    \n",
    "model5.add(Activation('relu'))    \n",
    "**model5.add(Convolution3D(10, 3, 3, 3, border_mode='valid', init='he_normal',**W_regularizer=l2(.05)**))    \n",
    "model5.add(BatchNormalization())    \n",
    "model5.add(Activation('relu'))**    \n",
    "\n",
    "model5.add(Flatten())    \n",
    "model5.add(Dropout(0.2))    \n",
    "model5.add(Dense(20, init='glorot_normal', activation='tanh'**, W_regularizer=l2(.05)**))    \n",
    "\n",
    "merged = Merge([model1, model2, model3, model4, model5], mode='concat')    \n",
    "final_model = Sequential()    \n",
    "final_model.add(merged)    \n",
    "final_model.add(Dense(**10**, init='glorot_normal', activation='tanh',**W_regularizer=l2(.05)**))    \n",
    "**final_model.add(Dense(10, init='glorot_normal', activation='tanh',W_regularizer=l2(.05)))**    \n",
    "final_model.add(Dense(1, init='glorot_normal', activation='tanh'))    \n",
    "final_model.compile(loss='binary_crossentropy', optimizer=adam, metrics=['accuracy'])    \n",
    "\n",
    "history=final_model.fit([X1, X2, X3, X4, X5], y, validation_split=0.2, nb_epoch=80, **batch_size=8**,verbose=0, callbacks=[callbacks1,callbacks3]) \n"
   ]
  },
  {
   "cell_type": "markdown",
   "metadata": {},
   "source": [
    "### Model636      \n",
    "\n",
    "callbacks1=EarlyStopping(monitor='loss', mode='auto', patience=30,verbose=0)   \n",
    "callbacks3=ModelCheckpoint('m508_Weights.{epoch:02d}-{val_acc:.2f}.hdf5',monitor='val_acc', verbose=0, save_best_only=True, save_weights_only=False, mode='auto')   \n",
    "\n",
    "adam=Adam(**lr=0.0000005**, beta_1=0.9, beta_2=0.999, epsilon=1e-08, decay=1e-04)   \n",
    "\n",
    "model5=Sequential()    \n",
    "model5.add(Convolution3D(10, 3, 3, 3, input_shape=(16, 16, 16,1), border_mode='valid', init='he_normal',**W_regularizer=l2(.05)**))    \n",
    "model5.add(BatchNormalization())    \n",
    "model5.add(Activation('relu'))    \n",
    "**model5.add(Convolution3D(10, 3, 3, 3, border_mode='valid', init='he_normal',**W_regularizer=l2(.05)**))    \n",
    "model5.add(BatchNormalization())    \n",
    "model5.add(Activation('relu'))**    \n",
    "\n",
    "model5.add(Flatten())    \n",
    "model5.add(Dropout(0.2))    \n",
    "model5.add(Dense(20, init='glorot_normal', activation='tanh'**, W_regularizer=l2(.05)**))    \n",
    "\n",
    "merged = Merge([model1, model2, model3, model4, model5], mode='concat')    \n",
    "final_model = Sequential()    \n",
    "final_model.add(merged)    \n",
    "final_model.add(Dense(**10**, init='glorot_normal', activation='tanh',**W_regularizer=l2(.05)**))    \n",
    "**final_model.add(Dense(10, init='glorot_normal', activation='tanh',W_regularizer=l2(.05)))**    \n",
    "final_model.add(Dense(1, init='glorot_normal', activation='tanh'))    \n",
    "final_model.compile(loss='binary_crossentropy', optimizer=adam, metrics=['accuracy'])    \n",
    "\n",
    "history=final_model.fit([X1, X2, X3, X4, X5], y, validation_split=0.2, nb_epoch=80, **batch_size=8**,verbose=0, callbacks=[callbacks1,callbacks3]) \n"
   ]
  },
  {
   "cell_type": "markdown",
   "metadata": {},
   "source": [
    "### Model637      \n",
    "\n",
    "callbacks1=EarlyStopping(monitor='loss', mode='auto', patience=30,verbose=0)   \n",
    "callbacks3=ModelCheckpoint('m508_Weights.{epoch:02d}-{val_acc:.2f}.hdf5',monitor='val_acc', verbose=0, save_best_only=True, save_weights_only=False, mode='auto')   \n",
    "\n",
    "adam=Adam(**lr=0.0000001**, beta_1=0.9, beta_2=0.999, epsilon=1e-08, decay=1e-04)   \n",
    "\n",
    "model5=Sequential()    \n",
    "model5.add(Convolution3D(10, 3, 3, 3, input_shape=(16, 16, 16,1), border_mode='valid', init='he_normal',**W_regularizer=l2(.05)**))    \n",
    "model5.add(BatchNormalization())    \n",
    "model5.add(Activation('relu'))    \n",
    "**model5.add(Convolution3D(10, 3, 3, 3, border_mode='valid', init='he_normal',**W_regularizer=l2(.05)**))    \n",
    "model5.add(BatchNormalization())    \n",
    "model5.add(Activation('relu'))**    \n",
    "\n",
    "model5.add(Flatten())    \n",
    "model5.add(Dropout(0.2))    \n",
    "model5.add(Dense(20, init='glorot_normal', activation='tanh'**, W_regularizer=l2(.05)**))    \n",
    "\n",
    "merged = Merge([model1, model2, model3, model4, model5], mode='concat')    \n",
    "final_model = Sequential()    \n",
    "final_model.add(merged)    \n",
    "final_model.add(Dense(**10**, init='glorot_normal', activation='tanh',**W_regularizer=l2(.05)**))    \n",
    "**final_model.add(Dense(10, init='glorot_normal', activation='tanh',W_regularizer=l2(.05)))**    \n",
    "final_model.add(Dense(1, init='glorot_normal', activation='tanh'))    \n",
    "final_model.compile(loss='binary_crossentropy', optimizer=adam, metrics=['accuracy'])    \n",
    "\n",
    "history=final_model.fit([X1, X2, X3, X4, X5], y, validation_split=0.2, nb_epoch=80, **batch_size=8**,verbose=0, callbacks=[callbacks1,callbacks3]) \n"
   ]
  },
  {
   "cell_type": "markdown",
   "metadata": {
    "collapsed": true
   },
   "source": [
    "### Model638      \n",
    "\n",
    "callbacks1=EarlyStopping(monitor='loss', mode='auto', patience=30,verbose=0)   \n",
    "callbacks3=ModelCheckpoint('m508_Weights.{epoch:02d}-{val_acc:.2f}.hdf5',monitor='val_acc', verbose=0, save_best_only=True, save_weights_only=False, mode='auto')   \n",
    "\n",
    "adam=Adam(**lr=0.000005**, beta_1=0.9, beta_2=0.999, epsilon=1e-08, decay=1e-04)   \n",
    "\n",
    "model5=Sequential()    \n",
    "model5.add(Convolution3D(10, 3, 3, 3, input_shape=(16, 16, 16,1), border_mode='valid', init='he_normal',**W_regularizer=l2(.05)**))    \n",
    "model5.add(BatchNormalization())    \n",
    "model5.add(Activation('relu'))    \n",
    "model5.add(Flatten())    \n",
    "model5.add(Dropout(0.2))    \n",
    "model5.add(Dense(20, init='glorot_normal', activation='tanh'**, W_regularizer=l2(.05)**))    \n",
    "\n",
    "merged = Merge([model1, model2, model3, model4, model5], mode='concat')    \n",
    "final_model = Sequential()    \n",
    "final_model.add(merged)    \n",
    "final_model.add(Dense(**10**, init='glorot_normal', activation=**'relu'**,W_regularizer=l2(.05)))    \n",
    "final_model.add(Dense(1, init='glorot_normal', activation=**'relu'**))    \n",
    "final_model.compile(loss='binary_crossentropy', optimizer=adam, metrics=['accuracy'])    \n",
    "\n",
    "history=final_model.fit([X1, X2, X3, X4, X5], y, validation_split=0.2, nb_epoch=80, **batch_size=8**,verbose=0, callbacks=[callbacks1,callbacks3]) \n"
   ]
  },
  {
   "cell_type": "code",
   "execution_count": null,
   "metadata": {
    "collapsed": true
   },
   "outputs": [],
   "source": [
    "class Callback(object):\n",
    "    '''Abstract base class used to build new callbacks.\n",
    "    # Properties\n",
    "        params: dict. Training parameters\n",
    "            (eg. verbosity, batch size, number of epochs...).\n",
    "        model: instance of `keras.models.Model`.\n",
    "            Reference of the model being trained.\n",
    "    The `logs` dictionary that callback methods\n",
    "    take as argument will contain keys for quantities relevant to\n",
    "    the current batch or epoch.\n",
    "    Currently, the `.fit()` method of the `Sequential` model class\n",
    "    will include the following quantities in the `logs` that\n",
    "    it passes to its callbacks:\n",
    "        on_epoch_end: logs include `acc` and `loss`, and\n",
    "            optionally include `val_loss`\n",
    "            (if validation is enabled in `fit`), and `val_acc`\n",
    "            (if validation and accuracy monitoring are enabled).\n",
    "        on_batch_begin: logs include `size`,\n",
    "            the number of samples in the current batch.\n",
    "        on_batch_end: logs include `loss`, and optionally `acc`\n",
    "            (if accuracy monitoring is enabled).\n",
    "    '''\n",
    "    def __init__(self):\n",
    "        pass\n",
    "\n",
    "    def _set_params(self, params):\n",
    "        self.params = params\n",
    "\n",
    "    def _set_model(self, model):\n",
    "        self.model = model\n",
    "\n",
    "    def on_epoch_begin(self, epoch, logs={}):\n",
    "        pass\n",
    "\n",
    "    def on_epoch_end(self, epoch, logs={}):\n",
    "        pass\n",
    "\n",
    "    def on_batch_begin(self, batch, logs={}):\n",
    "        pass\n",
    "\n",
    "    def on_batch_end(self, batch, logs={}):\n",
    "        pass\n",
    "\n",
    "    def on_train_begin(self, logs={}):\n",
    "        pass\n",
    "\n",
    "    def on_train_end(self, logs={}):\n",
    "        pass"
   ]
  },
  {
   "cell_type": "code",
   "execution_count": null,
   "metadata": {
    "collapsed": false
   },
   "outputs": [],
   "source": [
    "class ReduceLROnPlateau(Callback):\n",
    "    '''Reduce learning rate when a metric has stopped improving.\n",
    "    Models often benefit from reducing the learning rate by a factor\n",
    "    of 2-10 once learning stagnates. This callback monitors a\n",
    "    quantity and if no improvement is seen for a 'patience' number\n",
    "    of epochs, the learning rate is reduced.\n",
    "    # Example\n",
    "        ```python\n",
    "            reduce_lr = ReduceLROnPlateau(monitor='val_loss', factor=0.2,\n",
    "                                          patience=5, min_lr=0.001)\n",
    "            model.fit(X_train, Y_train, callbacks=[reduce_lr])\n",
    "        ```\n",
    "    # Arguments\n",
    "        monitor: quantity to be monitored.\n",
    "        factor: factor by which the learning rate will\n",
    "            be reduced. new_lr = lr * factor\n",
    "        patience: number of epochs with no improvement\n",
    "            after which learning rate will be reduced.\n",
    "        verbose: int. 0: quiet, 1: update messages.\n",
    "        mode: one of {auto, min, max}. In `min` mode,\n",
    "            lr will be reduced when the quantity\n",
    "            monitored has stopped decreasing; in `max`\n",
    "            mode it will be reduced when the quantity\n",
    "            monitored has stopped increasing; in `auto`\n",
    "            mode, the direction is automatically inferred\n",
    "            from the name of the monitored quantity.\n",
    "        epsilon: threshold for measuring the new optimum,\n",
    "            to only focus on significant changes.\n",
    "        cooldown: number of epochs to wait before resuming\n",
    "            normal operation after lr has been reduced.\n",
    "        min_lr: lower bound on the learning rate.\n",
    "    '''\n",
    "\n",
    "    def __init__(self, monitor='val_loss', factor=0.1, patience=10,\n",
    "                 verbose=0, mode='auto', epsilon=1e-4, cooldown=0, min_lr=0):\n",
    "        super(Callback, self).__init__()\n",
    "\n",
    "        self.monitor = monitor\n",
    "        if factor >= 1.0:\n",
    "            raise ValueError('ReduceLROnPlateau does not support a factor >= 1.0.')\n",
    "        self.factor = factor\n",
    "        self.min_lr = min_lr\n",
    "        self.epsilon = epsilon\n",
    "        self.patience = patience\n",
    "        self.verbose = verbose\n",
    "        self.cooldown = cooldown\n",
    "        self.cooldown_counter = 0  # Cooldown counter.\n",
    "        self.wait = 0\n",
    "        self.best = 0\n",
    "        self.mode = mode\n",
    "        self.monitor_op = None\n",
    "        self.reset()\n",
    "\n",
    "    def reset(self):\n",
    "        if self.mode not in ['auto', 'min', 'max']:\n",
    "            warnings.warn('Learning Rate Plateau Reducing mode %s is unknown, '\n",
    "                          'fallback to auto mode.' % (self.mode), RuntimeWarning)\n",
    "            self.mode = 'auto'\n",
    "        if self.mode == 'min' or (self.mode == 'auto' and 'acc' not in self.monitor):\n",
    "            self.monitor_op = lambda a, b: np.less(a, b - self.epsilon)\n",
    "            self.best = np.Inf\n",
    "        else:\n",
    "            self.monitor_op = lambda a, b: np.greater(a, b + self.epsilon)\n",
    "            self.best = -np.Inf\n",
    "        self.cooldown_counter = 0\n",
    "        self.wait = 0\n",
    "        self.lr_epsilon = self.min_lr * 1e-4\n",
    "\n",
    "    def on_train_begin(self, logs={}):\n",
    "        self.reset()\n",
    "\n",
    "    def on_epoch_end(self, epoch, logs={}):\n",
    "        logs['lr'] = K.get_value(self.model.optimizer.lr)\n",
    "        current = logs.get(self.monitor)\n",
    "        if current is None:\n",
    "            warnings.warn('Learning Rate Plateau Reducing requires %s available!' %\n",
    "                          self.monitor, RuntimeWarning)\n",
    "        else:\n",
    "            if self.in_cooldown():\n",
    "                self.cooldown_counter -= 1\n",
    "                self.wait = 0\n",
    "\n",
    "            if self.monitor_op(current, self.best):\n",
    "                self.best = current\n",
    "                self.wait = 0\n",
    "            elif not self.in_cooldown():\n",
    "                if self.wait >= self.patience:\n",
    "                    old_lr = float(K.get_value(self.model.optimizer.lr))\n",
    "                    if old_lr > self.min_lr + self.lr_epsilon:\n",
    "                        new_lr = old_lr * self.factor\n",
    "                        new_lr = max(new_lr, self.min_lr)\n",
    "                        K.set_value(self.model.optimizer.lr, new_lr)\n",
    "                        if self.verbose > 0:\n",
    "                            print('\\nEpoch %05d: reducing learning rate to %s.' % (epoch, new_lr))\n",
    "                        self.cooldown_counter = self.cooldown\n",
    "                        self.wait = 0\n",
    "                self.wait += 1\n",
    "\n",
    "    def in_cooldown(self):\n",
    "        return self.cooldown_counter > 0"
   ]
  },
  {
   "cell_type": "code",
   "execution_count": null,
   "metadata": {
    "collapsed": true
   },
   "outputs": [],
   "source": [
    "# To load a model\n",
    "\n",
    "from keras.models import load_model\n",
    "from sklearn.metrics import confusion_matrix\n",
    "from sklearn.metrics import  accuracy_score\n",
    "\n",
    "model=load_model('m504a.h5')\n",
    "\n",
    "y_predC=model.predict_classes([X1test, X2test, X3test, X4test, X5test])\n",
    "y_predC=np.squeeze(y_predC)\n",
    "\n",
    "namesTest=pd.read_csv('scansTestFold1/scansNamesTestFold1.csv')\n",
    "namesTestDF=pd.DataFrame(namesTest)\n",
    "y_true=namesTestDF.label.values.astype(int)\n",
    "\n",
    "print accuracy_score(y_true,y_predC)\n",
    "confusion_matrix(y_true,y_predC)"
   ]
  }
 ],
 "metadata": {
  "kernelspec": {
   "display_name": "Python 2",
   "language": "python",
   "name": "python2"
  },
  "language_info": {
   "codemirror_mode": {
    "name": "ipython",
    "version": 2
   },
   "file_extension": ".py",
   "mimetype": "text/x-python",
   "name": "python",
   "nbconvert_exporter": "python",
   "pygments_lexer": "ipython2",
   "version": "2.7.12"
  }
 },
 "nbformat": 4,
 "nbformat_minor": 0
}
