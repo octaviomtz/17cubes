{
 "cells": [
  {
   "cell_type": "code",
   "execution_count": 1,
   "metadata": {
    "collapsed": true
   },
   "outputs": [],
   "source": [
    "import scipy.io\n",
    "import numpy as np, h5py\n",
    "import matplotlib.pyplot as plt\n",
    "import copy\n",
    "import pandas as pd\n",
    "import pickle\n",
    "import random\n",
    "%matplotlib inline"
   ]
  },
  {
   "cell_type": "code",
   "execution_count": 2,
   "metadata": {
    "collapsed": true
   },
   "outputs": [],
   "source": [
    "from pylab import rcParams\n",
    "rcParams['figure.figsize'] = 10, 5\n",
    "rcParams['figure.dpi']=150\n",
    "rcParams['lines.linewidth']=1\n",
    "rcParams['axes.grid']=True\n",
    "rcParams['axes.facecolor']='#FFFFFF'\n",
    "rcParams['font.size']=14\n",
    "rcParams['patch.edgecolor']='none'"
   ]
  },
  {
   "cell_type": "code",
   "execution_count": 3,
   "metadata": {
    "collapsed": true
   },
   "outputs": [],
   "source": [
    "# fix random seed for reproducibility\n",
    "seed = 7\n",
    "np.random.seed(seed)"
   ]
  },
  {
   "cell_type": "code",
   "execution_count": 4,
   "metadata": {
    "collapsed": true
   },
   "outputs": [],
   "source": [
    "def readScan(scan):\n",
    "    # We read the file saved in Matlab. There is only one variable in the file called scansMini\n",
    "    data = h5py.File(scan, 'r')\n",
    "    Xscans=data.get('scansMini')\n",
    "    # We have to get the values into the right format (subjects, dim1, dim2, dim3, channels)\n",
    "    X=copy.copy(Xscans.value)\n",
    "    X=np.expand_dims(X,4)\n",
    "    X1=np.rollaxis(X,3)\n",
    "    return X1"
   ]
  },
  {
   "cell_type": "code",
   "execution_count": 5,
   "metadata": {
    "collapsed": true
   },
   "outputs": [],
   "source": [
    "def readLabels(labels):\n",
    "    data = h5py.File(labels, 'r')\n",
    "    Xscans=data.get('labels')\n",
    "    X=copy.copy(Xscans.value)\n",
    "    X2=np.squeeze(X).astype(int)\n",
    "    return X2"
   ]
  },
  {
   "cell_type": "code",
   "execution_count": 6,
   "metadata": {
    "collapsed": false
   },
   "outputs": [],
   "source": [
    "y=readLabels('fold1/train/labelsTrain.mat')\n",
    "X1=readScan('fold1/train/scansMiniTrain1.mat')\n",
    "X2=readScan('fold1/train/scansMiniTrain2.mat')\n",
    "X3=readScan('fold1/train/scansMiniTrain3.mat')\n",
    "X4=readScan('fold1/train/scansMiniTrain4.mat')\n",
    "X5=readScan('fold1/train/scansMiniTrain5.mat')\n",
    "X6=readScan('fold1/train/scansMiniTrain6.mat')\n",
    "X7=readScan('fold1/train/scansMiniTrain7.mat')\n",
    "X8=readScan('fold1/train/scansMiniTrain8.mat')\n",
    "X9=readScan('fold1/train/scansMiniTrain9.mat')\n",
    "X10=readScan('fold1/train/scansMiniTrain10.mat')\n",
    "X11=readScan('fold1/train/scansMiniTrain11.mat')\n",
    "X12=readScan('fold1/train/scansMiniTrain12.mat')\n",
    "X13=readScan('fold1/train/scansMiniTrain13.mat')\n",
    "X14=readScan('fold1/train/scansMiniTrain14.mat')\n",
    "X15=readScan('fold1/train/scansMiniTrain15.mat')\n",
    "X16=readScan('fold1/train/scansMiniTrain16.mat')\n",
    "X17=readScan('fold1/train/scansMiniTrain17.mat')"
   ]
  },
  {
   "cell_type": "code",
   "execution_count": 7,
   "metadata": {
    "collapsed": false
   },
   "outputs": [
    {
     "data": {
      "text/plain": [
       "<matplotlib.collections.PolyCollection at 0x7f47edda8790>"
      ]
     },
     "execution_count": 7,
     "metadata": {},
     "output_type": "execute_result"
    },
    {
     "data": {
      "image/png": "[encoded data removed]",
      "text/plain": [
       "<matplotlib.figure.Figure at 0x7f47edeeb7d0>"
      ]
     },
     "metadata": {},
     "output_type": "display_data"
    }
   ],
   "source": [
    "f, (ax1, ax2) = plt.subplots(1, 2, sharey=True)\n",
    "ax1.pcolor((X1[10,:,:,0,0]))\n",
    "ax1.set_title('Sharing Y axis')\n",
    "ax2.pcolor((X2[10,:,:,0,0]))"
   ]
  },
  {
   "cell_type": "code",
   "execution_count": 8,
   "metadata": {
    "collapsed": false
   },
   "outputs": [
    {
     "data": {
      "text/plain": [
       "(248, 10, 10, 10, 1)"
      ]
     },
     "execution_count": 8,
     "metadata": {},
     "output_type": "execute_result"
    }
   ],
   "source": [
    "X1.shape"
   ]
  },
  {
   "cell_type": "markdown",
   "metadata": {},
   "source": [
    "---"
   ]
  },
  {
   "cell_type": "markdown",
   "metadata": {},
   "source": [
    "## Keras libraries"
   ]
  },
  {
   "cell_type": "code",
   "execution_count": 9,
   "metadata": {
    "collapsed": false
   },
   "outputs": [
    {
     "name": "stderr",
     "output_type": "stream",
     "text": [
      "Using TensorFlow backend.\n"
     ]
    }
   ],
   "source": [
    "from keras.models import Sequential\n",
    "from keras.layers import Dense\n",
    "from keras.layers import Merge\n",
    "from keras.layers.convolutional import Convolution3D\n",
    "from keras.layers.pooling import MaxPooling3D\n",
    "from keras.layers.core import Dense, Flatten\n",
    "from keras.layers import Dropout\n",
    "from keras.optimizers import Adam\n",
    "from keras.optimizers import SGD\n",
    "from keras.wrappers.scikit_learn import KerasClassifier\n",
    "from keras.callbacks import EarlyStopping\n",
    "import time"
   ]
  },
  {
   "cell_type": "code",
   "execution_count": 10,
   "metadata": {
    "collapsed": false
   },
   "outputs": [],
   "source": [
    "import keras.backend as K\n",
    "from keras.callbacks import ModelCheckpoint\n",
    "from keras.callbacks import LearningRateScheduler\n",
    "from keras.layers import Activation\n",
    "from keras.layers.normalization import BatchNormalization\n",
    "from keras.regularizers import l2\n",
    "import math"
   ]
  },
  {
   "cell_type": "markdown",
   "metadata": {
    "collapsed": true
   },
   "source": [
    "---"
   ]
  },
  {
   "cell_type": "markdown",
   "metadata": {},
   "source": [
    "## The model"
   ]
  },
  {
   "cell_type": "code",
   "execution_count": 11,
   "metadata": {
    "collapsed": true
   },
   "outputs": [],
   "source": [
    "adam=Adam(lr=0.0005, beta_1=0.9, beta_2=0.999, epsilon=1e-08, decay=1e-04)#"
   ]
  },
  {
   "cell_type": "code",
   "execution_count": null,
   "metadata": {
    "collapsed": true
   },
   "outputs": [],
   "source": [
    "final_model.reset_states()\n",
    "model1.reset_states()\n",
    "model2.reset_states()\n",
    "model3.reset_states()\n",
    "model4.reset_states()\n",
    "model5.reset_states()\n",
    "model6.reset_states()\n",
    "model7.reset_states()\n",
    "model8.reset_states()\n",
    "model9.reset_states()\n",
    "model10.reset_states()\n",
    "model11.reset_states()\n",
    "model12.reset_states()\n",
    "model13.reset_states()\n",
    "model14.reset_states()\n",
    "model15.reset_states()\n",
    "model16.reset_states()\n",
    "model17.reset_states()"
   ]
  },
  {
   "cell_type": "code",
   "execution_count": 12,
   "metadata": {
    "collapsed": false
   },
   "outputs": [],
   "source": [
    "model1=Sequential()\n",
    "model1.add(Convolution3D(10, 3, 3, 3, input_shape=(10, 10, 10,1), border_mode='valid', init='he_normal', W_regularizer=l2(.05)))\n",
    "model1.add(BatchNormalization())\n",
    "model1.add(Activation('relu'))\n",
    "model1.add(Flatten())\n",
    "model1.add(Dropout(0.2))\n",
    "model1.add(Dense(20, init='glorot_normal', activation='tanh',W_regularizer=l2(.05)))\n",
    "\n",
    "model2=Sequential()\n",
    "model2.add(Convolution3D(10, 3, 3, 3, input_shape=(10, 10, 10,1), border_mode='valid',  init='he_normal',W_regularizer=l2(.05)))\n",
    "model2.add(BatchNormalization())\n",
    "model2.add(Activation('relu'))\n",
    "model2.add(Flatten())\n",
    "model2.add(Dropout(0.2))\n",
    "model2.add(Dense(20, init='glorot_normal', activation='tanh',W_regularizer=l2(.05)))\n",
    "\n",
    "model3=Sequential()\n",
    "model3.add(Convolution3D(10, 3, 3, 3, input_shape=(10, 10, 10,1), border_mode='valid',  init='he_normal',W_regularizer=l2(.05)))\n",
    "model3.add(BatchNormalization())\n",
    "model3.add(Activation('relu'))\n",
    "model3.add(Flatten())\n",
    "model3.add(Dropout(0.2))\n",
    "model3.add(Dense(20, init='glorot_normal', activation='tanh',W_regularizer=l2(.05)))\n",
    "\n",
    "model4=Sequential()\n",
    "model4.add(Convolution3D(10, 3, 3, 3, input_shape=(10, 10, 10,1), border_mode='valid',  init='he_normal',W_regularizer=l2(.05)))\n",
    "model4.add(BatchNormalization())\n",
    "model4.add(Activation('relu'))\n",
    "model4.add(Flatten())\n",
    "model4.add(Dropout(0.2))\n",
    "model4.add(Dense(20, init='glorot_normal', activation='tanh',W_regularizer=l2(.05)))\n",
    "\n",
    "model5=Sequential()\n",
    "model5.add(Convolution3D(10, 3, 3, 3, input_shape=(10, 10, 10,1), border_mode='valid', init='he_normal',W_regularizer=l2(.05)))\n",
    "model5.add(BatchNormalization())\n",
    "model5.add(Activation('relu'))\n",
    "model5.add(Flatten())\n",
    "model5.add(Dropout(0.2))\n",
    "model5.add(Dense(20, init='glorot_normal', activation='tanh',W_regularizer=l2(.05)))\n",
    "\n",
    "model6=Sequential()\n",
    "model6.add(Convolution3D(10, 3, 3, 3, input_shape=(10, 10, 10,1), border_mode='valid', init='he_normal',W_regularizer=l2(.05)))\n",
    "model6.add(BatchNormalization())\n",
    "model6.add(Activation('relu'))\n",
    "model6.add(Flatten())\n",
    "model6.add(Dropout(0.2))\n",
    "model6.add(Dense(20, init='glorot_normal', activation='tanh',W_regularizer=l2(.05)))\n",
    "\n",
    "model7=Sequential()\n",
    "model7.add(Convolution3D(10, 3, 3, 3, input_shape=(10, 10, 10,1), border_mode='valid',  init='he_normal',W_regularizer=l2(.05)))\n",
    "model7.add(BatchNormalization())\n",
    "model7.add(Activation('relu'))\n",
    "model7.add(Flatten())\n",
    "model7.add(Dropout(0.2))\n",
    "model7.add(Dense(20, init='glorot_normal', activation='tanh',W_regularizer=l2(.05)))\n",
    "\n",
    "model8=Sequential()\n",
    "model8.add(Convolution3D(10, 3, 3, 3, input_shape=(10, 10, 10,1), border_mode='valid', init='he_normal',W_regularizer=l2(.05)))\n",
    "model8.add(BatchNormalization())\n",
    "model8.add(Activation('relu'))\n",
    "model8.add(Flatten())\n",
    "model8.add(Dropout(0.2))\n",
    "model8.add(Dense(20, init='glorot_normal', activation='tanh',W_regularizer=l2(.05)))\n",
    "\n",
    "model9=Sequential()\n",
    "model9.add(Convolution3D(10, 3, 3, 3, input_shape=(10, 10, 10,1), border_mode='valid', init='he_normal',W_regularizer=l2(.05)))\n",
    "model9.add(BatchNormalization())\n",
    "model9.add(Activation('relu'))\n",
    "model9.add(Flatten())\n",
    "model9.add(Dropout(0.2))\n",
    "model9.add(Dense(20, init='glorot_normal', activation='tanh',W_regularizer=l2(.05)))\n",
    "\n",
    "model10=Sequential()\n",
    "model10.add(Convolution3D(10, 3, 3, 3, input_shape=(10, 10, 10,1), border_mode='valid', init='he_normal',W_regularizer=l2(.05)))\n",
    "model10.add(BatchNormalization())\n",
    "model10.add(Activation('relu'))\n",
    "model10.add(Flatten())\n",
    "model10.add(Dropout(0.2))\n",
    "model10.add(Dense(20, init='glorot_normal', activation='tanh',W_regularizer=l2(.05)))\n",
    "\n",
    "model11=Sequential()\n",
    "model11.add(Convolution3D(10, 3, 3, 3, input_shape=(10, 10, 10,1), border_mode='valid', init='he_normal',W_regularizer=l2(.05)))\n",
    "model11.add(BatchNormalization())\n",
    "model11.add(Activation('relu'))\n",
    "model11.add(Flatten())\n",
    "model11.add(Dropout(0.2))\n",
    "model11.add(Dense(20, init='glorot_normal', activation='tanh',W_regularizer=l2(.05)))\n",
    "\n",
    "model12=Sequential()\n",
    "model12.add(Convolution3D(10, 3, 3, 3, input_shape=(10, 10, 10,1), border_mode='valid', init='he_normal',W_regularizer=l2(.05)))\n",
    "model12.add(BatchNormalization())\n",
    "model12.add(Activation('relu'))\n",
    "model12.add(Flatten())\n",
    "model12.add(Dropout(0.2))\n",
    "model12.add(Dense(20, init='glorot_normal', activation='tanh',W_regularizer=l2(.05)))\n",
    "\n",
    "model13=Sequential()\n",
    "model13.add(Convolution3D(10, 3, 3, 3, input_shape=(10, 10, 10,1), border_mode='valid', init='he_normal',W_regularizer=l2(.05)))\n",
    "model13.add(BatchNormalization())\n",
    "model13.add(Activation('relu'))\n",
    "model13.add(Flatten())\n",
    "model13.add(Dropout(0.2))\n",
    "model13.add(Dense(20, init='glorot_normal', activation='tanh',W_regularizer=l2(.05)))\n",
    "\n",
    "model14=Sequential()\n",
    "model14.add(Convolution3D(10, 3, 3, 3, input_shape=(10, 10, 10,1), border_mode='valid', init='he_normal',W_regularizer=l2(.05)))\n",
    "model14.add(BatchNormalization())\n",
    "model14.add(Activation('relu'))\n",
    "model14.add(Flatten())\n",
    "model14.add(Dropout(0.2))\n",
    "model14.add(Dense(20, init='glorot_normal', activation='tanh',W_regularizer=l2(.05)))\n",
    "\n",
    "model15=Sequential()\n",
    "model15.add(Convolution3D(10, 3, 3, 3, input_shape=(10, 10, 10,1), border_mode='valid', init='he_normal',W_regularizer=l2(.05)))\n",
    "model15.add(BatchNormalization())\n",
    "model15.add(Activation('relu'))\n",
    "model15.add(Flatten())\n",
    "model15.add(Dropout(0.2))\n",
    "model15.add(Dense(20, init='glorot_normal', activation='tanh',W_regularizer=l2(.05)))\n",
    "\n",
    "model16=Sequential()\n",
    "model16.add(Convolution3D(10, 3, 3, 3, input_shape=(10, 10, 10,1), border_mode='valid', init='he_normal',W_regularizer=l2(.05)))\n",
    "model16.add(BatchNormalization())\n",
    "model16.add(Activation('relu'))\n",
    "model16.add(Flatten())\n",
    "model16.add(Dropout(0.2))\n",
    "model16.add(Dense(20, init='glorot_normal', activation='tanh',W_regularizer=l2(.05)))\n",
    "\n",
    "model17=Sequential()\n",
    "model17.add(Convolution3D(10, 3, 3, 3, input_shape=(10, 10, 10,1), border_mode='valid', init='he_normal',W_regularizer=l2(.05)))\n",
    "model17.add(BatchNormalization())\n",
    "model17.add(Activation('relu'))\n",
    "model17.add(Flatten())\n",
    "model17.add(Dropout(0.2))\n",
    "model17.add(Dense(20, init='glorot_normal', activation='tanh',W_regularizer=l2(.05)))\n",
    "\n",
    "merged = Merge([model1, model2, model3, model4, model5, model6, model7, model8, model9, model10, model11, model12, model13, model14, model15, model16, model17], mode='concat')\n",
    "final_model = Sequential()\n",
    "final_model.add(merged)\n",
    "final_model.add(Dense(10, init='glorot_normal', activation='tanh',W_regularizer=l2(.05)))\n",
    "final_model.add(Dense(1, init='glorot_normal', activation='tanh',W_regularizer=l2(.05)))\n",
    "final_model.compile(loss='binary_crossentropy', optimizer=adam, metrics=['accuracy'])"
   ]
  },
  {
   "cell_type": "code",
   "execution_count": 13,
   "metadata": {
    "collapsed": false
   },
   "outputs": [
    {
     "name": "stdout",
     "output_type": "stream",
     "text": [
      "0.0005\n"
     ]
    }
   ],
   "source": [
    "import keras.backend as K\n",
    "print K.get_value(final_model.optimizer.lr)"
   ]
  },
  {
   "cell_type": "code",
   "execution_count": 14,
   "metadata": {
    "collapsed": false
   },
   "outputs": [
    {
     "name": "stdout",
     "output_type": "stream",
     "text": [
      "Train on 198 samples, validate on 50 samples\n",
      "Epoch 1/1\n",
      "128s - loss: 36.3543 - acc: 0.6313 - val_loss: 0.4274 - val_acc: 0.8400\n",
      "Train on 198 samples, validate on 50 samples\n",
      "Epoch 1/1\n",
      "122s - loss: 26.3393 - acc: 0.7778 - val_loss: 0.4596 - val_acc: 0.8000\n",
      "Train on 198 samples, validate on 50 samples\n",
      "Epoch 1/1\n",
      "118s - loss: 19.7812 - acc: 0.8081 - val_loss: 0.6843 - val_acc: 0.5200\n",
      "Train on 198 samples, validate on 50 samples\n",
      "Epoch 1/1\n",
      "118s - loss: 16.1213 - acc: 0.8485 - val_loss: 0.4630 - val_acc: 0.8200\n",
      "Train on 198 samples, validate on 50 samples\n",
      "Epoch 1/1\n",
      "123s - loss: 14.4519 - acc: 0.8889 - val_loss: 0.5501 - val_acc: 0.7600\n",
      "Train on 198 samples, validate on 50 samples\n",
      "Epoch 1/1\n",
      "190s - loss: 12.9229 - acc: 0.8939 - val_loss: 0.7378 - val_acc: 0.4200\n",
      "Train on 198 samples, validate on 50 samples\n",
      "Epoch 1/1\n",
      "317s - loss: 11.7556 - acc: 0.9192 - val_loss: 0.5620 - val_acc: 0.7000\n",
      "Train on 198 samples, validate on 50 samples\n",
      "Epoch 1/1\n",
      "295s - loss: 10.9129 - acc: 0.9242 - val_loss: 0.5945 - val_acc: 0.6600\n",
      "Train on 198 samples, validate on 50 samples\n",
      "Epoch 1/1\n",
      "297s - loss: 10.3434 - acc: 0.9747 - val_loss: 0.4908 - val_acc: 0.7600\n",
      "Train on 198 samples, validate on 50 samples\n",
      "Epoch 1/1\n",
      "300s - loss: 10.0052 - acc: 0.9697 - val_loss: 0.5572 - val_acc: 0.7000\n",
      "Train on 198 samples, validate on 50 samples\n",
      "Epoch 1/1\n",
      "299s - loss: 9.8905 - acc: 0.9697 - val_loss: 0.4654 - val_acc: 0.7600\n",
      "Train on 198 samples, validate on 50 samples\n",
      "Epoch 1/1\n",
      "313s - loss: 9.7343 - acc: 0.9899 - val_loss: 0.4856 - val_acc: 0.7600\n",
      "Train on 198 samples, validate on 50 samples\n",
      "Epoch 1/1\n",
      "321s - loss: 9.6190 - acc: 0.9747 - val_loss: 0.4445 - val_acc: 0.7800\n",
      "Train on 198 samples, validate on 50 samples\n",
      "Epoch 1/1\n",
      "327s - loss: 9.4954 - acc: 0.9899 - val_loss: 0.3798 - val_acc: 0.8200\n",
      "Train on 198 samples, validate on 50 samples\n",
      "Epoch 1/1\n",
      "320s - loss: 9.3547 - acc: 0.9899 - val_loss: 0.4045 - val_acc: 0.7800\n",
      "Train on 198 samples, validate on 50 samples\n",
      "Epoch 1/1\n",
      "284s - loss: 9.2379 - acc: 0.9798 - val_loss: 0.3487 - val_acc: 0.8400\n",
      "Train on 198 samples, validate on 50 samples\n",
      "Epoch 1/1\n",
      "178s - loss: 9.1100 - acc: 0.9646 - val_loss: 0.3597 - val_acc: 0.8400\n",
      "Train on 198 samples, validate on 50 samples\n",
      "Epoch 1/1\n",
      "163s - loss: 8.9880 - acc: 0.9697 - val_loss: 0.4253 - val_acc: 0.7800\n",
      "Train on 198 samples, validate on 50 samples\n",
      "Epoch 1/1\n",
      "137s - loss: 8.8669 - acc: 0.9848 - val_loss: 0.5802 - val_acc: 0.8400\n",
      "Train on 198 samples, validate on 50 samples\n",
      "Epoch 1/1\n",
      "140s - loss: 8.7350 - acc: 0.9697 - val_loss: 0.8247 - val_acc: 0.8800\n",
      "Train on 198 samples, validate on 50 samples\n",
      "Epoch 1/1\n",
      "177s - loss: 8.6423 - acc: 0.9798 - val_loss: 0.5744 - val_acc: 0.8400\n",
      "Train on 198 samples, validate on 50 samples\n",
      "Epoch 1/1\n",
      "155s - loss: 8.5782 - acc: 0.9646 - val_loss: 0.7869 - val_acc: 0.8600\n",
      "Train on 198 samples, validate on 50 samples\n",
      "Epoch 1/1\n",
      "198s - loss: 8.5290 - acc: 0.9747 - val_loss: 0.5288 - val_acc: 0.8000\n",
      "Train on 198 samples, validate on 50 samples\n",
      "Epoch 1/1\n",
      "155s - loss: 8.4594 - acc: 0.9798 - val_loss: 0.5273 - val_acc: 0.8000\n",
      "Train on 198 samples, validate on 50 samples\n",
      "Epoch 1/1\n",
      "134s - loss: 8.3905 - acc: 0.9697 - val_loss: 0.5279 - val_acc: 0.8000\n",
      "Train on 198 samples, validate on 50 samples\n",
      "Epoch 1/1\n",
      "118s - loss: 8.3274 - acc: 0.9848 - val_loss: 0.7793 - val_acc: 0.8200\n",
      "Train on 198 samples, validate on 50 samples\n",
      "Epoch 1/1\n",
      "116s - loss: 8.2668 - acc: 0.9545 - val_loss: 0.7705 - val_acc: 0.7800\n",
      "Train on 198 samples, validate on 50 samples\n",
      "Epoch 1/1\n",
      "129s - loss: 8.2055 - acc: 0.9697 - val_loss: 0.7807 - val_acc: 0.7800\n",
      "Train on 198 samples, validate on 50 samples\n",
      "Epoch 1/1\n",
      "131s - loss: 8.1410 - acc: 0.9747 - val_loss: 0.7869 - val_acc: 0.8000\n",
      "Train on 198 samples, validate on 50 samples\n",
      "Epoch 1/1\n",
      "118s - loss: 8.0854 - acc: 0.9697 - val_loss: 0.7804 - val_acc: 0.7400\n",
      "Train on 198 samples, validate on 50 samples\n",
      "Epoch 1/1\n",
      "134s - loss: 8.0379 - acc: 0.9848 - val_loss: 0.7982 - val_acc: 0.7800\n",
      "Train on 198 samples, validate on 50 samples\n",
      "Epoch 1/1\n",
      "189s - loss: 8.0121 - acc: 0.9747 - val_loss: 0.7823 - val_acc: 0.7400\n",
      "Train on 198 samples, validate on 50 samples\n",
      "Epoch 1/1\n",
      "172s - loss: 7.9796 - acc: 0.9747 - val_loss: 0.7818 - val_acc: 0.7200\n",
      "Train on 198 samples, validate on 50 samples\n",
      "Epoch 1/1\n",
      "188s - loss: 7.9415 - acc: 0.9697 - val_loss: 0.7859 - val_acc: 0.7200\n",
      "Train on 198 samples, validate on 50 samples\n",
      "Epoch 1/1\n",
      "178s - loss: 7.9147 - acc: 0.9848 - val_loss: 0.7858 - val_acc: 0.7200\n",
      "Train on 198 samples, validate on 50 samples\n",
      "Epoch 1/1\n",
      "153s - loss: 7.8752 - acc: 0.9697 - val_loss: 0.7922 - val_acc: 0.7200\n",
      "Train on 198 samples, validate on 50 samples\n",
      "Epoch 1/1\n",
      "147s - loss: 7.8439 - acc: 0.9747 - val_loss: 0.7889 - val_acc: 0.7200\n",
      "Train on 198 samples, validate on 50 samples\n",
      "Epoch 1/1\n",
      "148s - loss: 7.8144 - acc: 0.9747 - val_loss: 0.7917 - val_acc: 0.6800\n",
      "Train on 198 samples, validate on 50 samples\n",
      "Epoch 1/1\n",
      "148s - loss: 7.7801 - acc: 0.9747 - val_loss: 0.7977 - val_acc: 0.6800\n",
      "Train on 198 samples, validate on 50 samples\n",
      "Epoch 1/1\n",
      "148s - loss: 7.7524 - acc: 0.9798 - val_loss: 0.8128 - val_acc: 0.6800\n",
      "Train on 198 samples, validate on 50 samples\n",
      "Epoch 1/1\n",
      "148s - loss: 7.7258 - acc: 0.9747 - val_loss: 0.8183 - val_acc: 0.6800\n",
      "Train on 198 samples, validate on 50 samples\n",
      "Epoch 1/1\n",
      "149s - loss: 7.7146 - acc: 0.9646 - val_loss: 0.8195 - val_acc: 0.6800\n",
      "Train on 198 samples, validate on 50 samples\n",
      "Epoch 1/1\n",
      "148s - loss: 7.6884 - acc: 0.9798 - val_loss: 0.8086 - val_acc: 0.6800\n",
      "Train on 198 samples, validate on 50 samples\n",
      "Epoch 1/1\n",
      "148s - loss: 7.6805 - acc: 0.9697 - val_loss: 0.8163 - val_acc: 0.6800\n",
      "Train on 198 samples, validate on 50 samples\n",
      "Epoch 1/1\n",
      "151s - loss: 7.6617 - acc: 0.9798 - val_loss: 1.0646 - val_acc: 0.6800\n",
      "Train on 198 samples, validate on 50 samples\n",
      "Epoch 1/1\n",
      "147s - loss: 7.6428 - acc: 0.9747 - val_loss: 0.8284 - val_acc: 0.6800\n",
      "Train on 198 samples, validate on 50 samples\n",
      "Epoch 1/1\n",
      "148s - loss: 7.6319 - acc: 0.9798 - val_loss: 0.8217 - val_acc: 0.6800\n",
      "Train on 198 samples, validate on 50 samples\n",
      "Epoch 1/1\n",
      "147s - loss: 7.6120 - acc: 0.9747 - val_loss: 0.8114 - val_acc: 0.6800\n",
      "Train on 198 samples, validate on 50 samples\n",
      "Epoch 1/1\n",
      "147s - loss: 7.5926 - acc: 0.9747 - val_loss: 0.8102 - val_acc: 0.6800\n",
      "Train on 198 samples, validate on 50 samples\n",
      "Epoch 1/1\n",
      "148s - loss: 7.5750 - acc: 0.9596 - val_loss: 0.8094 - val_acc: 0.6800\n",
      "Train on 198 samples, validate on 50 samples\n",
      "Epoch 1/1\n",
      "150s - loss: 7.5641 - acc: 0.9798 - val_loss: 0.8059 - val_acc: 0.6800\n",
      "Train on 198 samples, validate on 50 samples\n",
      "Epoch 1/1\n",
      "148s - loss: 7.5593 - acc: 0.9747 - val_loss: 0.8064 - val_acc: 0.6800\n",
      "Train on 198 samples, validate on 50 samples\n",
      "Epoch 1/1\n",
      "148s - loss: 7.5522 - acc: 0.9747 - val_loss: 0.8160 - val_acc: 0.6800\n",
      "Train on 198 samples, validate on 50 samples\n",
      "Epoch 1/1\n",
      "148s - loss: 7.5399 - acc: 0.9697 - val_loss: 0.8126 - val_acc: 0.6800\n",
      "Train on 198 samples, validate on 50 samples\n",
      "Epoch 1/1\n",
      "148s - loss: 7.5296 - acc: 0.9646 - val_loss: 0.8331 - val_acc: 0.6800\n",
      "Train on 198 samples, validate on 50 samples\n",
      "Epoch 1/1\n",
      "150s - loss: 7.5228 - acc: 0.9798 - val_loss: 0.8211 - val_acc: 0.6800\n",
      "Train on 198 samples, validate on 50 samples\n",
      "Epoch 1/1\n",
      "179s - loss: 7.5121 - acc: 0.9697 - val_loss: 0.8373 - val_acc: 0.6800\n",
      "Train on 198 samples, validate on 50 samples\n",
      "Epoch 1/1\n",
      "188s - loss: 7.5027 - acc: 0.9697 - val_loss: 0.8255 - val_acc: 0.6800\n",
      "Train on 198 samples, validate on 50 samples\n",
      "Epoch 1/1\n",
      "194s - loss: 7.4922 - acc: 0.9747 - val_loss: 1.0673 - val_acc: 0.6800\n",
      "Train on 198 samples, validate on 50 samples\n",
      "Epoch 1/1\n",
      "152s - loss: 7.4864 - acc: 0.9697 - val_loss: 1.0661 - val_acc: 0.6800\n",
      "Train on 198 samples, validate on 50 samples\n",
      "Epoch 1/1\n",
      "192s - loss: 7.4794 - acc: 0.9697 - val_loss: 1.0665 - val_acc: 0.6800\n",
      "Train on 198 samples, validate on 50 samples\n",
      "Epoch 1/1\n",
      "177s - loss: 7.4730 - acc: 0.9798 - val_loss: 1.0698 - val_acc: 0.6800\n",
      "Train on 198 samples, validate on 50 samples\n",
      "Epoch 1/1\n",
      "169s - loss: 7.4677 - acc: 0.9747 - val_loss: 0.8477 - val_acc: 0.6800\n",
      "Train on 198 samples, validate on 50 samples\n",
      "Epoch 1/1\n",
      "165s - loss: 7.4695 - acc: 0.9747 - val_loss: 1.0700 - val_acc: 0.6800\n",
      "Train on 198 samples, validate on 50 samples\n",
      "Epoch 1/1\n",
      "163s - loss: 7.4573 - acc: 0.9596 - val_loss: 1.0700 - val_acc: 0.6800\n",
      "Train on 198 samples, validate on 50 samples\n",
      "Epoch 1/1\n",
      "150s - loss: 7.4586 - acc: 0.9747 - val_loss: 0.8505 - val_acc: 0.6800\n",
      "Train on 198 samples, validate on 50 samples\n",
      "Epoch 1/1\n",
      "176s - loss: 7.4484 - acc: 0.9646 - val_loss: 0.8405 - val_acc: 0.6800\n",
      "Train on 198 samples, validate on 50 samples\n",
      "Epoch 1/1\n",
      "168s - loss: 7.4439 - acc: 0.9697 - val_loss: 0.8279 - val_acc: 0.6800\n",
      "Train on 198 samples, validate on 50 samples\n",
      "Epoch 1/1\n",
      "160s - loss: 7.4393 - acc: 0.9747 - val_loss: 0.8344 - val_acc: 0.6800\n",
      "Train on 198 samples, validate on 50 samples\n",
      "Epoch 1/1\n",
      "153s - loss: 7.4334 - acc: 0.9646 - val_loss: 0.8314 - val_acc: 0.6800\n",
      "3.44150171525\n"
     ]
    }
   ],
   "source": [
    "# WATCHOUT: Change the name of the model\n",
    "modelName='734'\n",
    "\n",
    "acc_train=[]\n",
    "loss_train=[]\n",
    "acc_val=[]\n",
    "loss_val=[]\n",
    "all_lr=[]\n",
    "t0 = time.time()\n",
    "\n",
    "# thresholds\n",
    "thres1=.80\n",
    "thres1passed=0\n",
    "thres2=.90\n",
    "thres2passed=0\n",
    "thres3=.93\n",
    "thres3passed=0\n",
    "thres4=.96\n",
    "thres4passed=0\n",
    "maxAcc=0\n",
    "maxAccVal=0\n",
    "countNoIncrease=0\n",
    "minValLoss=10\n",
    "\n",
    "#for iteration in np.linspace(1,70,70):\n",
    "iteration=1\n",
    "while iteration<=70:\n",
    "    \n",
    "    history=final_model.fit([X1, X2, X3, X4, X5, X6, X7, X8, X9, X10, X1, X12, X13, X14, X15, X16, X17], y, validation_split=0.2, nb_epoch=1, batch_size=8,verbose=2)\n",
    "    # Append values\n",
    "    acc_train.append(history.history['acc'])\n",
    "    acc_val.append(history.history['val_acc'])\n",
    "    loss_train.append(history.history['loss'])\n",
    "    loss_val.append(history.history['val_loss'])\n",
    "    all_lr.append(K.get_value(final_model.optimizer.lr))\n",
    "    \n",
    "    ## if we have a bad initialization\n",
    "    if acc_val[-1][0] < 0.00001:\n",
    "        iteration=1\n",
    "        print('reset weights')\n",
    "        random.seed(np.random.randint(100))\n",
    "        restAllModels()\n",
    "        acc_train=[]\n",
    "        loss_train=[]\n",
    "        acc_val=[]\n",
    "        loss_val=[]\n",
    "        all_lr=[]\n",
    "        continue\n",
    "    \n",
    "    # Compare last iteration vs max value of Acc\n",
    "    if acc_train[-1][0]>maxAcc:\n",
    "        maxAcc=max(acc_train)[0]\n",
    "        maxIt=iteration\n",
    "    else:\n",
    "        countNoIncrease=countNoIncrease+1\n",
    "        \n",
    "    if acc_val[-1][0]>maxAccVal:\n",
    "        maxAccVal=max(acc_val)[0]\n",
    "        final_model.save('m{0}s10_iter_'.format(modelName)+'{0}_valAcc_{1}'.format(int(iteration),acc_val[-1][0])+'.h5')\n",
    "        \n",
    "    if loss_val[-1][0]<minValLoss:\n",
    "        minValLoss=min(loss_val)[0]\n",
    "        if acc_val>.9:\n",
    "            final_model.save('m{0}s10_iter_'.format(modelName)+'{0}_valLoss_{1}'.format(int(iteration),loss_val[-1][0])+'.h5')\n",
    "    \n",
    "    if countNoIncrease>=10:\n",
    "        countNoIncrease=0\n",
    "        K.set_value(final_model.optimizer.lr, 0.5 * K.get_value(final_model.optimizer.lr))    \n",
    "        \n",
    "    if acc_train[-1][0] > thres1 and thres1passed == 0:\n",
    "        thres1passed=1\n",
    "        countNoIncrease=0\n",
    "        K.set_value(final_model.optimizer.lr, 0.5 * K.get_value(final_model.optimizer.lr))    \n",
    "        \n",
    "    if acc_train[-1][0] > thres2 and thres2passed == 0:\n",
    "        thres2passed=1\n",
    "        countNoIncrease=0\n",
    "        K.set_value(final_model.optimizer.lr, 0.5 * K.get_value(final_model.optimizer.lr))    \n",
    "        \n",
    "    if acc_train[-1][0] > thres3 and thres3passed == 0:\n",
    "        thres3passed=1\n",
    "        countNoIncrease=0\n",
    "        K.set_value(final_model.optimizer.lr, 0.5 * K.get_value(final_model.optimizer.lr))    \n",
    "        \n",
    "    if acc_train[-1][0] > thres4 and thres4passed == 0:\n",
    "        thres4passed=1\n",
    "        countNoIncrease=0\n",
    "        K.set_value(final_model.optimizer.lr, 0.5 * K.get_value(final_model.optimizer.lr))   \n",
    "        \n",
    "    iteration+=1\n",
    "    \n",
    "t1 = time.time()\n",
    "print (t1-t0)/60/60"
   ]
  },
  {
   "cell_type": "code",
   "execution_count": 15,
   "metadata": {
    "collapsed": false
   },
   "outputs": [
    {
     "data": {
      "image/png": "[encoded data removed]",
      "text/plain": [
       "<matplotlib.figure.Figure at 0x7f47d6c14890>"
      ]
     },
     "metadata": {},
     "output_type": "display_data"
    },
    {
     "data": {
      "image/png": "[encoded data removed]",
      "text/plain": [
       "<matplotlib.figure.Figure at 0x7f47cfe04410>"
      ]
     },
     "metadata": {},
     "output_type": "display_data"
    }
   ],
   "source": [
    "#summarize history for accuracy\n",
    "fig=plt.figure()\n",
    "plt.plot(acc_train)\n",
    "plt.plot(acc_val)\n",
    "plt.title('model accuracy')\n",
    "plt.ylabel('accuracy')\n",
    "plt.xlabel('epoch')\n",
    "plt.legend(['train','val'], loc='lower right')\n",
    "plt.ylim([0, 1])\n",
    "plt.show()\n",
    "# summarize history for accuracy\n",
    "plt.plot(loss_train)\n",
    "plt.plot(loss_val)\n",
    "plt.title('model loss')\n",
    "plt.ylabel('loss')\n",
    "plt.xlabel('epoch')\n",
    "plt.legend(['train','val'], loc='upper right')\n",
    "#plt.ylim([0, 2])\n",
    "plt.show()"
   ]
  },
  {
   "cell_type": "code",
   "execution_count": 18,
   "metadata": {
    "collapsed": false
   },
   "outputs": [
    {
     "data": {
      "image/png": "[encoded data removed]",
      "text/plain": [
       "<matplotlib.figure.Figure at 0x7f643d917990>"
      ]
     },
     "metadata": {},
     "output_type": "display_data"
    }
   ],
   "source": [
    "fig=plt.figure()\n",
    "plt.plot(all_lr)\n",
    "plt.title('learning rate')\n",
    "plt.ylabel('learning rate')\n",
    "plt.xlabel('epoch')\n",
    "plt.legend(['learning rate'], loc='upper right')\n",
    "plt.show()"
   ]
  },
  {
   "cell_type": "markdown",
   "metadata": {},
   "source": [
    "---"
   ]
  },
  {
   "cell_type": "markdown",
   "metadata": {},
   "source": [
    "## To resume training"
   ]
  },
  {
   "cell_type": "code",
   "execution_count": 32,
   "metadata": {
    "collapsed": false
   },
   "outputs": [
    {
     "name": "stdout",
     "output_type": "stream",
     "text": [
      "Train on 198 samples, validate on 50 samples\n",
      "Epoch 1/1\n",
      "124s - loss: 8.8347 - acc: 0.9949 - val_loss: 0.1631 - val_acc: 0.9200\n",
      "Train on 198 samples, validate on 50 samples\n",
      "Epoch 1/1\n",
      "116s - loss: 8.8211 - acc: 0.9949 - val_loss: 0.1710 - val_acc: 0.9200\n",
      "Train on 198 samples, validate on 50 samples\n",
      "Epoch 1/1\n",
      "118s - loss: 8.8063 - acc: 0.9949 - val_loss: 0.1665 - val_acc: 0.9200\n",
      "Train on 198 samples, validate on 50 samples\n",
      "Epoch 1/1\n",
      "117s - loss: 8.7826 - acc: 0.9949 - val_loss: 0.1628 - val_acc: 0.9200\n",
      "Train on 198 samples, validate on 50 samples\n",
      "Epoch 1/1\n",
      "117s - loss: 8.7659 - acc: 0.9949 - val_loss: 0.1647 - val_acc: 0.9200\n",
      "Train on 198 samples, validate on 50 samples\n",
      "Epoch 1/1\n",
      "124s - loss: 8.7434 - acc: 0.9949 - val_loss: 0.1613 - val_acc: 0.9200\n",
      "Train on 198 samples, validate on 50 samples\n",
      "Epoch 1/1\n",
      "178s - loss: 8.7238 - acc: 0.9949 - val_loss: 0.1590 - val_acc: 0.9200\n",
      "Train on 198 samples, validate on 50 samples\n",
      "Epoch 1/1\n",
      "150s - loss: 8.7066 - acc: 1.0000 - val_loss: 0.1596 - val_acc: 0.9200\n",
      "Train on 198 samples, validate on 50 samples\n",
      "Epoch 1/1\n",
      "153s - loss: 8.6990 - acc: 0.9949 - val_loss: 0.1603 - val_acc: 0.9200\n",
      "Train on 198 samples, validate on 50 samples\n",
      "Epoch 1/1\n",
      "155s - loss: 8.6887 - acc: 0.9949 - val_loss: 0.1598 - val_acc: 0.9200\n",
      "Train on 198 samples, validate on 50 samples\n",
      "Epoch 1/1\n",
      "131s - loss: 8.6799 - acc: 0.9949 - val_loss: 0.1602 - val_acc: 0.9200\n",
      "Train on 198 samples, validate on 50 samples\n",
      "Epoch 1/1\n",
      "117s - loss: 8.6710 - acc: 0.9899 - val_loss: 0.1609 - val_acc: 0.9200\n",
      "Train on 198 samples, validate on 50 samples\n",
      "Epoch 1/1\n",
      "116s - loss: 8.6658 - acc: 1.0000 - val_loss: 0.1621 - val_acc: 0.9200\n",
      "Train on 198 samples, validate on 50 samples\n",
      "Epoch 1/1\n",
      "176s - loss: 8.6501 - acc: 0.9949 - val_loss: 0.1618 - val_acc: 0.9200\n",
      "0.527992493312\n"
     ]
    }
   ],
   "source": [
    "t0 = time.time()\n",
    "\n",
    "for iteration in np.linspace(47,60,14):\n",
    "    history=final_model.fit([X1, X2, X3, X4, X5, X6, X7, X8, X9, X10, X1, X12, X13, X14, X15, X16, X17], y, validation_split=0.2, nb_epoch=1, batch_size=8,verbose=2)\n",
    "    # Append values\n",
    "    acc_train.append(history.history['acc'])\n",
    "    acc_val.append(history.history['val_acc'])\n",
    "    loss_train.append(history.history['loss'])\n",
    "    loss_val.append(history.history['val_loss'])\n",
    "    all_lr.append(K.get_value(final_model.optimizer.lr))\n",
    "    \n",
    "    # Compare last iteration vs max value of Acc\n",
    "    if acc_train[-1][0]>maxAcc:\n",
    "        maxAcc=max(acc_train)[0]\n",
    "        maxIt=iteration\n",
    "    else:\n",
    "        countNoIncrease=countNoIncrease+1\n",
    "        \n",
    "    if acc_val[-1][0]>maxAccVal:\n",
    "        maxAccVal=max(acc_val)[0]\n",
    "        final_model.save('m724s10_iter_'+'{0}_valAcc_{1}'.format(int(iteration),acc_val[-1][0])+'.h5')\n",
    "    \n",
    "    if countNoIncrease>=10:\n",
    "        countNoIncrease=0\n",
    "        K.set_value(final_model.optimizer.lr, 0.5 * K.get_value(final_model.optimizer.lr))    \n",
    "        \n",
    "    if acc_train[-1][0] > thres1 and thres1passed == 0:\n",
    "        thres1passed=1\n",
    "        countNoIncrease=0\n",
    "        K.set_value(final_model.optimizer.lr, 0.5 * K.get_value(final_model.optimizer.lr))    \n",
    "        \n",
    "    if acc_train[-1][0] > thres2 and thres2passed == 0:\n",
    "        thres2passed=1\n",
    "        countNoIncrease=0\n",
    "        K.set_value(final_model.optimizer.lr, 0.5 * K.get_value(final_model.optimizer.lr))    \n",
    "        \n",
    "    if acc_train[-1][0] > thres3 and thres3passed == 0:\n",
    "        thres3passed=1\n",
    "        countNoIncrease=0\n",
    "        K.set_value(final_model.optimizer.lr, 0.5 * K.get_value(final_model.optimizer.lr))    \n",
    "        \n",
    "    if acc_train[-1][0] > thres4 and thres4passed == 0:\n",
    "        thres4passed=1\n",
    "        countNoIncrease=0\n",
    "        K.set_value(final_model.optimizer.lr, 0.5 * K.get_value(final_model.optimizer.lr))   \n",
    "    \n",
    "t1 = time.time()\n",
    "print (t1-t0)/60/60"
   ]
  },
  {
   "cell_type": "markdown",
   "metadata": {},
   "source": [
    "---"
   ]
  },
  {
   "cell_type": "markdown",
   "metadata": {},
   "source": [
    "## To Save the model and the variables"
   ]
  },
  {
   "cell_type": "code",
   "execution_count": 22,
   "metadata": {
    "collapsed": true
   },
   "outputs": [],
   "source": [
    "final_model.save('m724s10_iter_39_valAcc_0.92_loss_0.205.h5')"
   ]
  },
  {
   "cell_type": "code",
   "execution_count": 27,
   "metadata": {
    "collapsed": true
   },
   "outputs": [],
   "source": [
    "K_LR=K.get_value(adam.lr)\n",
    "K_LR, acc_train, loss_train, acc_val, loss_val, all_lr, countNoIncrease, maxAcc, maxAccVal, thres1, thres1passed, thres2, thres2passed, thres3, thres3passed, thres4, thres4passed\n",
    "with open('Xobjs.pickle', 'wb') as f:\n",
    "    pickle.dump([K_LR, acc_train, loss_train, acc_val, loss_val, all_lr, countNoIncrease, maxAcc, maxAccVal, thres1, thres1passed, thres2, thres2passed, thres3, thres3passed, thres4, thres4passed], f)"
   ]
  },
  {
   "cell_type": "markdown",
   "metadata": {},
   "source": [
    "---"
   ]
  },
  {
   "cell_type": "markdown",
   "metadata": {},
   "source": [
    "## To retreive the model and the variables"
   ]
  },
  {
   "cell_type": "code",
   "execution_count": 9,
   "metadata": {
    "collapsed": false
   },
   "outputs": [],
   "source": [
    "# Getting back the objects:\n",
    "with open('m715objs.pickle') as f:\n",
    "    K_LR, acc_train, loss_train, acc_val, loss_val, all_lr, countNoIncrease, maxAcc, maxAccVal, thres1, thres1passed, thres2, thres2passed, thres3, thres3passed, thres4, thres4passed = pickle.load(f)"
   ]
  },
  {
   "cell_type": "code",
   "execution_count": 38,
   "metadata": {
    "collapsed": true
   },
   "outputs": [],
   "source": [
    "from keras.models import load_model\n",
    "best_model=load_model('m724s10_iter_26_valAcc_0.94.h5')"
   ]
  },
  {
   "cell_type": "code",
   "execution_count": 40,
   "metadata": {
    "collapsed": false
   },
   "outputs": [
    {
     "name": "stdout",
     "output_type": "stream",
     "text": [
      "62/62 [==============================] - 7s     \n",
      "0.870967741935\n"
     ]
    },
    {
     "data": {
      "text/plain": [
       "array([[22,  7],\n",
       "       [ 1, 32]])"
      ]
     },
     "execution_count": 40,
     "metadata": {},
     "output_type": "execute_result"
    }
   ],
   "source": [
    "y_pred=best_model.predict_classes([X1test, X2test, X3test, X4test, X5test, X6test, X7test, X8test, X9test, X10test, X11test, X12test, X13test, X14test, X15test, X16test, X17test])\n",
    "y_predC=np.squeeze(y_pred)\n",
    "print accuracy_score(y_true,y_predC)\n",
    "confusion_matrix(y_true,y_predC)"
   ]
  },
  {
   "cell_type": "markdown",
   "metadata": {
    "collapsed": false
   },
   "source": [
    "---"
   ]
  },
  {
   "cell_type": "markdown",
   "metadata": {
    "collapsed": false
   },
   "source": [
    "## To get the test result"
   ]
  },
  {
   "cell_type": "code",
   "execution_count": 15,
   "metadata": {
    "collapsed": false
   },
   "outputs": [],
   "source": [
    "y_true=readLabels('fold1/test/labelsTest.mat')\n",
    "X1test=readScan('fold1/test/scansMiniTest1.mat')\n",
    "X2test=readScan('fold1/test/scansMiniTest2.mat')\n",
    "X3test=readScan('fold1/test/scansMiniTest3.mat')\n",
    "X4test=readScan('fold1/test/scansMiniTest4.mat')\n",
    "X5test=readScan('fold1/test/scansMiniTest5.mat')\n",
    "X6test=readScan('fold1/test/scansMiniTest6.mat')\n",
    "X7test=readScan('fold1/test/scansMiniTest7.mat')\n",
    "X8test=readScan('fold1/test/scansMiniTest8.mat')\n",
    "X9test=readScan('fold1/test/scansMiniTest9.mat')\n",
    "X10test=readScan('fold1/test/scansMiniTest10.mat')\n",
    "X11test=readScan('fold1/test/scansMiniTest11.mat')\n",
    "X12test=readScan('fold1/test/scansMiniTest12.mat')\n",
    "X13test=readScan('fold1/test/scansMiniTest13.mat')\n",
    "X14test=readScan('fold1/test/scansMiniTest14.mat')\n",
    "X15test=readScan('fold1/test/scansMiniTest15.mat')\n",
    "X16test=readScan('fold1/test/scansMiniTest16.mat')\n",
    "X17test=readScan('fold1/test/scansMiniTest17.mat')"
   ]
  },
  {
   "cell_type": "code",
   "execution_count": 34,
   "metadata": {
    "collapsed": false
   },
   "outputs": [
    {
     "name": "stdout",
     "output_type": "stream",
     "text": [
      "62/62 [==============================] - 3s     \n"
     ]
    }
   ],
   "source": [
    "y_predProb=final_model.predict([X1test, X2test, X3test, X4test, X5test, X6test, X7test, X8test, X9test, X10test, X11test, X12test, X13test, X14test, X15test, X16test, X17test])\n",
    "y_pred=final_model.predict_classes([X1test, X2test, X3test, X4test, X5test, X6test, X7test, X8test, X9test, X10test, X11test, X12test, X13test, X14test, X15test, X16test, X17test])"
   ]
  },
  {
   "cell_type": "code",
   "execution_count": 35,
   "metadata": {
    "collapsed": false
   },
   "outputs": [
    {
     "data": {
      "text/plain": [
       "array([ 0.0726957 ,  0.10404619,  0.24853253,  0.93767095,  0.01248153,\n",
       "       -0.12955262,  0.2559751 ,  0.12003842,  0.79068232,  0.86133504,\n",
       "        0.61079895,  0.12211662,  0.98836708,  0.98574162,  0.9846797 ,\n",
       "        0.96578443,  0.97853565,  0.98351097,  0.9490633 ,  0.98645401,\n",
       "        0.98289853,  0.98739648,  0.89238906, -0.18414859,  0.81302083,\n",
       "        0.97272599,  0.77888399,  0.9539963 ,  0.91568094,  0.98042607,\n",
       "        0.94594663,  0.98030299,  0.97775692,  0.67190415,  0.04734179,\n",
       "        0.79489684,  0.92129505,  0.97721702,  0.97925317,  0.98267144,\n",
       "        0.03264817,  0.37937635,  0.64497173,  0.44714829, -0.22083379,\n",
       "        0.36542368,  0.08212218, -0.18297227,  0.71263874, -0.13814023,\n",
       "       -0.17331   , -0.06299079, -0.29138881, -0.16858049, -0.28551686,\n",
       "       -0.23429738,  0.01649511, -0.20285937,  0.96788639,  0.85191232,\n",
       "        0.85052568,  0.95790434], dtype=float32)"
      ]
     },
     "execution_count": 35,
     "metadata": {},
     "output_type": "execute_result"
    }
   ],
   "source": [
    "np.squeeze(y_predProb)"
   ]
  },
  {
   "cell_type": "code",
   "execution_count": 36,
   "metadata": {
    "collapsed": false
   },
   "outputs": [
    {
     "data": {
      "text/plain": [
       "array([0, 0, 0, 1, 0, 0, 0, 0, 1, 1, 1, 0, 1, 1, 1, 1, 1, 1, 1, 1, 1, 1, 1,\n",
       "       0, 1, 1, 1, 1, 1, 1, 1, 1, 1, 1, 0, 1, 1, 1, 1, 1, 0, 0, 1, 0, 0, 0,\n",
       "       0, 0, 1, 0, 0, 0, 0, 0, 0, 0, 0, 0, 1, 1, 1, 1], dtype=int32)"
      ]
     },
     "execution_count": 36,
     "metadata": {},
     "output_type": "execute_result"
    }
   ],
   "source": [
    "y_predC=np.squeeze(y_pred)\n",
    "y_predC"
   ]
  },
  {
   "cell_type": "code",
   "execution_count": 29,
   "metadata": {
    "collapsed": true
   },
   "outputs": [],
   "source": [
    "from sklearn.metrics import confusion_matrix\n",
    "from sklearn.metrics import  accuracy_score"
   ]
  },
  {
   "cell_type": "code",
   "execution_count": 37,
   "metadata": {
    "collapsed": false
   },
   "outputs": [
    {
     "name": "stdout",
     "output_type": "stream",
     "text": [
      "0.887096774194\n",
      "[ 3 11 22 24 34 42 48]\n"
     ]
    },
    {
     "data": {
      "text/plain": [
       "array([[24,  5],\n",
       "       [ 2, 31]])"
      ]
     },
     "execution_count": 37,
     "metadata": {},
     "output_type": "execute_result"
    }
   ],
   "source": [
    "print accuracy_score(y_true,y_predC)\n",
    "print np.where(y_true.astype(bool)!=y_predC.astype(bool))[0]\n",
    "confusion_matrix(y_true,y_predC)"
   ]
  },
  {
   "cell_type": "markdown",
   "metadata": {},
   "source": [
    "---"
   ]
  },
  {
   "cell_type": "markdown",
   "metadata": {},
   "source": [
    "---"
   ]
  },
  {
   "cell_type": "markdown",
   "metadata": {},
   "source": [
    "---"
   ]
  }
 ],
 "metadata": {
  "kernelspec": {
   "display_name": "Python 2",
   "language": "python",
   "name": "python2"
  },
  "language_info": {
   "codemirror_mode": {
    "name": "ipython",
    "version": 2
   },
   "file_extension": ".py",
   "mimetype": "text/x-python",
   "name": "python",
   "nbconvert_exporter": "python",
   "pygments_lexer": "ipython2",
   "version": "2.7.12"
  }
 },
 "nbformat": 4,
 "nbformat_minor": 0
}
